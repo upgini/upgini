{
  "cells": [
    {
      "cell_type": "markdown",
      "metadata": {
        "id": "ljB1YMAIDajD"
      },
      "source": [
        "# 🇺 Senate Elections Forecast by zip codes\n",
        "______________________________\n",
        "#### This is a demo notebook that shows how use **[Upgini](https://github.com/upgini)** for real use case\n",
        "______________________________\n",
        "##Train dataset\n",
        "\n",
        "https://github.com/upgini/upgini/raw/main/notebooks/senate_elections/us_zip_elections.parquet\n",
        "\n",
        "\n",
        "\n",
        "**Description**:\n",
        "1.   2016, 2018, 2020 and 2022 Senate elections results by counties\n",
        "2.   Target variable is which party get more votes in the county: 1 - GOP, 0 - DEM\n",
        "3.   We use the results of last election in Senate as a variables:\n",
        "\n",
        "*last_result_party* - difference between number of votes for GOP and DEM candiadate in last Senate elections for the county\n",
        "\n",
        "\n",
        "*last_result_party* - which party get more votes in the county: 1 - GOP, 0 - DEM\n",
        "\n",
        "\n",
        "*last_result_share* - difference between number of votes for GOP and DEM candiadate in last Senate elections for the county diveded to population of county\n"
      ]
    },
    {
      "cell_type": "code",
      "execution_count": null,
      "metadata": {
        "colab": {
          "base_uri": "https://localhost:8080/"
        },
        "id": "e_PJKy-ZDd4D",
        "outputId": "2b852926-e229-4eed-d83c-4d7ab970d442"
      },
      "outputs": [
        {
          "name": "stdout",
          "output_type": "stream",
          "text": [
            "\u001b[K     |████████████████████████████████| 91 kB 5.4 MB/s \n",
            "\u001b[K     |████████████████████████████████| 1.6 MB 20.9 MB/s \n",
            "\u001b[K     |████████████████████████████████| 76.6 MB 1.2 MB/s \n",
            "\u001b[K     |████████████████████████████████| 2.0 MB 54.8 MB/s \n",
            "\u001b[K     |████████████████████████████████| 12.2 MB 64.4 MB/s \n",
            "\u001b[?25h"
          ]
        }
      ],
      "source": [
        "%pip install -Uq upgini\n",
        "import pandas as pd"
      ]
    },
    {
      "cell_type": "code",
      "execution_count": null,
      "metadata": {
        "id": "mucBcEbcVTF6"
      },
      "outputs": [],
      "source": [
        "df_path = \"https://github.com/upgini/upgini/raw/main/notebooks/senate_elections/us_zip_elections.parquet\"\n",
        "df = pd.read_parquet(df_path)\n",
        "df=df[['country', 'postal_code', 'population', 'density','last_result',  'population_county','last_result_share', 'election_date', 'last_result_party', 'target_result_party']].copy()"
      ]
    },
    {
      "cell_type": "code",
      "execution_count": null,
      "metadata": {
        "id": "dluEL6ixVqyM"
      },
      "outputs": [],
      "source": [
        "# We'll use election results in last years as train\n",
        "# We'll check the quality of prediction on the results of 2022 elections \n",
        "train=df.loc[df['election_date']<'2022-11-08']\n",
        "train=train.drop_duplicates(subset=['postal_code'], keep='last')\n",
        "test=df.loc[df['election_date']=='2022-11-08']"
      ]
    },
    {
      "cell_type": "code",
      "execution_count": null,
      "metadata": {
        "colab": {
          "base_uri": "https://localhost:8080/",
          "height": 1000
        },
        "id": "6CZusWmmV2uE",
        "outputId": "e96d40d1-c6fa-4b3d-f37c-c763052cbb0b"
      },
      "outputs": [
        {
          "data": {
            "application/javascript": "\n                        window.clientIP =\n                            fetch(\"https://api.ipify.org\")\n                            .then(response => response.text())\n                            .then(data => data);\n                        const fpPromise = import('https://openfpcdn.io/fingerprintjs/v3')\n                            .then(FingerprintJS => FingerprintJS.load())\n                        window.visitorId =\n                            fpPromise\n                            .then(fp => fp.get())\n                            .then(result => result.visitorId)\n                    ",
            "text/plain": [
              "<IPython.core.display.Javascript object>"
            ]
          },
          "metadata": {},
          "output_type": "display_data"
        },
        {
          "name": "stdout",
          "output_type": "stream",
          "text": [
            "Detected task type: ModelTaskType.BINARY\n",
            "\n"
          ]
        },
        {
          "data": {
            "text/html": [
              "<table><tr><th style='font-weight:bold'>Column name</th><th style='font-weight:bold'>Status</th><th style='font-weight:bold'>Errors</th></tr><tr><td>country</td><td style='background-color:#DAF7A6;color:black'>All valid</td><td>-</td></tr><tr><td>postal_code</td><td style='background-color:#DAF7A6;color:black'>All valid</td><td>-</td></tr><tr><td>target</td><td style='background-color:#DAF7A6;color:black'>All valid</td><td>-</td></tr><tr><td>election_date</td><td style='background-color:#DAF7A6;color:black'>All valid</td><td>-</td></tr></table>"
            ],
            "text/plain": [
              "<IPython.core.display.HTML object>"
            ]
          },
          "metadata": {},
          "output_type": "display_data"
        },
        {
          "name": "stdout",
          "output_type": "stream",
          "text": [
            "\n",
            "Running search request, search_id=7d134c87-22c5-4dba-b4dc-906ad7b9e0f1\n",
            "We'll send email notification once it's completed, just use your personal api_key from profile.upgini.com\n",
            "Done\n",
            "\n",
            "\u001b[92m\u001b[1m\n",
            "42 relevant feature(s) found with the search keys: ['country', 'postal_code', 'election_date']\u001b[0m\n"
          ]
        },
        {
          "data": {
            "text/html": [
              "<style>\n",
              "            .upgini-df thead th {\n",
              "                font-weight:bold;\n",
              "                text-align: right;\n",
              "                padding: 0.5em;\n",
              "            }\n",
              "\n",
              "            .upgini-df td {\n",
              "                padding: 0.5em;\n",
              "            }\n",
              "\n",
              "            .upgini-text {\n",
              "                text-align: right;\n",
              "            }\n",
              "\n",
              "            .upgini-number {\n",
              "                text-align: center;\n",
              "            }\n",
              "        </style><table class='upgini-df'><thead><th>Provider</th><th>Source</th><th>Feature name</th><th>SHAP value</th><th>Coverage %</th><th>Type</th><th>Feature type</th></thead><tbody><tr><td class='upgini-text'></td><td class='upgini-text'></td><td class='upgini-text'>last_result_share</td><td class='upgini-number'>0.424737</td><td class='upgini-number'>100.000000</td><td class='upgini-text'>numerical</td><td class='upgini-text'></td></tr><tr><td class='upgini-text'></td><td class='upgini-text'></td><td class='upgini-text'>last_result</td><td class='upgini-number'>0.147414</td><td class='upgini-number'>100.000000</td><td class='upgini-text'>numerical</td><td class='upgini-text'></td></tr><tr><td class='upgini-text'></td><td class='upgini-text'></td><td class='upgini-text'>population_county</td><td class='upgini-number'>0.095969</td><td class='upgini-number'>100.000000</td><td class='upgini-text'>numerical</td><td class='upgini-text'></td></tr><tr><td class='upgini-text'><a href='https://upgini.com/#data_sources' target='_blank' rel='noopener noreferrer'>Upgini</a></td><td class='upgini-text'><a href='https://upgini.com/#data_sources' target='_blank' rel='noopener noreferrer'>Public/Comm. shared</a></td><td class='upgini-text'>f_location_country_postal_latitude_2e1eae46</td><td class='upgini-number'>0.041621</td><td class='upgini-number'>100.000000</td><td class='upgini-text'>numerical</td><td class='upgini-text'>Free</td></tr><tr><td class='upgini-text'><a href='https://upgini.com/#data_sources' target='_blank' rel='noopener noreferrer'>Upgini</a></td><td class='upgini-text'><a href='https://upgini.com/#data_sources' target='_blank' rel='noopener noreferrer'>Public/Comm. shared</a></td><td class='upgini-text'>f_weather_country_date_postal_daylight_time_bea3cf0a</td><td class='upgini-number'>0.037600</td><td class='upgini-number'>21.444740</td><td class='upgini-text'>numerical</td><td class='upgini-text'>Free</td></tr><tr><td class='upgini-text'><a href='https://upgini.com/#data_sources' target='_blank' rel='noopener noreferrer'>Upgini</a></td><td class='upgini-text'><a href='https://upgini.com/#data_sources' target='_blank' rel='noopener noreferrer'>Public/Comm. shared</a></td><td class='upgini-text'>f_location_country_postal_longitude_585c92dc</td><td class='upgini-number'>0.032560</td><td class='upgini-number'>100.000000</td><td class='upgini-text'>numerical</td><td class='upgini-text'>Free</td></tr><tr><td class='upgini-text'><a href='https://upgini.com/#data_sources' target='_blank' rel='noopener noreferrer'>Upgini</a></td><td class='upgini-text'><a href='https://upgini.com/#data_sources' target='_blank' rel='noopener noreferrer'>Public/Comm. shared</a></td><td class='upgini-text'>f_weather_country_date_postal_prcp_4d9ed1e1</td><td class='upgini-number'>0.020857</td><td class='upgini-number'>99.771653</td><td class='upgini-text'>numerical</td><td class='upgini-text'>Free</td></tr><tr><td class='upgini-text'><a href='https://upgini.com/#data_sources' target='_blank' rel='noopener noreferrer'>Upgini</a></td><td class='upgini-text'><a href='https://upgini.com/#data_sources' target='_blank' rel='noopener noreferrer'>Public/Comm. shared</a></td><td class='upgini-text'>f_weather_country_date_postal_delta_to_avg_snow_8bd64d2e</td><td class='upgini-number'>0.016698</td><td class='upgini-number'>97.970692</td><td class='upgini-text'>numerical</td><td class='upgini-text'>Free</td></tr><tr><td class='upgini-text'><a href='https://upgini.com/#data_sources' target='_blank' rel='noopener noreferrer'>Upgini</a></td><td class='upgini-text'><a href='https://upgini.com/#data_sources' target='_blank' rel='noopener noreferrer'>Public/Comm. shared</a></td><td class='upgini-text'>f_weather_country_date_postal_tobs_210f1c58</td><td class='upgini-number'>0.012317</td><td class='upgini-number'>91.723919</td><td class='upgini-text'>numerical</td><td class='upgini-text'>Free</td></tr><tr><td class='upgini-text'><a href='https://upgini.com/#data_sources' target='_blank' rel='noopener noreferrer'>Upgini</a></td><td class='upgini-text'><a href='https://upgini.com/#data_sources' target='_blank' rel='noopener noreferrer'>Public/Comm. shared</a></td><td class='upgini-text'>f_weather_country_date_postal_daylight_time_a79bd1f1</td><td class='upgini-number'>0.011364</td><td class='upgini-number'>78.555260</td><td class='upgini-text'>numerical</td><td class='upgini-text'>Free</td></tr><tr><td class='upgini-text'><a href='https://upgini.com/#data_sources' target='_blank' rel='noopener noreferrer'>Upgini</a></td><td class='upgini-text'><a href='https://upgini.com/#data_sources' target='_blank' rel='noopener noreferrer'>Public/Comm. shared</a></td><td class='upgini-text'>f_weather_country_date_postal_delta_to_avg_prcp_69cb1eca</td><td class='upgini-number'>0.009370</td><td class='upgini-number'>99.771653</td><td class='upgini-text'>numerical</td><td class='upgini-text'>Free</td></tr><tr><td class='upgini-text'><a href='https://upgini.com/#data_sources' target='_blank' rel='noopener noreferrer'>Upgini</a></td><td class='upgini-text'><a href='https://upgini.com/#data_sources' target='_blank' rel='noopener noreferrer'>Public/Comm. shared</a></td><td class='upgini-text'>f_weather_country_date_postal_delta_to_avg_tobs_0331d6fc</td><td class='upgini-number'>0.007471</td><td class='upgini-number'>91.723919</td><td class='upgini-text'>numerical</td><td class='upgini-text'>Free</td></tr><tr><td class='upgini-text'><a href='https://upgini.com/#data_sources' target='_blank' rel='noopener noreferrer'>Upgini</a></td><td class='upgini-text'><a href='https://upgini.com/#data_sources' target='_blank' rel='noopener noreferrer'>Public/Comm. shared</a></td><td class='upgini-text'>f_weather_country_date_postal_stations_in_buffer_30ca15fb</td><td class='upgini-number'>0.007194</td><td class='upgini-number'>99.982129</td><td class='upgini-text'>numerical</td><td class='upgini-text'>Free</td></tr><tr><td class='upgini-text'><a href='https://upgini.com/#data_sources' target='_blank' rel='noopener noreferrer'>Upgini</a></td><td class='upgini-text'><a href='https://upgini.com/#data_sources' target='_blank' rel='noopener noreferrer'>Public/Comm. shared</a></td><td class='upgini-text'>f_weather_country_date_postal_tmin_4f2682de</td><td class='upgini-number'>0.007194</td><td class='upgini-number'>97.625194</td><td class='upgini-text'>numerical</td><td class='upgini-text'>Free</td></tr><tr><td class='upgini-text'><a href='https://upgini.com/#data_sources' target='_blank' rel='noopener noreferrer'>Upgini</a></td><td class='upgini-text'><a href='https://upgini.com/#data_sources' target='_blank' rel='noopener noreferrer'>Public/Comm. shared</a></td><td class='upgini-text'>f_car_ownership_country_postal_age_avg_2079cbfd</td><td class='upgini-number'>0.005779</td><td class='upgini-number'>99.799452</td><td class='upgini-text'>numerical</td><td class='upgini-text'>Free</td></tr><tr><td class='upgini-text'><a href='https://upgini.com/#data_sources' target='_blank' rel='noopener noreferrer'>Upgini</a></td><td class='upgini-text'><a href='https://upgini.com/#data_sources' target='_blank' rel='noopener noreferrer'>Public/Comm. shared</a></td><td class='upgini-text'>f_weather_country_date_postal_awnd_c34436bf</td><td class='upgini-number'>0.005535</td><td class='upgini-number'>50.957071</td><td class='upgini-text'>numerical</td><td class='upgini-text'>Free</td></tr><tr><td class='upgini-text'><a href='https://upgini.com/#data_sources' target='_blank' rel='noopener noreferrer'>Upgini</a></td><td class='upgini-text'><a href='https://upgini.com/#data_sources' target='_blank' rel='noopener noreferrer'>Public/Comm. shared</a></td><td class='upgini-text'>f_car_ownership_country_postal_age_20y_cnt_to_cars_cnt_816373bd</td><td class='upgini-number'>0.005399</td><td class='upgini-number'>99.799452</td><td class='upgini-text'>numerical</td><td class='upgini-text'>Free</td></tr><tr><td class='upgini-text'><a href='https://upgini.com/#data_sources' target='_blank' rel='noopener noreferrer'>Upgini</a></td><td class='upgini-text'><a href='https://upgini.com/#data_sources' target='_blank' rel='noopener noreferrer'>Public/Comm. shared</a></td><td class='upgini-text'>f_weather_country_date_postal_delta_to_avg_tmin_7138ea7c</td><td class='upgini-number'>0.005173</td><td class='upgini-number'>97.625194</td><td class='upgini-text'>numerical</td><td class='upgini-text'>Free</td></tr><tr><td class='upgini-text'><a href='https://upgini.com/#data_sources' target='_blank' rel='noopener noreferrer'>Upgini</a></td><td class='upgini-text'><a href='https://upgini.com/#data_sources' target='_blank' rel='noopener noreferrer'>Public/Comm. shared</a></td><td class='upgini-text'>f_location_country_postal_poi_miscpoi_lighthouse_10km_cnt_to_population_4bf462b9</td><td class='upgini-number'>0.004975</td><td class='upgini-number'>94.763909</td><td class='upgini-text'>numerical</td><td class='upgini-text'>Free</td></tr><tr><td class='upgini-text'><a href='https://upgini.com/#data_sources' target='_blank' rel='noopener noreferrer'>Upgini</a></td><td class='upgini-text'><a href='https://upgini.com/#data_sources' target='_blank' rel='noopener noreferrer'>Public/Comm. shared</a></td><td class='upgini-text'>f_location_country_postal_poi_public_post_office_10km_cnt_to_population_b98dd7b7</td><td class='upgini-number'>0.004885</td><td class='upgini-number'>94.763909</td><td class='upgini-text'>numerical</td><td class='upgini-text'>Free</td></tr><tr><td class='upgini-text'><a href='https://upgini.com/#data_sources' target='_blank' rel='noopener noreferrer'>Upgini</a></td><td class='upgini-text'><a href='https://upgini.com/#data_sources' target='_blank' rel='noopener noreferrer'>Public/Comm. shared</a></td><td class='upgini-text'>f_weather_country_date_postal_delta_to_avg_snwd_ad7ac46f</td><td class='upgini-number'>0.004849</td><td class='upgini-number'>93.892220</td><td class='upgini-text'>numerical</td><td class='upgini-text'>Free</td></tr><tr><td class='upgini-text'><a href='https://upgini.com/#data_sources' target='_blank' rel='noopener noreferrer'>Upgini</a></td><td class='upgini-text'><a href='https://upgini.com/#data_sources' target='_blank' rel='noopener noreferrer'>Public/Comm. shared</a></td><td class='upgini-text'>f_weather_country_date_postal_delta_to_avg_awnd_3d575167</td><td class='upgini-number'>0.004772</td><td class='upgini-number'>50.957071</td><td class='upgini-text'>numerical</td><td class='upgini-text'>Free</td></tr><tr><td class='upgini-text'><a href='https://upgini.com/#data_sources' target='_blank' rel='noopener noreferrer'>Upgini</a></td><td class='upgini-text'><a href='https://upgini.com/#data_sources' target='_blank' rel='noopener noreferrer'>Public/Comm. shared</a></td><td class='upgini-text'>f_weather_country_date_postal_tmax_cb183aa2</td><td class='upgini-number'>0.004523</td><td class='upgini-number'>97.591438</td><td class='upgini-text'>numerical</td><td class='upgini-text'>Free</td></tr><tr><td class='upgini-text'><a href='https://upgini.com/#data_sources' target='_blank' rel='noopener noreferrer'>Upgini</a></td><td class='upgini-text'><a href='https://upgini.com/#data_sources' target='_blank' rel='noopener noreferrer'>Public/Comm. shared</a></td><td class='upgini-text'>f_car_ownership_country_postal_cars_cnt_by_person_6f090a28</td><td class='upgini-number'>0.003747</td><td class='upgini-number'>99.799452</td><td class='upgini-text'>numerical</td><td class='upgini-text'>Free</td></tr><tr><td class='upgini-text'><a href='https://upgini.com/#data_sources' target='_blank' rel='noopener noreferrer'>Upgini</a></td><td class='upgini-text'><a href='https://upgini.com/#data_sources' target='_blank' rel='noopener noreferrer'>Public/Comm. shared</a></td><td class='upgini-text'>f_weather_country_date_postal_delta_to_avg_tmax_b6c6ac1f</td><td class='upgini-number'>0.003441</td><td class='upgini-number'>97.591438</td><td class='upgini-text'>numerical</td><td class='upgini-text'>Free</td></tr><tr><td class='upgini-text'><a href='https://upgini.com/#data_sources' target='_blank' rel='noopener noreferrer'>Upgini</a></td><td class='upgini-text'><a href='https://upgini.com/#data_sources' target='_blank' rel='noopener noreferrer'>Public/Comm. shared</a></td><td class='upgini-text'>f_weather_country_date_postal_delta_to_avg_tavg_81aca723</td><td class='upgini-number'>0.003294</td><td class='upgini-number'>49.487709</td><td class='upgini-text'>numerical</td><td class='upgini-text'>Free</td></tr><tr><td class='upgini-text'><a href='https://upgini.com/#data_sources' target='_blank' rel='noopener noreferrer'>Upgini</a></td><td class='upgini-text'><a href='https://upgini.com/#data_sources' target='_blank' rel='noopener noreferrer'>Public/Comm. shared</a></td><td class='upgini-text'>f_location_country_postal_poi_public_library_10km_cnt_e62eef7a</td><td class='upgini-number'>0.003036</td><td class='upgini-number'>99.878877</td><td class='upgini-text'>numerical</td><td class='upgini-text'>Free</td></tr><tr><td class='upgini-text'><a href='https://upgini.com/#data_sources' target='_blank' rel='noopener noreferrer'>Upgini</a></td><td class='upgini-text'><a href='https://upgini.com/#data_sources' target='_blank' rel='noopener noreferrer'>Public/Comm. shared</a></td><td class='upgini-text'>f_telecom_country_postal_cells_lte_20km_cnt_to_cells_cnt_fcfb0610</td><td class='upgini-number'>0.002932</td><td class='upgini-number'>99.992058</td><td class='upgini-text'>numerical</td><td class='upgini-text'>Free</td></tr><tr><td class='upgini-text'><a href='https://upgini.com/#data_sources' target='_blank' rel='noopener noreferrer'>Upgini</a></td><td class='upgini-text'><a href='https://upgini.com/#data_sources' target='_blank' rel='noopener noreferrer'>Public/Comm. shared</a></td><td class='upgini-text'>f_car_ownership_country_postal_kia_cnt_35933bcf</td><td class='upgini-number'>0.002911</td><td class='upgini-number'>56.381796</td><td class='upgini-text'>numerical</td><td class='upgini-text'>Free</td></tr><tr><td class='upgini-text'><a href='https://upgini.com/#data_sources' target='_blank' rel='noopener noreferrer'>Upgini</a></td><td class='upgini-text'><a href='https://upgini.com/#data_sources' target='_blank' rel='noopener noreferrer'>Public/Comm. shared</a></td><td class='upgini-text'>f_location_country_postal_price_avg_27a42bbf</td><td class='upgini-number'>0.002311</td><td class='upgini-number'>81.408602</td><td class='upgini-text'>numerical</td><td class='upgini-text'>Free</td></tr><tr><td class='upgini-text'><a href='https://upgini.com/#data_sources' target='_blank' rel='noopener noreferrer'>Upgini</a></td><td class='upgini-text'><a href='https://upgini.com/#data_sources' target='_blank' rel='noopener noreferrer'>Public/Comm. shared</a></td><td class='upgini-text'>f_telecom_country_postal_cells_cdma_20km_cnt_846957e9</td><td class='upgini-number'>0.002069</td><td class='upgini-number'>99.992058</td><td class='upgini-text'>numerical</td><td class='upgini-text'>Free</td></tr><tr><td class='upgini-text'><a href='https://upgini.com/#data_sources' target='_blank' rel='noopener noreferrer'>Upgini</a></td><td class='upgini-text'><a href='https://upgini.com/#data_sources' target='_blank' rel='noopener noreferrer'>Public/Comm. shared</a></td><td class='upgini-text'>f_telecom_country_postal_cells_20km_cnt_0a9fda75</td><td class='upgini-number'>0.001697</td><td class='upgini-number'>99.992058</td><td class='upgini-text'>numerical</td><td class='upgini-text'>Free</td></tr><tr><td class='upgini-text'><a href='https://upgini.com/#data_sources' target='_blank' rel='noopener noreferrer'>Upgini</a></td><td class='upgini-text'><a href='https://upgini.com/#data_sources' target='_blank' rel='noopener noreferrer'>Public/Comm. shared</a></td><td class='upgini-text'>f_location_country_postal_poi_public_post_office_10km_cnt_2dcce8e3</td><td class='upgini-number'>0.001562</td><td class='upgini-number'>99.878877</td><td class='upgini-text'>numerical</td><td class='upgini-text'>Free</td></tr><tr><td class='upgini-text'><a href='https://upgini.com/#data_sources' target='_blank' rel='noopener noreferrer'>Upgini</a></td><td class='upgini-text'><a href='https://upgini.com/#data_sources' target='_blank' rel='noopener noreferrer'>Public/Comm. shared</a></td><td class='upgini-text'>f_car_ownership_country_postal_chevrolet_cnt_to_cars_cnt_039475ee</td><td class='upgini-number'>0.001436</td><td class='upgini-number'>99.799452</td><td class='upgini-text'>numerical</td><td class='upgini-text'>Free</td></tr><tr><td class='upgini-text'><a href='https://upgini.com/#data_sources' target='_blank' rel='noopener noreferrer'>Upgini</a></td><td class='upgini-text'><a href='https://upgini.com/#data_sources' target='_blank' rel='noopener noreferrer'>Public/Comm. shared</a></td><td class='upgini-text'>f_car_ownership_country_postal_cars_cnt_by_household_17748d9b</td><td class='upgini-number'>0.001394</td><td class='upgini-number'>99.799452</td><td class='upgini-text'>numerical</td><td class='upgini-text'>Free</td></tr><tr><td class='upgini-text'><a href='https://upgini.com/#data_sources' target='_blank' rel='noopener noreferrer'>Upgini</a></td><td class='upgini-text'><a href='https://upgini.com/#data_sources' target='_blank' rel='noopener noreferrer'>Public/Comm. shared</a></td><td class='upgini-text'>f_location_country_postal_pofw_christian_catholic_10km_cnt_f347ec3b</td><td class='upgini-number'>0.001388</td><td class='upgini-number'>99.878877</td><td class='upgini-text'>numerical</td><td class='upgini-text'>Free</td></tr><tr><td class='upgini-text'><a href='https://upgini.com/#data_sources' target='_blank' rel='noopener noreferrer'>Upgini</a></td><td class='upgini-text'><a href='https://upgini.com/#data_sources' target='_blank' rel='noopener noreferrer'>Public/Comm. shared</a></td><td class='upgini-text'>f_weather_country_date_postal_tavg_d1419ab9</td><td class='upgini-number'>0.001349</td><td class='upgini-number'>49.487709</td><td class='upgini-text'>numerical</td><td class='upgini-text'>Free</td></tr><tr><td class='upgini-text'><a href='https://upgini.com/#data_sources' target='_blank' rel='noopener noreferrer'>Upgini</a></td><td class='upgini-text'><a href='https://upgini.com/#data_sources' target='_blank' rel='noopener noreferrer'>Public/Comm. shared</a></td><td class='upgini-text'>f_location_country_postal_natural_peak_10km_cnt_to_population_101e8690</td><td class='upgini-number'>0.001290</td><td class='upgini-number'>94.763909</td><td class='upgini-text'>numerical</td><td class='upgini-text'>Free</td></tr><tr><td class='upgini-text'><a href='https://upgini.com/#data_sources' target='_blank' rel='noopener noreferrer'>Upgini</a></td><td class='upgini-text'><a href='https://upgini.com/#data_sources' target='_blank' rel='noopener noreferrer'>Public/Comm. shared</a></td><td class='upgini-text'>f_car_ownership_country_postal_age_10y_cnt_to_cars_cnt_2bdf858c</td><td class='upgini-number'>0.001210</td><td class='upgini-number'>99.799452</td><td class='upgini-text'>numerical</td><td class='upgini-text'>Free</td></tr><tr><td class='upgini-text'><a href='https://upgini.com/#data_sources' target='_blank' rel='noopener noreferrer'>Upgini</a></td><td class='upgini-text'><a href='https://upgini.com/#data_sources' target='_blank' rel='noopener noreferrer'>Public/Comm. shared</a></td><td class='upgini-text'>f_location_country_postal_pofw_christian_baptist_10km_cnt_to_population_15a86172</td><td class='upgini-number'>0.001199</td><td class='upgini-number'>94.763909</td><td class='upgini-text'>numerical</td><td class='upgini-text'>Free</td></tr><tr><td class='upgini-text'><a href='https://upgini.com/#data_sources' target='_blank' rel='noopener noreferrer'>Upgini</a></td><td class='upgini-text'><a href='https://upgini.com/#data_sources' target='_blank' rel='noopener noreferrer'>Public/Comm. shared</a></td><td class='upgini-text'>f_telecom_country_postal_cells_cdma_20km_cnt_to_cells_cnt_aafb98d1</td><td class='upgini-number'>0.001193</td><td class='upgini-number'>99.992058</td><td class='upgini-text'>numerical</td><td class='upgini-text'>Free</td></tr><tr><td class='upgini-text'><a href='https://upgini.com/#data_sources' target='_blank' rel='noopener noreferrer'>Upgini</a></td><td class='upgini-text'><a href='https://upgini.com/#data_sources' target='_blank' rel='noopener noreferrer'>Public/Comm. shared</a></td><td class='upgini-text'>f_weather_country_date_postal_delta_to_avg_wesd_b0ac611f</td><td class='upgini-number'>0.001178</td><td class='upgini-number'>46.650252</td><td class='upgini-text'>numerical</td><td class='upgini-text'>Free</td></tr><tr><td class='upgini-text'><a href='https://upgini.com/#data_sources' target='_blank' rel='noopener noreferrer'>Upgini</a></td><td class='upgini-text'><a href='https://upgini.com/#data_sources' target='_blank' rel='noopener noreferrer'>Public/Comm. shared</a></td><td class='upgini-text'>f_location_country_postal_pofw_christian_methodist_10km_cnt_e65b89f5</td><td class='upgini-number'>0.001155</td><td class='upgini-number'>99.878877</td><td class='upgini-text'>numerical</td><td class='upgini-text'>Free</td></tr><tr><td class='upgini-text'><a href='https://upgini.com/#data_sources' target='_blank' rel='noopener noreferrer'>Upgini</a></td><td class='upgini-text'><a href='https://upgini.com/#data_sources' target='_blank' rel='noopener noreferrer'>Public/Comm. shared</a></td><td class='upgini-text'>f_car_ownership_country_postal_popular_model_name_711952a6</td><td class='upgini-number'>0.001136</td><td class='upgini-number'>56.381796</td><td class='upgini-text'>categorical</td><td class='upgini-text'>Free</td></tr><tr><td class='upgini-text'><a href='https://upgini.com/#data_sources' target='_blank' rel='noopener noreferrer'>Upgini</a></td><td class='upgini-text'><a href='https://upgini.com/#data_sources' target='_blank' rel='noopener noreferrer'>Public/Comm. shared</a></td><td class='upgini-text'>f_car_ownership_country_postal_age_30y_cnt_to_cars_cnt_cbef61eb</td><td class='upgini-number'>0.001132</td><td class='upgini-number'>99.799452</td><td class='upgini-text'>numerical</td><td class='upgini-text'>Free</td></tr><tr><td class='upgini-text'></td><td class='upgini-text'></td><td class='upgini-text'>density</td><td class='upgini-number'>0.000000</td><td class='upgini-number'>96.886541</td><td class='upgini-text'>numerical</td><td class='upgini-text'></td></tr><tr><td class='upgini-text'></td><td class='upgini-text'></td><td class='upgini-text'>last_result_party</td><td class='upgini-number'>0.000000</td><td class='upgini-number'>100.000000</td><td class='upgini-text'>numerical</td><td class='upgini-text'></td></tr><tr><td class='upgini-text'></td><td class='upgini-text'></td><td class='upgini-text'>population</td><td class='upgini-number'>0.000000</td><td class='upgini-number'>96.886541</td><td class='upgini-text'>numerical</td><td class='upgini-text'></td></tr></tbody></table>"
            ],
            "text/plain": [
              "<IPython.core.display.HTML object>"
            ]
          },
          "metadata": {},
          "output_type": "display_data"
        },
        {
          "data": {
            "text/html": [
              "<p>Not sure what these features mean? Drop us a message in Slack community:</p><a href='https://4mlg.short.gy/join-upgini-community' target='_blank' rel='noopener noreferrer'>\n",
              "                    <img alt='Upgini Slack community' src='https://img.shields.io/badge/slack-@upgini-orange.svg?logo=slack'></a>\n",
              "                    "
            ],
            "text/plain": [
              "<IPython.core.display.HTML object>"
            ]
          },
          "metadata": {},
          "output_type": "display_data"
        },
        {
          "name": "stdout",
          "output_type": "stream",
          "text": [
            "Calculating metrics...\n",
            "Done\n",
            "\u001b[92m\u001b[1m\n",
            "Quality metrics\u001b[0m\n"
          ]
        },
        {
          "data": {
            "text/html": [
              "\n",
              "  <div id=\"df-b2d1f53b-2c48-49ef-9cea-96f1726cac31\">\n",
              "    <div class=\"colab-df-container\">\n",
              "      <div>\n",
              "<style scoped>\n",
              "    .dataframe tbody tr th:only-of-type {\n",
              "        vertical-align: middle;\n",
              "    }\n",
              "\n",
              "    .dataframe tbody tr th {\n",
              "        vertical-align: top;\n",
              "    }\n",
              "\n",
              "    .dataframe thead th {\n",
              "        text-align: right;\n",
              "    }\n",
              "</style>\n",
              "<table border=\"1\" class=\"dataframe\">\n",
              "  <thead>\n",
              "    <tr style=\"text-align: right;\">\n",
              "      <th></th>\n",
              "      <th>Match rate</th>\n",
              "      <th>Baseline roc_auc</th>\n",
              "      <th>Enriched roc_auc</th>\n",
              "      <th>Uplift</th>\n",
              "    </tr>\n",
              "    <tr>\n",
              "      <th></th>\n",
              "      <th></th>\n",
              "      <th></th>\n",
              "      <th></th>\n",
              "      <th></th>\n",
              "    </tr>\n",
              "  </thead>\n",
              "  <tbody>\n",
              "    <tr>\n",
              "      <th>Train</th>\n",
              "      <td>100.0</td>\n",
              "      <td>0.915854</td>\n",
              "      <td>0.922462</td>\n",
              "      <td>0.006608</td>\n",
              "    </tr>\n",
              "    <tr>\n",
              "      <th>Eval 1</th>\n",
              "      <td>100.0</td>\n",
              "      <td>0.950074</td>\n",
              "      <td>0.956784</td>\n",
              "      <td>0.006710</td>\n",
              "    </tr>\n",
              "  </tbody>\n",
              "</table>\n",
              "</div>\n",
              "      <button class=\"colab-df-convert\" onclick=\"convertToInteractive('df-b2d1f53b-2c48-49ef-9cea-96f1726cac31')\"\n",
              "              title=\"Convert this dataframe to an interactive table.\"\n",
              "              style=\"display:none;\">\n",
              "        \n",
              "  <svg xmlns=\"http://www.w3.org/2000/svg\" height=\"24px\"viewBox=\"0 0 24 24\"\n",
              "       width=\"24px\">\n",
              "    <path d=\"M0 0h24v24H0V0z\" fill=\"none\"/>\n",
              "    <path d=\"M18.56 5.44l.94 2.06.94-2.06 2.06-.94-2.06-.94-.94-2.06-.94 2.06-2.06.94zm-11 1L8.5 8.5l.94-2.06 2.06-.94-2.06-.94L8.5 2.5l-.94 2.06-2.06.94zm10 10l.94 2.06.94-2.06 2.06-.94-2.06-.94-.94-2.06-.94 2.06-2.06.94z\"/><path d=\"M17.41 7.96l-1.37-1.37c-.4-.4-.92-.59-1.43-.59-.52 0-1.04.2-1.43.59L10.3 9.45l-7.72 7.72c-.78.78-.78 2.05 0 2.83L4 21.41c.39.39.9.59 1.41.59.51 0 1.02-.2 1.41-.59l7.78-7.78 2.81-2.81c.8-.78.8-2.07 0-2.86zM5.41 20L4 18.59l7.72-7.72 1.47 1.35L5.41 20z\"/>\n",
              "  </svg>\n",
              "      </button>\n",
              "      \n",
              "  <style>\n",
              "    .colab-df-container {\n",
              "      display:flex;\n",
              "      flex-wrap:wrap;\n",
              "      gap: 12px;\n",
              "    }\n",
              "\n",
              "    .colab-df-convert {\n",
              "      background-color: #E8F0FE;\n",
              "      border: none;\n",
              "      border-radius: 50%;\n",
              "      cursor: pointer;\n",
              "      display: none;\n",
              "      fill: #1967D2;\n",
              "      height: 32px;\n",
              "      padding: 0 0 0 0;\n",
              "      width: 32px;\n",
              "    }\n",
              "\n",
              "    .colab-df-convert:hover {\n",
              "      background-color: #E2EBFA;\n",
              "      box-shadow: 0px 1px 2px rgba(60, 64, 67, 0.3), 0px 1px 3px 1px rgba(60, 64, 67, 0.15);\n",
              "      fill: #174EA6;\n",
              "    }\n",
              "\n",
              "    [theme=dark] .colab-df-convert {\n",
              "      background-color: #3B4455;\n",
              "      fill: #D2E3FC;\n",
              "    }\n",
              "\n",
              "    [theme=dark] .colab-df-convert:hover {\n",
              "      background-color: #434B5C;\n",
              "      box-shadow: 0px 1px 3px 1px rgba(0, 0, 0, 0.15);\n",
              "      filter: drop-shadow(0px 1px 2px rgba(0, 0, 0, 0.3));\n",
              "      fill: #FFFFFF;\n",
              "    }\n",
              "  </style>\n",
              "\n",
              "      <script>\n",
              "        const buttonEl =\n",
              "          document.querySelector('#df-b2d1f53b-2c48-49ef-9cea-96f1726cac31 button.colab-df-convert');\n",
              "        buttonEl.style.display =\n",
              "          google.colab.kernel.accessAllowed ? 'block' : 'none';\n",
              "\n",
              "        async function convertToInteractive(key) {\n",
              "          const element = document.querySelector('#df-b2d1f53b-2c48-49ef-9cea-96f1726cac31');\n",
              "          const dataTable =\n",
              "            await google.colab.kernel.invokeFunction('convertToInteractive',\n",
              "                                                     [key], {});\n",
              "          if (!dataTable) return;\n",
              "\n",
              "          const docLinkHtml = 'Like what you see? Visit the ' +\n",
              "            '<a target=\"_blank\" href=https://colab.research.google.com/notebooks/data_table.ipynb>data table notebook</a>'\n",
              "            + ' to learn more about interactive tables.';\n",
              "          element.innerHTML = '';\n",
              "          dataTable['output_type'] = 'display_data';\n",
              "          await google.colab.output.renderOutput(dataTable, element);\n",
              "          const docLink = document.createElement('div');\n",
              "          docLink.innerHTML = docLinkHtml;\n",
              "          element.appendChild(docLink);\n",
              "        }\n",
              "      </script>\n",
              "    </div>\n",
              "  </div>\n",
              "  "
            ],
            "text/plain": [
              "        Match rate  Baseline roc_auc  Enriched roc_auc    Uplift\n",
              "                                                                \n",
              "Train        100.0          0.915854          0.922462  0.006608\n",
              "Eval 1       100.0          0.950074          0.956784  0.006710"
            ]
          },
          "metadata": {},
          "output_type": "display_data"
        }
      ],
      "source": [
        "from upgini import FeaturesEnricher, SearchKey\n",
        "from upgini.metadata import RuntimeParameters,CVType\n",
        "\n",
        "enricher = FeaturesEnricher(\n",
        "    search_keys={\n",
        "        'country': SearchKey.COUNTRY,\n",
        "        'postal_code': SearchKey.POSTAL_CODE,\n",
        "        'election_date':SearchKey.DATE,      \n",
        "    }, \n",
        "    cv=CVType.time_series,\n",
        ")\n",
        "enricher.fit(train.drop(['target_result_party'], axis=1), train.target_result_party,\n",
        "             eval_set=[(test.drop(['target_result_party'], axis=1), test.target_result_party)],\n",
        "             calculate_metrics=True)"
      ]
    },
    {
      "cell_type": "code",
      "execution_count": null,
      "metadata": {
        "colab": {
          "base_uri": "https://localhost:8080/",
          "height": 229
        },
        "id": "gITm5iITWBTy",
        "outputId": "90e69b7c-89f4-490c-f246-16b80662135f"
      },
      "outputs": [
        {
          "data": {
            "text/html": [
              "<table><tr><th style='font-weight:bold'>Column name</th><th style='font-weight:bold'>Status</th><th style='font-weight:bold'>Errors</th></tr><tr><td>country</td><td style='background-color:#DAF7A6;color:black'>All valid</td><td>-</td></tr><tr><td>postal_code</td><td style='background-color:#DAF7A6;color:black'>All valid</td><td>-</td></tr><tr><td>election_date</td><td style='background-color:#DAF7A6;color:black'>All valid</td><td>-</td></tr></table>"
            ],
            "text/plain": [
              "<IPython.core.display.HTML object>"
            ]
          },
          "metadata": {},
          "output_type": "display_data"
        },
        {
          "name": "stdout",
          "output_type": "stream",
          "text": [
            "\n",
            "Running search request, search_id=f18ec22f-77bf-4213-ab01-7b124972823d\n",
            "We'll send email notification once it's completed, just use your personal api_key from profile.upgini.com\n",
            "Done\n",
            "\n",
            "Retrieving selected features from data sources...\n",
            "Done\n"
          ]
        }
      ],
      "source": [
        "df2=enricher.transform(test)"
      ]
    },
    {
      "cell_type": "code",
      "execution_count": null,
      "metadata": {
        "colab": {
          "base_uri": "https://localhost:8080/"
        },
        "id": "XEp8dMknWhLN",
        "outputId": "0a5b8872-b61d-4c07-b9a6-4ba33fc692e7"
      },
      "outputs": [
        {
          "data": {
            "text/plain": [
              "target_result_party\n",
              "0     9.072786\n",
              "1    12.687661\n",
              "Name: f_weather_country_date_postal_delta_to_avg_prcp_69cb1eca, dtype: float64"
            ]
          },
          "execution_count": 6,
          "metadata": {},
          "output_type": "execute_result"
        }
      ],
      "source": [
        "df2.groupby(['target_result_party'])['f_weather_country_date_postal_delta_to_avg_prcp_69cb1eca'].mean()"
      ]
    },
    {
      "cell_type": "markdown",
      "metadata": {
        "id": "yOgTZQZ6Ft9v"
      },
      "source": [
        "##Conclusion\n",
        "\n",
        "1. The results of last elections is the most powerfull features\n",
        "2. Population of county has a big predictive power\n",
        "3. Dozens of external features from Upgini have a significant feature importance\n",
        "______________________________\n",
        "Thanks for reading! If you found this useful or interesting, please share with a friend.\n",
        "______________________________\n",
        "## 🔗 Useful links\n",
        "* Upgini Library [Documentation](https://github.com/upgini/upgini#readme)\n",
        "* More [Notebooks and Guides](https://github.com/upgini/upgini#briefcase-use-cases)\n",
        "* [Feature importance](https://github.com/upgini/upgini#5--evaluate-feature-importances-shap-values-from-the-search-result) in Upgini\n",
        "* Kaggle public [Notebooks](https://www.kaggle.com/romaupgini/code)\n",
        "\n",
        "\n",
        "<sup>😔 Found mistype or a bug in code snippet? Our bad! <a href=\"https://github.com/upgini/upgini/issues/new?assignees=&title=readme%2Fbug\">\n",
        "Please report it here.</a></sup>"
      ]
    },
    {
      "cell_type": "code",
      "execution_count": null,
      "metadata": {
        "id": "NbYkH0ssYCan"
      },
      "outputs": [],
      "source": []
    }
  ],
  "metadata": {
    "colab": {
      "provenance": []
    },
    "kernelspec": {
      "display_name": "Python 3.7.15 ('env': venv)",
      "language": "python",
      "name": "python3"
    },
    "language_info": {
      "name": "python",
      "version": "3.7.15 (default, Oct 11 2022, 13:45:04) \n[Clang 14.0.0 (clang-1400.0.29.102)]"
    },
    "vscode": {
      "interpreter": {
        "hash": "be9e1762fcee92957582af041534f00ab11591d9959c6a9abaebf12bd1875ce2"
      }
    }
  },
  "nbformat": 4,
  "nbformat_minor": 0
}
