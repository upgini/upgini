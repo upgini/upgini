{
  "cells": [
    {
      "cell_type": "markdown",
      "metadata": {
        "id": "3Ygzur-kaIYv"
      },
      "source": [
        "![alt text](\n",
        "https://cdn.prod.website-files.com/65d5721664bea140c05f5301/65e354e4b9ddb1c6aaa7d7b1_upgini_logo%20gradient.svg)   \n",
        "## [Intelligent data search & enrichment engine for Machine Learning](https://upgini.com)\n",
        "### Quick Start guide:\n",
        "### Search of relevant external features &  Automated feature generation for Salary predicton task  \n",
        "_________________\n",
        "\n",
        "Following this guide, you'll learn how to **search & auto generate new relevant features with Upgini library, in just 3 simple steps.**  \n",
        "We will enrich a training dataset with both external & automaticaly generated features and significantly improve model accuracy.  \n",
        "*The goal is to predict salary for data science job postning based on information about employer and job description.*  \n",
        "The evaluation metric is Mean Absolute Error (MAE).  \n",
        "⏱ Time needed: *15 minutes.*  \n",
        "\n",
        "Download this notebook: [GitHub Link](https://github.com/upgini/upgini/blob/main/notebooks/Upgini_Features_search&generation.ipynb)  \n",
        "_________________\n",
        "\n",
        "First, let's install latest version of Upgini library."
      ]
    },
    {
      "cell_type": "code",
      "execution_count": 1,
      "metadata": {
        "id": "oOpVMpDUZrvt",
        "outputId": "3cd5920a-bdfc-4a68-b00d-6df4fbc31f07",
        "colab": {
          "base_uri": "https://localhost:8080/"
        }
      },
      "outputs": [
        {
          "output_type": "stream",
          "name": "stdout",
          "text": [
            "\u001b[2K     \u001b[90m━━━━━━━━━━━━━━━━━━━━━━━━━━━━━━━━━━━━━━━━\u001b[0m \u001b[32m51.1/51.1 kB\u001b[0m \u001b[31m4.2 MB/s\u001b[0m eta \u001b[36m0:00:00\u001b[0m\n",
            "\u001b[2K   \u001b[90m━━━━━━━━━━━━━━━━━━━━━━━━━━━━━━━━━━━━━━━━\u001b[0m \u001b[32m303.3/303.3 kB\u001b[0m \u001b[31m13.3 MB/s\u001b[0m eta \u001b[36m0:00:00\u001b[0m\n",
            "\u001b[?25h"
          ]
        }
      ],
      "source": [
        "%pip install -Uq upgini catboost"
      ]
    },
    {
      "cell_type": "markdown",
      "metadata": {
        "id": "QzfajV5ukwZN"
      },
      "source": [
        "## 1️⃣ Use your labeled training dataset for search & feature generation\n",
        "\n",
        "You can use your labeled training datasets \"as is\" to initiate the search.  \n",
        "For this guide we'll use the dataset from [Glasdoor salary prediction](https://www.kaggle.com/datasets/thedevastator/jobs-dataset-from-glassdoor) with geocoded addresses of employers as a postal/ZIP codes. You can download extended version [here](https://github.com/upgini/upgini/blob/main/notebooks/demo_salary.csv.zip).  \n",
        "*This dataset contains job postings from Glassdoor.com from 2017, with several text columns including Job title, Job description, and Company name.*  \n",
        "License CC0: Public Domain  \n",
        "The goal is to predict salary for data science job postning.\n",
        "The column with the target label for salary prediction is `avg_salary`.  \n",
        "> ⚠️ All columns in the input dataset with dates/datetime should be converted to pandas datetime object for correct datetime representation\n"
      ]
    },
    {
      "cell_type": "code",
      "execution_count": 3,
      "metadata": {
        "colab": {
          "base_uri": "https://localhost:8080/",
          "height": 335
        },
        "id": "CXBayn8onpDp",
        "outputId": "55eac8fd-2d26-447e-f64c-f39de70c034b"
      },
      "outputs": [
        {
          "output_type": "execute_result",
          "data": {
            "text/plain": [
              "                                 Company Name         Location   Headquarters  \\\n",
              "0                      Tecolote Research\\n3.8  Albuquerque, NM     Goleta, CA   \n",
              "1  University of Maryland Medical System\\n3.4    Linthicum, MD  Baltimore, MD   \n",
              "\n",
              "                    Size  Founded   Type of ownership  \\\n",
              "0  501 to 1000 employees     1973   Company - Private   \n",
              "1       10000+ employees     1984  Other Organization   \n",
              "\n",
              "                           Industry               Sector  \\\n",
              "0               Aerospace & Defense  Aerospace & Defense   \n",
              "1  Health Care Services & Hospitals          Health Care   \n",
              "\n",
              "                     Revenue  avg_salary  ... R_yn spark  aws  excel  \\\n",
              "0  $50 to $100 million (USD)        72.0  ...    0     0    0      1   \n",
              "1     $2 to $5 billion (USD)        87.5  ...    0     0    0      0   \n",
              "\n",
              "         job_simp  desc_len  num_comp  Postal_code  country  \\\n",
              "0  data scientist      2536         0        87102       US   \n",
              "1  data scientist      4783         0        21090       US   \n",
              "\n",
              "                                            combined  \n",
              "0  Job title: Data Scientist; Job Description: Da...  \n",
              "1  Job title: Healthcare Data Scientist; Job Desc...  \n",
              "\n",
              "[2 rows x 25 columns]"
            ],
            "text/html": [
              "\n",
              "  <div id=\"df-9b0ba263-19c7-431a-8484-23c7c9aefcd0\" class=\"colab-df-container\">\n",
              "    <div>\n",
              "<style scoped>\n",
              "    .dataframe tbody tr th:only-of-type {\n",
              "        vertical-align: middle;\n",
              "    }\n",
              "\n",
              "    .dataframe tbody tr th {\n",
              "        vertical-align: top;\n",
              "    }\n",
              "\n",
              "    .dataframe thead th {\n",
              "        text-align: right;\n",
              "    }\n",
              "</style>\n",
              "<table border=\"1\" class=\"dataframe\">\n",
              "  <thead>\n",
              "    <tr style=\"text-align: right;\">\n",
              "      <th></th>\n",
              "      <th>Company Name</th>\n",
              "      <th>Location</th>\n",
              "      <th>Headquarters</th>\n",
              "      <th>Size</th>\n",
              "      <th>Founded</th>\n",
              "      <th>Type of ownership</th>\n",
              "      <th>Industry</th>\n",
              "      <th>Sector</th>\n",
              "      <th>Revenue</th>\n",
              "      <th>avg_salary</th>\n",
              "      <th>...</th>\n",
              "      <th>R_yn</th>\n",
              "      <th>spark</th>\n",
              "      <th>aws</th>\n",
              "      <th>excel</th>\n",
              "      <th>job_simp</th>\n",
              "      <th>desc_len</th>\n",
              "      <th>num_comp</th>\n",
              "      <th>Postal_code</th>\n",
              "      <th>country</th>\n",
              "      <th>combined</th>\n",
              "    </tr>\n",
              "  </thead>\n",
              "  <tbody>\n",
              "    <tr>\n",
              "      <th>0</th>\n",
              "      <td>Tecolote Research\\n3.8</td>\n",
              "      <td>Albuquerque, NM</td>\n",
              "      <td>Goleta, CA</td>\n",
              "      <td>501 to 1000 employees</td>\n",
              "      <td>1973</td>\n",
              "      <td>Company - Private</td>\n",
              "      <td>Aerospace &amp; Defense</td>\n",
              "      <td>Aerospace &amp; Defense</td>\n",
              "      <td>$50 to $100 million (USD)</td>\n",
              "      <td>72.0</td>\n",
              "      <td>...</td>\n",
              "      <td>0</td>\n",
              "      <td>0</td>\n",
              "      <td>0</td>\n",
              "      <td>1</td>\n",
              "      <td>data scientist</td>\n",
              "      <td>2536</td>\n",
              "      <td>0</td>\n",
              "      <td>87102</td>\n",
              "      <td>US</td>\n",
              "      <td>Job title: Data Scientist; Job Description: Da...</td>\n",
              "    </tr>\n",
              "    <tr>\n",
              "      <th>1</th>\n",
              "      <td>University of Maryland Medical System\\n3.4</td>\n",
              "      <td>Linthicum, MD</td>\n",
              "      <td>Baltimore, MD</td>\n",
              "      <td>10000+ employees</td>\n",
              "      <td>1984</td>\n",
              "      <td>Other Organization</td>\n",
              "      <td>Health Care Services &amp; Hospitals</td>\n",
              "      <td>Health Care</td>\n",
              "      <td>$2 to $5 billion (USD)</td>\n",
              "      <td>87.5</td>\n",
              "      <td>...</td>\n",
              "      <td>0</td>\n",
              "      <td>0</td>\n",
              "      <td>0</td>\n",
              "      <td>0</td>\n",
              "      <td>data scientist</td>\n",
              "      <td>4783</td>\n",
              "      <td>0</td>\n",
              "      <td>21090</td>\n",
              "      <td>US</td>\n",
              "      <td>Job title: Healthcare Data Scientist; Job Desc...</td>\n",
              "    </tr>\n",
              "  </tbody>\n",
              "</table>\n",
              "<p>2 rows × 25 columns</p>\n",
              "</div>\n",
              "    <div class=\"colab-df-buttons\">\n",
              "\n",
              "  <div class=\"colab-df-container\">\n",
              "    <button class=\"colab-df-convert\" onclick=\"convertToInteractive('df-9b0ba263-19c7-431a-8484-23c7c9aefcd0')\"\n",
              "            title=\"Convert this dataframe to an interactive table.\"\n",
              "            style=\"display:none;\">\n",
              "\n",
              "  <svg xmlns=\"http://www.w3.org/2000/svg\" height=\"24px\" viewBox=\"0 -960 960 960\">\n",
              "    <path d=\"M120-120v-720h720v720H120Zm60-500h600v-160H180v160Zm220 220h160v-160H400v160Zm0 220h160v-160H400v160ZM180-400h160v-160H180v160Zm440 0h160v-160H620v160ZM180-180h160v-160H180v160Zm440 0h160v-160H620v160Z\"/>\n",
              "  </svg>\n",
              "    </button>\n",
              "\n",
              "  <style>\n",
              "    .colab-df-container {\n",
              "      display:flex;\n",
              "      gap: 12px;\n",
              "    }\n",
              "\n",
              "    .colab-df-convert {\n",
              "      background-color: #E8F0FE;\n",
              "      border: none;\n",
              "      border-radius: 50%;\n",
              "      cursor: pointer;\n",
              "      display: none;\n",
              "      fill: #1967D2;\n",
              "      height: 32px;\n",
              "      padding: 0 0 0 0;\n",
              "      width: 32px;\n",
              "    }\n",
              "\n",
              "    .colab-df-convert:hover {\n",
              "      background-color: #E2EBFA;\n",
              "      box-shadow: 0px 1px 2px rgba(60, 64, 67, 0.3), 0px 1px 3px 1px rgba(60, 64, 67, 0.15);\n",
              "      fill: #174EA6;\n",
              "    }\n",
              "\n",
              "    .colab-df-buttons div {\n",
              "      margin-bottom: 4px;\n",
              "    }\n",
              "\n",
              "    [theme=dark] .colab-df-convert {\n",
              "      background-color: #3B4455;\n",
              "      fill: #D2E3FC;\n",
              "    }\n",
              "\n",
              "    [theme=dark] .colab-df-convert:hover {\n",
              "      background-color: #434B5C;\n",
              "      box-shadow: 0px 1px 3px 1px rgba(0, 0, 0, 0.15);\n",
              "      filter: drop-shadow(0px 1px 2px rgba(0, 0, 0, 0.3));\n",
              "      fill: #FFFFFF;\n",
              "    }\n",
              "  </style>\n",
              "\n",
              "    <script>\n",
              "      const buttonEl =\n",
              "        document.querySelector('#df-9b0ba263-19c7-431a-8484-23c7c9aefcd0 button.colab-df-convert');\n",
              "      buttonEl.style.display =\n",
              "        google.colab.kernel.accessAllowed ? 'block' : 'none';\n",
              "\n",
              "      async function convertToInteractive(key) {\n",
              "        const element = document.querySelector('#df-9b0ba263-19c7-431a-8484-23c7c9aefcd0');\n",
              "        const dataTable =\n",
              "          await google.colab.kernel.invokeFunction('convertToInteractive',\n",
              "                                                    [key], {});\n",
              "        if (!dataTable) return;\n",
              "\n",
              "        const docLinkHtml = 'Like what you see? Visit the ' +\n",
              "          '<a target=\"_blank\" href=https://colab.research.google.com/notebooks/data_table.ipynb>data table notebook</a>'\n",
              "          + ' to learn more about interactive tables.';\n",
              "        element.innerHTML = '';\n",
              "        dataTable['output_type'] = 'display_data';\n",
              "        await google.colab.output.renderOutput(dataTable, element);\n",
              "        const docLink = document.createElement('div');\n",
              "        docLink.innerHTML = docLinkHtml;\n",
              "        element.appendChild(docLink);\n",
              "      }\n",
              "    </script>\n",
              "  </div>\n",
              "\n",
              "\n",
              "    <div id=\"df-e7aab6e4-e76d-4d52-b18b-550bcf2252c0\">\n",
              "      <button class=\"colab-df-quickchart\" onclick=\"quickchart('df-e7aab6e4-e76d-4d52-b18b-550bcf2252c0')\"\n",
              "                title=\"Suggest charts\"\n",
              "                style=\"display:none;\">\n",
              "\n",
              "<svg xmlns=\"http://www.w3.org/2000/svg\" height=\"24px\"viewBox=\"0 0 24 24\"\n",
              "     width=\"24px\">\n",
              "    <g>\n",
              "        <path d=\"M19 3H5c-1.1 0-2 .9-2 2v14c0 1.1.9 2 2 2h14c1.1 0 2-.9 2-2V5c0-1.1-.9-2-2-2zM9 17H7v-7h2v7zm4 0h-2V7h2v10zm4 0h-2v-4h2v4z\"/>\n",
              "    </g>\n",
              "</svg>\n",
              "      </button>\n",
              "\n",
              "<style>\n",
              "  .colab-df-quickchart {\n",
              "      --bg-color: #E8F0FE;\n",
              "      --fill-color: #1967D2;\n",
              "      --hover-bg-color: #E2EBFA;\n",
              "      --hover-fill-color: #174EA6;\n",
              "      --disabled-fill-color: #AAA;\n",
              "      --disabled-bg-color: #DDD;\n",
              "  }\n",
              "\n",
              "  [theme=dark] .colab-df-quickchart {\n",
              "      --bg-color: #3B4455;\n",
              "      --fill-color: #D2E3FC;\n",
              "      --hover-bg-color: #434B5C;\n",
              "      --hover-fill-color: #FFFFFF;\n",
              "      --disabled-bg-color: #3B4455;\n",
              "      --disabled-fill-color: #666;\n",
              "  }\n",
              "\n",
              "  .colab-df-quickchart {\n",
              "    background-color: var(--bg-color);\n",
              "    border: none;\n",
              "    border-radius: 50%;\n",
              "    cursor: pointer;\n",
              "    display: none;\n",
              "    fill: var(--fill-color);\n",
              "    height: 32px;\n",
              "    padding: 0;\n",
              "    width: 32px;\n",
              "  }\n",
              "\n",
              "  .colab-df-quickchart:hover {\n",
              "    background-color: var(--hover-bg-color);\n",
              "    box-shadow: 0 1px 2px rgba(60, 64, 67, 0.3), 0 1px 3px 1px rgba(60, 64, 67, 0.15);\n",
              "    fill: var(--button-hover-fill-color);\n",
              "  }\n",
              "\n",
              "  .colab-df-quickchart-complete:disabled,\n",
              "  .colab-df-quickchart-complete:disabled:hover {\n",
              "    background-color: var(--disabled-bg-color);\n",
              "    fill: var(--disabled-fill-color);\n",
              "    box-shadow: none;\n",
              "  }\n",
              "\n",
              "  .colab-df-spinner {\n",
              "    border: 2px solid var(--fill-color);\n",
              "    border-color: transparent;\n",
              "    border-bottom-color: var(--fill-color);\n",
              "    animation:\n",
              "      spin 1s steps(1) infinite;\n",
              "  }\n",
              "\n",
              "  @keyframes spin {\n",
              "    0% {\n",
              "      border-color: transparent;\n",
              "      border-bottom-color: var(--fill-color);\n",
              "      border-left-color: var(--fill-color);\n",
              "    }\n",
              "    20% {\n",
              "      border-color: transparent;\n",
              "      border-left-color: var(--fill-color);\n",
              "      border-top-color: var(--fill-color);\n",
              "    }\n",
              "    30% {\n",
              "      border-color: transparent;\n",
              "      border-left-color: var(--fill-color);\n",
              "      border-top-color: var(--fill-color);\n",
              "      border-right-color: var(--fill-color);\n",
              "    }\n",
              "    40% {\n",
              "      border-color: transparent;\n",
              "      border-right-color: var(--fill-color);\n",
              "      border-top-color: var(--fill-color);\n",
              "    }\n",
              "    60% {\n",
              "      border-color: transparent;\n",
              "      border-right-color: var(--fill-color);\n",
              "    }\n",
              "    80% {\n",
              "      border-color: transparent;\n",
              "      border-right-color: var(--fill-color);\n",
              "      border-bottom-color: var(--fill-color);\n",
              "    }\n",
              "    90% {\n",
              "      border-color: transparent;\n",
              "      border-bottom-color: var(--fill-color);\n",
              "    }\n",
              "  }\n",
              "</style>\n",
              "\n",
              "      <script>\n",
              "        async function quickchart(key) {\n",
              "          const quickchartButtonEl =\n",
              "            document.querySelector('#' + key + ' button');\n",
              "          quickchartButtonEl.disabled = true;  // To prevent multiple clicks.\n",
              "          quickchartButtonEl.classList.add('colab-df-spinner');\n",
              "          try {\n",
              "            const charts = await google.colab.kernel.invokeFunction(\n",
              "                'suggestCharts', [key], {});\n",
              "          } catch (error) {\n",
              "            console.error('Error during call to suggestCharts:', error);\n",
              "          }\n",
              "          quickchartButtonEl.classList.remove('colab-df-spinner');\n",
              "          quickchartButtonEl.classList.add('colab-df-quickchart-complete');\n",
              "        }\n",
              "        (() => {\n",
              "          let quickchartButtonEl =\n",
              "            document.querySelector('#df-e7aab6e4-e76d-4d52-b18b-550bcf2252c0 button');\n",
              "          quickchartButtonEl.style.display =\n",
              "            google.colab.kernel.accessAllowed ? 'block' : 'none';\n",
              "        })();\n",
              "      </script>\n",
              "    </div>\n",
              "\n",
              "    </div>\n",
              "  </div>\n"
            ],
            "application/vnd.google.colaboratory.intrinsic+json": {
              "type": "dataframe",
              "variable_name": "df"
            }
          },
          "metadata": {},
          "execution_count": 3
        }
      ],
      "source": [
        "from os.path import exists\n",
        "import pandas as pd\n",
        "\n",
        "df_path = \"demo_salary.csv.zip\" if exists(\"demo_salary.csv.zip\") else \"https://github.com/upgini/upgini/raw/main/notebooks/demo_salary.csv.zip\"\n",
        "df = pd.read_csv(df_path)\n",
        "df.head(2)"
      ]
    },
    {
      "cell_type": "code",
      "source": [
        "pd.set_option('display.max_colwidth', 768)\n",
        "df[\"combined\"].head(2)"
      ],
      "metadata": {
        "id": "yDjxAENEefQ_",
        "outputId": "5a327d4e-cfa2-4b2d-8372-b3dabd511bcb",
        "colab": {
          "base_uri": "https://localhost:8080/",
          "height": 251
        }
      },
      "execution_count": 4,
      "outputs": [
        {
          "output_type": "execute_result",
          "data": {
            "text/plain": [
              "0    Job title: Data Scientist; Job Description: Data Scientist\\nLocation: Albuquerque, NM\\nEducation Required: Bachelor’s degree required, preferably in math, engineering, business, or the sciences.\\nSkills Required:\\nBachelor’s Degree in relevant field, e.g., math, data analysis, database, computer science, Artificial Intelligence (AI); three years’ experience credit for Master’s degree; five years’ experience credit for a Ph.D\\nApplicant should be proficient in the use of Power BI, Tableau, Python, MATLAB, Microsoft Word, PowerPoint, Excel, and working knowledge of MS Access, LMS, SAS, data visualization tools, and have a strong algorithmic aptitude\\nExcellent verbal and written communication skills, and quantitative analytical skills are required\\nApplica...\n",
              "1    Job title: Healthcare Data Scientist; Job Description: What You Will Do:\\n\\nI. General Summary\\n\\nThe Healthcare Data Scientist position will join our Advanced Analytics group at the University of Maryland Medical System (UMMS) in support of its strategic priority to become a data-driven and outcomes-oriented organization. The successful candidate will have 3+ years of experience with Machine Learning, Predictive Modeling, Statistical Analysis, Mathematical Optimization, Algorithm Development and a passion for working with healthcare data. Previous experience with various computational approaches along with an ability to demonstrate a portfolio of relevant prior projects is essential. This position will report to the UMMS Vice President for Enterprise Da...\n",
              "Name: combined, dtype: object"
            ],
            "text/html": [
              "<div>\n",
              "<style scoped>\n",
              "    .dataframe tbody tr th:only-of-type {\n",
              "        vertical-align: middle;\n",
              "    }\n",
              "\n",
              "    .dataframe tbody tr th {\n",
              "        vertical-align: top;\n",
              "    }\n",
              "\n",
              "    .dataframe thead th {\n",
              "        text-align: right;\n",
              "    }\n",
              "</style>\n",
              "<table border=\"1\" class=\"dataframe\">\n",
              "  <thead>\n",
              "    <tr style=\"text-align: right;\">\n",
              "      <th></th>\n",
              "      <th>combined</th>\n",
              "    </tr>\n",
              "  </thead>\n",
              "  <tbody>\n",
              "    <tr>\n",
              "      <th>0</th>\n",
              "      <td>Job title: Data Scientist; Job Description: Data Scientist\\nLocation: Albuquerque, NM\\nEducation Required: Bachelor’s degree required, preferably in math, engineering, business, or the sciences.\\nSkills Required:\\nBachelor’s Degree in relevant field, e.g., math, data analysis, database, computer science, Artificial Intelligence (AI); three years’ experience credit for Master’s degree; five years’ experience credit for a Ph.D\\nApplicant should be proficient in the use of Power BI, Tableau, Python, MATLAB, Microsoft Word, PowerPoint, Excel, and working knowledge of MS Access, LMS, SAS, data visualization tools, and have a strong algorithmic aptitude\\nExcellent verbal and written communication skills, and quantitative analytical skills are required\\nApplica...</td>\n",
              "    </tr>\n",
              "    <tr>\n",
              "      <th>1</th>\n",
              "      <td>Job title: Healthcare Data Scientist; Job Description: What You Will Do:\\n\\nI. General Summary\\n\\nThe Healthcare Data Scientist position will join our Advanced Analytics group at the University of Maryland Medical System (UMMS) in support of its strategic priority to become a data-driven and outcomes-oriented organization. The successful candidate will have 3+ years of experience with Machine Learning, Predictive Modeling, Statistical Analysis, Mathematical Optimization, Algorithm Development and a passion for working with healthcare data. Previous experience with various computational approaches along with an ability to demonstrate a portfolio of relevant prior projects is essential. This position will report to the UMMS Vice President for Enterprise Da...</td>\n",
              "    </tr>\n",
              "  </tbody>\n",
              "</table>\n",
              "</div><br><label><b>dtype:</b> object</label>"
            ]
          },
          "metadata": {},
          "execution_count": 4
        }
      ]
    },
    {
      "cell_type": "markdown",
      "metadata": {
        "id": "quAMYyZ1rNgQ"
      },
      "source": [
        "## 2️⃣ Choose one or multiple columns as a search keys, select columns for automated feature generation\n",
        "\n",
        "Under the hood, we'll search for relevant data using:\n",
        "- **[search keys](https://github.com/upgini/upgini#-search-key-types-we-support-more-to-come)** from training dataset to match records from potential data sources with a new features\n",
        "- **labels** from the training dataset to estimate the relevancy of candidate features for your ML task and calculate feature importance metrics  \n",
        "- **your features** from the training dataset to find external datasets and features that will improve accuracy in addition to your existing features and estimate accuracy uplift ([optional](https://github.com/upgini/upgini#find-features-only-give-accuracy-gain-to-existing-data-in-the-ml-model))\n",
        "\n",
        "\n",
        "Define one or multiple columns as a search keys  and select **text columns** for automated feature generation, in this example `'combined', 'company_txt'`  \n",
        "\n",
        ">⚠️ This search task will be auto-detected as a regression. If you have time series prediction (for example, daily sales as a target variable) and not just simple regression, you have to pass [**time series specific cross-validation split**](https://github.com/upgini/upgini#-time-series-prediction-support) **`CVType.time_series`**, as well"
      ]
    },
    {
      "cell_type": "code",
      "execution_count": 5,
      "metadata": {
        "id": "gPQ7uVDSMvGG"
      },
      "outputs": [],
      "source": [
        "from upgini import FeaturesEnricher, SearchKey\n",
        "\n",
        "enricher = FeaturesEnricher(\n",
        "  search_keys={\n",
        "    'country': SearchKey.COUNTRY,\n",
        "    'Postal_code': SearchKey.POSTAL_CODE\n",
        "  },\n",
        "  text_features=['combined', 'company_txt']\n",
        ")"
      ]
    },
    {
      "cell_type": "markdown",
      "metadata": {
        "id": "UECRWVWBZ6Ol"
      },
      "source": [
        "## 3️⃣ Start your search & feature generation with Scikit-learn compatible estimator\n",
        "\n",
        "The main abstraction you interact with is `FeaturesEnricher`, a Scikit-learn compatible estimator.  You can easily add it into your existing ML pipelines.\n",
        "Create instance of the `FeaturesEnricher` class and call:\n",
        "- `fit()` to search relevant datasets & features  \n",
        "- than `transform()` to enrich your dataset with features from search result\n",
        "- or combine both steps with a single method `fit_transform()`\n",
        "\n",
        "You need to separate features from targets in *a scikit-learn style* (X and y).\n",
        "\n",
        "> Search step will take around *30 minutes* for this training dataset"
      ]
    },
    {
      "cell_type": "code",
      "execution_count": 6,
      "metadata": {
        "colab": {
          "base_uri": "https://localhost:8080/",
          "height": 1000
        },
        "id": "wS3g38jKZ7D1",
        "outputId": "8344a682-d0f7-4485-d5de-768091d4e7e1"
      },
      "outputs": [
        {
          "output_type": "display_data",
          "data": {
            "text/plain": [
              "[============================================================] 100% Finished"
            ],
            "text/html": [
              "<progress style='width:60ex' max='100' value='100'></progress>  100% Finished</br>"
            ]
          },
          "metadata": {}
        },
        {
          "output_type": "display_data",
          "data": {
            "text/plain": [
              "<IPython.core.display.Javascript object>"
            ],
            "application/javascript": [
              "\n",
              "                    async function getVisitorId() {\n",
              "                        return import('https://upgini.github.io/upgini/js/a.js')\n",
              "                            .then(FingerprintJS => FingerprintJS.load())\n",
              "                            .then(fp => fp.get())\n",
              "                            .then(result => result.visitorId);\n",
              "                    }\n",
              "                    "
            ]
          },
          "metadata": {}
        },
        {
          "output_type": "stream",
          "name": "stdout",
          "text": [
            "Demo training dataset detected. Registration for an API key is not required.\n",
            "\n",
            "\n",
            "Detected task type: ModelTaskType.REGRESSION. Reason: many unique label-values or non-integer floating point values observed\n",
            "You can set task type manually with argument `model_task_type` of FeaturesEnricher constructor if task type detected incorrectly\n",
            "\n",
            "WARNING #1: No date/datetime column was detected in X to be used as a search key. The current date will be used to match the latest version of data sources\n",
            "\n",
            "WARNING #2: Your training sample is unstable in number of rows per date. It is recommended to redesign the training sample\n",
            "\n",
            "WARNING #3: One hot encoded features detected. Use int encoding for correct results of fit.\n",
            "['r_yn_8f6661']\n",
            "\n",
            "WARNING #4: Columns ['desc_len'] has high cardinality (>90% unique values), removed from X\n",
            "\n"
          ]
        },
        {
          "output_type": "display_data",
          "data": {
            "text/plain": [
              "<IPython.core.display.HTML object>"
            ],
            "text/html": [
              "<table><tr><th style='font-weight:bold'>Column name</th><th style='font-weight:bold'>Status</th><th style='font-weight:bold'>Errors</th></tr><tr><td>country</td><td style='background-color:#DAF7A6;color:black'>All valid</td><td>-</td></tr><tr><td>current_date</td><td style='background-color:#DAF7A6;color:black'>All valid</td><td>-</td></tr><tr><td>target</td><td style='background-color:#DAF7A6;color:black'>All valid</td><td>-</td></tr><tr><td>Postal_code</td><td style='background-color:#FFC300;color:black'>Some invalid</td><td>2.16% values failed validation and removed from dataframe, invalid values: [&lt;NA&gt;]</td></tr></table>"
            ]
          },
          "metadata": {}
        },
        {
          "output_type": "stream",
          "name": "stdout",
          "text": [
            "\n"
          ]
        },
        {
          "output_type": "display_data",
          "data": {
            "text/plain": [
              "<IPython.core.display.Javascript object>"
            ],
            "application/javascript": [
              "\n",
              "                        async function getIP() {\n",
              "                            return fetch(\"https://api64.ipify.org\")\n",
              "                                .then(response => response.text())\n",
              "                                .then(data => data);\n",
              "                        }\n",
              "                        "
            ]
          },
          "metadata": {}
        },
        {
          "output_type": "stream",
          "name": "stdout",
          "text": [
            "\n",
            "Running search request, search_id=e6b39324-f948-45ec-80c2-9ac426c643f1\n",
            "We'll send email notification once it's completed, just use your personal api_key from profile.upgini.com\n",
            "\n"
          ]
        },
        {
          "output_type": "display_data",
          "data": {
            "text/plain": [
              "<IPython.core.display.HTML object>"
            ],
            "text/html": [
              "<style>\n",
              "            .upgini-df thead th {\n",
              "                font-weight:bold;\n",
              "                text-align: center;\n",
              "                padding: 0.5em;\n",
              "                border-bottom: 2px solid black;\n",
              "            }\n",
              "\n",
              "            .upgini-df tbody td {\n",
              "                padding: 0.5em;\n",
              "                color: black;\n",
              "            }\n",
              "\n",
              "            .upgini-df tbody tr:nth-child(odd) {\n",
              "                background-color: #ffffff;\n",
              "            }\n",
              "\n",
              "            .upgini-df tbody tr:nth-child(even) {\n",
              "                background-color: #f2f2f2;\n",
              "            }\n",
              "\n",
              "            .upgini-text {\n",
              "                text-align: left;\n",
              "            }\n",
              "\n",
              "            .upgini-number {\n",
              "                text-align: center;\n",
              "            }\n",
              "        </style>\n",
              "        <h2>Relevant features (15)</h2>\n",
              "        <div style=\"display:flex; flex-direction:column; align-items:flex-end; width: fit-content;\">\n",
              "            \n",
              "            <div style=\"text-align: right\">\n",
              "                <button onclick=navigator.clipboard.writeText(decodeURI('Feature%20name%09SHAP%20value%09PSI%20value%09Coverage%20%25%09Value%20preview%09Provider%09Source%09Updates%0Ajob_simp%097.0045%090.0%09100.0%09director,%20na,%20mle%09%09%09%0Af_autofe_sim_jw2_fe9c7bc0f8%094.554%090.0%09100.0%090.4951,%200.4653,%200.5196%09Training%20dataset%09AutoFE%3A%20features%20from%20Training%20dataset%09%0Af_autofe_div_32bb85fdeb%092.8315%090.0%0996.98275862068965%0941120.5452,%2037013.3994,%2021011....%09Upgini%09AutoFE%3A%20features%20from%20%3Ca%20href%3D%27https%3A%2F%2Fupgini.com%2F%23data_sources%27%20target%3D%27_blank%27%20rel%3D%27noopener%20noreferrer%27%3EWorld%20mobile%20network%20coverage%3C%2Fa%3E%09Quarterly%0Af_telecom_country_postal_cells_UMTS_20km_range_stddev_c850530d%092.3359%090.0%0996.98275862068965%098465.557,%203471.5939,%2012162.449...%09Upgini%09World%20mobile%20network%20coverage%09Quarterly%0Af_autofe_div_ccdcaa4174%092.2362%090.0%0974.35344827586206%095914.3989,%202853.9094,%20667.8693%09Upgini%09AutoFE%3A%20features%20from%20%3Ca%20href%3D%27https%3A%2F%2Fupgini.com%2F%23data_sources%27%20target%3D%27_blank%27%20rel%3D%27noopener%20noreferrer%27%3EPOI%20data%20OpenStreetMap%3C%2Fa%3E%09Quarterly%0Af_marketing_country_postal_person_ethnic_code_non_europe_prc_8c825cdd%092.2043%090.0%0983.1896551724138%090.1252,%200.3747,%201.0%09Upgini%09Public%20customer%20profile%09Quarterly%0Af_autofe_div_bb4ce57711%092.1399%090.0%0995.6896551724138%0911.9194,%20561.4679,%20130.7484%09Upgini%09AutoFE%3A%20features%20from%20%3Ca%20href%3D%27https%3A%2F%2Fupgini.com%2F%23data_sources%27%20target%3D%27_blank%27%20rel%3D%27noopener%20noreferrer%27%3EPOI%20data%20OpenStreetMap%3C%2Fa%3E%09Quarterly%0Af_telecom_country_postal_cells_UMTS_10km_range_avg_9dcf0c9e%092.1097%090.0%0996.98275862068965%093476.5716,%201557.6053,%204090.918...%09Upgini%09World%20mobile%20network%20coverage%09Quarterly%0Af_company_txt_4c5666_org_emb_autofe_emb_outlier_dist_all_49907a2062%092.0522%090.0%09100.0%0916.5912,%2018.7222,%2014.0203%09Upgini%09AutoFE%3A%20feature%20from%20LLM%20with%20external%20data%20augmentation%09Daily%0Af_avg_lat_ms_to_history_a084d607%091.6616%090.0%0996.98275862068965%092.4444,%200.6667,%200.3571%09Ookla%20Speedtest%09okla%20open%20data%09Quarterly%0Af_autofe_sim_jw1_22754eb785%091.6137%090.0%09100.0%090.5177,%200.4604,%200.5281%09Training%20dataset%09AutoFE%3A%20features%20from%20Training%20dataset%09%0Af_autofe_mul_95d464525a%091.3726%090.0%0984.48275862068965%09608.0,%2029.0,%2084.0%09Upgini%09AutoFE%3A%20features%20from%20%3Ca%20href%3D%27https%3A%2F%2Fupgini.com%2F%23data_sources%27%20target%3D%27_blank%27%20rel%3D%27noopener%20noreferrer%27%3EWorld%20demographic%20data%3C%2Fa%3E,%3Ca%20href%3D%27https%3A%2F%2Fupgini.com%2F%23data_sources%27%20target%3D%27_blank%27%20rel%3D%27noopener%20noreferrer%27%3EPOI%20data%20OpenStreetMap%3C%2Fa%3E%09Quarterly%0Af_avg_lat_ms_to_history_bea1030b%091.3158%090.0%0996.98275862068965%090.193,%200.2889,%200.8049%09Ookla%20Speedtest%09okla%20open%20data%09Quarterly%0Af_autofe_dist_5a4ff26466%091.2568%090.0%0996.98275862068965%090.5466,%200.7736,%200.7613%09Upgini%09AutoFE%3A%20features%20from%20LLM%20with%20external%20data%20augmentation,%3Ca%20href%3D%27https%3A%2F%2Fupgini.com%2F%23data_sources%27%20target%3D%27_blank%27%20rel%3D%27noopener%20noreferrer%27%3EWorld%20demographic%20data%3C%2Fa%3E%09Daily%0Af_telecom_country_postal_cells_20km_samples_avg_80024d9e%090.9521%090.0%0996.98275862068965%09388.7165,%20544.9669,%20669.0298%09Upgini%09World%20mobile%20network%20coverage%09Quarterly%0A'))>📂 Copy</button>\n",
              "                <a href='mailto:<Share with...>?subject=Relevant external data sources from Upgini.com&body=Feature%20name%09SHAP%20value%09PSI%20value%09Coverage%20%25%09Value%20preview%09Provider%09Source%09Updates%0Ajob_simp%097.0045%090.0%09100.0%09director,%20na,%20mle%09%09%09%0Af_autofe_sim_jw2_fe9c7bc0f8%094.554%090.0%09100.0%090.4951,%200.4653,%200.5196%09Training%20dataset%09AutoFE%3A%20features%20from%20Training%20dataset%09%0Af_autofe_div_32bb85fdeb%092.8315%090.0%0996.98275862068965%0941120.5452,%2037013.3994,%2021011....%09Upgini%09AutoFE%3A%20features%20from%20%3Ca%20href%3D%27https%3A%2F%2Fupgini.com%2F%23data_sources%27%20target%3D%27_blank%27%20rel%3D%27noopener%20noreferrer%27%3EWorld%20mobile%20network%20coverage%3C%2Fa%3E%09Quarterly%0Af_telecom_country_postal_cells_UMTS_20km_range_stddev_c850530d%092.3359%090.0%0996.98275862068965%098465.557,%203471.5939,%2012162.449...%09Upgini%09World%20mobile%20network%20coverage%09Quarterly%0Af_autofe_div_ccdcaa4174%092.2362%090.0%0974.35344827586206%095914.3989,%202853.9094,%20667.8693%09Upgini%09AutoFE%3A%20features%20from%20%3Ca%20href%3D%27https%3A%2F%2Fupgini.com%2F%23data_sources%27%20target%3D%27_blank%27%20rel%3D%27noopener%20noreferrer%27%3EPOI%20data%20OpenStreetMap%3C%2Fa%3E%09Quarterly%0Af_marketing_country_postal_person_ethnic_code_non_europe_prc_8c825cdd%092.2043%090.0%0983.1896551724138%090.1252,%200.3747,%201.0%09Upgini%09Public%20customer%20profile%09Quarterly%0Af_autofe_div_bb4ce57711%092.1399%090.0%0995.6896551724138%0911.9194,%20561.4679,%20130.7484%09Upgini%09AutoFE%3A%20features%20from%20%3Ca%20href%3D%27https%3A%2F%2Fupgini.com%2F%23data_sources%27%20target%3D%27_blank%27%20rel%3D%27noopener%20noreferrer%27%3EPOI%20data%20OpenStreetMap%3C%2Fa%3E%09Quarterly%0Af_telecom_country_postal_cells_UMTS_10km_range_avg_9dcf0c9e%092.1097%090.0%0996.98275862068965%093476.5716,%201557.6053,%204090.918...%09Upgini%09World%20mobile%20network%20coverage%09Quarterly%0Af_company_txt_4c5666_org_emb_autofe_emb_outlier_dist_all_49907a2062%092.0522%090.0%09100.0%0916.5912,%2018.7222,%2014.0203%09Upgini%09AutoFE%3A%20feature%20from%20LLM%20with%20external%20data%20augmentation%09Daily%0Af_avg_lat_ms_to_history_a084d607%091.6616%090.0%0996.98275862068965%092.4444,%200.6667,%200.3571%09Ookla%20Speedtest%09okla%20open%20data%09Quarterly%0Af_autofe_sim_jw1_22754eb785%091.6137%090.0%09100.0%090.5177,%200.4604,%200.5281%09Training%20dataset%09AutoFE%3A%20features%20from%20Training%20dataset%09%0Af_autofe_mul_95d464525a%091.3726%090.0%0984.48275862068965%09608.0,%2029.0,%2084.0%09Upgini%09AutoFE%3A%20features%20from%20%3Ca%20href%3D%27https%3A%2F%2Fupgini.com%2F%23data_sources%27%20target%3D%27_blank%27%20rel%3D%27noopener%20noreferrer%27%3EWorld%20demographic%20data%3C%2Fa%3E,%3Ca%20href%3D%27https%3A%2F%2Fupgini.com%2F%23data_sources%27%20target%3D%27_blank%27%20rel%3D%27noopener%20noreferrer%27%3EPOI%20data%20OpenStreetMap%3C%2Fa%3E%09Quarterly%0Af_avg_lat_ms_to_history_bea1030b%091.3158%090.0%0996.98275862068965%090.193,%200.2889,%200.8049%09Ookla%20Speedtest%09okla%20open%20data%09Quarterly%0Af_autofe_dist_5a4ff26466%091.2568%090.0%0996.98275862068965%090.5466,%200.7736,%200.7613%09Upgini%09AutoFE%3A%20features%20from%20LLM%20with%20external%20data%20augmentation,%3Ca%20href%3D%27https%3A%2F%2Fupgini.com%2F%23data_sources%27%20target%3D%27_blank%27%20rel%3D%27noopener%20noreferrer%27%3EWorld%20demographic%20data%3C%2Fa%3E%09Daily%0Af_telecom_country_postal_cells_20km_samples_avg_80024d9e%090.9521%090.0%0996.98275862068965%09388.7165,%20544.9669,%20669.0298%09Upgini%09World%20mobile%20network%20coverage%09Quarterly%0A'>\n",
              "                    <button>📨 Share</button>\n",
              "                </a>\n",
              "            </div>\n",
              "            <table class='upgini-df'><thead><th>Feature name</th><th>SHAP value</th><th>Coverage %</th><th>Value preview</th><th>Provider</th><th>Source</th><th>Updates</th></thead><tbody><tr><td class='upgini-text'>job_simp</td><td class='upgini-number'>7.0045</td><td class='upgini-number'>100.0000</td><td class='upgini-text'>director, na, mle</td><td class='upgini-text'>&nbsp;</td><td class='upgini-text'>&nbsp;</td><td class='upgini-text'>&nbsp;</td></tr><tr><td class='upgini-text'>f_autofe_sim_jw2_fe9c7bc0f8</td><td class='upgini-number'>4.5540</td><td class='upgini-number'>100.0000</td><td class='upgini-text'>0.4951, 0.4653, 0.5196</td><td class='upgini-text'>Training dataset</td><td class='upgini-text'>AutoFE: features from Training dataset</td><td class='upgini-text'>&nbsp;</td></tr><tr><td class='upgini-text'>f_autofe_div_32bb85fdeb</td><td class='upgini-number'>2.8315</td><td class='upgini-number'>96.9828</td><td class='upgini-text'>41120.5452, 37013.3994, 21011....</td><td class='upgini-text'><a href='https://upgini.com/' target='_blank' rel='noopener noreferrer'>Upgini</a></td><td class='upgini-text'>AutoFE: features from <a href='https://upgini.com/#data_sources' target='_blank' rel='noopener noreferrer'>World mobile network coverage</a></td><td class='upgini-text'>Quarterly</td></tr><tr><td class='upgini-text'>f_telecom_country_postal_cells_UMTS_20km_range_stddev_c850530d</td><td class='upgini-number'>2.3359</td><td class='upgini-number'>96.9828</td><td class='upgini-text'>8465.557, 3471.5939, 12162.449...</td><td class='upgini-text'><a href='https://www.upgini.com' target='_blank' rel='noopener noreferrer'>Upgini</a></td><td class='upgini-text'><a href='https://upgini.com/#data_sources' target='_blank' rel='noopener noreferrer'>World mobile network coverage</a></td><td class='upgini-text'>Quarterly</td></tr><tr><td class='upgini-text'>f_autofe_div_ccdcaa4174</td><td class='upgini-number'>2.2362</td><td class='upgini-number'>74.3534</td><td class='upgini-text'>5914.3989, 2853.9094, 667.8693</td><td class='upgini-text'><a href='https://upgini.com/' target='_blank' rel='noopener noreferrer'>Upgini</a></td><td class='upgini-text'>AutoFE: features from <a href='https://upgini.com/#data_sources' target='_blank' rel='noopener noreferrer'>POI data OpenStreetMap</a></td><td class='upgini-text'>Quarterly</td></tr><tr><td class='upgini-text'>f_marketing_country_postal_person_ethnic_code_non_europe_prc_8c825cdd</td><td class='upgini-number'>2.2043</td><td class='upgini-number'>83.1897</td><td class='upgini-text'>0.1252, 0.3747, 1.0</td><td class='upgini-text'><a href='https://www.upgini.com' target='_blank' rel='noopener noreferrer'>Upgini</a></td><td class='upgini-text'><a href='https://upgini.com/#data_sources' target='_blank' rel='noopener noreferrer'>Public customer profile</a></td><td class='upgini-text'>Quarterly</td></tr><tr><td class='upgini-text'>f_autofe_div_bb4ce57711</td><td class='upgini-number'>2.1399</td><td class='upgini-number'>95.6897</td><td class='upgini-text'>11.9194, 561.4679, 130.7484</td><td class='upgini-text'><a href='https://upgini.com/' target='_blank' rel='noopener noreferrer'>Upgini</a></td><td class='upgini-text'>AutoFE: features from <a href='https://upgini.com/#data_sources' target='_blank' rel='noopener noreferrer'>POI data OpenStreetMap</a></td><td class='upgini-text'>Quarterly</td></tr><tr><td class='upgini-text'>f_telecom_country_postal_cells_UMTS_10km_range_avg_9dcf0c9e</td><td class='upgini-number'>2.1097</td><td class='upgini-number'>96.9828</td><td class='upgini-text'>3476.5716, 1557.6053, 4090.918...</td><td class='upgini-text'><a href='https://www.upgini.com' target='_blank' rel='noopener noreferrer'>Upgini</a></td><td class='upgini-text'><a href='https://upgini.com/#data_sources' target='_blank' rel='noopener noreferrer'>World mobile network coverage</a></td><td class='upgini-text'>Quarterly</td></tr><tr><td class='upgini-text'>f_company_txt_4c5666_org_emb_autofe_emb_outlier_dist_all_49907a2062</td><td class='upgini-number'>2.0522</td><td class='upgini-number'>100.0000</td><td class='upgini-text'>16.5912, 18.7222, 14.0203</td><td class='upgini-text'><a href='https://upgini.com' target='_blank' rel='noopener noreferrer'>Upgini</a></td><td class='upgini-text'>AutoFE: feature from LLM with external data augmentation</td><td class='upgini-text'>Daily</td></tr><tr><td class='upgini-text'>f_avg_lat_ms_to_history_a084d607</td><td class='upgini-number'>1.6616</td><td class='upgini-number'>96.9828</td><td class='upgini-text'>2.4444, 0.6667, 0.3571</td><td class='upgini-text'><a href='https://www.ookla.com/' target='_blank' rel='noopener noreferrer'>Ookla Speedtest</a></td><td class='upgini-text'><a href='https://ookla-open-data.s3.amazonaws.com' target='_blank' rel='noopener noreferrer'>okla open data</a></td><td class='upgini-text'>Quarterly</td></tr><tr><td class='upgini-text'>f_autofe_sim_jw1_22754eb785</td><td class='upgini-number'>1.6137</td><td class='upgini-number'>100.0000</td><td class='upgini-text'>0.5177, 0.4604, 0.5281</td><td class='upgini-text'>Training dataset</td><td class='upgini-text'>AutoFE: features from Training dataset</td><td class='upgini-text'>&nbsp;</td></tr><tr><td class='upgini-text'>f_autofe_mul_95d464525a</td><td class='upgini-number'>1.3726</td><td class='upgini-number'>84.4828</td><td class='upgini-text'>608.0, 29.0, 84.0</td><td class='upgini-text'><a href='https://upgini.com/' target='_blank' rel='noopener noreferrer'>Upgini</a></td><td class='upgini-text'>AutoFE: features from <a href='https://upgini.com/#data_sources' target='_blank' rel='noopener noreferrer'>World demographic data</a>,<a href='https://upgini.com/#data_sources' target='_blank' rel='noopener noreferrer'>POI data OpenStreetMap</a></td><td class='upgini-text'>Quarterly</td></tr><tr><td class='upgini-text'>f_avg_lat_ms_to_history_bea1030b</td><td class='upgini-number'>1.3158</td><td class='upgini-number'>96.9828</td><td class='upgini-text'>0.193, 0.2889, 0.8049</td><td class='upgini-text'><a href='https://www.ookla.com/' target='_blank' rel='noopener noreferrer'>Ookla Speedtest</a></td><td class='upgini-text'><a href='https://ookla-open-data.s3.amazonaws.com' target='_blank' rel='noopener noreferrer'>okla open data</a></td><td class='upgini-text'>Quarterly</td></tr><tr><td class='upgini-text'>f_autofe_dist_5a4ff26466</td><td class='upgini-number'>1.2568</td><td class='upgini-number'>96.9828</td><td class='upgini-text'>0.5466, 0.7736, 0.7613</td><td class='upgini-text'><a href='https://www.upgini.com' target='_blank' rel='noopener noreferrer'>Upgini</a></td><td class='upgini-text'>AutoFE: features from LLM with external data augmentation,<a href='https://upgini.com/#data_sources' target='_blank' rel='noopener noreferrer'>World demographic data</a></td><td class='upgini-text'>Daily</td></tr><tr><td class='upgini-text'>f_telecom_country_postal_cells_20km_samples_avg_80024d9e</td><td class='upgini-number'>0.9521</td><td class='upgini-number'>96.9828</td><td class='upgini-text'>388.7165, 544.9669, 669.0298</td><td class='upgini-text'><a href='https://www.upgini.com' target='_blank' rel='noopener noreferrer'>Upgini</a></td><td class='upgini-text'><a href='https://upgini.com/#data_sources' target='_blank' rel='noopener noreferrer'>World mobile network coverage</a></td><td class='upgini-text'>Quarterly</td></tr></tbody></table>\n",
              "        </div>\n",
              "        "
            ]
          },
          "metadata": {}
        },
        {
          "output_type": "display_data",
          "data": {
            "text/plain": [
              "<IPython.core.display.HTML object>"
            ],
            "text/html": [
              "<style>\n",
              "            .upgini-df thead th {\n",
              "                font-weight:bold;\n",
              "                text-align: center;\n",
              "                padding: 0.5em;\n",
              "                border-bottom: 2px solid black;\n",
              "            }\n",
              "\n",
              "            .upgini-df tbody td {\n",
              "                padding: 0.5em;\n",
              "                color: black;\n",
              "            }\n",
              "\n",
              "            .upgini-df tbody tr:nth-child(odd) {\n",
              "                background-color: #ffffff;\n",
              "            }\n",
              "\n",
              "            .upgini-df tbody tr:nth-child(even) {\n",
              "                background-color: #f2f2f2;\n",
              "            }\n",
              "\n",
              "            .upgini-text {\n",
              "                text-align: left;\n",
              "            }\n",
              "\n",
              "            .upgini-number {\n",
              "                text-align: center;\n",
              "            }\n",
              "        </style>\n",
              "        <h2>Relevant data sources</h2>\n",
              "        <div style=\"display:flex; flex-direction:column; align-items:flex-end; width: fit-content;\">\n",
              "            \n",
              "            <div style=\"text-align: right\">\n",
              "                <button onclick=navigator.clipboard.writeText(decodeURI('Provider%09Source%09All%20features%20SHAP%09Number%20of%20relevant%20features%0ATraining%20dataset%09AutoFE%3A%20features%20from%20Training%20dataset%096.1677%092%0AUpgini%09World%20mobile%20network%20coverage%095.3977%093%0AUpgini%09AutoFE%3A%20features%20from%20%3Ca%20href%3D%27https%3A%2F%2Fupgini.com%2F%23data_sources%27%20target%3D%27_blank%27%20rel%3D%27noopener%20noreferrer%27%3EPOI%20data%20OpenStreetMap%3C%2Fa%3E%094.3761%092%0AOokla%20Speedtest%09okla%20open%20data%092.9774000000000003%092%0AUpgini%09AutoFE%3A%20features%20from%20%3Ca%20href%3D%27https%3A%2F%2Fupgini.com%2F%23data_sources%27%20target%3D%27_blank%27%20rel%3D%27noopener%20noreferrer%27%3EWorld%20mobile%20network%20coverage%3C%2Fa%3E%092.8315%091%0AUpgini%09Public%20customer%20profile%092.2043%091%0AUpgini%09AutoFE%3A%20feature%20from%20LLM%20with%20external%20data%20augmentation%092.0522%091%0AUpgini%09AutoFE%3A%20features%20from%20%3Ca%20href%3D%27https%3A%2F%2Fupgini.com%2F%23data_sources%27%20target%3D%27_blank%27%20rel%3D%27noopener%20noreferrer%27%3EWorld%20demographic%20data%3C%2Fa%3E,%3Ca%20href%3D%27https%3A%2F%2Fupgini.com%2F%23data_sources%27%20target%3D%27_blank%27%20rel%3D%27noopener%20noreferrer%27%3EPOI%20data%20OpenStreetMap%3C%2Fa%3E%091.3726%091%0AUpgini%09AutoFE%3A%20features%20from%20LLM%20with%20external%20data%20augmentation,%3Ca%20href%3D%27https%3A%2F%2Fupgini.com%2F%23data_sources%27%20target%3D%27_blank%27%20rel%3D%27noopener%20noreferrer%27%3EWorld%20demographic%20data%3C%2Fa%3E%091.2568%091%0A'))>📂 Copy</button>\n",
              "                <a href='mailto:<Share with...>?subject=Relevant external data sources from Upgini.com&body=Provider%09Source%09All%20features%20SHAP%09Number%20of%20relevant%20features%0ATraining%20dataset%09AutoFE%3A%20features%20from%20Training%20dataset%096.1677%092%0AUpgini%09World%20mobile%20network%20coverage%095.3977%093%0AUpgini%09AutoFE%3A%20features%20from%20%3Ca%20href%3D%27https%3A%2F%2Fupgini.com%2F%23data_sources%27%20target%3D%27_blank%27%20rel%3D%27noopener%20noreferrer%27%3EPOI%20data%20OpenStreetMap%3C%2Fa%3E%094.3761%092%0AOokla%20Speedtest%09okla%20open%20data%092.9774000000000003%092%0AUpgini%09AutoFE%3A%20features%20from%20%3Ca%20href%3D%27https%3A%2F%2Fupgini.com%2F%23data_sources%27%20target%3D%27_blank%27%20rel%3D%27noopener%20noreferrer%27%3EWorld%20mobile%20network%20coverage%3C%2Fa%3E%092.8315%091%0AUpgini%09Public%20customer%20profile%092.2043%091%0AUpgini%09AutoFE%3A%20feature%20from%20LLM%20with%20external%20data%20augmentation%092.0522%091%0AUpgini%09AutoFE%3A%20features%20from%20%3Ca%20href%3D%27https%3A%2F%2Fupgini.com%2F%23data_sources%27%20target%3D%27_blank%27%20rel%3D%27noopener%20noreferrer%27%3EWorld%20demographic%20data%3C%2Fa%3E,%3Ca%20href%3D%27https%3A%2F%2Fupgini.com%2F%23data_sources%27%20target%3D%27_blank%27%20rel%3D%27noopener%20noreferrer%27%3EPOI%20data%20OpenStreetMap%3C%2Fa%3E%091.3726%091%0AUpgini%09AutoFE%3A%20features%20from%20LLM%20with%20external%20data%20augmentation,%3Ca%20href%3D%27https%3A%2F%2Fupgini.com%2F%23data_sources%27%20target%3D%27_blank%27%20rel%3D%27noopener%20noreferrer%27%3EWorld%20demographic%20data%3C%2Fa%3E%091.2568%091%0A'>\n",
              "                    <button>📨 Share</button>\n",
              "                </a>\n",
              "            </div>\n",
              "            <table class='upgini-df'><thead><th>Provider</th><th>Source</th><th>All features SHAP</th><th>Number of relevant features</th></thead><tbody><tr><td class='upgini-text'>Training dataset</td><td class='upgini-text'>AutoFE: features from Training dataset</td><td class='upgini-number'>6.1677</td><td class='upgini-number'>2</td></tr><tr><td class='upgini-text'><a href='https://www.upgini.com' target='_blank' rel='noopener noreferrer'>Upgini</a></td><td class='upgini-text'><a href='https://upgini.com/#data_sources' target='_blank' rel='noopener noreferrer'>World mobile network coverage</a></td><td class='upgini-number'>5.3977</td><td class='upgini-number'>3</td></tr><tr><td class='upgini-text'><a href='https://upgini.com/' target='_blank' rel='noopener noreferrer'>Upgini</a></td><td class='upgini-text'>AutoFE: features from <a href='https://upgini.com/#data_sources' target='_blank' rel='noopener noreferrer'>POI data OpenStreetMap</a></td><td class='upgini-number'>4.3761</td><td class='upgini-number'>2</td></tr><tr><td class='upgini-text'><a href='https://www.ookla.com/' target='_blank' rel='noopener noreferrer'>Ookla Speedtest</a></td><td class='upgini-text'><a href='https://ookla-open-data.s3.amazonaws.com' target='_blank' rel='noopener noreferrer'>okla open data</a></td><td class='upgini-number'>2.9774</td><td class='upgini-number'>2</td></tr><tr><td class='upgini-text'><a href='https://upgini.com/' target='_blank' rel='noopener noreferrer'>Upgini</a></td><td class='upgini-text'>AutoFE: features from <a href='https://upgini.com/#data_sources' target='_blank' rel='noopener noreferrer'>World mobile network coverage</a></td><td class='upgini-number'>2.8315</td><td class='upgini-number'>1</td></tr><tr><td class='upgini-text'><a href='https://www.upgini.com' target='_blank' rel='noopener noreferrer'>Upgini</a></td><td class='upgini-text'><a href='https://upgini.com/#data_sources' target='_blank' rel='noopener noreferrer'>Public customer profile</a></td><td class='upgini-number'>2.2043</td><td class='upgini-number'>1</td></tr><tr><td class='upgini-text'><a href='https://upgini.com' target='_blank' rel='noopener noreferrer'>Upgini</a></td><td class='upgini-text'>AutoFE: feature from LLM with external data augmentation</td><td class='upgini-number'>2.0522</td><td class='upgini-number'>1</td></tr><tr><td class='upgini-text'><a href='https://upgini.com/' target='_blank' rel='noopener noreferrer'>Upgini</a></td><td class='upgini-text'>AutoFE: features from <a href='https://upgini.com/#data_sources' target='_blank' rel='noopener noreferrer'>World demographic data</a>,<a href='https://upgini.com/#data_sources' target='_blank' rel='noopener noreferrer'>POI data OpenStreetMap</a></td><td class='upgini-number'>1.3726</td><td class='upgini-number'>1</td></tr><tr><td class='upgini-text'><a href='https://www.upgini.com' target='_blank' rel='noopener noreferrer'>Upgini</a></td><td class='upgini-text'>AutoFE: features from LLM with external data augmentation,<a href='https://upgini.com/#data_sources' target='_blank' rel='noopener noreferrer'>World demographic data</a></td><td class='upgini-number'>1.2568</td><td class='upgini-number'>1</td></tr></tbody></table>\n",
              "        </div>\n",
              "        "
            ]
          },
          "metadata": {}
        },
        {
          "output_type": "display_data",
          "data": {
            "text/plain": [
              "<IPython.core.display.HTML object>"
            ],
            "text/html": [
              "<style>\n",
              "            .upgini-df thead th {\n",
              "                font-weight:bold;\n",
              "                text-align: center;\n",
              "                padding: 0.5em;\n",
              "                border-bottom: 2px solid black;\n",
              "            }\n",
              "\n",
              "            .upgini-df tbody td {\n",
              "                padding: 0.5em;\n",
              "                color: black;\n",
              "            }\n",
              "\n",
              "            .upgini-df tbody tr:nth-child(odd) {\n",
              "                background-color: #ffffff;\n",
              "            }\n",
              "\n",
              "            .upgini-df tbody tr:nth-child(even) {\n",
              "                background-color: #f2f2f2;\n",
              "            }\n",
              "\n",
              "            .upgini-text {\n",
              "                text-align: left;\n",
              "            }\n",
              "\n",
              "            .upgini-number {\n",
              "                text-align: center;\n",
              "            }\n",
              "        </style>\n",
              "        <h2>*Description of AutoFE feature names</h2>\n",
              "        <div style=\"display:flex; flex-direction:column; align-items:flex-end; width: fit-content;\">\n",
              "            \n",
              "            <div style=\"text-align: right\">\n",
              "                <button onclick=navigator.clipboard.writeText(decodeURI('Sources%09Feature%20name%09Feature%201%09Feature%202%09Function%0ATraining%20dataset%09f_autofe_sim_jw2_fe9c7bc0f8%09job_simp_d49976%09type_of_ownership_a589fc%09sim_jw2%0A%3Ca%20href%3D%27https%3A%2F%2Fupgini.com%2F%23data_sources%27%20target%3D%27_blank%27%20rel%3D%27noopener%20noreferrer%27%3EWorld%20mobile%20network%20coverage%3C%2Fa%3E%09f_autofe_div_32bb85fdeb%09f_telecom_country_postal_cells_LTE_10km_days_from_update_avg_708fde84%09f_telecom_country_postal_cells_UMTS_10km_days_from_update_min_a00c8d95%09%2F,norm%0A%3Ca%20href%3D%27https%3A%2F%2Fupgini.com%2F%23data_sources%27%20target%3D%27_blank%27%20rel%3D%27noopener%20noreferrer%27%3EPOI%20data%20OpenStreetMap%3C%2Fa%3E%09f_autofe_div_ccdcaa4174%09f_location_country_postal_poi_leisure_pitch_2km_cnt_c57fa462%09f_location_country_postal_poi_public_police_2km_cnt_to_population_fed6a74b%09%2F,norm%0A%3Ca%20href%3D%27https%3A%2F%2Fupgini.com%2F%23data_sources%27%20target%3D%27_blank%27%20rel%3D%27noopener%20noreferrer%27%3EPOI%20data%20OpenStreetMap%3C%2Fa%3E%09f_autofe_div_bb4ce57711%09f_location_country_postal_poi_tourism_tourist_map_10km_cnt_bc05acc3%09f_location_country_postal_poi_public_police_10km_cnt_to_population_5f94f54b%09%2F,norm%0ALLM%20with%20external%20data%20augmentation%09f_company_txt_4c5666_org_emb_autofe_emb_outlier_dist_all_49907a2062%09company_txt_4c5666_org_emb%09%09emb,outlier_dist_all%0ATraining%20dataset%09f_autofe_sim_jw1_22754eb785%09industry_b44484%09type_of_ownership_a589fc%09sim_jw1%0A%3Ca%20href%3D%27https%3A%2F%2Fupgini.com%2F%23data_sources%27%20target%3D%27_blank%27%20rel%3D%27noopener%20noreferrer%27%3EWorld%20demographic%20data%3C%2Fa%3E,%3Ca%20href%3D%27https%3A%2F%2Fupgini.com%2F%23data_sources%27%20target%3D%27_blank%27%20rel%3D%27noopener%20noreferrer%27%3EPOI%20data%20OpenStreetMap%3C%2Fa%3E%09f_autofe_mul_95d464525a%09f_location_country_postal_b01001e43_05df4697%09f_location_country_postal_poi_public_kindergarten_10km_cnt_568440d3%09%2A%0ALLM%20with%20external%20data%20augmentation,%3Ca%20href%3D%27https%3A%2F%2Fupgini.com%2F%23data_sources%27%20target%3D%27_blank%27%20rel%3D%27noopener%20noreferrer%27%3EWorld%20demographic%20data%3C%2Fa%3E%09f_autofe_dist_5a4ff26466%09company_txt_4c5666_org_emb%09f_location_country_postal_region_capital_city_name_489f3ce8%09dist,emb%0A'))>📂 Copy</button>\n",
              "                <a href='mailto:<Share with...>?subject=Relevant external data sources from Upgini.com&body=Sources%09Feature%20name%09Feature%201%09Feature%202%09Function%0ATraining%20dataset%09f_autofe_sim_jw2_fe9c7bc0f8%09job_simp_d49976%09type_of_ownership_a589fc%09sim_jw2%0A%3Ca%20href%3D%27https%3A%2F%2Fupgini.com%2F%23data_sources%27%20target%3D%27_blank%27%20rel%3D%27noopener%20noreferrer%27%3EWorld%20mobile%20network%20coverage%3C%2Fa%3E%09f_autofe_div_32bb85fdeb%09f_telecom_country_postal_cells_LTE_10km_days_from_update_avg_708fde84%09f_telecom_country_postal_cells_UMTS_10km_days_from_update_min_a00c8d95%09%2F,norm%0A%3Ca%20href%3D%27https%3A%2F%2Fupgini.com%2F%23data_sources%27%20target%3D%27_blank%27%20rel%3D%27noopener%20noreferrer%27%3EPOI%20data%20OpenStreetMap%3C%2Fa%3E%09f_autofe_div_ccdcaa4174%09f_location_country_postal_poi_leisure_pitch_2km_cnt_c57fa462%09f_location_country_postal_poi_public_police_2km_cnt_to_population_fed6a74b%09%2F,norm%0A%3Ca%20href%3D%27https%3A%2F%2Fupgini.com%2F%23data_sources%27%20target%3D%27_blank%27%20rel%3D%27noopener%20noreferrer%27%3EPOI%20data%20OpenStreetMap%3C%2Fa%3E%09f_autofe_div_bb4ce57711%09f_location_country_postal_poi_tourism_tourist_map_10km_cnt_bc05acc3%09f_location_country_postal_poi_public_police_10km_cnt_to_population_5f94f54b%09%2F,norm%0ALLM%20with%20external%20data%20augmentation%09f_company_txt_4c5666_org_emb_autofe_emb_outlier_dist_all_49907a2062%09company_txt_4c5666_org_emb%09%09emb,outlier_dist_all%0ATraining%20dataset%09f_autofe_sim_jw1_22754eb785%09industry_b44484%09type_of_ownership_a589fc%09sim_jw1%0A%3Ca%20href%3D%27https%3A%2F%2Fupgini.com%2F%23data_sources%27%20target%3D%27_blank%27%20rel%3D%27noopener%20noreferrer%27%3EWorld%20demographic%20data%3C%2Fa%3E,%3Ca%20href%3D%27https%3A%2F%2Fupgini.com%2F%23data_sources%27%20target%3D%27_blank%27%20rel%3D%27noopener%20noreferrer%27%3EPOI%20data%20OpenStreetMap%3C%2Fa%3E%09f_autofe_mul_95d464525a%09f_location_country_postal_b01001e43_05df4697%09f_location_country_postal_poi_public_kindergarten_10km_cnt_568440d3%09%2A%0ALLM%20with%20external%20data%20augmentation,%3Ca%20href%3D%27https%3A%2F%2Fupgini.com%2F%23data_sources%27%20target%3D%27_blank%27%20rel%3D%27noopener%20noreferrer%27%3EWorld%20demographic%20data%3C%2Fa%3E%09f_autofe_dist_5a4ff26466%09company_txt_4c5666_org_emb%09f_location_country_postal_region_capital_city_name_489f3ce8%09dist,emb%0A'>\n",
              "                    <button>📨 Share</button>\n",
              "                </a>\n",
              "            </div>\n",
              "            <table class='upgini-df'><thead><th>Sources</th><th>Feature name</th><th>Feature 1</th><th>Feature 2</th><th>Function</th></thead><tbody><tr><td class='upgini-text'>Training dataset</td><td class='upgini-text'>f_autofe_sim_jw2_fe9c7bc0f8</td><td class='upgini-text'>job_simp_d49976</td><td class='upgini-text'>type_of_ownership_a589fc</td><td class='upgini-text'>sim_jw2</td></tr><tr><td class='upgini-text'><a href='https://upgini.com/#data_sources' target='_blank' rel='noopener noreferrer'>World mobile network coverage</a></td><td class='upgini-text'>f_autofe_div_32bb85fdeb</td><td class='upgini-text'>f_telecom_country_postal_cells_LTE_10km_days_from_update_avg_708fde84</td><td class='upgini-text'>f_telecom_country_postal_cells_UMTS_10km_days_from_update_min_a00c8d95</td><td class='upgini-text'>/,norm</td></tr><tr><td class='upgini-text'><a href='https://upgini.com/#data_sources' target='_blank' rel='noopener noreferrer'>POI data OpenStreetMap</a></td><td class='upgini-text'>f_autofe_div_ccdcaa4174</td><td class='upgini-text'>f_location_country_postal_poi_leisure_pitch_2km_cnt_c57fa462</td><td class='upgini-text'>f_location_country_postal_poi_public_police_2km_cnt_to_population_fed6a74b</td><td class='upgini-text'>/,norm</td></tr><tr><td class='upgini-text'><a href='https://upgini.com/#data_sources' target='_blank' rel='noopener noreferrer'>POI data OpenStreetMap</a></td><td class='upgini-text'>f_autofe_div_bb4ce57711</td><td class='upgini-text'>f_location_country_postal_poi_tourism_tourist_map_10km_cnt_bc05acc3</td><td class='upgini-text'>f_location_country_postal_poi_public_police_10km_cnt_to_population_5f94f54b</td><td class='upgini-text'>/,norm</td></tr><tr><td class='upgini-text'>LLM with external data augmentation</td><td class='upgini-text'>f_company_txt_4c5666_org_emb_autofe_emb_outlier_dist_all_49907a2062</td><td class='upgini-text'>company_txt_4c5666_org_emb</td><td class='upgini-text'>&nbsp;</td><td class='upgini-text'>emb,outlier_dist_all</td></tr><tr><td class='upgini-text'>Training dataset</td><td class='upgini-text'>f_autofe_sim_jw1_22754eb785</td><td class='upgini-text'>industry_b44484</td><td class='upgini-text'>type_of_ownership_a589fc</td><td class='upgini-text'>sim_jw1</td></tr><tr><td class='upgini-text'><a href='https://upgini.com/#data_sources' target='_blank' rel='noopener noreferrer'>World demographic data</a>,<a href='https://upgini.com/#data_sources' target='_blank' rel='noopener noreferrer'>POI data OpenStreetMap</a></td><td class='upgini-text'>f_autofe_mul_95d464525a</td><td class='upgini-text'>f_location_country_postal_b01001e43_05df4697</td><td class='upgini-text'>f_location_country_postal_poi_public_kindergarten_10km_cnt_568440d3</td><td class='upgini-text'>*</td></tr><tr><td class='upgini-text'>LLM with external data augmentation,<a href='https://upgini.com/#data_sources' target='_blank' rel='noopener noreferrer'>World demographic data</a></td><td class='upgini-text'>f_autofe_dist_5a4ff26466</td><td class='upgini-text'>company_txt_4c5666_org_emb</td><td class='upgini-text'>f_location_country_postal_region_capital_city_name_489f3ce8</td><td class='upgini-text'>dist,emb</td></tr></tbody></table>\n",
              "        </div>\n",
              "        "
            ]
          },
          "metadata": {}
        },
        {
          "output_type": "stream",
          "name": "stdout",
          "text": [
            "Calculating accuracy uplift after enrichment...\n"
          ]
        },
        {
          "output_type": "display_data",
          "data": {
            "text/plain": [
              "<IPython.core.display.HTML object>"
            ],
            "text/html": [
              "<style>\n",
              "            .upgini-df thead th {\n",
              "                font-weight:bold;\n",
              "                text-align: center;\n",
              "                padding: 0.5em;\n",
              "                border-bottom: 2px solid black;\n",
              "            }\n",
              "\n",
              "            .upgini-df tbody td {\n",
              "                padding: 0.5em;\n",
              "                color: black;\n",
              "            }\n",
              "\n",
              "            .upgini-df tbody tr:nth-child(odd) {\n",
              "                background-color: #ffffff;\n",
              "            }\n",
              "\n",
              "            .upgini-df tbody tr:nth-child(even) {\n",
              "                background-color: #f2f2f2;\n",
              "            }\n",
              "\n",
              "            .upgini-text {\n",
              "                text-align: left;\n",
              "            }\n",
              "\n",
              "            .upgini-number {\n",
              "                text-align: center;\n",
              "            }\n",
              "        </style>\n",
              "        <h2>Accuracy after enrichment</h2>\n",
              "        <div style=\"display:flex; flex-direction:column; align-items:flex-end; width: fit-content;\">\n",
              "            \n",
              "            <div style=\"text-align: right\">\n",
              "                <button onclick=navigator.clipboard.writeText(decodeURI('Dataset%20type%09Rows%09Mean%20target%09Baseline%20mean_absolute_error%09Enriched%20mean_absolute_error%09Uplift,%20abs%09Uplift,%20%25%0ATrain%09464%09100.7802%0924.482%20%C2%B1%201.016%0922.030%20%C2%B1%200.940%092.453%0910.0%25%0A'))>📂 Copy</button>\n",
              "                <a href='mailto:<Share with...>?subject=Relevant external data sources from Upgini.com&body=Dataset%20type%09Rows%09Mean%20target%09Baseline%20mean_absolute_error%09Enriched%20mean_absolute_error%09Uplift,%20abs%09Uplift,%20%25%0ATrain%09464%09100.7802%0924.482%20%C2%B1%201.016%0922.030%20%C2%B1%200.940%092.453%0910.0%25%0A'>\n",
              "                    <button>📨 Share</button>\n",
              "                </a>\n",
              "            </div>\n",
              "            <table class='upgini-df'><thead><th>Dataset type</th><th>Rows</th><th>Mean target</th><th>Baseline mean_absolute_error</th><th>Enriched mean_absolute_error</th><th>Uplift, abs</th><th>Uplift, %</th></thead><tbody><tr><td class='upgini-text'>Train</td><td class='upgini-number'>464</td><td class='upgini-number'>100.7802</td><td class='upgini-text'>24.482 ± 1.016</td><td class='upgini-text'>22.030 ± 0.940</td><td class='upgini-number'>2.4530</td><td class='upgini-text'>10.0%</td></tr></tbody></table>\n",
              "        </div>\n",
              "        "
            ]
          },
          "metadata": {}
        },
        {
          "output_type": "display_data",
          "data": {
            "text/plain": [
              "<IPython.core.display.HTML object>"
            ],
            "text/html": [
              "<a download=\"upgini-report-9f83c959-1080-48d1-b142-be1291227513.pdf\" href=\"data:application/pdf;base64,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\" target=\"_blank\">\n",
              "        <button>📊 Download PDF report</button></a>"
            ]
          },
          "metadata": {}
        }
      ],
      "source": [
        "train_features = df.drop(['avg_salary'], axis=1)\n",
        "train_target = df.avg_salary\n",
        "enriched_train_features = enricher.fit(\n",
        "    train_features,\n",
        "    train_target,\n",
        "    scoring = \"mean_absolute_error\")"
      ]
    },
    {
      "cell_type": "markdown",
      "metadata": {
        "id": "uq1EUN32c7gt"
      },
      "source": [
        "We've got **10+ new relevant features** from:\n",
        "- Various sources  [automatically optimized by Upgini](https://upgini.com/#optimized_external_data) such as [World demographic & census data, World mobile network coverage, Location/Places/POI/Area/Proximity data from OpenStreetMap](https://github.com/upgini/upgini#-connected-data-sources-and-coverage)\n",
        "- Automated feature generation for two selected text columns `'combined', 'company_txt'` with [Large Language Models' data augmentation](https://upgini.com/#large_language_models)\n",
        "\n",
        "All ranked by [SHAP values](https://en.wikipedia.org/wiki/Shapley_value).\n",
        "\n",
        "Initial features from the training dataset will also be checked for relevancy, so you don't need an extra feature selection step.\n",
        "\n",
        "Also, `FeaturesEnricher` automaticaly calculates model metrics and uplift from new relevant features using default `calculate_metrics=True` parameter in `fit()` or `fit_transform()` methods.  \n",
        "For this, you can use any estimator with scikit-learn compartible interface with `estimator` and define custom model metrics with `scoring`. More details [here](https://github.com/upgini/upgini#-accuracy-and-uplift-metrics-calculations)\n",
        "\n",
        "Result of search & enrichment request:\n",
        "\n",
        "⭐️ Enrcihed pandas dataframe **with 10+ new relevant features** `enriched_train_features`  \n",
        "⭐️ Calculated accuracy Uplift after enrichment: from 22.9 BEFORE  to 22.3 AFTER for a basic **non task-optimized ML model**; MAE - mean absolute error, less is better\n",
        ">💡 You can also enrich production ML pipelines, more details [here](https://github.com/upgini/upgini#6--enrich-production-ml-pipeline-with-relevant-external-features)"
      ]
    },
    {
      "cell_type": "markdown",
      "metadata": {
        "id": "PaNjfBOKo12-"
      },
      "source": [
        "## ✅ Retrain model with enriched training dataset\n",
        "\n",
        "Now, you can use an enriched dataframe to train a more accurate, **task-optimized ML model** in your existing ML pipeline.   \n",
        "As example, let's take `CatBoostRegressor`."
      ]
    },
    {
      "cell_type": "code",
      "execution_count": 8,
      "metadata": {
        "colab": {
          "base_uri": "https://localhost:8080/",
          "height": 397
        },
        "id": "wtVSVBnXASc7",
        "outputId": "85baf508-6d25-4593-e1b1-f7c8d5ba38b9"
      },
      "outputs": [
        {
          "output_type": "display_data",
          "data": {
            "text/plain": [
              "[============================================================] 100% Finished"
            ],
            "text/html": [
              "<progress style='width:60ex' max='100' value='100'></progress>  100% Finished</br>"
            ]
          },
          "metadata": {}
        },
        {
          "output_type": "stream",
          "name": "stdout",
          "text": [
            "You use Trial access to Upgini data enrichment. Limit for Trial: 1000 rows. You have already enriched: 0 rows.\n"
          ]
        },
        {
          "output_type": "display_data",
          "data": {
            "text/plain": [
              "<IPython.core.display.HTML object>"
            ],
            "text/html": [
              "<table><tr><th style='font-weight:bold'>Column name</th><th style='font-weight:bold'>Status</th><th style='font-weight:bold'>Errors</th></tr><tr><td>country</td><td style='background-color:#DAF7A6;color:black'>All valid</td><td>-</td></tr><tr><td>current_date</td><td style='background-color:#DAF7A6;color:black'>All valid</td><td>-</td></tr><tr><td>Postal_code</td><td style='background-color:#FFC300;color:black'>Some invalid</td><td>2.41% values failed validation and removed from dataframe, invalid values: [&lt;NA&gt;]</td></tr></table>"
            ]
          },
          "metadata": {}
        },
        {
          "output_type": "stream",
          "name": "stdout",
          "text": [
            "\n",
            "\n",
            "Running transform request, id=dc9ab7f3-f940-447d-b4b0-998f02e08316\n",
            "We'll send email notification once it's completed, just use your personal api_key from profile.upgini.com\n",
            "\n",
            "Retrieving selected features from data sources...\n"
          ]
        },
        {
          "output_type": "execute_result",
          "data": {
            "text/plain": [
              "         job_simp  desc_len Postal_code country  target  \\\n",
              "0  data scientist      2536       87102      US    72.0   \n",
              "1  data scientist      4783       21090      US    87.5   \n",
              "\n",
              "   f_marketing_country_postal_person_ethnic_code_non_europe_prc_8c825cdd  \\\n",
              "0                                                               0.070180   \n",
              "1                                                               0.152481   \n",
              "\n",
              "   f_avg_lat_ms_to_history_bea1030b  f_avg_lat_ms_to_history_a084d607  \\\n",
              "0                          0.558824                          0.909091   \n",
              "1                          0.612903                          0.500000   \n",
              "\n",
              "   f_telecom_country_postal_cells_UMTS_20km_range_stddev_c850530d  \\\n",
              "0                                                    11660.630246   \n",
              "1                                                    15182.660656   \n",
              "\n",
              "   f_telecom_country_postal_cells_20km_samples_avg_80024d9e  \\\n",
              "0                                               1097.624628   \n",
              "1                                                812.480826   \n",
              "\n",
              "   f_telecom_country_postal_cells_UMTS_10km_range_avg_9dcf0c9e  \\\n",
              "0                                                  4894.663616   \n",
              "1                                                  6139.380261   \n",
              "\n",
              "   f_autofe_div_32bb85fdeb  f_autofe_mul_95d464525a  f_autofe_div_bb4ce57711  \\\n",
              "0             34113.280695                    888.0                 0.000000   \n",
              "1             39386.896500                    935.0                56.748444   \n",
              "\n",
              "   f_autofe_div_ccdcaa4174  f_autofe_dist_5a4ff26466  \\\n",
              "0               684.643303                  0.693521   \n",
              "1                      NaN                  0.625486   \n",
              "\n",
              "   f_company_txt_4c5666_org_emb_autofe_emb_outlier_dist_all_49907a2062  \\\n",
              "0                                                            18.586511   \n",
              "1                                                            17.638172   \n",
              "\n",
              "   f_autofe_sim_jw1_22754eb785  f_autofe_sim_jw2_fe9c7bc0f8  \n",
              "0                     0.500688                     0.482726  \n",
              "1                     0.541667                     0.546958  "
            ],
            "text/html": [
              "\n",
              "  <div id=\"df-9010cb0c-a32e-41d1-9f6d-e01cce34a9e4\" class=\"colab-df-container\">\n",
              "    <div>\n",
              "<style scoped>\n",
              "    .dataframe tbody tr th:only-of-type {\n",
              "        vertical-align: middle;\n",
              "    }\n",
              "\n",
              "    .dataframe tbody tr th {\n",
              "        vertical-align: top;\n",
              "    }\n",
              "\n",
              "    .dataframe thead th {\n",
              "        text-align: right;\n",
              "    }\n",
              "</style>\n",
              "<table border=\"1\" class=\"dataframe\">\n",
              "  <thead>\n",
              "    <tr style=\"text-align: right;\">\n",
              "      <th></th>\n",
              "      <th>job_simp</th>\n",
              "      <th>desc_len</th>\n",
              "      <th>Postal_code</th>\n",
              "      <th>country</th>\n",
              "      <th>target</th>\n",
              "      <th>f_marketing_country_postal_person_ethnic_code_non_europe_prc_8c825cdd</th>\n",
              "      <th>f_avg_lat_ms_to_history_bea1030b</th>\n",
              "      <th>f_avg_lat_ms_to_history_a084d607</th>\n",
              "      <th>f_telecom_country_postal_cells_UMTS_20km_range_stddev_c850530d</th>\n",
              "      <th>f_telecom_country_postal_cells_20km_samples_avg_80024d9e</th>\n",
              "      <th>f_telecom_country_postal_cells_UMTS_10km_range_avg_9dcf0c9e</th>\n",
              "      <th>f_autofe_div_32bb85fdeb</th>\n",
              "      <th>f_autofe_mul_95d464525a</th>\n",
              "      <th>f_autofe_div_bb4ce57711</th>\n",
              "      <th>f_autofe_div_ccdcaa4174</th>\n",
              "      <th>f_autofe_dist_5a4ff26466</th>\n",
              "      <th>f_company_txt_4c5666_org_emb_autofe_emb_outlier_dist_all_49907a2062</th>\n",
              "      <th>f_autofe_sim_jw1_22754eb785</th>\n",
              "      <th>f_autofe_sim_jw2_fe9c7bc0f8</th>\n",
              "    </tr>\n",
              "  </thead>\n",
              "  <tbody>\n",
              "    <tr>\n",
              "      <th>0</th>\n",
              "      <td>data scientist</td>\n",
              "      <td>2536</td>\n",
              "      <td>87102</td>\n",
              "      <td>US</td>\n",
              "      <td>72.0</td>\n",
              "      <td>0.070180</td>\n",
              "      <td>0.558824</td>\n",
              "      <td>0.909091</td>\n",
              "      <td>11660.630246</td>\n",
              "      <td>1097.624628</td>\n",
              "      <td>4894.663616</td>\n",
              "      <td>34113.280695</td>\n",
              "      <td>888.0</td>\n",
              "      <td>0.000000</td>\n",
              "      <td>684.643303</td>\n",
              "      <td>0.693521</td>\n",
              "      <td>18.586511</td>\n",
              "      <td>0.500688</td>\n",
              "      <td>0.482726</td>\n",
              "    </tr>\n",
              "    <tr>\n",
              "      <th>1</th>\n",
              "      <td>data scientist</td>\n",
              "      <td>4783</td>\n",
              "      <td>21090</td>\n",
              "      <td>US</td>\n",
              "      <td>87.5</td>\n",
              "      <td>0.152481</td>\n",
              "      <td>0.612903</td>\n",
              "      <td>0.500000</td>\n",
              "      <td>15182.660656</td>\n",
              "      <td>812.480826</td>\n",
              "      <td>6139.380261</td>\n",
              "      <td>39386.896500</td>\n",
              "      <td>935.0</td>\n",
              "      <td>56.748444</td>\n",
              "      <td>NaN</td>\n",
              "      <td>0.625486</td>\n",
              "      <td>17.638172</td>\n",
              "      <td>0.541667</td>\n",
              "      <td>0.546958</td>\n",
              "    </tr>\n",
              "  </tbody>\n",
              "</table>\n",
              "</div>\n",
              "    <div class=\"colab-df-buttons\">\n",
              "\n",
              "  <div class=\"colab-df-container\">\n",
              "    <button class=\"colab-df-convert\" onclick=\"convertToInteractive('df-9010cb0c-a32e-41d1-9f6d-e01cce34a9e4')\"\n",
              "            title=\"Convert this dataframe to an interactive table.\"\n",
              "            style=\"display:none;\">\n",
              "\n",
              "  <svg xmlns=\"http://www.w3.org/2000/svg\" height=\"24px\" viewBox=\"0 -960 960 960\">\n",
              "    <path d=\"M120-120v-720h720v720H120Zm60-500h600v-160H180v160Zm220 220h160v-160H400v160Zm0 220h160v-160H400v160ZM180-400h160v-160H180v160Zm440 0h160v-160H620v160ZM180-180h160v-160H180v160Zm440 0h160v-160H620v160Z\"/>\n",
              "  </svg>\n",
              "    </button>\n",
              "\n",
              "  <style>\n",
              "    .colab-df-container {\n",
              "      display:flex;\n",
              "      gap: 12px;\n",
              "    }\n",
              "\n",
              "    .colab-df-convert {\n",
              "      background-color: #E8F0FE;\n",
              "      border: none;\n",
              "      border-radius: 50%;\n",
              "      cursor: pointer;\n",
              "      display: none;\n",
              "      fill: #1967D2;\n",
              "      height: 32px;\n",
              "      padding: 0 0 0 0;\n",
              "      width: 32px;\n",
              "    }\n",
              "\n",
              "    .colab-df-convert:hover {\n",
              "      background-color: #E2EBFA;\n",
              "      box-shadow: 0px 1px 2px rgba(60, 64, 67, 0.3), 0px 1px 3px 1px rgba(60, 64, 67, 0.15);\n",
              "      fill: #174EA6;\n",
              "    }\n",
              "\n",
              "    .colab-df-buttons div {\n",
              "      margin-bottom: 4px;\n",
              "    }\n",
              "\n",
              "    [theme=dark] .colab-df-convert {\n",
              "      background-color: #3B4455;\n",
              "      fill: #D2E3FC;\n",
              "    }\n",
              "\n",
              "    [theme=dark] .colab-df-convert:hover {\n",
              "      background-color: #434B5C;\n",
              "      box-shadow: 0px 1px 3px 1px rgba(0, 0, 0, 0.15);\n",
              "      filter: drop-shadow(0px 1px 2px rgba(0, 0, 0, 0.3));\n",
              "      fill: #FFFFFF;\n",
              "    }\n",
              "  </style>\n",
              "\n",
              "    <script>\n",
              "      const buttonEl =\n",
              "        document.querySelector('#df-9010cb0c-a32e-41d1-9f6d-e01cce34a9e4 button.colab-df-convert');\n",
              "      buttonEl.style.display =\n",
              "        google.colab.kernel.accessAllowed ? 'block' : 'none';\n",
              "\n",
              "      async function convertToInteractive(key) {\n",
              "        const element = document.querySelector('#df-9010cb0c-a32e-41d1-9f6d-e01cce34a9e4');\n",
              "        const dataTable =\n",
              "          await google.colab.kernel.invokeFunction('convertToInteractive',\n",
              "                                                    [key], {});\n",
              "        if (!dataTable) return;\n",
              "\n",
              "        const docLinkHtml = 'Like what you see? Visit the ' +\n",
              "          '<a target=\"_blank\" href=https://colab.research.google.com/notebooks/data_table.ipynb>data table notebook</a>'\n",
              "          + ' to learn more about interactive tables.';\n",
              "        element.innerHTML = '';\n",
              "        dataTable['output_type'] = 'display_data';\n",
              "        await google.colab.output.renderOutput(dataTable, element);\n",
              "        const docLink = document.createElement('div');\n",
              "        docLink.innerHTML = docLinkHtml;\n",
              "        element.appendChild(docLink);\n",
              "      }\n",
              "    </script>\n",
              "  </div>\n",
              "\n",
              "\n",
              "    <div id=\"df-0677482d-524f-4e4a-afb2-14fae26c4d4c\">\n",
              "      <button class=\"colab-df-quickchart\" onclick=\"quickchart('df-0677482d-524f-4e4a-afb2-14fae26c4d4c')\"\n",
              "                title=\"Suggest charts\"\n",
              "                style=\"display:none;\">\n",
              "\n",
              "<svg xmlns=\"http://www.w3.org/2000/svg\" height=\"24px\"viewBox=\"0 0 24 24\"\n",
              "     width=\"24px\">\n",
              "    <g>\n",
              "        <path d=\"M19 3H5c-1.1 0-2 .9-2 2v14c0 1.1.9 2 2 2h14c1.1 0 2-.9 2-2V5c0-1.1-.9-2-2-2zM9 17H7v-7h2v7zm4 0h-2V7h2v10zm4 0h-2v-4h2v4z\"/>\n",
              "    </g>\n",
              "</svg>\n",
              "      </button>\n",
              "\n",
              "<style>\n",
              "  .colab-df-quickchart {\n",
              "      --bg-color: #E8F0FE;\n",
              "      --fill-color: #1967D2;\n",
              "      --hover-bg-color: #E2EBFA;\n",
              "      --hover-fill-color: #174EA6;\n",
              "      --disabled-fill-color: #AAA;\n",
              "      --disabled-bg-color: #DDD;\n",
              "  }\n",
              "\n",
              "  [theme=dark] .colab-df-quickchart {\n",
              "      --bg-color: #3B4455;\n",
              "      --fill-color: #D2E3FC;\n",
              "      --hover-bg-color: #434B5C;\n",
              "      --hover-fill-color: #FFFFFF;\n",
              "      --disabled-bg-color: #3B4455;\n",
              "      --disabled-fill-color: #666;\n",
              "  }\n",
              "\n",
              "  .colab-df-quickchart {\n",
              "    background-color: var(--bg-color);\n",
              "    border: none;\n",
              "    border-radius: 50%;\n",
              "    cursor: pointer;\n",
              "    display: none;\n",
              "    fill: var(--fill-color);\n",
              "    height: 32px;\n",
              "    padding: 0;\n",
              "    width: 32px;\n",
              "  }\n",
              "\n",
              "  .colab-df-quickchart:hover {\n",
              "    background-color: var(--hover-bg-color);\n",
              "    box-shadow: 0 1px 2px rgba(60, 64, 67, 0.3), 0 1px 3px 1px rgba(60, 64, 67, 0.15);\n",
              "    fill: var(--button-hover-fill-color);\n",
              "  }\n",
              "\n",
              "  .colab-df-quickchart-complete:disabled,\n",
              "  .colab-df-quickchart-complete:disabled:hover {\n",
              "    background-color: var(--disabled-bg-color);\n",
              "    fill: var(--disabled-fill-color);\n",
              "    box-shadow: none;\n",
              "  }\n",
              "\n",
              "  .colab-df-spinner {\n",
              "    border: 2px solid var(--fill-color);\n",
              "    border-color: transparent;\n",
              "    border-bottom-color: var(--fill-color);\n",
              "    animation:\n",
              "      spin 1s steps(1) infinite;\n",
              "  }\n",
              "\n",
              "  @keyframes spin {\n",
              "    0% {\n",
              "      border-color: transparent;\n",
              "      border-bottom-color: var(--fill-color);\n",
              "      border-left-color: var(--fill-color);\n",
              "    }\n",
              "    20% {\n",
              "      border-color: transparent;\n",
              "      border-left-color: var(--fill-color);\n",
              "      border-top-color: var(--fill-color);\n",
              "    }\n",
              "    30% {\n",
              "      border-color: transparent;\n",
              "      border-left-color: var(--fill-color);\n",
              "      border-top-color: var(--fill-color);\n",
              "      border-right-color: var(--fill-color);\n",
              "    }\n",
              "    40% {\n",
              "      border-color: transparent;\n",
              "      border-right-color: var(--fill-color);\n",
              "      border-top-color: var(--fill-color);\n",
              "    }\n",
              "    60% {\n",
              "      border-color: transparent;\n",
              "      border-right-color: var(--fill-color);\n",
              "    }\n",
              "    80% {\n",
              "      border-color: transparent;\n",
              "      border-right-color: var(--fill-color);\n",
              "      border-bottom-color: var(--fill-color);\n",
              "    }\n",
              "    90% {\n",
              "      border-color: transparent;\n",
              "      border-bottom-color: var(--fill-color);\n",
              "    }\n",
              "  }\n",
              "</style>\n",
              "\n",
              "      <script>\n",
              "        async function quickchart(key) {\n",
              "          const quickchartButtonEl =\n",
              "            document.querySelector('#' + key + ' button');\n",
              "          quickchartButtonEl.disabled = true;  // To prevent multiple clicks.\n",
              "          quickchartButtonEl.classList.add('colab-df-spinner');\n",
              "          try {\n",
              "            const charts = await google.colab.kernel.invokeFunction(\n",
              "                'suggestCharts', [key], {});\n",
              "          } catch (error) {\n",
              "            console.error('Error during call to suggestCharts:', error);\n",
              "          }\n",
              "          quickchartButtonEl.classList.remove('colab-df-spinner');\n",
              "          quickchartButtonEl.classList.add('colab-df-quickchart-complete');\n",
              "        }\n",
              "        (() => {\n",
              "          let quickchartButtonEl =\n",
              "            document.querySelector('#df-0677482d-524f-4e4a-afb2-14fae26c4d4c button');\n",
              "          quickchartButtonEl.style.display =\n",
              "            google.colab.kernel.accessAllowed ? 'block' : 'none';\n",
              "        })();\n",
              "      </script>\n",
              "    </div>\n",
              "\n",
              "    </div>\n",
              "  </div>\n"
            ],
            "application/vnd.google.colaboratory.intrinsic+json": {
              "type": "dataframe",
              "variable_name": "enriched_train_features",
              "summary": "{\n  \"name\": \"enriched_train_features\",\n  \"rows\": 464,\n  \"fields\": [\n    {\n      \"column\": \"job_simp\",\n      \"properties\": {\n        \"dtype\": \"category\",\n        \"num_unique_values\": 7,\n        \"samples\": [\n          \"data scientist\",\n          \"na\",\n          \"manager\"\n        ],\n        \"semantic_type\": \"\",\n        \"description\": \"\"\n      }\n    },\n    {\n      \"column\": \"desc_len\",\n      \"properties\": {\n        \"dtype\": \"number\",\n        \"std\": 1532,\n        \"min\": 407,\n        \"max\": 10051,\n        \"num_unique_values\": 443,\n        \"samples\": [\n          1484,\n          2075,\n          5153\n        ],\n        \"semantic_type\": \"\",\n        \"description\": \"\"\n      }\n    },\n    {\n      \"column\": \"Postal_code\",\n      \"properties\": {\n        \"dtype\": \"category\",\n        \"num_unique_values\": 194,\n        \"samples\": [\n          \"42303\",\n          \"80203\",\n          \"32801\"\n        ],\n        \"semantic_type\": \"\",\n        \"description\": \"\"\n      }\n    },\n    {\n      \"column\": \"country\",\n      \"properties\": {\n        \"dtype\": \"category\",\n        \"num_unique_values\": 1,\n        \"samples\": [\n          \"US\"\n        ],\n        \"semantic_type\": \"\",\n        \"description\": \"\"\n      }\n    },\n    {\n      \"column\": \"target\",\n      \"properties\": {\n        \"dtype\": \"number\",\n        \"std\": 37.32458114483801,\n        \"min\": 13.5,\n        \"max\": 254.0,\n        \"num_unique_values\": 224,\n        \"samples\": [\n          140.0\n        ],\n        \"semantic_type\": \"\",\n        \"description\": \"\"\n      }\n    },\n    {\n      \"column\": \"f_marketing_country_postal_person_ethnic_code_non_europe_prc_8c825cdd\",\n      \"properties\": {\n        \"dtype\": \"number\",\n        \"std\": 0.1143543441233721,\n        \"min\": 0.0,\n        \"max\": 1.0,\n        \"num_unique_values\": 180,\n        \"samples\": [\n          0.1428571428571429\n        ],\n        \"semantic_type\": \"\",\n        \"description\": \"\"\n      }\n    },\n    {\n      \"column\": \"f_avg_lat_ms_to_history_bea1030b\",\n      \"properties\": {\n        \"dtype\": \"number\",\n        \"std\": 7.196220923222195,\n        \"min\": 0.19298245614035087,\n        \"max\": 58.92857142857143,\n        \"num_unique_values\": 166,\n        \"samples\": [\n          1.9583333333333333\n        ],\n        \"semantic_type\": \"\",\n        \"description\": \"\"\n      }\n    },\n    {\n      \"column\": \"f_avg_lat_ms_to_history_a084d607\",\n      \"properties\": {\n        \"dtype\": \"number\",\n        \"std\": 1.1421994690397441,\n        \"min\": 0.26666666666666666,\n        \"max\": 20.857142857142858,\n        \"num_unique_values\": 111,\n        \"samples\": [\n          1.0909090909090908\n        ],\n        \"semantic_type\": \"\",\n        \"description\": \"\"\n      }\n    },\n    {\n      \"column\": \"f_telecom_country_postal_cells_UMTS_20km_range_stddev_c850530d\",\n      \"properties\": {\n        \"dtype\": \"number\",\n        \"std\": 4155.588445565537,\n        \"min\": 2750.5017013877637,\n        \"max\": 21369.04287338467,\n        \"num_unique_values\": 191,\n        \"samples\": [\n          17621.6636940772\n        ],\n        \"semantic_type\": \"\",\n        \"description\": \"\"\n      }\n    },\n    {\n      \"column\": \"f_telecom_country_postal_cells_20km_samples_avg_80024d9e\",\n      \"properties\": {\n        \"dtype\": \"number\",\n        \"std\": 585.460130193472,\n        \"min\": 78.77272727272727,\n        \"max\": 8783.908592644973,\n        \"num_unique_values\": 191,\n        \"samples\": [\n          8783.908592644973\n        ],\n        \"semantic_type\": \"\",\n        \"description\": \"\"\n      }\n    },\n    {\n      \"column\": \"f_telecom_country_postal_cells_UMTS_10km_range_avg_9dcf0c9e\",\n      \"properties\": {\n        \"dtype\": \"number\",\n        \"std\": 2007.1874634134826,\n        \"min\": 530.801724137931,\n        \"max\": 15415.333333333334,\n        \"num_unique_values\": 191,\n        \"samples\": [\n          7065.51906614786\n        ],\n        \"semantic_type\": \"\",\n        \"description\": \"\"\n      }\n    },\n    {\n      \"column\": \"f_autofe_div_32bb85fdeb\",\n      \"properties\": {\n        \"dtype\": \"number\",\n        \"std\": 7199.712201202537,\n        \"min\": 10746.3410622401,\n        \"max\": 50256.270347784295,\n        \"num_unique_values\": 191,\n        \"samples\": [\n          21161.02612422578\n        ],\n        \"semantic_type\": \"\",\n        \"description\": \"\"\n      }\n    },\n    {\n      \"column\": \"f_autofe_mul_95d464525a\",\n      \"properties\": {\n        \"dtype\": \"number\",\n        \"std\": 12413.867458680572,\n        \"min\": 0.0,\n        \"max\": 97600.0,\n        \"num_unique_values\": 157,\n        \"samples\": [\n          768.0\n        ],\n        \"semantic_type\": \"\",\n        \"description\": \"\"\n      }\n    },\n    {\n      \"column\": \"f_autofe_div_bb4ce57711\",\n      \"properties\": {\n        \"dtype\": \"number\",\n        \"std\": 1990.4387339571272,\n        \"min\": 0.0,\n        \"max\": 5617.602109056353,\n        \"num_unique_values\": 142,\n        \"samples\": [\n          271.2361310272155\n        ],\n        \"semantic_type\": \"\",\n        \"description\": \"\"\n      }\n    },\n    {\n      \"column\": \"f_autofe_div_ccdcaa4174\",\n      \"properties\": {\n        \"dtype\": \"number\",\n        \"std\": 4494.796551491757,\n        \"min\": 0.0,\n        \"max\": 15161.317996920336,\n        \"num_unique_values\": 124,\n        \"samples\": [\n          15161.317996920336\n        ],\n        \"semantic_type\": \"\",\n        \"description\": \"\"\n      }\n    },\n    {\n      \"column\": \"f_autofe_dist_5a4ff26466\",\n      \"properties\": {\n        \"dtype\": \"number\",\n        \"std\": 0.074465105210279,\n        \"min\": 0.5466355769801817,\n        \"max\": 0.9358333511132915,\n        \"num_unique_values\": 357,\n        \"samples\": [\n          0.7403615837200184\n        ],\n        \"semantic_type\": \"\",\n        \"description\": \"\"\n      }\n    },\n    {\n      \"column\": \"f_company_txt_4c5666_org_emb_autofe_emb_outlier_dist_all_49907a2062\",\n      \"properties\": {\n        \"dtype\": \"number\",\n        \"std\": 3.6946520090798236,\n        \"min\": 7.378705034265939,\n        \"max\": 19.877016931241574,\n        \"num_unique_values\": 343,\n        \"samples\": [\n          18.947412691038952\n        ],\n        \"semantic_type\": \"\",\n        \"description\": \"\"\n      }\n    },\n    {\n      \"column\": \"f_autofe_sim_jw1_22754eb785\",\n      \"properties\": {\n        \"dtype\": \"number\",\n        \"std\": 0.09874095775898774,\n        \"min\": 0.0,\n        \"max\": 1.0,\n        \"num_unique_values\": 108,\n        \"samples\": [\n          0.4528351881293058\n        ],\n        \"semantic_type\": \"\",\n        \"description\": \"\"\n      }\n    },\n    {\n      \"column\": \"f_autofe_sim_jw2_fe9c7bc0f8\",\n      \"properties\": {\n        \"dtype\": \"number\",\n        \"std\": 0.1350113874102586,\n        \"min\": 0.0,\n        \"max\": 0.6163947163947164,\n        \"num_unique_values\": 35,\n        \"samples\": [\n          0.5138528138528139\n        ],\n        \"semantic_type\": \"\",\n        \"description\": \"\"\n      }\n    }\n  ]\n}"
            }
          },
          "metadata": {},
          "execution_count": 8
        }
      ],
      "source": [
        "enriched_train_features = enricher.transform(\n",
        "  train_features,\n",
        "  train_target,\n",
        ")\n",
        "enriched_train_features.head(2)"
      ]
    },
    {
      "cell_type": "code",
      "execution_count": 9,
      "metadata": {
        "id": "Xg-ZSnoDdIIG"
      },
      "outputs": [],
      "source": [
        "from catboost import CatBoostRegressor\n",
        "from catboost.utils import eval_metric\n",
        "from sklearn.model_selection import train_test_split\n",
        "\n",
        "# Find all categorical features and replace NaNs with 'NA'\n",
        "cat_col_enriched = [col for col in enriched_train_features.columns if enriched_train_features[col].dtype == \"O\"]\n",
        "enriched_train_features.loc[:, cat_col_enriched] = enriched_train_features.loc[:, cat_col_enriched].fillna(\"NA\")\n",
        "\n",
        "cat_col_baseline = [col for col in train_features.columns if train_features[col].dtype == \"O\"]\n",
        "train_features.loc[:, cat_col_baseline] = train_features.loc[:, cat_col_baseline].fillna(\"NA\")\n",
        "\n",
        "# Train and test split for correct model evaluation\n",
        "X_train, X_test, y_train, y_test, X_train_baseline, X_test_baseline = train_test_split(\n",
        "    enriched_train_features,\n",
        "    train_target,\n",
        "    train_features,\n",
        "    test_size=0.2,\n",
        "    shuffle=True,\n",
        "    random_state=0)\n",
        "\n",
        "# Task-optimized Catboost estimator\n",
        "model = CatBoostRegressor(\n",
        "    learning_rate=0.03,\n",
        "    iterations=330,\n",
        "    random_state=0,\n",
        "    eval_metric=\"MAE\",\n",
        "    verbose=False,)"
      ]
    },
    {
      "cell_type": "markdown",
      "metadata": {
        "id": "Q60M1Vn3FNkE"
      },
      "source": [
        "Baseline **BEFORE** enrichment with the new features, *Mean Absolute Error*:"
      ]
    },
    {
      "cell_type": "code",
      "execution_count": 10,
      "metadata": {
        "colab": {
          "base_uri": "https://localhost:8080/"
        },
        "id": "2fxmxA-RrgGF",
        "outputId": "361d15df-fa08-4d8d-f6f5-6f22265c751d"
      },
      "outputs": [
        {
          "output_type": "execute_result",
          "data": {
            "text/plain": [
              "[22.415689095313247]"
            ]
          },
          "metadata": {},
          "execution_count": 10
        }
      ],
      "source": [
        "model.fit(X_train_baseline, y_train, cat_features=cat_col_baseline)\n",
        "preds = model.predict(X_test_baseline)\n",
        "eval_metric(y_test.values, preds, \"MAE\")"
      ]
    },
    {
      "cell_type": "markdown",
      "metadata": {
        "id": "PB6SRgONFXuv"
      },
      "source": [
        "**AFTER** enrichment, *Mean Absolute Error*:"
      ]
    },
    {
      "cell_type": "code",
      "execution_count": 11,
      "metadata": {
        "colab": {
          "base_uri": "https://localhost:8080/"
        },
        "id": "576rPcPoFPMu",
        "outputId": "2d47be0a-bbf8-4cb4-84a0-5c110b2e9dde"
      },
      "outputs": [
        {
          "output_type": "execute_result",
          "data": {
            "text/plain": [
              "[2.099071501866811]"
            ]
          },
          "metadata": {},
          "execution_count": 11
        }
      ],
      "source": [
        "model.fit(X_train, y_train, cat_features=cat_col_enriched)\n",
        "preds = model.predict(X_test)\n",
        "eval_metric(y_test.values, preds, \"MAE\")"
      ]
    },
    {
      "cell_type": "markdown",
      "metadata": {
        "id": "KImqK8qbs4Dd"
      },
      "source": [
        "______________________________\n",
        "**That's all for a quick start in 15 minutes!**  \n",
        "If you found this useful or interesting, feel free to share.  \n",
        "______________________________\n",
        "## 🔗 Useful links\n",
        "* Upgini Library [Documentation](https://github.com/upgini/upgini#readme)\n",
        "* More [Notebooks and Guides](https://github.com/upgini/upgini?tab=readme-ov-file#-tutorials)\n",
        "* Kaggle public [Notebooks](https://www.kaggle.com/romaupgini/code)\n",
        "\n",
        "\n",
        "<sup>😔 Found mistype or a bug in code snippet? Our bad! <a href=\"https://github.com/upgini/upgini/issues/new?assignees=&title=readme%2Fbug\">\n",
        "Please report it here.</a></sup>"
      ]
    },
    {
      "cell_type": "markdown",
      "metadata": {
        "id": "16-1EcXEwUZ8"
      },
      "source": [
        "## Optional: Enrichment with **external data & features only**, whithout LLM based feature generation\n",
        "\n",
        "To enrich training dataset ONLY with features from external data sources, without automated feature generation on the text columns, you can simply remove parameter  `generate_features=['combined', 'company_txt']` from  `FeaturesEnricher`.  \n",
        "Thus, you'll be able to compare Uplift from *LLM based feature generation + External Data* VS. *Uplift from External data and features only*:  "
      ]
    },
    {
      "cell_type": "code",
      "execution_count": 12,
      "metadata": {
        "id": "hR_ZeGg_77QK",
        "colab": {
          "base_uri": "https://localhost:8080/",
          "height": 1000
        },
        "outputId": "865b9837-ec8e-496f-8be0-82f40f81d18e"
      },
      "outputs": [
        {
          "output_type": "display_data",
          "data": {
            "text/plain": [
              "[============================================================] 100% Finished"
            ],
            "text/html": [
              "<progress style='width:60ex' max='100' value='100'></progress>  100% Finished</br>"
            ]
          },
          "metadata": {}
        },
        {
          "output_type": "stream",
          "name": "stdout",
          "text": [
            "Demo training dataset detected. Registration for an API key is not required.\n",
            "\n",
            "\n",
            "Detected task type: ModelTaskType.REGRESSION. Reason: many unique label-values or non-integer floating point values observed\n",
            "You can set task type manually with argument `model_task_type` of FeaturesEnricher constructor if task type detected incorrectly\n",
            "\n",
            "WARNING #1: No date/datetime column was detected in X to be used as a search key. The current date will be used to match the latest version of data sources\n",
            "\n",
            "WARNING #2: Your training sample is unstable in number of rows per date. It is recommended to redesign the training sample\n",
            "\n",
            "WARNING #3: One hot encoded features detected. Use int encoding for correct results of fit.\n",
            "['r_yn_8f6661']\n",
            "\n",
            "WARNING #4: Columns ['desc_len', 'combined'] has high cardinality (>90% unique values), removed from X\n",
            "\n",
            "WARNING #5: 9.1703% of rows (42) in X and eval_set are duplicates with different y values. These rows will be deleted as incorrect\n",
            "Sample of incorrect row indexes: [3, 8, 17, 24, 51, 72, 121, 122, 134, 139, 147, 151, 155, 162, 169, 178, 180, 192, 237, 244, 269, 274, 280, 282, 288, 320, 323, 329, 332, 340, 373, 380, 389, 404, 414, 426, 428, 432, 438, 441, 444, 450]\n",
            "\n"
          ]
        },
        {
          "output_type": "display_data",
          "data": {
            "text/plain": [
              "<IPython.core.display.HTML object>"
            ],
            "text/html": [
              "<table><tr><th style='font-weight:bold'>Column name</th><th style='font-weight:bold'>Status</th><th style='font-weight:bold'>Errors</th></tr><tr><td>country</td><td style='background-color:#DAF7A6;color:black'>All valid</td><td>-</td></tr><tr><td>current_date</td><td style='background-color:#DAF7A6;color:black'>All valid</td><td>-</td></tr><tr><td>target</td><td style='background-color:#DAF7A6;color:black'>All valid</td><td>-</td></tr><tr><td>Postal_code</td><td style='background-color:#FFC300;color:black'>Some invalid</td><td>2.40% values failed validation and removed from dataframe, invalid values: [&lt;NA&gt;]</td></tr></table>"
            ]
          },
          "metadata": {}
        },
        {
          "output_type": "stream",
          "name": "stdout",
          "text": [
            "\n",
            "\n",
            "Running search request, search_id=939399e3-2da9-473f-8a0d-bc6966c03292\n",
            "We'll send email notification once it's completed, just use your personal api_key from profile.upgini.com\n",
            "\n"
          ]
        },
        {
          "output_type": "display_data",
          "data": {
            "text/plain": [
              "<IPython.core.display.HTML object>"
            ],
            "text/html": [
              "<style>\n",
              "            .upgini-df thead th {\n",
              "                font-weight:bold;\n",
              "                text-align: center;\n",
              "                padding: 0.5em;\n",
              "                border-bottom: 2px solid black;\n",
              "            }\n",
              "\n",
              "            .upgini-df tbody td {\n",
              "                padding: 0.5em;\n",
              "                color: black;\n",
              "            }\n",
              "\n",
              "            .upgini-df tbody tr:nth-child(odd) {\n",
              "                background-color: #ffffff;\n",
              "            }\n",
              "\n",
              "            .upgini-df tbody tr:nth-child(even) {\n",
              "                background-color: #f2f2f2;\n",
              "            }\n",
              "\n",
              "            .upgini-text {\n",
              "                text-align: left;\n",
              "            }\n",
              "\n",
              "            .upgini-number {\n",
              "                text-align: center;\n",
              "            }\n",
              "        </style>\n",
              "        <h2>Relevant features (13)</h2>\n",
              "        <div style=\"display:flex; flex-direction:column; align-items:flex-end; width: fit-content;\">\n",
              "            \n",
              "            <div style=\"text-align: right\">\n",
              "                <button onclick=navigator.clipboard.writeText(decodeURI('Feature%20name%09SHAP%20value%09PSI%20value%09Coverage%20%25%09Value%20preview%09Provider%09Source%09Updates%0Ajob_simp%097.3723%090.0%09100.0%09mle,%20analyst,%20manager%09%09%09%0Af_autofe_sim_jw2_fe9c7bc0f8%094.3998%090.0%09100.0%090.4951,%200.4653,%200.4232%09Training%20dataset%09AutoFE%3A%20features%20from%20Training%20dataset%09%0Af_telecom_country_postal_cells_CDMA_10km_samples_avg_c5d14676%093.1364%090.0%0996.63461538461539%092.8302,%2021.9818,%2017.0479%09Upgini%09World%20mobile%20network%20coverage%09Quarterly%0Af_telecom_country_postal_cells_UMTS_10km_range_avg_9dcf0c9e%092.669%090.0%0996.63461538461539%094146.128,%203578.1304,%201774.4718%09Upgini%09World%20mobile%20network%20coverage%09Quarterly%0Af_telecom_country_postal_cells_UMTS_20km_range_stddev_c850530d%092.4264%090.0%0996.63461538461539%0910745.9065,%205154.0085,%203680.14...%09Upgini%09World%20mobile%20network%20coverage%09Quarterly%0Af_location_country_postal_poi_public_graveyard_10km_cnt_to_population_b5b66acf%092.4153%090.0%0996.63461538461539%090.0113,%200.0729,%200.0624%09Upgini%09POI%20data%20OpenStreetMap%09Quarterly%0Af_marketing_country_postal_person_ethnic_code_non_europe_prc_8c825cdd%092.0674%090.0%0981.97115384615384%090.0748,%200.1476,%200.1927%09Upgini%09Public%20customer%20profile%09Quarterly%0Af_location_country_postal_poi_shopping_car_repair_5km_cnt_2a954887%091.6547%090.0%0996.63461538461539%0926.0,%20107.0,%2023.0%09Upgini%09POI%20data%20OpenStreetMap%09Quarterly%0Af_location_country_postal_poi_shopping_department_store_5km_cnt_5fd3f732%091.561%090.0%0996.63461538461539%0913.0,%2025.0,%209.0%09Upgini%09POI%20data%20OpenStreetMap%09Quarterly%0Af_autofe_sim_lv_8401ad2e64%091.1206%090.0%09100.0%090.2353,%200.0588,%200.05%09Training%20dataset%09AutoFE%3A%20features%20from%20Training%20dataset%09%0Af_autofe_mul_3b6e8e00e0%090.9693%090.0%0983.89423076923077%0916019.0,%202320.0,%209452.0%09Upgini%09AutoFE%3A%20features%20from%20%3Ca%20href%3D%27https%3A%2F%2Fupgini.com%2F%23data_sources%27%20target%3D%27_blank%27%20rel%3D%27noopener%20noreferrer%27%3EWorld%20demographic%20data%3C%2Fa%3E,%3Ca%20href%3D%27https%3A%2F%2Fupgini.com%2F%23data_sources%27%20target%3D%27_blank%27%20rel%3D%27noopener%20noreferrer%27%3EPOI%20data%20OpenStreetMap%3C%2Fa%3E%09Quarterly%0Af_telecom_country_postal_cells_20km_lifetime_avg_90be6dce%090.8001%090.0%0996.63461538461539%09588.5935,%20727.5428,%20653.3091%09Upgini%09World%20mobile%20network%20coverage%09Quarterly%0Af_location_country_postal_realty_price_condo_ac8675a3%090.7798%090.0%0974.51923076923077%09193676.0,%20254177.0,%201266287.0%09Upgini%09World%20house%20prices%20data%09Quarterly%0A'))>📂 Copy</button>\n",
              "                <a href='mailto:<Share with...>?subject=Relevant external data sources from Upgini.com&body=Feature%20name%09SHAP%20value%09PSI%20value%09Coverage%20%25%09Value%20preview%09Provider%09Source%09Updates%0Ajob_simp%097.3723%090.0%09100.0%09mle,%20analyst,%20manager%09%09%09%0Af_autofe_sim_jw2_fe9c7bc0f8%094.3998%090.0%09100.0%090.4951,%200.4653,%200.4232%09Training%20dataset%09AutoFE%3A%20features%20from%20Training%20dataset%09%0Af_telecom_country_postal_cells_CDMA_10km_samples_avg_c5d14676%093.1364%090.0%0996.63461538461539%092.8302,%2021.9818,%2017.0479%09Upgini%09World%20mobile%20network%20coverage%09Quarterly%0Af_telecom_country_postal_cells_UMTS_10km_range_avg_9dcf0c9e%092.669%090.0%0996.63461538461539%094146.128,%203578.1304,%201774.4718%09Upgini%09World%20mobile%20network%20coverage%09Quarterly%0Af_telecom_country_postal_cells_UMTS_20km_range_stddev_c850530d%092.4264%090.0%0996.63461538461539%0910745.9065,%205154.0085,%203680.14...%09Upgini%09World%20mobile%20network%20coverage%09Quarterly%0Af_location_country_postal_poi_public_graveyard_10km_cnt_to_population_b5b66acf%092.4153%090.0%0996.63461538461539%090.0113,%200.0729,%200.0624%09Upgini%09POI%20data%20OpenStreetMap%09Quarterly%0Af_marketing_country_postal_person_ethnic_code_non_europe_prc_8c825cdd%092.0674%090.0%0981.97115384615384%090.0748,%200.1476,%200.1927%09Upgini%09Public%20customer%20profile%09Quarterly%0Af_location_country_postal_poi_shopping_car_repair_5km_cnt_2a954887%091.6547%090.0%0996.63461538461539%0926.0,%20107.0,%2023.0%09Upgini%09POI%20data%20OpenStreetMap%09Quarterly%0Af_location_country_postal_poi_shopping_department_store_5km_cnt_5fd3f732%091.561%090.0%0996.63461538461539%0913.0,%2025.0,%209.0%09Upgini%09POI%20data%20OpenStreetMap%09Quarterly%0Af_autofe_sim_lv_8401ad2e64%091.1206%090.0%09100.0%090.2353,%200.0588,%200.05%09Training%20dataset%09AutoFE%3A%20features%20from%20Training%20dataset%09%0Af_autofe_mul_3b6e8e00e0%090.9693%090.0%0983.89423076923077%0916019.0,%202320.0,%209452.0%09Upgini%09AutoFE%3A%20features%20from%20%3Ca%20href%3D%27https%3A%2F%2Fupgini.com%2F%23data_sources%27%20target%3D%27_blank%27%20rel%3D%27noopener%20noreferrer%27%3EWorld%20demographic%20data%3C%2Fa%3E,%3Ca%20href%3D%27https%3A%2F%2Fupgini.com%2F%23data_sources%27%20target%3D%27_blank%27%20rel%3D%27noopener%20noreferrer%27%3EPOI%20data%20OpenStreetMap%3C%2Fa%3E%09Quarterly%0Af_telecom_country_postal_cells_20km_lifetime_avg_90be6dce%090.8001%090.0%0996.63461538461539%09588.5935,%20727.5428,%20653.3091%09Upgini%09World%20mobile%20network%20coverage%09Quarterly%0Af_location_country_postal_realty_price_condo_ac8675a3%090.7798%090.0%0974.51923076923077%09193676.0,%20254177.0,%201266287.0%09Upgini%09World%20house%20prices%20data%09Quarterly%0A'>\n",
              "                    <button>📨 Share</button>\n",
              "                </a>\n",
              "            </div>\n",
              "            <table class='upgini-df'><thead><th>Feature name</th><th>SHAP value</th><th>Coverage %</th><th>Value preview</th><th>Provider</th><th>Source</th><th>Updates</th></thead><tbody><tr><td class='upgini-text'>job_simp</td><td class='upgini-number'>7.3723</td><td class='upgini-number'>100.0000</td><td class='upgini-text'>mle, analyst, manager</td><td class='upgini-text'>&nbsp;</td><td class='upgini-text'>&nbsp;</td><td class='upgini-text'>&nbsp;</td></tr><tr><td class='upgini-text'>f_autofe_sim_jw2_fe9c7bc0f8</td><td class='upgini-number'>4.3998</td><td class='upgini-number'>100.0000</td><td class='upgini-text'>0.4951, 0.4653, 0.4232</td><td class='upgini-text'>Training dataset</td><td class='upgini-text'>AutoFE: features from Training dataset</td><td class='upgini-text'>&nbsp;</td></tr><tr><td class='upgini-text'><a href='https://docs.upgini.com/public/telecom/cell_towers_radius_ads#f_telecom_country_postal_cells_CDMA_10km_samples_avg_c5d14676' target='_blank' rel='noopener noreferrer'>f_telecom_country_postal_cells_CDMA_10km_samples_avg_c5d14676</a></td><td class='upgini-number'>3.1364</td><td class='upgini-number'>96.6346</td><td class='upgini-text'>2.8302, 21.9818, 17.0479</td><td class='upgini-text'><a href='https://upgini.com/' target='_blank' rel='noopener noreferrer'>Upgini</a></td><td class='upgini-text'><a href='https://upgini.com/#data_sources' target='_blank' rel='noopener noreferrer'>World mobile network coverage</a></td><td class='upgini-text'>Quarterly</td></tr><tr><td class='upgini-text'>f_telecom_country_postal_cells_UMTS_10km_range_avg_9dcf0c9e</td><td class='upgini-number'>2.6690</td><td class='upgini-number'>96.6346</td><td class='upgini-text'>4146.128, 3578.1304, 1774.4718</td><td class='upgini-text'><a href='https://www.upgini.com' target='_blank' rel='noopener noreferrer'>Upgini</a></td><td class='upgini-text'><a href='https://upgini.com/#data_sources' target='_blank' rel='noopener noreferrer'>World mobile network coverage</a></td><td class='upgini-text'>Quarterly</td></tr><tr><td class='upgini-text'>f_telecom_country_postal_cells_UMTS_20km_range_stddev_c850530d</td><td class='upgini-number'>2.4264</td><td class='upgini-number'>96.6346</td><td class='upgini-text'>10745.9065, 5154.0085, 3680.14...</td><td class='upgini-text'><a href='https://www.upgini.com' target='_blank' rel='noopener noreferrer'>Upgini</a></td><td class='upgini-text'><a href='https://upgini.com/#data_sources' target='_blank' rel='noopener noreferrer'>World mobile network coverage</a></td><td class='upgini-text'>Quarterly</td></tr><tr><td class='upgini-text'><a href='https://docs.upgini.com/public/osm/postal_code_poi_10km_cnt_to_population_kontur#f_location_country_postal_poi_public_graveyard_10km_cnt_to_population_b5b66acf' target='_blank' rel='noopener noreferrer'>f_location_country_postal_poi_public_graveyard_10km_cnt_to_population_b5b66acf</a></td><td class='upgini-number'>2.4153</td><td class='upgini-number'>96.6346</td><td class='upgini-text'>0.0113, 0.0729, 0.0624</td><td class='upgini-text'><a href='https://upgini.com/' target='_blank' rel='noopener noreferrer'>Upgini</a></td><td class='upgini-text'><a href='https://upgini.com/#data_sources' target='_blank' rel='noopener noreferrer'>POI data OpenStreetMap</a></td><td class='upgini-text'>Quarterly</td></tr><tr><td class='upgini-text'>f_marketing_country_postal_person_ethnic_code_non_europe_prc_8c825cdd</td><td class='upgini-number'>2.0674</td><td class='upgini-number'>81.9712</td><td class='upgini-text'>0.0748, 0.1476, 0.1927</td><td class='upgini-text'><a href='https://www.upgini.com' target='_blank' rel='noopener noreferrer'>Upgini</a></td><td class='upgini-text'><a href='https://upgini.com/#data_sources' target='_blank' rel='noopener noreferrer'>Public customer profile</a></td><td class='upgini-text'>Quarterly</td></tr><tr><td class='upgini-text'><a href='https://docs.upgini.com/public/osm/postal_code_poi_5km_cnt#f_location_country_postal_poi_shopping_car_repair_5km_cnt_2a954887' target='_blank' rel='noopener noreferrer'>f_location_country_postal_poi_shopping_car_repair_5km_cnt_2a954887</a></td><td class='upgini-number'>1.6547</td><td class='upgini-number'>96.6346</td><td class='upgini-text'>26.0, 107.0, 23.0</td><td class='upgini-text'><a href='https://upgini.com/' target='_blank' rel='noopener noreferrer'>Upgini</a></td><td class='upgini-text'><a href='https://upgini.com/#data_sources' target='_blank' rel='noopener noreferrer'>POI data OpenStreetMap</a></td><td class='upgini-text'>Quarterly</td></tr><tr><td class='upgini-text'><a href='https://docs.upgini.com/public/osm/postal_code_poi_5km_cnt#f_location_country_postal_poi_shopping_department_store_5km_cnt_5fd3f732' target='_blank' rel='noopener noreferrer'>f_location_country_postal_poi_shopping_department_store_5km_cnt_5fd3f732</a></td><td class='upgini-number'>1.5610</td><td class='upgini-number'>96.6346</td><td class='upgini-text'>13.0, 25.0, 9.0</td><td class='upgini-text'><a href='https://upgini.com/' target='_blank' rel='noopener noreferrer'>Upgini</a></td><td class='upgini-text'><a href='https://upgini.com/#data_sources' target='_blank' rel='noopener noreferrer'>POI data OpenStreetMap</a></td><td class='upgini-text'>Quarterly</td></tr><tr><td class='upgini-text'>f_autofe_sim_lv_8401ad2e64</td><td class='upgini-number'>1.1206</td><td class='upgini-number'>100.0000</td><td class='upgini-text'>0.2353, 0.0588, 0.05</td><td class='upgini-text'>Training dataset</td><td class='upgini-text'>AutoFE: features from Training dataset</td><td class='upgini-text'>&nbsp;</td></tr><tr><td class='upgini-text'>f_autofe_mul_3b6e8e00e0</td><td class='upgini-number'>0.9693</td><td class='upgini-number'>83.8942</td><td class='upgini-text'>16019.0, 2320.0, 9452.0</td><td class='upgini-text'><a href='https://upgini.com/' target='_blank' rel='noopener noreferrer'>Upgini</a></td><td class='upgini-text'>AutoFE: features from <a href='https://upgini.com/#data_sources' target='_blank' rel='noopener noreferrer'>World demographic data</a>,<a href='https://upgini.com/#data_sources' target='_blank' rel='noopener noreferrer'>POI data OpenStreetMap</a></td><td class='upgini-text'>Quarterly</td></tr><tr><td class='upgini-text'>f_telecom_country_postal_cells_20km_lifetime_avg_90be6dce</td><td class='upgini-number'>0.8001</td><td class='upgini-number'>96.6346</td><td class='upgini-text'>588.5935, 727.5428, 653.3091</td><td class='upgini-text'><a href='https://www.upgini.com' target='_blank' rel='noopener noreferrer'>Upgini</a></td><td class='upgini-text'><a href='https://upgini.com/#data_sources' target='_blank' rel='noopener noreferrer'>World mobile network coverage</a></td><td class='upgini-text'>Quarterly</td></tr><tr><td class='upgini-text'><a href='https://docs.upgini.com/public/realty/realty_source_2#f_location_country_postal_realty_price_condo_ac8675a3' target='_blank' rel='noopener noreferrer'>f_location_country_postal_realty_price_condo_ac8675a3</a></td><td class='upgini-number'>0.7798</td><td class='upgini-number'>74.5192</td><td class='upgini-text'>193676.0, 254177.0, 1266287.0</td><td class='upgini-text'><a href='https://upgini.com/' target='_blank' rel='noopener noreferrer'>Upgini</a></td><td class='upgini-text'><a href='https://upgini.com/#data_sources' target='_blank' rel='noopener noreferrer'>World house prices data</a></td><td class='upgini-text'>Quarterly</td></tr></tbody></table>\n",
              "        </div>\n",
              "        "
            ]
          },
          "metadata": {}
        },
        {
          "output_type": "display_data",
          "data": {
            "text/plain": [
              "<IPython.core.display.HTML object>"
            ],
            "text/html": [
              "<style>\n",
              "            .upgini-df thead th {\n",
              "                font-weight:bold;\n",
              "                text-align: center;\n",
              "                padding: 0.5em;\n",
              "                border-bottom: 2px solid black;\n",
              "            }\n",
              "\n",
              "            .upgini-df tbody td {\n",
              "                padding: 0.5em;\n",
              "                color: black;\n",
              "            }\n",
              "\n",
              "            .upgini-df tbody tr:nth-child(odd) {\n",
              "                background-color: #ffffff;\n",
              "            }\n",
              "\n",
              "            .upgini-df tbody tr:nth-child(even) {\n",
              "                background-color: #f2f2f2;\n",
              "            }\n",
              "\n",
              "            .upgini-text {\n",
              "                text-align: left;\n",
              "            }\n",
              "\n",
              "            .upgini-number {\n",
              "                text-align: center;\n",
              "            }\n",
              "        </style>\n",
              "        <h2>Relevant data sources</h2>\n",
              "        <div style=\"display:flex; flex-direction:column; align-items:flex-end; width: fit-content;\">\n",
              "            \n",
              "            <div style=\"text-align: right\">\n",
              "                <button onclick=navigator.clipboard.writeText(decodeURI('Provider%09Source%09All%20features%20SHAP%09Number%20of%20relevant%20features%0AUpgini%09World%20mobile%20network%20coverage%099.0319%094%0AUpgini%09POI%20data%20OpenStreetMap%095.631%093%0ATraining%20dataset%09AutoFE%3A%20features%20from%20Training%20dataset%095.5204%092%0AUpgini%09Public%20customer%20profile%092.0674%091%0AUpgini%09AutoFE%3A%20features%20from%20%3Ca%20href%3D%27https%3A%2F%2Fupgini.com%2F%23data_sources%27%20target%3D%27_blank%27%20rel%3D%27noopener%20noreferrer%27%3EWorld%20demographic%20data%3C%2Fa%3E,%3Ca%20href%3D%27https%3A%2F%2Fupgini.com%2F%23data_sources%27%20target%3D%27_blank%27%20rel%3D%27noopener%20noreferrer%27%3EPOI%20data%20OpenStreetMap%3C%2Fa%3E%090.9693%091%0AUpgini%09World%20house%20prices%20data%090.7798%091%0A'))>📂 Copy</button>\n",
              "                <a href='mailto:<Share with...>?subject=Relevant external data sources from Upgini.com&body=Provider%09Source%09All%20features%20SHAP%09Number%20of%20relevant%20features%0AUpgini%09World%20mobile%20network%20coverage%099.0319%094%0AUpgini%09POI%20data%20OpenStreetMap%095.631%093%0ATraining%20dataset%09AutoFE%3A%20features%20from%20Training%20dataset%095.5204%092%0AUpgini%09Public%20customer%20profile%092.0674%091%0AUpgini%09AutoFE%3A%20features%20from%20%3Ca%20href%3D%27https%3A%2F%2Fupgini.com%2F%23data_sources%27%20target%3D%27_blank%27%20rel%3D%27noopener%20noreferrer%27%3EWorld%20demographic%20data%3C%2Fa%3E,%3Ca%20href%3D%27https%3A%2F%2Fupgini.com%2F%23data_sources%27%20target%3D%27_blank%27%20rel%3D%27noopener%20noreferrer%27%3EPOI%20data%20OpenStreetMap%3C%2Fa%3E%090.9693%091%0AUpgini%09World%20house%20prices%20data%090.7798%091%0A'>\n",
              "                    <button>📨 Share</button>\n",
              "                </a>\n",
              "            </div>\n",
              "            <table class='upgini-df'><thead><th>Provider</th><th>Source</th><th>All features SHAP</th><th>Number of relevant features</th></thead><tbody><tr><td class='upgini-text'><a href='https://www.upgini.com' target='_blank' rel='noopener noreferrer'>Upgini</a></td><td class='upgini-text'><a href='https://upgini.com/#data_sources' target='_blank' rel='noopener noreferrer'>World mobile network coverage</a></td><td class='upgini-number'>5.8955</td><td class='upgini-number'>3</td></tr><tr><td class='upgini-text'><a href='https://upgini.com/' target='_blank' rel='noopener noreferrer'>Upgini</a></td><td class='upgini-text'><a href='https://upgini.com/#data_sources' target='_blank' rel='noopener noreferrer'>POI data OpenStreetMap</a></td><td class='upgini-number'>5.6310</td><td class='upgini-number'>3</td></tr><tr><td class='upgini-text'>Training dataset</td><td class='upgini-text'>AutoFE: features from Training dataset</td><td class='upgini-number'>5.5204</td><td class='upgini-number'>2</td></tr><tr><td class='upgini-text'><a href='https://upgini.com/' target='_blank' rel='noopener noreferrer'>Upgini</a></td><td class='upgini-text'><a href='https://upgini.com/#data_sources' target='_blank' rel='noopener noreferrer'>World mobile network coverage</a></td><td class='upgini-number'>3.1364</td><td class='upgini-number'>1</td></tr><tr><td class='upgini-text'><a href='https://www.upgini.com' target='_blank' rel='noopener noreferrer'>Upgini</a></td><td class='upgini-text'><a href='https://upgini.com/#data_sources' target='_blank' rel='noopener noreferrer'>Public customer profile</a></td><td class='upgini-number'>2.0674</td><td class='upgini-number'>1</td></tr><tr><td class='upgini-text'><a href='https://upgini.com/' target='_blank' rel='noopener noreferrer'>Upgini</a></td><td class='upgini-text'>AutoFE: features from <a href='https://upgini.com/#data_sources' target='_blank' rel='noopener noreferrer'>World demographic data</a>,<a href='https://upgini.com/#data_sources' target='_blank' rel='noopener noreferrer'>POI data OpenStreetMap</a></td><td class='upgini-number'>0.9693</td><td class='upgini-number'>1</td></tr><tr><td class='upgini-text'><a href='https://upgini.com/' target='_blank' rel='noopener noreferrer'>Upgini</a></td><td class='upgini-text'><a href='https://upgini.com/#data_sources' target='_blank' rel='noopener noreferrer'>World house prices data</a></td><td class='upgini-number'>0.7798</td><td class='upgini-number'>1</td></tr></tbody></table>\n",
              "        </div>\n",
              "        "
            ]
          },
          "metadata": {}
        },
        {
          "output_type": "display_data",
          "data": {
            "text/plain": [
              "<IPython.core.display.HTML object>"
            ],
            "text/html": [
              "<style>\n",
              "            .upgini-df thead th {\n",
              "                font-weight:bold;\n",
              "                text-align: center;\n",
              "                padding: 0.5em;\n",
              "                border-bottom: 2px solid black;\n",
              "            }\n",
              "\n",
              "            .upgini-df tbody td {\n",
              "                padding: 0.5em;\n",
              "                color: black;\n",
              "            }\n",
              "\n",
              "            .upgini-df tbody tr:nth-child(odd) {\n",
              "                background-color: #ffffff;\n",
              "            }\n",
              "\n",
              "            .upgini-df tbody tr:nth-child(even) {\n",
              "                background-color: #f2f2f2;\n",
              "            }\n",
              "\n",
              "            .upgini-text {\n",
              "                text-align: left;\n",
              "            }\n",
              "\n",
              "            .upgini-number {\n",
              "                text-align: center;\n",
              "            }\n",
              "        </style>\n",
              "        <h2>*Description of AutoFE feature names</h2>\n",
              "        <div style=\"display:flex; flex-direction:column; align-items:flex-end; width: fit-content;\">\n",
              "            \n",
              "            <div style=\"text-align: right\">\n",
              "                <button onclick=navigator.clipboard.writeText(decodeURI('Sources%09Feature%20name%09Feature%201%09Feature%202%09Function%0ATraining%20dataset%09f_autofe_sim_jw2_fe9c7bc0f8%09job_simp_d49976%09type_of_ownership_a589fc%09sim_jw2%0ATraining%20dataset%09f_autofe_sim_lv_8401ad2e64%09job_simp_d49976%09type_of_ownership_a589fc%09sim_lv%0A%3Ca%20href%3D%27https%3A%2F%2Fupgini.com%2F%23data_sources%27%20target%3D%27_blank%27%20rel%3D%27noopener%20noreferrer%27%3EWorld%20demographic%20data%3C%2Fa%3E,%3Ca%20href%3D%27https%3A%2F%2Fupgini.com%2F%23data_sources%27%20target%3D%27_blank%27%20rel%3D%27noopener%20noreferrer%27%3EPOI%20data%20OpenStreetMap%3C%2Fa%3E%09f_autofe_mul_3b6e8e00e0%09f_location_country_postal_b24080e10_240aba9e%09f_location_country_postal_poi_tourism_attraction_10km_cnt_12ab4251%09%2A%0A'))>📂 Copy</button>\n",
              "                <a href='mailto:<Share with...>?subject=Relevant external data sources from Upgini.com&body=Sources%09Feature%20name%09Feature%201%09Feature%202%09Function%0ATraining%20dataset%09f_autofe_sim_jw2_fe9c7bc0f8%09job_simp_d49976%09type_of_ownership_a589fc%09sim_jw2%0ATraining%20dataset%09f_autofe_sim_lv_8401ad2e64%09job_simp_d49976%09type_of_ownership_a589fc%09sim_lv%0A%3Ca%20href%3D%27https%3A%2F%2Fupgini.com%2F%23data_sources%27%20target%3D%27_blank%27%20rel%3D%27noopener%20noreferrer%27%3EWorld%20demographic%20data%3C%2Fa%3E,%3Ca%20href%3D%27https%3A%2F%2Fupgini.com%2F%23data_sources%27%20target%3D%27_blank%27%20rel%3D%27noopener%20noreferrer%27%3EPOI%20data%20OpenStreetMap%3C%2Fa%3E%09f_autofe_mul_3b6e8e00e0%09f_location_country_postal_b24080e10_240aba9e%09f_location_country_postal_poi_tourism_attraction_10km_cnt_12ab4251%09%2A%0A'>\n",
              "                    <button>📨 Share</button>\n",
              "                </a>\n",
              "            </div>\n",
              "            <table class='upgini-df'><thead><th>Sources</th><th>Feature name</th><th>Feature 1</th><th>Feature 2</th><th>Function</th></thead><tbody><tr><td class='upgini-text'>Training dataset</td><td class='upgini-text'>f_autofe_sim_jw2_fe9c7bc0f8</td><td class='upgini-text'>job_simp_d49976</td><td class='upgini-text'>type_of_ownership_a589fc</td><td class='upgini-text'>sim_jw2</td></tr><tr><td class='upgini-text'>Training dataset</td><td class='upgini-text'>f_autofe_sim_lv_8401ad2e64</td><td class='upgini-text'>job_simp_d49976</td><td class='upgini-text'>type_of_ownership_a589fc</td><td class='upgini-text'>sim_lv</td></tr><tr><td class='upgini-text'><a href='https://upgini.com/#data_sources' target='_blank' rel='noopener noreferrer'>World demographic data</a>,<a href='https://upgini.com/#data_sources' target='_blank' rel='noopener noreferrer'>POI data OpenStreetMap</a></td><td class='upgini-text'>f_autofe_mul_3b6e8e00e0</td><td class='upgini-text'>f_location_country_postal_b24080e10_240aba9e</td><td class='upgini-text'>f_location_country_postal_poi_tourism_attraction_10km_cnt_12ab4251</td><td class='upgini-text'>*</td></tr></tbody></table>\n",
              "        </div>\n",
              "        "
            ]
          },
          "metadata": {}
        },
        {
          "output_type": "stream",
          "name": "stdout",
          "text": [
            "Calculating accuracy uplift after enrichment...\n"
          ]
        },
        {
          "output_type": "display_data",
          "data": {
            "text/plain": [
              "<IPython.core.display.HTML object>"
            ],
            "text/html": [
              "<style>\n",
              "            .upgini-df thead th {\n",
              "                font-weight:bold;\n",
              "                text-align: center;\n",
              "                padding: 0.5em;\n",
              "                border-bottom: 2px solid black;\n",
              "            }\n",
              "\n",
              "            .upgini-df tbody td {\n",
              "                padding: 0.5em;\n",
              "                color: black;\n",
              "            }\n",
              "\n",
              "            .upgini-df tbody tr:nth-child(odd) {\n",
              "                background-color: #ffffff;\n",
              "            }\n",
              "\n",
              "            .upgini-df tbody tr:nth-child(even) {\n",
              "                background-color: #f2f2f2;\n",
              "            }\n",
              "\n",
              "            .upgini-text {\n",
              "                text-align: left;\n",
              "            }\n",
              "\n",
              "            .upgini-number {\n",
              "                text-align: center;\n",
              "            }\n",
              "        </style>\n",
              "        <h2>Accuracy after enrichment</h2>\n",
              "        <div style=\"display:flex; flex-direction:column; align-items:flex-end; width: fit-content;\">\n",
              "            \n",
              "            <div style=\"text-align: right\">\n",
              "                <button onclick=navigator.clipboard.writeText(decodeURI('Dataset%20type%09Rows%09Mean%20target%09Baseline%20mean_absolute_error%09Enriched%20mean_absolute_error%09Uplift,%20abs%09Uplift,%20%25%0ATrain%09416%0999.512%0924.475%20%C2%B1%201.455%0922.376%20%C2%B1%201.096%092.098%098.6%25%0A'))>📂 Copy</button>\n",
              "                <a href='mailto:<Share with...>?subject=Relevant external data sources from Upgini.com&body=Dataset%20type%09Rows%09Mean%20target%09Baseline%20mean_absolute_error%09Enriched%20mean_absolute_error%09Uplift,%20abs%09Uplift,%20%25%0ATrain%09416%0999.512%0924.475%20%C2%B1%201.455%0922.376%20%C2%B1%201.096%092.098%098.6%25%0A'>\n",
              "                    <button>📨 Share</button>\n",
              "                </a>\n",
              "            </div>\n",
              "            <table class='upgini-df'><thead><th>Dataset type</th><th>Rows</th><th>Mean target</th><th>Baseline mean_absolute_error</th><th>Enriched mean_absolute_error</th><th>Uplift, abs</th><th>Uplift, %</th></thead><tbody><tr><td class='upgini-text'>Train</td><td class='upgini-number'>416</td><td class='upgini-number'>99.5120</td><td class='upgini-text'>24.475 ± 1.455</td><td class='upgini-text'>22.376 ± 1.096</td><td class='upgini-number'>2.0980</td><td class='upgini-text'>8.6%</td></tr></tbody></table>\n",
              "        </div>\n",
              "        "
            ]
          },
          "metadata": {}
        },
        {
          "output_type": "display_data",
          "data": {
            "text/plain": [
              "<IPython.core.display.HTML object>"
            ],
            "text/html": [
              "<a download=\"upgini-report-6389e66f-3a9d-4c30-80ad-7a380bd75424.pdf\" href=\"data:application/pdf;base64,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\" target=\"_blank\">\n",
              "        <button>📊 Download PDF report</button></a>"
            ]
          },
          "metadata": {}
        }
      ],
      "source": [
        "df = pd.read_csv(df_path)\n",
        "train_features = df.drop(['avg_salary'], axis=1)\n",
        "train_target = df.avg_salary\n",
        "\n",
        "enricher = FeaturesEnricher(\n",
        "  search_keys={\n",
        "    'country': SearchKey.COUNTRY,\n",
        "    'Postal_code': SearchKey.POSTAL_CODE\n",
        "  }\n",
        ")\n",
        "enricher.fit(train_features, train_target, scoring=\"mean_absolute_error\")"
      ]
    },
    {
      "cell_type": "code",
      "source": [],
      "metadata": {
        "id": "hG9d67_N99u6"
      },
      "execution_count": null,
      "outputs": []
    }
  ],
  "metadata": {
    "colab": {
      "provenance": []
    },
    "kernelspec": {
      "display_name": "Python 3",
      "name": "python3"
    },
    "language_info": {
      "name": "python"
    }
  },
  "nbformat": 4,
  "nbformat_minor": 0
}