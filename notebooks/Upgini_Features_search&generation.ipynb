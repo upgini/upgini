{
  "cells": [
    {
      "cell_type": "markdown",
      "metadata": {
        "id": "3Ygzur-kaIYv"
      },
      "source": [
        "![alt text](\n",
        "https://cdn.prod.website-files.com/65d5721664bea140c05f5301/65e354e4b9ddb1c6aaa7d7b1_upgini_logo%20gradient.svg)   \n",
        "## [Intelligent data search & enrichment engine for Machine Learning](https://upgini.com)\n",
        "### Quick Start guide:\n",
        "### Search of relevant external features &  Automated feature generation for Salary predicton task  \n",
        "_________________\n",
        "\n",
        "Following this guide, you'll learn how to **search & auto generate new relevant features with Upgini library, in just 3 simple steps.**  \n",
        "We will enrich a training dataset with both external & automaticaly generated features and significantly improve model accuracy.  \n",
        "*The goal is to predict salary for data science job postning based on information about employer and job description.*  \n",
        "The evaluation metric is Mean Absolute Error (MAE).  \n",
        "⏱ Time needed: *15 minutes.*  \n",
        "\n",
        "Download this notebook: [GitHub Link](https://github.com/upgini/upgini/blob/main/notebooks/Upgini_Features_search&generation.ipynb)  \n",
        "_________________\n",
        "\n",
        "First, let's install latest version of Upgini library."
      ]
    },
    {
      "cell_type": "code",
      "execution_count": null,
      "metadata": {
        "id": "oOpVMpDUZrvt"
      },
      "outputs": [],
      "source": [
        "%pip install -Uq upgini catboost"
      ]
    },
    {
      "cell_type": "markdown",
      "metadata": {
        "id": "QzfajV5ukwZN"
      },
      "source": [
        "## 1️⃣ Use your labeled training dataset for search & feature generation\n",
        "\n",
        "You can use your labeled training datasets \"as is\" to initiate the search.  \n",
        "For this guide we'll use the dataset from [Glasdoor salary prediction](https://www.kaggle.com/datasets/thedevastator/jobs-dataset-from-glassdoor) with geocoded addresses of employers as a postal/ZIP codes. You can download extended version [here](https://github.com/upgini/upgini/blob/main/notebooks/demo_salary.csv.zip).  \n",
        "*This dataset contains job postings from Glassdoor.com from 2017, with several text columns including Job title, Job description, and Company name.*  \n",
        "License CC0: Public Domain  \n",
        "The goal is to predict salary for data science job postning.\n",
        "The column with the target label for salary prediction is `avg_salary`.  \n",
        "> ⚠️ All columns in the input dataset with dates/datetime should be converted to pandas datetime object for correct datetime representation\n"
      ]
    },
    {
      "cell_type": "code",
      "execution_count": null,
      "metadata": {
        "colab": {
          "base_uri": "https://localhost:8080/",
          "height": 330
        },
        "id": "CXBayn8onpDp",
        "outputId": "d382e9b3-ea0a-4890-c95a-9188cb09514e"
      },
      "outputs": [
        {
          "output_type": "execute_result",
          "data": {
            "text/plain": [
              "                                 Company Name         Location   Headquarters  \\\n",
              "0                      Tecolote Research\\n3.8  Albuquerque, NM     Goleta, CA   \n",
              "1  University of Maryland Medical System\\n3.4    Linthicum, MD  Baltimore, MD   \n",
              "\n",
              "                    Size  Founded   Type of ownership  \\\n",
              "0  501 to 1000 employees     1973   Company - Private   \n",
              "1       10000+ employees     1984  Other Organization   \n",
              "\n",
              "                           Industry               Sector  \\\n",
              "0               Aerospace & Defense  Aerospace & Defense   \n",
              "1  Health Care Services & Hospitals          Health Care   \n",
              "\n",
              "                     Revenue  avg_salary  ... R_yn spark  aws  excel  \\\n",
              "0  $50 to $100 million (USD)        72.0  ...    0     0    0      1   \n",
              "1     $2 to $5 billion (USD)        87.5  ...    0     0    0      0   \n",
              "\n",
              "         job_simp  desc_len  num_comp  Postal_code  country  \\\n",
              "0  data scientist      2536         0        87102       US   \n",
              "1  data scientist      4783         0        21090       US   \n",
              "\n",
              "                                            combined  \n",
              "0  Job title: Data Scientist; Job Description: Da...  \n",
              "1  Job title: Healthcare Data Scientist; Job Desc...  \n",
              "\n",
              "[2 rows x 25 columns]"
            ],
            "text/html": [
              "\n",
              "  <div id=\"df-7e8e0e94-a045-4370-b81a-de1265e94a82\" class=\"colab-df-container\">\n",
              "    <div>\n",
              "<style scoped>\n",
              "    .dataframe tbody tr th:only-of-type {\n",
              "        vertical-align: middle;\n",
              "    }\n",
              "\n",
              "    .dataframe tbody tr th {\n",
              "        vertical-align: top;\n",
              "    }\n",
              "\n",
              "    .dataframe thead th {\n",
              "        text-align: right;\n",
              "    }\n",
              "</style>\n",
              "<table border=\"1\" class=\"dataframe\">\n",
              "  <thead>\n",
              "    <tr style=\"text-align: right;\">\n",
              "      <th></th>\n",
              "      <th>Company Name</th>\n",
              "      <th>Location</th>\n",
              "      <th>Headquarters</th>\n",
              "      <th>Size</th>\n",
              "      <th>Founded</th>\n",
              "      <th>Type of ownership</th>\n",
              "      <th>Industry</th>\n",
              "      <th>Sector</th>\n",
              "      <th>Revenue</th>\n",
              "      <th>avg_salary</th>\n",
              "      <th>...</th>\n",
              "      <th>R_yn</th>\n",
              "      <th>spark</th>\n",
              "      <th>aws</th>\n",
              "      <th>excel</th>\n",
              "      <th>job_simp</th>\n",
              "      <th>desc_len</th>\n",
              "      <th>num_comp</th>\n",
              "      <th>Postal_code</th>\n",
              "      <th>country</th>\n",
              "      <th>combined</th>\n",
              "    </tr>\n",
              "  </thead>\n",
              "  <tbody>\n",
              "    <tr>\n",
              "      <th>0</th>\n",
              "      <td>Tecolote Research\\n3.8</td>\n",
              "      <td>Albuquerque, NM</td>\n",
              "      <td>Goleta, CA</td>\n",
              "      <td>501 to 1000 employees</td>\n",
              "      <td>1973</td>\n",
              "      <td>Company - Private</td>\n",
              "      <td>Aerospace &amp; Defense</td>\n",
              "      <td>Aerospace &amp; Defense</td>\n",
              "      <td>$50 to $100 million (USD)</td>\n",
              "      <td>72.0</td>\n",
              "      <td>...</td>\n",
              "      <td>0</td>\n",
              "      <td>0</td>\n",
              "      <td>0</td>\n",
              "      <td>1</td>\n",
              "      <td>data scientist</td>\n",
              "      <td>2536</td>\n",
              "      <td>0</td>\n",
              "      <td>87102</td>\n",
              "      <td>US</td>\n",
              "      <td>Job title: Data Scientist; Job Description: Da...</td>\n",
              "    </tr>\n",
              "    <tr>\n",
              "      <th>1</th>\n",
              "      <td>University of Maryland Medical System\\n3.4</td>\n",
              "      <td>Linthicum, MD</td>\n",
              "      <td>Baltimore, MD</td>\n",
              "      <td>10000+ employees</td>\n",
              "      <td>1984</td>\n",
              "      <td>Other Organization</td>\n",
              "      <td>Health Care Services &amp; Hospitals</td>\n",
              "      <td>Health Care</td>\n",
              "      <td>$2 to $5 billion (USD)</td>\n",
              "      <td>87.5</td>\n",
              "      <td>...</td>\n",
              "      <td>0</td>\n",
              "      <td>0</td>\n",
              "      <td>0</td>\n",
              "      <td>0</td>\n",
              "      <td>data scientist</td>\n",
              "      <td>4783</td>\n",
              "      <td>0</td>\n",
              "      <td>21090</td>\n",
              "      <td>US</td>\n",
              "      <td>Job title: Healthcare Data Scientist; Job Desc...</td>\n",
              "    </tr>\n",
              "  </tbody>\n",
              "</table>\n",
              "<p>2 rows × 25 columns</p>\n",
              "</div>\n",
              "    <div class=\"colab-df-buttons\">\n",
              "\n",
              "  <div class=\"colab-df-container\">\n",
              "    <button class=\"colab-df-convert\" onclick=\"convertToInteractive('df-7e8e0e94-a045-4370-b81a-de1265e94a82')\"\n",
              "            title=\"Convert this dataframe to an interactive table.\"\n",
              "            style=\"display:none;\">\n",
              "\n",
              "  <svg xmlns=\"http://www.w3.org/2000/svg\" height=\"24px\" viewBox=\"0 -960 960 960\">\n",
              "    <path d=\"M120-120v-720h720v720H120Zm60-500h600v-160H180v160Zm220 220h160v-160H400v160Zm0 220h160v-160H400v160ZM180-400h160v-160H180v160Zm440 0h160v-160H620v160ZM180-180h160v-160H180v160Zm440 0h160v-160H620v160Z\"/>\n",
              "  </svg>\n",
              "    </button>\n",
              "\n",
              "  <style>\n",
              "    .colab-df-container {\n",
              "      display:flex;\n",
              "      gap: 12px;\n",
              "    }\n",
              "\n",
              "    .colab-df-convert {\n",
              "      background-color: #E8F0FE;\n",
              "      border: none;\n",
              "      border-radius: 50%;\n",
              "      cursor: pointer;\n",
              "      display: none;\n",
              "      fill: #1967D2;\n",
              "      height: 32px;\n",
              "      padding: 0 0 0 0;\n",
              "      width: 32px;\n",
              "    }\n",
              "\n",
              "    .colab-df-convert:hover {\n",
              "      background-color: #E2EBFA;\n",
              "      box-shadow: 0px 1px 2px rgba(60, 64, 67, 0.3), 0px 1px 3px 1px rgba(60, 64, 67, 0.15);\n",
              "      fill: #174EA6;\n",
              "    }\n",
              "\n",
              "    .colab-df-buttons div {\n",
              "      margin-bottom: 4px;\n",
              "    }\n",
              "\n",
              "    [theme=dark] .colab-df-convert {\n",
              "      background-color: #3B4455;\n",
              "      fill: #D2E3FC;\n",
              "    }\n",
              "\n",
              "    [theme=dark] .colab-df-convert:hover {\n",
              "      background-color: #434B5C;\n",
              "      box-shadow: 0px 1px 3px 1px rgba(0, 0, 0, 0.15);\n",
              "      filter: drop-shadow(0px 1px 2px rgba(0, 0, 0, 0.3));\n",
              "      fill: #FFFFFF;\n",
              "    }\n",
              "  </style>\n",
              "\n",
              "    <script>\n",
              "      const buttonEl =\n",
              "        document.querySelector('#df-7e8e0e94-a045-4370-b81a-de1265e94a82 button.colab-df-convert');\n",
              "      buttonEl.style.display =\n",
              "        google.colab.kernel.accessAllowed ? 'block' : 'none';\n",
              "\n",
              "      async function convertToInteractive(key) {\n",
              "        const element = document.querySelector('#df-7e8e0e94-a045-4370-b81a-de1265e94a82');\n",
              "        const dataTable =\n",
              "          await google.colab.kernel.invokeFunction('convertToInteractive',\n",
              "                                                    [key], {});\n",
              "        if (!dataTable) return;\n",
              "\n",
              "        const docLinkHtml = 'Like what you see? Visit the ' +\n",
              "          '<a target=\"_blank\" href=https://colab.research.google.com/notebooks/data_table.ipynb>data table notebook</a>'\n",
              "          + ' to learn more about interactive tables.';\n",
              "        element.innerHTML = '';\n",
              "        dataTable['output_type'] = 'display_data';\n",
              "        await google.colab.output.renderOutput(dataTable, element);\n",
              "        const docLink = document.createElement('div');\n",
              "        docLink.innerHTML = docLinkHtml;\n",
              "        element.appendChild(docLink);\n",
              "      }\n",
              "    </script>\n",
              "  </div>\n",
              "\n",
              "\n",
              "<div id=\"df-c5a0038a-d33e-413b-a9aa-6cb1772ba5aa\">\n",
              "  <button class=\"colab-df-quickchart\" onclick=\"quickchart('df-c5a0038a-d33e-413b-a9aa-6cb1772ba5aa')\"\n",
              "            title=\"Suggest charts\"\n",
              "            style=\"display:none;\">\n",
              "\n",
              "<svg xmlns=\"http://www.w3.org/2000/svg\" height=\"24px\"viewBox=\"0 0 24 24\"\n",
              "     width=\"24px\">\n",
              "    <g>\n",
              "        <path d=\"M19 3H5c-1.1 0-2 .9-2 2v14c0 1.1.9 2 2 2h14c1.1 0 2-.9 2-2V5c0-1.1-.9-2-2-2zM9 17H7v-7h2v7zm4 0h-2V7h2v10zm4 0h-2v-4h2v4z\"/>\n",
              "    </g>\n",
              "</svg>\n",
              "  </button>\n",
              "\n",
              "<style>\n",
              "  .colab-df-quickchart {\n",
              "      --bg-color: #E8F0FE;\n",
              "      --fill-color: #1967D2;\n",
              "      --hover-bg-color: #E2EBFA;\n",
              "      --hover-fill-color: #174EA6;\n",
              "      --disabled-fill-color: #AAA;\n",
              "      --disabled-bg-color: #DDD;\n",
              "  }\n",
              "\n",
              "  [theme=dark] .colab-df-quickchart {\n",
              "      --bg-color: #3B4455;\n",
              "      --fill-color: #D2E3FC;\n",
              "      --hover-bg-color: #434B5C;\n",
              "      --hover-fill-color: #FFFFFF;\n",
              "      --disabled-bg-color: #3B4455;\n",
              "      --disabled-fill-color: #666;\n",
              "  }\n",
              "\n",
              "  .colab-df-quickchart {\n",
              "    background-color: var(--bg-color);\n",
              "    border: none;\n",
              "    border-radius: 50%;\n",
              "    cursor: pointer;\n",
              "    display: none;\n",
              "    fill: var(--fill-color);\n",
              "    height: 32px;\n",
              "    padding: 0;\n",
              "    width: 32px;\n",
              "  }\n",
              "\n",
              "  .colab-df-quickchart:hover {\n",
              "    background-color: var(--hover-bg-color);\n",
              "    box-shadow: 0 1px 2px rgba(60, 64, 67, 0.3), 0 1px 3px 1px rgba(60, 64, 67, 0.15);\n",
              "    fill: var(--button-hover-fill-color);\n",
              "  }\n",
              "\n",
              "  .colab-df-quickchart-complete:disabled,\n",
              "  .colab-df-quickchart-complete:disabled:hover {\n",
              "    background-color: var(--disabled-bg-color);\n",
              "    fill: var(--disabled-fill-color);\n",
              "    box-shadow: none;\n",
              "  }\n",
              "\n",
              "  .colab-df-spinner {\n",
              "    border: 2px solid var(--fill-color);\n",
              "    border-color: transparent;\n",
              "    border-bottom-color: var(--fill-color);\n",
              "    animation:\n",
              "      spin 1s steps(1) infinite;\n",
              "  }\n",
              "\n",
              "  @keyframes spin {\n",
              "    0% {\n",
              "      border-color: transparent;\n",
              "      border-bottom-color: var(--fill-color);\n",
              "      border-left-color: var(--fill-color);\n",
              "    }\n",
              "    20% {\n",
              "      border-color: transparent;\n",
              "      border-left-color: var(--fill-color);\n",
              "      border-top-color: var(--fill-color);\n",
              "    }\n",
              "    30% {\n",
              "      border-color: transparent;\n",
              "      border-left-color: var(--fill-color);\n",
              "      border-top-color: var(--fill-color);\n",
              "      border-right-color: var(--fill-color);\n",
              "    }\n",
              "    40% {\n",
              "      border-color: transparent;\n",
              "      border-right-color: var(--fill-color);\n",
              "      border-top-color: var(--fill-color);\n",
              "    }\n",
              "    60% {\n",
              "      border-color: transparent;\n",
              "      border-right-color: var(--fill-color);\n",
              "    }\n",
              "    80% {\n",
              "      border-color: transparent;\n",
              "      border-right-color: var(--fill-color);\n",
              "      border-bottom-color: var(--fill-color);\n",
              "    }\n",
              "    90% {\n",
              "      border-color: transparent;\n",
              "      border-bottom-color: var(--fill-color);\n",
              "    }\n",
              "  }\n",
              "</style>\n",
              "\n",
              "  <script>\n",
              "    async function quickchart(key) {\n",
              "      const quickchartButtonEl =\n",
              "        document.querySelector('#' + key + ' button');\n",
              "      quickchartButtonEl.disabled = true;  // To prevent multiple clicks.\n",
              "      quickchartButtonEl.classList.add('colab-df-spinner');\n",
              "      try {\n",
              "        const charts = await google.colab.kernel.invokeFunction(\n",
              "            'suggestCharts', [key], {});\n",
              "      } catch (error) {\n",
              "        console.error('Error during call to suggestCharts:', error);\n",
              "      }\n",
              "      quickchartButtonEl.classList.remove('colab-df-spinner');\n",
              "      quickchartButtonEl.classList.add('colab-df-quickchart-complete');\n",
              "    }\n",
              "    (() => {\n",
              "      let quickchartButtonEl =\n",
              "        document.querySelector('#df-c5a0038a-d33e-413b-a9aa-6cb1772ba5aa button');\n",
              "      quickchartButtonEl.style.display =\n",
              "        google.colab.kernel.accessAllowed ? 'block' : 'none';\n",
              "    })();\n",
              "  </script>\n",
              "</div>\n",
              "\n",
              "    </div>\n",
              "  </div>\n"
            ],
            "application/vnd.google.colaboratory.intrinsic+json": {
              "type": "dataframe",
              "variable_name": "df"
            }
          },
          "metadata": {},
          "execution_count": 8
        }
      ],
      "source": [
        "from os.path import exists\n",
        "import pandas as pd\n",
        "\n",
        "df_path = \"demo_salary.csv.zip\" if exists(\"demo_salary.csv.zip\") else \"https://github.com/upgini/upgini/raw/main/notebooks/demo_salary.csv.zip\"\n",
        "df = pd.read_csv(df_path)\n",
        "df.head(2)"
      ]
    },
    {
      "cell_type": "code",
      "source": [
        "pd.set_option('display.max_colwidth', 768)\n",
        "df[\"combined\"].head(2)"
      ],
      "metadata": {
        "id": "yDjxAENEefQ_",
        "outputId": "cc7a1c9a-6044-4575-a924-751b6c197aa4",
        "colab": {
          "base_uri": "https://localhost:8080/",
          "height": 247
        }
      },
      "execution_count": null,
      "outputs": [
        {
          "output_type": "execute_result",
          "data": {
            "text/plain": [
              "0    Job title: Data Scientist; Job Description: Data Scientist\\nLocation: Albuquerque, NM\\nEducation Required: Bachelor’s degree required, preferably in math, engineering, business, or the sciences.\\nSkills Required:\\nBachelor’s Degree in relevant field, e.g., math, data analysis, database, computer science, Artificial Intelligence (AI); three years’ experience credit for Master’s degree; five years’ experience credit for a Ph.D\\nApplicant should be proficient in the use of Power BI, Tableau, Python, MATLAB, Microsoft Word, PowerPoint, Excel, and working knowledge of MS Access, LMS, SAS, data visualization tools, and have a strong algorithmic aptitude\\nExcellent verbal and written communication skills, and quantitative analytical skills are required\\nApplica...\n",
              "1    Job title: Healthcare Data Scientist; Job Description: What You Will Do:\\n\\nI. General Summary\\n\\nThe Healthcare Data Scientist position will join our Advanced Analytics group at the University of Maryland Medical System (UMMS) in support of its strategic priority to become a data-driven and outcomes-oriented organization. The successful candidate will have 3+ years of experience with Machine Learning, Predictive Modeling, Statistical Analysis, Mathematical Optimization, Algorithm Development and a passion for working with healthcare data. Previous experience with various computational approaches along with an ability to demonstrate a portfolio of relevant prior projects is essential. This position will report to the UMMS Vice President for Enterprise Da...\n",
              "Name: combined, dtype: object"
            ],
            "text/html": [
              "<div>\n",
              "<style scoped>\n",
              "    .dataframe tbody tr th:only-of-type {\n",
              "        vertical-align: middle;\n",
              "    }\n",
              "\n",
              "    .dataframe tbody tr th {\n",
              "        vertical-align: top;\n",
              "    }\n",
              "\n",
              "    .dataframe thead th {\n",
              "        text-align: right;\n",
              "    }\n",
              "</style>\n",
              "<table border=\"1\" class=\"dataframe\">\n",
              "  <thead>\n",
              "    <tr style=\"text-align: right;\">\n",
              "      <th></th>\n",
              "      <th>combined</th>\n",
              "    </tr>\n",
              "  </thead>\n",
              "  <tbody>\n",
              "    <tr>\n",
              "      <th>0</th>\n",
              "      <td>Job title: Data Scientist; Job Description: Data Scientist\\nLocation: Albuquerque, NM\\nEducation Required: Bachelor’s degree required, preferably in math, engineering, business, or the sciences.\\nSkills Required:\\nBachelor’s Degree in relevant field, e.g., math, data analysis, database, computer science, Artificial Intelligence (AI); three years’ experience credit for Master’s degree; five years’ experience credit for a Ph.D\\nApplicant should be proficient in the use of Power BI, Tableau, Python, MATLAB, Microsoft Word, PowerPoint, Excel, and working knowledge of MS Access, LMS, SAS, data visualization tools, and have a strong algorithmic aptitude\\nExcellent verbal and written communication skills, and quantitative analytical skills are required\\nApplica...</td>\n",
              "    </tr>\n",
              "    <tr>\n",
              "      <th>1</th>\n",
              "      <td>Job title: Healthcare Data Scientist; Job Description: What You Will Do:\\n\\nI. General Summary\\n\\nThe Healthcare Data Scientist position will join our Advanced Analytics group at the University of Maryland Medical System (UMMS) in support of its strategic priority to become a data-driven and outcomes-oriented organization. The successful candidate will have 3+ years of experience with Machine Learning, Predictive Modeling, Statistical Analysis, Mathematical Optimization, Algorithm Development and a passion for working with healthcare data. Previous experience with various computational approaches along with an ability to demonstrate a portfolio of relevant prior projects is essential. This position will report to the UMMS Vice President for Enterprise Da...</td>\n",
              "    </tr>\n",
              "  </tbody>\n",
              "</table>\n",
              "</div><br><label><b>dtype:</b> object</label>"
            ]
          },
          "metadata": {},
          "execution_count": 9
        }
      ]
    },
    {
      "cell_type": "markdown",
      "metadata": {
        "id": "quAMYyZ1rNgQ"
      },
      "source": [
        "## 2️⃣ Choose one or multiple columns as a search keys, select columns for automated feature generation\n",
        "\n",
        "Under the hood, we'll search for relevant data using:\n",
        "- **[search keys](https://github.com/upgini/upgini#-search-key-types-we-support-more-to-come)** from training dataset to match records from potential data sources with a new features\n",
        "- **labels** from the training dataset to estimate the relevancy of candidate features for your ML task and calculate feature importance metrics  \n",
        "- **your features** from the training dataset to find external datasets and features that will improve accuracy in addition to your existing features and estimate accuracy uplift ([optional](https://github.com/upgini/upgini#find-features-only-give-accuracy-gain-to-existing-data-in-the-ml-model))\n",
        "\n",
        "\n",
        "Define one or multiple columns as a search keys  and select **text columns** for automated feature generation, in this example `'combined', 'company_txt'`  \n",
        "\n",
        ">⚠️ This search task will be auto-detected as a regression. If you have time series prediction (for example, daily sales as a target variable) and not just simple regression, you have to pass [**time series specific cross-validation split**](https://github.com/upgini/upgini#-time-series-prediction-support) **`CVType.time_series`**, as well"
      ]
    },
    {
      "cell_type": "code",
      "execution_count": null,
      "metadata": {
        "id": "gPQ7uVDSMvGG"
      },
      "outputs": [],
      "source": [
        "from upgini import FeaturesEnricher, SearchKey\n",
        "\n",
        "enricher = FeaturesEnricher(\n",
        "    search_keys={\n",
        "    'country': SearchKey.COUNTRY,\n",
        "    'Postal_code': SearchKey.POSTAL_CODE},\n",
        "    generate_features=['combined', 'company_txt'])"
      ]
    },
    {
      "cell_type": "markdown",
      "metadata": {
        "id": "UECRWVWBZ6Ol"
      },
      "source": [
        "## 3️⃣ Start your search & feature generation with Scikit-learn compatible estimator\n",
        "\n",
        "The main abstraction you interact with is `FeaturesEnricher`, a Scikit-learn compatible estimator.  You can easily add it into your existing ML pipelines.\n",
        "Create instance of the `FeaturesEnricher` class and call:\n",
        "- `fit()` to search relevant datasets & features  \n",
        "- than `transform()` to enrich your dataset with features from search result\n",
        "- or combine both steps with a single method `fit_transform()`\n",
        "\n",
        "You need to separate features from targets in *a scikit-learn style* (X and y).\n",
        "\n",
        "> Search step will take around *12 minutes* for this training dataset"
      ]
    },
    {
      "cell_type": "code",
      "execution_count": null,
      "metadata": {
        "colab": {
          "base_uri": "https://localhost:8080/",
          "height": 1000
        },
        "id": "wS3g38jKZ7D1",
        "outputId": "cc9981c1-1a17-43b1-d796-5ab12e7728f5"
      },
      "outputs": [
        {
          "output_type": "display_data",
          "data": {
            "text/plain": [
              "[============================================================] 100% Finished"
            ],
            "text/html": [
              "<progress style='width:60ex' max='100' value='100'></progress>  100% Finished</br>"
            ]
          },
          "metadata": {}
        },
        {
          "output_type": "display_data",
          "data": {
            "text/plain": [
              "<IPython.core.display.Javascript object>"
            ],
            "application/javascript": [
              "\n",
              "                    async function getVisitorId() {\n",
              "                        return import('https://upgini.github.io/upgini/js/a.js')\n",
              "                            .then(FingerprintJS => FingerprintJS.load())\n",
              "                            .then(fp => fp.get())\n",
              "                            .then(result => result.visitorId);\n",
              "                    }\n",
              "                    "
            ]
          },
          "metadata": {}
        },
        {
          "output_type": "stream",
          "name": "stdout",
          "text": [
            "Demo training dataset detected. Registration for an API key is not required.\n",
            "\n"
          ]
        },
        {
          "output_type": "display_data",
          "data": {
            "text/plain": [
              "<IPython.core.display.Javascript object>"
            ],
            "application/javascript": [
              "\n",
              "                    async function getVisitorId() {\n",
              "                        return import('https://upgini.github.io/upgini/js/a.js')\n",
              "                            .then(FingerprintJS => FingerprintJS.load())\n",
              "                            .then(fp => fp.get())\n",
              "                            .then(result => result.visitorId);\n",
              "                    }\n",
              "                    "
            ]
          },
          "metadata": {}
        },
        {
          "output_type": "display_data",
          "data": {
            "text/plain": [
              "<IPython.core.display.Javascript object>"
            ],
            "application/javascript": [
              "\n",
              "                    async function getVisitorId() {\n",
              "                        return import('https://upgini.github.io/upgini/js/a.js')\n",
              "                            .then(FingerprintJS => FingerprintJS.load())\n",
              "                            .then(fp => fp.get())\n",
              "                            .then(result => result.visitorId);\n",
              "                    }\n",
              "                    "
            ]
          },
          "metadata": {}
        },
        {
          "output_type": "display_data",
          "data": {
            "text/plain": [
              "<IPython.core.display.Javascript object>"
            ],
            "application/javascript": [
              "\n",
              "                    async function getVisitorId() {\n",
              "                        return import('https://upgini.github.io/upgini/js/a.js')\n",
              "                            .then(FingerprintJS => FingerprintJS.load())\n",
              "                            .then(fp => fp.get())\n",
              "                            .then(result => result.visitorId);\n",
              "                    }\n",
              "                    "
            ]
          },
          "metadata": {}
        },
        {
          "output_type": "display_data",
          "data": {
            "text/plain": [
              "<IPython.core.display.Javascript object>"
            ],
            "application/javascript": [
              "\n",
              "                    async function getVisitorId() {\n",
              "                        return import('https://upgini.github.io/upgini/js/a.js')\n",
              "                            .then(FingerprintJS => FingerprintJS.load())\n",
              "                            .then(fp => fp.get())\n",
              "                            .then(result => result.visitorId);\n",
              "                    }\n",
              "                    "
            ]
          },
          "metadata": {}
        },
        {
          "output_type": "display_data",
          "data": {
            "text/plain": [
              "<IPython.core.display.Javascript object>"
            ],
            "application/javascript": [
              "\n",
              "                    async function getVisitorId() {\n",
              "                        return import('https://upgini.github.io/upgini/js/a.js')\n",
              "                            .then(FingerprintJS => FingerprintJS.load())\n",
              "                            .then(fp => fp.get())\n",
              "                            .then(result => result.visitorId);\n",
              "                    }\n",
              "                    "
            ]
          },
          "metadata": {}
        },
        {
          "output_type": "stream",
          "name": "stdout",
          "text": [
            "\n",
            "Detected task type: ModelTaskType.REGRESSION. Reason: many unique label-values or non-integer floating point values observed\n",
            "You can set task type manually with argument `model_task_type` of FeaturesEnricher constructor if task type detected incorrectly\n",
            "\n"
          ]
        },
        {
          "output_type": "display_data",
          "data": {
            "text/plain": [
              "<IPython.core.display.Javascript object>"
            ],
            "application/javascript": [
              "\n",
              "                    async function getVisitorId() {\n",
              "                        return import('https://upgini.github.io/upgini/js/a.js')\n",
              "                            .then(FingerprintJS => FingerprintJS.load())\n",
              "                            .then(fp => fp.get())\n",
              "                            .then(result => result.visitorId);\n",
              "                    }\n",
              "                    "
            ]
          },
          "metadata": {}
        },
        {
          "output_type": "display_data",
          "data": {
            "text/plain": [
              "<IPython.core.display.Javascript object>"
            ],
            "application/javascript": [
              "\n",
              "                    async function getVisitorId() {\n",
              "                        return import('https://upgini.github.io/upgini/js/a.js')\n",
              "                            .then(FingerprintJS => FingerprintJS.load())\n",
              "                            .then(fp => fp.get())\n",
              "                            .then(result => result.visitorId);\n",
              "                    }\n",
              "                    "
            ]
          },
          "metadata": {}
        },
        {
          "output_type": "stream",
          "name": "stdout",
          "text": [
            "WARNING #1: No date/datetime column was detected in X to be used as a search key. The current date will be used to match the latest version of data sources\n",
            "\n"
          ]
        },
        {
          "output_type": "display_data",
          "data": {
            "text/plain": [
              "<IPython.core.display.Javascript object>"
            ],
            "application/javascript": [
              "\n",
              "                    async function getVisitorId() {\n",
              "                        return import('https://upgini.github.io/upgini/js/a.js')\n",
              "                            .then(FingerprintJS => FingerprintJS.load())\n",
              "                            .then(fp => fp.get())\n",
              "                            .then(result => result.visitorId);\n",
              "                    }\n",
              "                    "
            ]
          },
          "metadata": {}
        },
        {
          "output_type": "stream",
          "name": "stdout",
          "text": [
            "WARNING #2: Your training sample is unstable in number of rows per date. It is recommended to redesign the training sample\n",
            "\n"
          ]
        },
        {
          "output_type": "display_data",
          "data": {
            "text/plain": [
              "<IPython.core.display.Javascript object>"
            ],
            "application/javascript": [
              "\n",
              "                    async function getVisitorId() {\n",
              "                        return import('https://upgini.github.io/upgini/js/a.js')\n",
              "                            .then(FingerprintJS => FingerprintJS.load())\n",
              "                            .then(fp => fp.get())\n",
              "                            .then(result => result.visitorId);\n",
              "                    }\n",
              "                    "
            ]
          },
          "metadata": {}
        },
        {
          "output_type": "display_data",
          "data": {
            "text/plain": [
              "<IPython.core.display.Javascript object>"
            ],
            "application/javascript": [
              "\n",
              "                    async function getVisitorId() {\n",
              "                        return import('https://upgini.github.io/upgini/js/a.js')\n",
              "                            .then(FingerprintJS => FingerprintJS.load())\n",
              "                            .then(fp => fp.get())\n",
              "                            .then(result => result.visitorId);\n",
              "                    }\n",
              "                    "
            ]
          },
          "metadata": {}
        },
        {
          "output_type": "display_data",
          "data": {
            "text/plain": [
              "<IPython.core.display.Javascript object>"
            ],
            "application/javascript": [
              "\n",
              "                    async function getVisitorId() {\n",
              "                        return import('https://upgini.github.io/upgini/js/a.js')\n",
              "                            .then(FingerprintJS => FingerprintJS.load())\n",
              "                            .then(fp => fp.get())\n",
              "                            .then(result => result.visitorId);\n",
              "                    }\n",
              "                    "
            ]
          },
          "metadata": {}
        },
        {
          "output_type": "stream",
          "name": "stdout",
          "text": [
            "WARNING #3: Columns ['R_yn', 'datetime_day_in_quarter_sin', 'datetime_day_in_quarter_cos'] has value with frequency more than 99%, removed from X\n",
            "\n",
            "WARNING #4: Columns ['desc_len'] has high cardinality (>90% unique values), removed from X\n",
            "\n"
          ]
        },
        {
          "output_type": "display_data",
          "data": {
            "text/plain": [
              "<IPython.core.display.Javascript object>"
            ],
            "application/javascript": [
              "\n",
              "                    async function getVisitorId() {\n",
              "                        return import('https://upgini.github.io/upgini/js/a.js')\n",
              "                            .then(FingerprintJS => FingerprintJS.load())\n",
              "                            .then(fp => fp.get())\n",
              "                            .then(result => result.visitorId);\n",
              "                    }\n",
              "                    "
            ]
          },
          "metadata": {}
        },
        {
          "output_type": "display_data",
          "data": {
            "text/plain": [
              "<IPython.core.display.Javascript object>"
            ],
            "application/javascript": [
              "\n",
              "                    async function getVisitorId() {\n",
              "                        return import('https://upgini.github.io/upgini/js/a.js')\n",
              "                            .then(FingerprintJS => FingerprintJS.load())\n",
              "                            .then(fp => fp.get())\n",
              "                            .then(result => result.visitorId);\n",
              "                    }\n",
              "                    "
            ]
          },
          "metadata": {}
        },
        {
          "output_type": "display_data",
          "data": {
            "text/plain": [
              "<IPython.core.display.HTML object>"
            ],
            "text/html": [
              "<table><tr><th style='font-weight:bold'>Column name</th><th style='font-weight:bold'>Status</th><th style='font-weight:bold'>Errors</th></tr><tr><td>Postal_code</td><td style='background-color:#FFC300;color:black'>Some invalid</td><td>2.2% values failed validation and removed from dataframe, invalid values: [&lt;NA&gt;, &lt;NA&gt;, &lt;NA&gt;, &lt;NA&gt;, &lt;NA&gt;]</td></tr><tr><td>country</td><td style='background-color:#DAF7A6;color:black'>All valid</td><td>-</td></tr><tr><td>target</td><td style='background-color:#DAF7A6;color:black'>All valid</td><td>-</td></tr><tr><td>current_date</td><td style='background-color:#DAF7A6;color:black'>All valid</td><td>-</td></tr></table>"
            ]
          },
          "metadata": {}
        },
        {
          "output_type": "stream",
          "name": "stdout",
          "text": [
            "\n"
          ]
        },
        {
          "output_type": "display_data",
          "data": {
            "text/plain": [
              "<IPython.core.display.Javascript object>"
            ],
            "application/javascript": [
              "\n",
              "                    async function getVisitorId() {\n",
              "                        return import('https://upgini.github.io/upgini/js/a.js')\n",
              "                            .then(FingerprintJS => FingerprintJS.load())\n",
              "                            .then(fp => fp.get())\n",
              "                            .then(result => result.visitorId);\n",
              "                    }\n",
              "                    "
            ]
          },
          "metadata": {}
        },
        {
          "output_type": "display_data",
          "data": {
            "text/plain": [
              "<IPython.core.display.Javascript object>"
            ],
            "application/javascript": [
              "\n",
              "                        async function getIP() {\n",
              "                            return fetch(\"https://api64.ipify.org\")\n",
              "                                .then(response => response.text())\n",
              "                                .then(data => data);\n",
              "                        }\n",
              "                        "
            ]
          },
          "metadata": {}
        },
        {
          "output_type": "display_data",
          "data": {
            "text/plain": [
              "<IPython.core.display.Javascript object>"
            ],
            "application/javascript": [
              "\n",
              "                    async function getVisitorId() {\n",
              "                        return import('https://upgini.github.io/upgini/js/a.js')\n",
              "                            .then(FingerprintJS => FingerprintJS.load())\n",
              "                            .then(fp => fp.get())\n",
              "                            .then(result => result.visitorId);\n",
              "                    }\n",
              "                    "
            ]
          },
          "metadata": {}
        },
        {
          "output_type": "display_data",
          "data": {
            "text/plain": [
              "<IPython.core.display.Javascript object>"
            ],
            "application/javascript": [
              "\n",
              "                        async function getIP() {\n",
              "                            return fetch(\"https://api64.ipify.org\")\n",
              "                                .then(response => response.text())\n",
              "                                .then(data => data);\n",
              "                        }\n",
              "                        "
            ]
          },
          "metadata": {}
        },
        {
          "output_type": "display_data",
          "data": {
            "text/plain": [
              "<IPython.core.display.Javascript object>"
            ],
            "application/javascript": [
              "\n",
              "                        async function getIP() {\n",
              "                            return fetch(\"https://api64.ipify.org\")\n",
              "                                .then(response => response.text())\n",
              "                                .then(data => data);\n",
              "                        }\n",
              "                        "
            ]
          },
          "metadata": {}
        },
        {
          "output_type": "display_data",
          "data": {
            "text/plain": [
              "<IPython.core.display.Javascript object>"
            ],
            "application/javascript": [
              "\n",
              "                        async function getIP() {\n",
              "                            return fetch(\"https://api64.ipify.org\")\n",
              "                                .then(response => response.text())\n",
              "                                .then(data => data);\n",
              "                        }\n",
              "                        "
            ]
          },
          "metadata": {}
        },
        {
          "output_type": "display_data",
          "data": {
            "text/plain": [
              "<IPython.core.display.Javascript object>"
            ],
            "application/javascript": [
              "\n",
              "                        async function getIP() {\n",
              "                            return fetch(\"https://api64.ipify.org\")\n",
              "                                .then(response => response.text())\n",
              "                                .then(data => data);\n",
              "                        }\n",
              "                        "
            ]
          },
          "metadata": {}
        },
        {
          "output_type": "display_data",
          "data": {
            "text/plain": [
              "<IPython.core.display.Javascript object>"
            ],
            "application/javascript": [
              "\n",
              "                        async function getIP() {\n",
              "                            return fetch(\"https://api64.ipify.org\")\n",
              "                                .then(response => response.text())\n",
              "                                .then(data => data);\n",
              "                        }\n",
              "                        "
            ]
          },
          "metadata": {}
        },
        {
          "output_type": "display_data",
          "data": {
            "text/plain": [
              "<IPython.core.display.Javascript object>"
            ],
            "application/javascript": [
              "\n",
              "                        async function getIP() {\n",
              "                            return fetch(\"https://api64.ipify.org\")\n",
              "                                .then(response => response.text())\n",
              "                                .then(data => data);\n",
              "                        }\n",
              "                        "
            ]
          },
          "metadata": {}
        },
        {
          "output_type": "display_data",
          "data": {
            "text/plain": [
              "<IPython.core.display.Javascript object>"
            ],
            "application/javascript": [
              "\n",
              "                        async function getIP() {\n",
              "                            return fetch(\"https://api64.ipify.org\")\n",
              "                                .then(response => response.text())\n",
              "                                .then(data => data);\n",
              "                        }\n",
              "                        "
            ]
          },
          "metadata": {}
        },
        {
          "output_type": "display_data",
          "data": {
            "text/plain": [
              "<IPython.core.display.Javascript object>"
            ],
            "application/javascript": [
              "\n",
              "                        async function getIP() {\n",
              "                            return fetch(\"https://api64.ipify.org\")\n",
              "                                .then(response => response.text())\n",
              "                                .then(data => data);\n",
              "                        }\n",
              "                        "
            ]
          },
          "metadata": {}
        },
        {
          "output_type": "display_data",
          "data": {
            "text/plain": [
              "<IPython.core.display.Javascript object>"
            ],
            "application/javascript": [
              "\n",
              "                        async function getIP() {\n",
              "                            return fetch(\"https://api64.ipify.org\")\n",
              "                                .then(response => response.text())\n",
              "                                .then(data => data);\n",
              "                        }\n",
              "                        "
            ]
          },
          "metadata": {}
        },
        {
          "output_type": "display_data",
          "data": {
            "text/plain": [
              "<IPython.core.display.Javascript object>"
            ],
            "application/javascript": [
              "\n",
              "                        async function getIP() {\n",
              "                            return fetch(\"https://api64.ipify.org\")\n",
              "                                .then(response => response.text())\n",
              "                                .then(data => data);\n",
              "                        }\n",
              "                        "
            ]
          },
          "metadata": {}
        },
        {
          "output_type": "display_data",
          "data": {
            "text/plain": [
              "<IPython.core.display.Javascript object>"
            ],
            "application/javascript": [
              "\n",
              "                        async function getIP() {\n",
              "                            return fetch(\"https://api64.ipify.org\")\n",
              "                                .then(response => response.text())\n",
              "                                .then(data => data);\n",
              "                        }\n",
              "                        "
            ]
          },
          "metadata": {}
        },
        {
          "output_type": "display_data",
          "data": {
            "text/plain": [
              "<IPython.core.display.Javascript object>"
            ],
            "application/javascript": [
              "\n",
              "                        async function getIP() {\n",
              "                            return fetch(\"https://api64.ipify.org\")\n",
              "                                .then(response => response.text())\n",
              "                                .then(data => data);\n",
              "                        }\n",
              "                        "
            ]
          },
          "metadata": {}
        },
        {
          "output_type": "display_data",
          "data": {
            "text/plain": [
              "<IPython.core.display.Javascript object>"
            ],
            "application/javascript": [
              "\n",
              "                        async function getIP() {\n",
              "                            return fetch(\"https://api64.ipify.org\")\n",
              "                                .then(response => response.text())\n",
              "                                .then(data => data);\n",
              "                        }\n",
              "                        "
            ]
          },
          "metadata": {}
        },
        {
          "output_type": "display_data",
          "data": {
            "text/plain": [
              "<IPython.core.display.Javascript object>"
            ],
            "application/javascript": [
              "\n",
              "                        async function getIP() {\n",
              "                            return fetch(\"https://api64.ipify.org\")\n",
              "                                .then(response => response.text())\n",
              "                                .then(data => data);\n",
              "                        }\n",
              "                        "
            ]
          },
          "metadata": {}
        },
        {
          "output_type": "display_data",
          "data": {
            "text/plain": [
              "<IPython.core.display.Javascript object>"
            ],
            "application/javascript": [
              "\n",
              "                        async function getIP() {\n",
              "                            return fetch(\"https://api64.ipify.org\")\n",
              "                                .then(response => response.text())\n",
              "                                .then(data => data);\n",
              "                        }\n",
              "                        "
            ]
          },
          "metadata": {}
        },
        {
          "output_type": "stream",
          "name": "stdout",
          "text": [
            "\n",
            "Running search request, search_id=a03bb3f0-6020-40a1-9aea-f9edd7a6bd74\n",
            "We'll send email notification once it's completed, just use your personal api_key from profile.upgini.com\n",
            "\n",
            "\u001b[92m\u001b[1m\n",
            "15 relevant feature(s) found with the search keys: ['Postal_code', 'country', 'current_date']\u001b[0m\n"
          ]
        },
        {
          "output_type": "display_data",
          "data": {
            "text/plain": [
              "<IPython.core.display.HTML object>"
            ],
            "text/html": [
              "<style>\n",
              "            .upgini-df thead th {\n",
              "                font-weight:bold;\n",
              "                text-align: center;\n",
              "                padding: 0.5em;\n",
              "                border-bottom: 2px solid black;\n",
              "            }\n",
              "\n",
              "            .upgini-df tbody td {\n",
              "                padding: 0.5em;\n",
              "            }\n",
              "\n",
              "            .upgini-df tbody tr:nth-child(odd) {\n",
              "                background-color: #ffffff;\n",
              "            }\n",
              "\n",
              "            .upgini-df tbody tr:nth-child(even) {\n",
              "                background-color: #f2f2f2;\n",
              "            }\n",
              "\n",
              "            .upgini-text {\n",
              "                text-align: left;\n",
              "            }\n",
              "\n",
              "            .upgini-number {\n",
              "                text-align: center;\n",
              "            }\n",
              "        </style>\n",
              "        <h2>Relevant features</h2>\n",
              "        <div style=\"display:flex; flex-direction:column; align-items:flex-end; width: fit-content;\">\n",
              "            \n",
              "            <div style=\"text-align: right\">\n",
              "                <button onclick=navigator.clipboard.writeText(decodeURI('Feature%20name%09SHAP%20value%09Coverage%20%25%09Value%20preview%09Provider%09Source%09Updates%0Af_telecom_country_postal_cells_UMTS_10km_range_avg_9dcf0c9e%094.9627%0996.98275862068965%094335.0217,%203369.9946,%204071.873...%09Upgini%09World%20mobile%20network%20coverage%09Quarterly%0Af_autofe_mul_f8ed6d9a%092.4468%0984.48275862068965%0998.0,%20172.0,%203538.0%09Upgini%09AutoFE%3A%20features%20from%20%3Ca%20href%3D%27https%3A%2F%2Fupgini.com%2F%23data_sources%27%20target%3D%27_blank%27%20rel%3D%27noopener%20noreferrer%27%3EWorld%20demographic%20data%3C%2Fa%3E,%3Ca%20href%3D%27https%3A%2F%2Fupgini.com%2F%23data_sources%27%20target%3D%27_blank%27%20rel%3D%27noopener%20noreferrer%27%3EPOI%20data%20OpenStreetMap%3C%2Fa%3E%09Quarterly%0Af_location_country_postal_poi_shopping_car_repair_5km_cnt_2a954887%092.3457%0996.98275862068965%0913.0,%2028.0,%2067.0%09Upgini%09POI%20data%20OpenStreetMap%09Quarterly%0Acombined_8a92bc_emb11%092.0494%09100.0%09-0.0363,%20-0.0596,%20-0.0498%09Upgini%09LLM%20with%20external%20data%20augmentation%09%0Acombined_8a92bc_emb115%092.0494%09100.0%09-0.1046,%20-0.0763,%200.0288%09Upgini%09LLM%20with%20external%20data%20augmentation%09%0Acombined_8a92bc_emb155%092.0494%09100.0%09-0.0614,%20-0.0426,%20-0.1027%09Upgini%09LLM%20with%20external%20data%20augmentation%09%0Acombined_8a92bc_emb179%092.0494%09100.0%090.0445,%20-0.0391,%20-0.028%09Upgini%09LLM%20with%20external%20data%20augmentation%09%0Acombined_8a92bc_emb181%092.0494%09100.0%090.0078,%20-0.0442,%200.04%09Upgini%09LLM%20with%20external%20data%20augmentation%09%0Acombined_8a92bc_emb37%092.0494%09100.0%090.015,%200.0834,%200.0101%09Upgini%09LLM%20with%20external%20data%20augmentation%09%0Acombined_8a92bc_emb45%092.0494%09100.0%09-0.0013,%20-0.0398,%200.0387%09Upgini%09LLM%20with%20external%20data%20augmentation%09%0Acombined_8a92bc_emb72%092.0494%09100.0%09-0.0671,%200.0115,%200.0268%09Upgini%09LLM%20with%20external%20data%20augmentation%09%0Acompany_txt_4c5666_org_emb100%092.0494%09100.0%09-0.0343,%20-0.0576,%20-0.0226%09Upgini%09LLM%20with%20external%20data%20augmentation%09%0Acompany_txt_4c5666_org_emb142%092.0494%09100.0%09-0.0511,%20-0.0046,%20-0.0408%09Upgini%09LLM%20with%20external%20data%20augmentation%09%0Acompany_txt_4c5666_org_emb76%092.0494%09100.0%09-0.0057,%200.0605,%20-0.0286%09Upgini%09LLM%20with%20external%20data%20augmentation%09%0Af_autofe_mul_922848b1%090.6665%0984.48275862068965%091425.0,%20696.0,%20142.0%09Upgini%09AutoFE%3A%20features%20from%20%3Ca%20href%3D%27https%3A%2F%2Fupgini.com%2F%23data_sources%27%20target%3D%27_blank%27%20rel%3D%27noopener%20noreferrer%27%3EWorld%20demographic%20data%3C%2Fa%3E,%3Ca%20href%3D%27https%3A%2F%2Fupgini.com%2F%23data_sources%27%20target%3D%27_blank%27%20rel%3D%27noopener%20noreferrer%27%3EPOI%20data%20OpenStreetMap%3C%2Fa%3E%09Quarterly%0A'))>📂 Copy</button>\n",
              "                <a href='mailto:<Share with...>?subject=Relevant external data sources from Upgini.com&body=Feature%20name%09SHAP%20value%09Coverage%20%25%09Value%20preview%09Provider%09Source%09Updates%0Af_telecom_country_postal_cells_UMTS_10km_range_avg_9dcf0c9e%094.9627%0996.98275862068965%094335.0217,%203369.9946,%204071.873...%09Upgini%09World%20mobile%20network%20coverage%09Quarterly%0Af_autofe_mul_f8ed6d9a%092.4468%0984.48275862068965%0998.0,%20172.0,%203538.0%09Upgini%09AutoFE%3A%20features%20from%20%3Ca%20href%3D%27https%3A%2F%2Fupgini.com%2F%23data_sources%27%20target%3D%27_blank%27%20rel%3D%27noopener%20noreferrer%27%3EWorld%20demographic%20data%3C%2Fa%3E,%3Ca%20href%3D%27https%3A%2F%2Fupgini.com%2F%23data_sources%27%20target%3D%27_blank%27%20rel%3D%27noopener%20noreferrer%27%3EPOI%20data%20OpenStreetMap%3C%2Fa%3E%09Quarterly%0Af_location_country_postal_poi_shopping_car_repair_5km_cnt_2a954887%092.3457%0996.98275862068965%0913.0,%2028.0,%2067.0%09Upgini%09POI%20data%20OpenStreetMap%09Quarterly%0Acombined_8a92bc_emb11%092.0494%09100.0%09-0.0363,%20-0.0596,%20-0.0498%09Upgini%09LLM%20with%20external%20data%20augmentation%09%0Acombined_8a92bc_emb115%092.0494%09100.0%09-0.1046,%20-0.0763,%200.0288%09Upgini%09LLM%20with%20external%20data%20augmentation%09%0Acombined_8a92bc_emb155%092.0494%09100.0%09-0.0614,%20-0.0426,%20-0.1027%09Upgini%09LLM%20with%20external%20data%20augmentation%09%0Acombined_8a92bc_emb179%092.0494%09100.0%090.0445,%20-0.0391,%20-0.028%09Upgini%09LLM%20with%20external%20data%20augmentation%09%0Acombined_8a92bc_emb181%092.0494%09100.0%090.0078,%20-0.0442,%200.04%09Upgini%09LLM%20with%20external%20data%20augmentation%09%0Acombined_8a92bc_emb37%092.0494%09100.0%090.015,%200.0834,%200.0101%09Upgini%09LLM%20with%20external%20data%20augmentation%09%0Acombined_8a92bc_emb45%092.0494%09100.0%09-0.0013,%20-0.0398,%200.0387%09Upgini%09LLM%20with%20external%20data%20augmentation%09%0Acombined_8a92bc_emb72%092.0494%09100.0%09-0.0671,%200.0115,%200.0268%09Upgini%09LLM%20with%20external%20data%20augmentation%09%0Acompany_txt_4c5666_org_emb100%092.0494%09100.0%09-0.0343,%20-0.0576,%20-0.0226%09Upgini%09LLM%20with%20external%20data%20augmentation%09%0Acompany_txt_4c5666_org_emb142%092.0494%09100.0%09-0.0511,%20-0.0046,%20-0.0408%09Upgini%09LLM%20with%20external%20data%20augmentation%09%0Acompany_txt_4c5666_org_emb76%092.0494%09100.0%09-0.0057,%200.0605,%20-0.0286%09Upgini%09LLM%20with%20external%20data%20augmentation%09%0Af_autofe_mul_922848b1%090.6665%0984.48275862068965%091425.0,%20696.0,%20142.0%09Upgini%09AutoFE%3A%20features%20from%20%3Ca%20href%3D%27https%3A%2F%2Fupgini.com%2F%23data_sources%27%20target%3D%27_blank%27%20rel%3D%27noopener%20noreferrer%27%3EWorld%20demographic%20data%3C%2Fa%3E,%3Ca%20href%3D%27https%3A%2F%2Fupgini.com%2F%23data_sources%27%20target%3D%27_blank%27%20rel%3D%27noopener%20noreferrer%27%3EPOI%20data%20OpenStreetMap%3C%2Fa%3E%09Quarterly%0A'>\n",
              "                    <button>📨 Share</button>\n",
              "                </a>\n",
              "            </div>\n",
              "            <table class='upgini-df'><thead><th>Feature name</th><th>SHAP value</th><th>Coverage %</th><th>Value preview</th><th>Provider</th><th>Source</th><th>Updates</th></thead><tbody><tr><td class='upgini-text'>f_telecom_country_postal_cells_UMTS_10km_range_avg_9dcf0c9e</td><td class='upgini-number'>4.9627</td><td class='upgini-number'>96.9828</td><td class='upgini-text'>4335.0217, 3369.9946, 4071.873...</td><td class='upgini-text'><a href='https://www.upgini.com' target='_blank' rel='noopener noreferrer'>Upgini</a></td><td class='upgini-text'><a href='https://upgini.com/#data_sources' target='_blank' rel='noopener noreferrer'>World mobile network coverage</a></td><td class='upgini-text'>Quarterly</td></tr><tr><td class='upgini-text'>f_autofe_mul_f8ed6d9a</td><td class='upgini-number'>2.4468</td><td class='upgini-number'>84.4828</td><td class='upgini-text'>98.0, 172.0, 3538.0</td><td class='upgini-text'><a href='https://upgini.com/' target='_blank' rel='noopener noreferrer'>Upgini</a></td><td class='upgini-text'>AutoFE: features from <a href='https://upgini.com/#data_sources' target='_blank' rel='noopener noreferrer'>World demographic data</a>,<a href='https://upgini.com/#data_sources' target='_blank' rel='noopener noreferrer'>POI data OpenStreetMap</a></td><td class='upgini-text'>Quarterly</td></tr><tr><td class='upgini-text'><a href='https://docs.upgini.com/public/osm/postal_code_poi_5km_cnt#f_location_country_postal_poi_shopping_car_repair_5km_cnt_2a954887' target='_blank' rel='noopener noreferrer'>f_location_country_postal_poi_shopping_car_repair_5km_cnt_2a954887</a></td><td class='upgini-number'>2.3457</td><td class='upgini-number'>96.9828</td><td class='upgini-text'>13.0, 28.0, 67.0</td><td class='upgini-text'><a href='https://upgini.com/' target='_blank' rel='noopener noreferrer'>Upgini</a></td><td class='upgini-text'><a href='https://upgini.com/#data_sources' target='_blank' rel='noopener noreferrer'>POI data OpenStreetMap</a></td><td class='upgini-text'>Quarterly</td></tr><tr><td class='upgini-text'>combined_8a92bc_emb11</td><td class='upgini-number'>2.0494</td><td class='upgini-number'>100.0000</td><td class='upgini-text'>-0.0363, -0.0596, -0.0498</td><td class='upgini-text'><a href='https://upgini.com' target='_blank' rel='noopener noreferrer'>Upgini</a></td><td class='upgini-text'>LLM with external data augmentation</td><td class='upgini-text'>&nbsp;</td></tr><tr><td class='upgini-text'>combined_8a92bc_emb115</td><td class='upgini-number'>2.0494</td><td class='upgini-number'>100.0000</td><td class='upgini-text'>-0.1046, -0.0763, 0.0288</td><td class='upgini-text'><a href='https://upgini.com' target='_blank' rel='noopener noreferrer'>Upgini</a></td><td class='upgini-text'>LLM with external data augmentation</td><td class='upgini-text'>&nbsp;</td></tr><tr><td class='upgini-text'>combined_8a92bc_emb155</td><td class='upgini-number'>2.0494</td><td class='upgini-number'>100.0000</td><td class='upgini-text'>-0.0614, -0.0426, -0.1027</td><td class='upgini-text'><a href='https://upgini.com' target='_blank' rel='noopener noreferrer'>Upgini</a></td><td class='upgini-text'>LLM with external data augmentation</td><td class='upgini-text'>&nbsp;</td></tr><tr><td class='upgini-text'>combined_8a92bc_emb179</td><td class='upgini-number'>2.0494</td><td class='upgini-number'>100.0000</td><td class='upgini-text'>0.0445, -0.0391, -0.028</td><td class='upgini-text'><a href='https://upgini.com' target='_blank' rel='noopener noreferrer'>Upgini</a></td><td class='upgini-text'>LLM with external data augmentation</td><td class='upgini-text'>&nbsp;</td></tr><tr><td class='upgini-text'>combined_8a92bc_emb181</td><td class='upgini-number'>2.0494</td><td class='upgini-number'>100.0000</td><td class='upgini-text'>0.0078, -0.0442, 0.04</td><td class='upgini-text'><a href='https://upgini.com' target='_blank' rel='noopener noreferrer'>Upgini</a></td><td class='upgini-text'>LLM with external data augmentation</td><td class='upgini-text'>&nbsp;</td></tr><tr><td class='upgini-text'>combined_8a92bc_emb37</td><td class='upgini-number'>2.0494</td><td class='upgini-number'>100.0000</td><td class='upgini-text'>0.015, 0.0834, 0.0101</td><td class='upgini-text'><a href='https://upgini.com' target='_blank' rel='noopener noreferrer'>Upgini</a></td><td class='upgini-text'>LLM with external data augmentation</td><td class='upgini-text'>&nbsp;</td></tr><tr><td class='upgini-text'>combined_8a92bc_emb45</td><td class='upgini-number'>2.0494</td><td class='upgini-number'>100.0000</td><td class='upgini-text'>-0.0013, -0.0398, 0.0387</td><td class='upgini-text'><a href='https://upgini.com' target='_blank' rel='noopener noreferrer'>Upgini</a></td><td class='upgini-text'>LLM with external data augmentation</td><td class='upgini-text'>&nbsp;</td></tr><tr><td class='upgini-text'>combined_8a92bc_emb72</td><td class='upgini-number'>2.0494</td><td class='upgini-number'>100.0000</td><td class='upgini-text'>-0.0671, 0.0115, 0.0268</td><td class='upgini-text'><a href='https://upgini.com' target='_blank' rel='noopener noreferrer'>Upgini</a></td><td class='upgini-text'>LLM with external data augmentation</td><td class='upgini-text'>&nbsp;</td></tr><tr><td class='upgini-text'>company_txt_4c5666_org_emb100</td><td class='upgini-number'>2.0494</td><td class='upgini-number'>100.0000</td><td class='upgini-text'>-0.0343, -0.0576, -0.0226</td><td class='upgini-text'><a href='https://upgini.com' target='_blank' rel='noopener noreferrer'>Upgini</a></td><td class='upgini-text'>LLM with external data augmentation</td><td class='upgini-text'>&nbsp;</td></tr><tr><td class='upgini-text'>company_txt_4c5666_org_emb142</td><td class='upgini-number'>2.0494</td><td class='upgini-number'>100.0000</td><td class='upgini-text'>-0.0511, -0.0046, -0.0408</td><td class='upgini-text'><a href='https://upgini.com' target='_blank' rel='noopener noreferrer'>Upgini</a></td><td class='upgini-text'>LLM with external data augmentation</td><td class='upgini-text'>&nbsp;</td></tr><tr><td class='upgini-text'>company_txt_4c5666_org_emb76</td><td class='upgini-number'>2.0494</td><td class='upgini-number'>100.0000</td><td class='upgini-text'>-0.0057, 0.0605, -0.0286</td><td class='upgini-text'><a href='https://upgini.com' target='_blank' rel='noopener noreferrer'>Upgini</a></td><td class='upgini-text'>LLM with external data augmentation</td><td class='upgini-text'>&nbsp;</td></tr><tr><td class='upgini-text'>f_autofe_mul_922848b1</td><td class='upgini-number'>0.6665</td><td class='upgini-number'>84.4828</td><td class='upgini-text'>1425.0, 696.0, 142.0</td><td class='upgini-text'><a href='https://upgini.com/' target='_blank' rel='noopener noreferrer'>Upgini</a></td><td class='upgini-text'>AutoFE: features from <a href='https://upgini.com/#data_sources' target='_blank' rel='noopener noreferrer'>World demographic data</a>,<a href='https://upgini.com/#data_sources' target='_blank' rel='noopener noreferrer'>POI data OpenStreetMap</a></td><td class='upgini-text'>Quarterly</td></tr></tbody></table>\n",
              "        </div>\n",
              "        "
            ]
          },
          "metadata": {}
        },
        {
          "output_type": "display_data",
          "data": {
            "text/plain": [
              "<IPython.core.display.HTML object>"
            ],
            "text/html": [
              "<style>\n",
              "            .upgini-df thead th {\n",
              "                font-weight:bold;\n",
              "                text-align: center;\n",
              "                padding: 0.5em;\n",
              "                border-bottom: 2px solid black;\n",
              "            }\n",
              "\n",
              "            .upgini-df tbody td {\n",
              "                padding: 0.5em;\n",
              "            }\n",
              "\n",
              "            .upgini-df tbody tr:nth-child(odd) {\n",
              "                background-color: #ffffff;\n",
              "            }\n",
              "\n",
              "            .upgini-df tbody tr:nth-child(even) {\n",
              "                background-color: #f2f2f2;\n",
              "            }\n",
              "\n",
              "            .upgini-text {\n",
              "                text-align: left;\n",
              "            }\n",
              "\n",
              "            .upgini-number {\n",
              "                text-align: center;\n",
              "            }\n",
              "        </style>\n",
              "        <h2>Relevant data sources</h2>\n",
              "        <div style=\"display:flex; flex-direction:column; align-items:flex-end; width: fit-content;\">\n",
              "            \n",
              "            <div style=\"text-align: right\">\n",
              "                <button onclick=navigator.clipboard.writeText(decodeURI('Provider%09Source%09All%20features%20SHAP%09Number%20of%20relevant%20features%0AUpgini%09LLM%20with%20external%20data%20augmentation%0922.5434%0911%0AUpgini%09World%20mobile%20network%20coverage%094.9627%091%0AUpgini%09AutoFE%3A%20features%20from%20%3Ca%20href%3D%27https%3A%2F%2Fupgini.com%2F%23data_sources%27%20target%3D%27_blank%27%20rel%3D%27noopener%20noreferrer%27%3EWorld%20demographic%20data%3C%2Fa%3E,%3Ca%20href%3D%27https%3A%2F%2Fupgini.com%2F%23data_sources%27%20target%3D%27_blank%27%20rel%3D%27noopener%20noreferrer%27%3EPOI%20data%20OpenStreetMap%3C%2Fa%3E%093.1133%092%0AUpgini%09POI%20data%20OpenStreetMap%092.3457%091%0A'))>📂 Copy</button>\n",
              "                <a href='mailto:<Share with...>?subject=Relevant external data sources from Upgini.com&body=Provider%09Source%09All%20features%20SHAP%09Number%20of%20relevant%20features%0AUpgini%09LLM%20with%20external%20data%20augmentation%0922.5434%0911%0AUpgini%09World%20mobile%20network%20coverage%094.9627%091%0AUpgini%09AutoFE%3A%20features%20from%20%3Ca%20href%3D%27https%3A%2F%2Fupgini.com%2F%23data_sources%27%20target%3D%27_blank%27%20rel%3D%27noopener%20noreferrer%27%3EWorld%20demographic%20data%3C%2Fa%3E,%3Ca%20href%3D%27https%3A%2F%2Fupgini.com%2F%23data_sources%27%20target%3D%27_blank%27%20rel%3D%27noopener%20noreferrer%27%3EPOI%20data%20OpenStreetMap%3C%2Fa%3E%093.1133%092%0AUpgini%09POI%20data%20OpenStreetMap%092.3457%091%0A'>\n",
              "                    <button>📨 Share</button>\n",
              "                </a>\n",
              "            </div>\n",
              "            <table class='upgini-df'><thead><th>Provider</th><th>Source</th><th>All features SHAP</th><th>Number of relevant features</th></thead><tbody><tr><td class='upgini-text'><a href='https://upgini.com' target='_blank' rel='noopener noreferrer'>Upgini</a></td><td class='upgini-text'>LLM with external data augmentation</td><td class='upgini-number'>22.5434</td><td class='upgini-number'>11</td></tr><tr><td class='upgini-text'><a href='https://www.upgini.com' target='_blank' rel='noopener noreferrer'>Upgini</a></td><td class='upgini-text'><a href='https://upgini.com/#data_sources' target='_blank' rel='noopener noreferrer'>World mobile network coverage</a></td><td class='upgini-number'>4.9627</td><td class='upgini-number'>1</td></tr><tr><td class='upgini-text'><a href='https://upgini.com/' target='_blank' rel='noopener noreferrer'>Upgini</a></td><td class='upgini-text'>AutoFE: features from <a href='https://upgini.com/#data_sources' target='_blank' rel='noopener noreferrer'>World demographic data</a>,<a href='https://upgini.com/#data_sources' target='_blank' rel='noopener noreferrer'>POI data OpenStreetMap</a></td><td class='upgini-number'>3.1133</td><td class='upgini-number'>2</td></tr><tr><td class='upgini-text'><a href='https://upgini.com/' target='_blank' rel='noopener noreferrer'>Upgini</a></td><td class='upgini-text'><a href='https://upgini.com/#data_sources' target='_blank' rel='noopener noreferrer'>POI data OpenStreetMap</a></td><td class='upgini-number'>2.3457</td><td class='upgini-number'>1</td></tr></tbody></table>\n",
              "        </div>\n",
              "        "
            ]
          },
          "metadata": {}
        },
        {
          "output_type": "display_data",
          "data": {
            "text/plain": [
              "<IPython.core.display.HTML object>"
            ],
            "text/html": [
              "<style>\n",
              "            .upgini-df thead th {\n",
              "                font-weight:bold;\n",
              "                text-align: center;\n",
              "                padding: 0.5em;\n",
              "                border-bottom: 2px solid black;\n",
              "            }\n",
              "\n",
              "            .upgini-df tbody td {\n",
              "                padding: 0.5em;\n",
              "            }\n",
              "\n",
              "            .upgini-df tbody tr:nth-child(odd) {\n",
              "                background-color: #ffffff;\n",
              "            }\n",
              "\n",
              "            .upgini-df tbody tr:nth-child(even) {\n",
              "                background-color: #f2f2f2;\n",
              "            }\n",
              "\n",
              "            .upgini-text {\n",
              "                text-align: left;\n",
              "            }\n",
              "\n",
              "            .upgini-number {\n",
              "                text-align: center;\n",
              "            }\n",
              "        </style>\n",
              "        <h2>*Description of AutoFE feature names</h2>\n",
              "        <div style=\"display:flex; flex-direction:column; align-items:flex-end; width: fit-content;\">\n",
              "            \n",
              "            <div style=\"text-align: right\">\n",
              "                <button onclick=navigator.clipboard.writeText(decodeURI('Sources%09Feature%20name%09Feature%201%09Feature%202%09Function%0A%3Ca%20href%3D%27https%3A%2F%2Fupgini.com%2F%23data_sources%27%20target%3D%27_blank%27%20rel%3D%27noopener%20noreferrer%27%3EWorld%20demographic%20data%3C%2Fa%3E,%3Ca%20href%3D%27https%3A%2F%2Fupgini.com%2F%23data_sources%27%20target%3D%27_blank%27%20rel%3D%27noopener%20noreferrer%27%3EPOI%20data%20OpenStreetMap%3C%2Fa%3E%09f_autofe_mul_f8ed6d9a%09f_location_country_postal_b01001e25_16d0bfd6%09f_location_country_postal_poi_leisure_dog_park_5km_cnt_87849333%09%2A%0A%3Ca%20href%3D%27https%3A%2F%2Fupgini.com%2F%23data_sources%27%20target%3D%27_blank%27%20rel%3D%27noopener%20noreferrer%27%3EWorld%20demographic%20data%3C%2Fa%3E,%3Ca%20href%3D%27https%3A%2F%2Fupgini.com%2F%23data_sources%27%20target%3D%27_blank%27%20rel%3D%27noopener%20noreferrer%27%3EPOI%20data%20OpenStreetMap%3C%2Fa%3E%09f_autofe_mul_922848b1%09f_location_country_postal_b01001e25_16d0bfd6%09f_location_country_postal_poi_shopping_garden_centre_5km_cnt_eb15de74%09%2A%0A'))>📂 Copy</button>\n",
              "                <a href='mailto:<Share with...>?subject=Relevant external data sources from Upgini.com&body=Sources%09Feature%20name%09Feature%201%09Feature%202%09Function%0A%3Ca%20href%3D%27https%3A%2F%2Fupgini.com%2F%23data_sources%27%20target%3D%27_blank%27%20rel%3D%27noopener%20noreferrer%27%3EWorld%20demographic%20data%3C%2Fa%3E,%3Ca%20href%3D%27https%3A%2F%2Fupgini.com%2F%23data_sources%27%20target%3D%27_blank%27%20rel%3D%27noopener%20noreferrer%27%3EPOI%20data%20OpenStreetMap%3C%2Fa%3E%09f_autofe_mul_f8ed6d9a%09f_location_country_postal_b01001e25_16d0bfd6%09f_location_country_postal_poi_leisure_dog_park_5km_cnt_87849333%09%2A%0A%3Ca%20href%3D%27https%3A%2F%2Fupgini.com%2F%23data_sources%27%20target%3D%27_blank%27%20rel%3D%27noopener%20noreferrer%27%3EWorld%20demographic%20data%3C%2Fa%3E,%3Ca%20href%3D%27https%3A%2F%2Fupgini.com%2F%23data_sources%27%20target%3D%27_blank%27%20rel%3D%27noopener%20noreferrer%27%3EPOI%20data%20OpenStreetMap%3C%2Fa%3E%09f_autofe_mul_922848b1%09f_location_country_postal_b01001e25_16d0bfd6%09f_location_country_postal_poi_shopping_garden_centre_5km_cnt_eb15de74%09%2A%0A'>\n",
              "                    <button>📨 Share</button>\n",
              "                </a>\n",
              "            </div>\n",
              "            <table class='upgini-df'><thead><th>Sources</th><th>Feature name</th><th>Feature 1</th><th>Feature 2</th><th>Function</th></thead><tbody><tr><td class='upgini-text'><a href='https://upgini.com/#data_sources' target='_blank' rel='noopener noreferrer'>World demographic data</a>,<a href='https://upgini.com/#data_sources' target='_blank' rel='noopener noreferrer'>POI data OpenStreetMap</a></td><td class='upgini-text'>f_autofe_mul_f8ed6d9a</td><td class='upgini-text'>f_location_country_postal_b01001e25_16d0bfd6</td><td class='upgini-text'>f_location_country_postal_poi_leisure_dog_park_5km_cnt_87849333</td><td class='upgini-text'>*</td></tr><tr><td class='upgini-text'><a href='https://upgini.com/#data_sources' target='_blank' rel='noopener noreferrer'>World demographic data</a>,<a href='https://upgini.com/#data_sources' target='_blank' rel='noopener noreferrer'>POI data OpenStreetMap</a></td><td class='upgini-text'>f_autofe_mul_922848b1</td><td class='upgini-text'>f_location_country_postal_b01001e25_16d0bfd6</td><td class='upgini-text'>f_location_country_postal_poi_shopping_garden_centre_5km_cnt_eb15de74</td><td class='upgini-text'>*</td></tr></tbody></table>\n",
              "        </div>\n",
              "        "
            ]
          },
          "metadata": {}
        },
        {
          "output_type": "stream",
          "name": "stdout",
          "text": [
            "Calculating accuracy uplift after enrichment...\n"
          ]
        },
        {
          "output_type": "display_data",
          "data": {
            "text/plain": [
              "<IPython.core.display.HTML object>"
            ],
            "text/html": [
              "<style>\n",
              "            .upgini-df thead th {\n",
              "                font-weight:bold;\n",
              "                text-align: center;\n",
              "                padding: 0.5em;\n",
              "                border-bottom: 2px solid black;\n",
              "            }\n",
              "\n",
              "            .upgini-df tbody td {\n",
              "                padding: 0.5em;\n",
              "            }\n",
              "\n",
              "            .upgini-df tbody tr:nth-child(odd) {\n",
              "                background-color: #ffffff;\n",
              "            }\n",
              "\n",
              "            .upgini-df tbody tr:nth-child(even) {\n",
              "                background-color: #f2f2f2;\n",
              "            }\n",
              "\n",
              "            .upgini-text {\n",
              "                text-align: left;\n",
              "            }\n",
              "\n",
              "            .upgini-number {\n",
              "                text-align: center;\n",
              "            }\n",
              "        </style>\n",
              "        <h2>Accuracy after enrichment</h2>\n",
              "        <div style=\"display:flex; flex-direction:column; align-items:flex-end; width: fit-content;\">\n",
              "            \n",
              "            <div style=\"text-align: right\">\n",
              "                <button onclick=navigator.clipboard.writeText(decodeURI('Dataset%20type%09Rows%09Mean%20target%09Baseline%20mean_absolute_error%09Enriched%20mean_absolute_error%09Uplift%0ATrain%09464%09100.7802%0922.892%20%C2%B1%201.865%0922.263%20%C2%B1%202.376%090.6284458966590201%0A'))>📂 Copy</button>\n",
              "                <a href='mailto:<Share with...>?subject=Relevant external data sources from Upgini.com&body=Dataset%20type%09Rows%09Mean%20target%09Baseline%20mean_absolute_error%09Enriched%20mean_absolute_error%09Uplift%0ATrain%09464%09100.7802%0922.892%20%C2%B1%201.865%0922.263%20%C2%B1%202.376%090.6284458966590201%0A'>\n",
              "                    <button>📨 Share</button>\n",
              "                </a>\n",
              "            </div>\n",
              "            <table class='upgini-df'><thead><th>Dataset type</th><th>Rows</th><th>Mean target</th><th>Baseline mean_absolute_error</th><th>Enriched mean_absolute_error</th><th>Uplift</th></thead><tbody><tr><td class='upgini-text'>Train</td><td class='upgini-number'>464</td><td class='upgini-number'>100.7802</td><td class='upgini-text'>22.892 ± 1.865</td><td class='upgini-text'>22.263 ± 2.376</td><td class='upgini-number'>0.6284</td></tr></tbody></table>\n",
              "        </div>\n",
              "        "
            ]
          },
          "metadata": {}
        },
        {
          "output_type": "display_data",
          "data": {
            "text/plain": [
              "<IPython.core.display.HTML object>"
            ],
            "text/html": [
              "<a download=\"upgini-report-2c1103df-fbf1-4a1a-bb3c-cff80b3c8c51.pdf\" href=\"data:application/pdf;base64,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\" target=\"_blank\">\n",
              "        <button>📊 Download PDF report</button></a>"
            ]
          },
          "metadata": {}
        },
        {
          "output_type": "stream",
          "name": "stdout",
          "text": [
            "You use Trial access to Upgini data enrichment. Limit for Trial: 1000 rows. You have already enriched: 464 rows.\n",
            "WARNING #5: No date/datetime column was detected in X to be used as a search key. The current date will be used to match the latest version of data sources\n",
            "\n",
            "\n"
          ]
        }
      ],
      "source": [
        "train_features = df.drop(['avg_salary'], axis=1)\n",
        "train_target = df.avg_salary\n",
        "enriched_train_features = enricher.fit_transform(\n",
        "    train_features,\n",
        "    train_target,\n",
        "    scoring = \"mean_absolute_error\")"
      ]
    },
    {
      "cell_type": "markdown",
      "metadata": {
        "id": "uq1EUN32c7gt"
      },
      "source": [
        "We've got **10+ new relevant features** from:\n",
        "- Various sources  [automatically optimized by Upgini](https://upgini.com/#optimized_external_data) such as [World demographic & census data, World mobile network coverage, Location/Places/POI/Area/Proximity data from OpenStreetMap](https://github.com/upgini/upgini#-connected-data-sources-and-coverage)\n",
        "- Automated feature generation for two selected text columns `'combined', 'company_txt'` with [Large Language Models' data augmentation](https://upgini.com/#large_language_models)\n",
        "\n",
        "All ranked by [SHAP values](https://en.wikipedia.org/wiki/Shapley_value).\n",
        "\n",
        "Initial features from the training dataset will also be checked for relevancy, so you don't need an extra feature selection step.\n",
        "\n",
        "Also, `FeaturesEnricher` automaticaly calculates model metrics and uplift from new relevant features using default `calculate_metrics=True` parameter in `fit()` or `fit_transform()` methods.  \n",
        "For this, you can use any estimator with scikit-learn compartible interface with `estimator` and define custom model metrics with `scoring`. More details [here](https://github.com/upgini/upgini#-accuracy-and-uplift-metrics-calculations)\n",
        "\n",
        "Result of search & enrichment request:\n",
        "\n",
        "⭐️ Enrcihed pandas dataframe **with 10+ new relevant features** `enriched_train_features`  \n",
        "⭐️ Calculated accuracy Uplift after enrichment: from 22.9 BEFORE  to 22.3 AFTER for a basic **non task-optimized ML model**; MAE - mean absolute error, less is better\n",
        ">💡 You can also enrich production ML pipelines, more details [here](https://github.com/upgini/upgini#6--enrich-production-ml-pipeline-with-relevant-external-features)"
      ]
    },
    {
      "cell_type": "markdown",
      "metadata": {
        "id": "PaNjfBOKo12-"
      },
      "source": [
        "## ✅ Retrain model with enriched training dataset\n",
        "\n",
        "Now, you can use an enriched dataframe to train a more accurate, **task-optimized ML model** in your existing ML pipeline.   \n",
        "As example, let's take `CatBoostRegressor`."
      ]
    },
    {
      "cell_type": "code",
      "execution_count": null,
      "metadata": {
        "colab": {
          "base_uri": "https://localhost:8080/",
          "height": 279
        },
        "id": "wtVSVBnXASc7",
        "outputId": "8d510eec-6e8e-4e6b-ed03-16f026365276"
      },
      "outputs": [
        {
          "output_type": "execute_result",
          "data": {
            "text/plain": [
              "                                 Company Name         Location   Headquarters  \\\n",
              "0                      Tecolote Research\\n3.8  Albuquerque, NM     Goleta, CA   \n",
              "1  University of Maryland Medical System\\n3.4    Linthicum, MD  Baltimore, MD   \n",
              "\n",
              "                    Size  Founded   Type of ownership  \\\n",
              "0  501 to 1000 employees     1973   Company - Private   \n",
              "1       10000+ employees     1984  Other Organization   \n",
              "\n",
              "                           Industry               Sector  \\\n",
              "0               Aerospace & Defense  Aerospace & Defense   \n",
              "1  Health Care Services & Hospitals          Health Care   \n",
              "\n",
              "                     Revenue                            company_txt  ...  \\\n",
              "0  $50 to $100 million (USD)                      Tecolote Research  ...   \n",
              "1     $2 to $5 billion (USD)  University of Maryland Medical System  ...   \n",
              "\n",
              "  combined_8a92bc_emb155  combined_8a92bc_emb179  combined_8a92bc_emb181  \\\n",
              "0              -0.016766               -0.032975                0.003364   \n",
              "1              -0.009389                0.009030                0.026491   \n",
              "\n",
              "   combined_8a92bc_emb37  combined_8a92bc_emb45  combined_8a92bc_emb72  \\\n",
              "0              -0.009393               0.004895              -0.024411   \n",
              "1               0.005215               0.018044               0.030807   \n",
              "\n",
              "   company_txt_4c5666_org_emb100  company_txt_4c5666_org_emb142  \\\n",
              "0                       0.000687                      -0.080272   \n",
              "1                       0.020352                      -0.040527   \n",
              "\n",
              "  company_txt_4c5666_org_emb76  f_autofe_mul_922848b1  \n",
              "0                     0.103452                  153.0  \n",
              "1                     0.029741                    0.0  \n",
              "\n",
              "[2 rows x 39 columns]"
            ],
            "text/html": [
              "\n",
              "  <div id=\"df-7e5066cd-5ca5-4c68-adc3-886aef138efb\" class=\"colab-df-container\">\n",
              "    <div>\n",
              "<style scoped>\n",
              "    .dataframe tbody tr th:only-of-type {\n",
              "        vertical-align: middle;\n",
              "    }\n",
              "\n",
              "    .dataframe tbody tr th {\n",
              "        vertical-align: top;\n",
              "    }\n",
              "\n",
              "    .dataframe thead th {\n",
              "        text-align: right;\n",
              "    }\n",
              "</style>\n",
              "<table border=\"1\" class=\"dataframe\">\n",
              "  <thead>\n",
              "    <tr style=\"text-align: right;\">\n",
              "      <th></th>\n",
              "      <th>Company Name</th>\n",
              "      <th>Location</th>\n",
              "      <th>Headquarters</th>\n",
              "      <th>Size</th>\n",
              "      <th>Founded</th>\n",
              "      <th>Type of ownership</th>\n",
              "      <th>Industry</th>\n",
              "      <th>Sector</th>\n",
              "      <th>Revenue</th>\n",
              "      <th>company_txt</th>\n",
              "      <th>...</th>\n",
              "      <th>combined_8a92bc_emb155</th>\n",
              "      <th>combined_8a92bc_emb179</th>\n",
              "      <th>combined_8a92bc_emb181</th>\n",
              "      <th>combined_8a92bc_emb37</th>\n",
              "      <th>combined_8a92bc_emb45</th>\n",
              "      <th>combined_8a92bc_emb72</th>\n",
              "      <th>company_txt_4c5666_org_emb100</th>\n",
              "      <th>company_txt_4c5666_org_emb142</th>\n",
              "      <th>company_txt_4c5666_org_emb76</th>\n",
              "      <th>f_autofe_mul_922848b1</th>\n",
              "    </tr>\n",
              "  </thead>\n",
              "  <tbody>\n",
              "    <tr>\n",
              "      <th>0</th>\n",
              "      <td>Tecolote Research\\n3.8</td>\n",
              "      <td>Albuquerque, NM</td>\n",
              "      <td>Goleta, CA</td>\n",
              "      <td>501 to 1000 employees</td>\n",
              "      <td>1973</td>\n",
              "      <td>Company - Private</td>\n",
              "      <td>Aerospace &amp; Defense</td>\n",
              "      <td>Aerospace &amp; Defense</td>\n",
              "      <td>$50 to $100 million (USD)</td>\n",
              "      <td>Tecolote Research</td>\n",
              "      <td>...</td>\n",
              "      <td>-0.016766</td>\n",
              "      <td>-0.032975</td>\n",
              "      <td>0.003364</td>\n",
              "      <td>-0.009393</td>\n",
              "      <td>0.004895</td>\n",
              "      <td>-0.024411</td>\n",
              "      <td>0.000687</td>\n",
              "      <td>-0.080272</td>\n",
              "      <td>0.103452</td>\n",
              "      <td>153.0</td>\n",
              "    </tr>\n",
              "    <tr>\n",
              "      <th>1</th>\n",
              "      <td>University of Maryland Medical System\\n3.4</td>\n",
              "      <td>Linthicum, MD</td>\n",
              "      <td>Baltimore, MD</td>\n",
              "      <td>10000+ employees</td>\n",
              "      <td>1984</td>\n",
              "      <td>Other Organization</td>\n",
              "      <td>Health Care Services &amp; Hospitals</td>\n",
              "      <td>Health Care</td>\n",
              "      <td>$2 to $5 billion (USD)</td>\n",
              "      <td>University of Maryland Medical System</td>\n",
              "      <td>...</td>\n",
              "      <td>-0.009389</td>\n",
              "      <td>0.009030</td>\n",
              "      <td>0.026491</td>\n",
              "      <td>0.005215</td>\n",
              "      <td>0.018044</td>\n",
              "      <td>0.030807</td>\n",
              "      <td>0.020352</td>\n",
              "      <td>-0.040527</td>\n",
              "      <td>0.029741</td>\n",
              "      <td>0.0</td>\n",
              "    </tr>\n",
              "  </tbody>\n",
              "</table>\n",
              "<p>2 rows × 39 columns</p>\n",
              "</div>\n",
              "    <div class=\"colab-df-buttons\">\n",
              "\n",
              "  <div class=\"colab-df-container\">\n",
              "    <button class=\"colab-df-convert\" onclick=\"convertToInteractive('df-7e5066cd-5ca5-4c68-adc3-886aef138efb')\"\n",
              "            title=\"Convert this dataframe to an interactive table.\"\n",
              "            style=\"display:none;\">\n",
              "\n",
              "  <svg xmlns=\"http://www.w3.org/2000/svg\" height=\"24px\" viewBox=\"0 -960 960 960\">\n",
              "    <path d=\"M120-120v-720h720v720H120Zm60-500h600v-160H180v160Zm220 220h160v-160H400v160Zm0 220h160v-160H400v160ZM180-400h160v-160H180v160Zm440 0h160v-160H620v160ZM180-180h160v-160H180v160Zm440 0h160v-160H620v160Z\"/>\n",
              "  </svg>\n",
              "    </button>\n",
              "\n",
              "  <style>\n",
              "    .colab-df-container {\n",
              "      display:flex;\n",
              "      gap: 12px;\n",
              "    }\n",
              "\n",
              "    .colab-df-convert {\n",
              "      background-color: #E8F0FE;\n",
              "      border: none;\n",
              "      border-radius: 50%;\n",
              "      cursor: pointer;\n",
              "      display: none;\n",
              "      fill: #1967D2;\n",
              "      height: 32px;\n",
              "      padding: 0 0 0 0;\n",
              "      width: 32px;\n",
              "    }\n",
              "\n",
              "    .colab-df-convert:hover {\n",
              "      background-color: #E2EBFA;\n",
              "      box-shadow: 0px 1px 2px rgba(60, 64, 67, 0.3), 0px 1px 3px 1px rgba(60, 64, 67, 0.15);\n",
              "      fill: #174EA6;\n",
              "    }\n",
              "\n",
              "    .colab-df-buttons div {\n",
              "      margin-bottom: 4px;\n",
              "    }\n",
              "\n",
              "    [theme=dark] .colab-df-convert {\n",
              "      background-color: #3B4455;\n",
              "      fill: #D2E3FC;\n",
              "    }\n",
              "\n",
              "    [theme=dark] .colab-df-convert:hover {\n",
              "      background-color: #434B5C;\n",
              "      box-shadow: 0px 1px 3px 1px rgba(0, 0, 0, 0.15);\n",
              "      filter: drop-shadow(0px 1px 2px rgba(0, 0, 0, 0.3));\n",
              "      fill: #FFFFFF;\n",
              "    }\n",
              "  </style>\n",
              "\n",
              "    <script>\n",
              "      const buttonEl =\n",
              "        document.querySelector('#df-7e5066cd-5ca5-4c68-adc3-886aef138efb button.colab-df-convert');\n",
              "      buttonEl.style.display =\n",
              "        google.colab.kernel.accessAllowed ? 'block' : 'none';\n",
              "\n",
              "      async function convertToInteractive(key) {\n",
              "        const element = document.querySelector('#df-7e5066cd-5ca5-4c68-adc3-886aef138efb');\n",
              "        const dataTable =\n",
              "          await google.colab.kernel.invokeFunction('convertToInteractive',\n",
              "                                                    [key], {});\n",
              "        if (!dataTable) return;\n",
              "\n",
              "        const docLinkHtml = 'Like what you see? Visit the ' +\n",
              "          '<a target=\"_blank\" href=https://colab.research.google.com/notebooks/data_table.ipynb>data table notebook</a>'\n",
              "          + ' to learn more about interactive tables.';\n",
              "        element.innerHTML = '';\n",
              "        dataTable['output_type'] = 'display_data';\n",
              "        await google.colab.output.renderOutput(dataTable, element);\n",
              "        const docLink = document.createElement('div');\n",
              "        docLink.innerHTML = docLinkHtml;\n",
              "        element.appendChild(docLink);\n",
              "      }\n",
              "    </script>\n",
              "  </div>\n",
              "\n",
              "\n",
              "<div id=\"df-103549d4-723d-4ff6-9734-425251f22b35\">\n",
              "  <button class=\"colab-df-quickchart\" onclick=\"quickchart('df-103549d4-723d-4ff6-9734-425251f22b35')\"\n",
              "            title=\"Suggest charts\"\n",
              "            style=\"display:none;\">\n",
              "\n",
              "<svg xmlns=\"http://www.w3.org/2000/svg\" height=\"24px\"viewBox=\"0 0 24 24\"\n",
              "     width=\"24px\">\n",
              "    <g>\n",
              "        <path d=\"M19 3H5c-1.1 0-2 .9-2 2v14c0 1.1.9 2 2 2h14c1.1 0 2-.9 2-2V5c0-1.1-.9-2-2-2zM9 17H7v-7h2v7zm4 0h-2V7h2v10zm4 0h-2v-4h2v4z\"/>\n",
              "    </g>\n",
              "</svg>\n",
              "  </button>\n",
              "\n",
              "<style>\n",
              "  .colab-df-quickchart {\n",
              "      --bg-color: #E8F0FE;\n",
              "      --fill-color: #1967D2;\n",
              "      --hover-bg-color: #E2EBFA;\n",
              "      --hover-fill-color: #174EA6;\n",
              "      --disabled-fill-color: #AAA;\n",
              "      --disabled-bg-color: #DDD;\n",
              "  }\n",
              "\n",
              "  [theme=dark] .colab-df-quickchart {\n",
              "      --bg-color: #3B4455;\n",
              "      --fill-color: #D2E3FC;\n",
              "      --hover-bg-color: #434B5C;\n",
              "      --hover-fill-color: #FFFFFF;\n",
              "      --disabled-bg-color: #3B4455;\n",
              "      --disabled-fill-color: #666;\n",
              "  }\n",
              "\n",
              "  .colab-df-quickchart {\n",
              "    background-color: var(--bg-color);\n",
              "    border: none;\n",
              "    border-radius: 50%;\n",
              "    cursor: pointer;\n",
              "    display: none;\n",
              "    fill: var(--fill-color);\n",
              "    height: 32px;\n",
              "    padding: 0;\n",
              "    width: 32px;\n",
              "  }\n",
              "\n",
              "  .colab-df-quickchart:hover {\n",
              "    background-color: var(--hover-bg-color);\n",
              "    box-shadow: 0 1px 2px rgba(60, 64, 67, 0.3), 0 1px 3px 1px rgba(60, 64, 67, 0.15);\n",
              "    fill: var(--button-hover-fill-color);\n",
              "  }\n",
              "\n",
              "  .colab-df-quickchart-complete:disabled,\n",
              "  .colab-df-quickchart-complete:disabled:hover {\n",
              "    background-color: var(--disabled-bg-color);\n",
              "    fill: var(--disabled-fill-color);\n",
              "    box-shadow: none;\n",
              "  }\n",
              "\n",
              "  .colab-df-spinner {\n",
              "    border: 2px solid var(--fill-color);\n",
              "    border-color: transparent;\n",
              "    border-bottom-color: var(--fill-color);\n",
              "    animation:\n",
              "      spin 1s steps(1) infinite;\n",
              "  }\n",
              "\n",
              "  @keyframes spin {\n",
              "    0% {\n",
              "      border-color: transparent;\n",
              "      border-bottom-color: var(--fill-color);\n",
              "      border-left-color: var(--fill-color);\n",
              "    }\n",
              "    20% {\n",
              "      border-color: transparent;\n",
              "      border-left-color: var(--fill-color);\n",
              "      border-top-color: var(--fill-color);\n",
              "    }\n",
              "    30% {\n",
              "      border-color: transparent;\n",
              "      border-left-color: var(--fill-color);\n",
              "      border-top-color: var(--fill-color);\n",
              "      border-right-color: var(--fill-color);\n",
              "    }\n",
              "    40% {\n",
              "      border-color: transparent;\n",
              "      border-right-color: var(--fill-color);\n",
              "      border-top-color: var(--fill-color);\n",
              "    }\n",
              "    60% {\n",
              "      border-color: transparent;\n",
              "      border-right-color: var(--fill-color);\n",
              "    }\n",
              "    80% {\n",
              "      border-color: transparent;\n",
              "      border-right-color: var(--fill-color);\n",
              "      border-bottom-color: var(--fill-color);\n",
              "    }\n",
              "    90% {\n",
              "      border-color: transparent;\n",
              "      border-bottom-color: var(--fill-color);\n",
              "    }\n",
              "  }\n",
              "</style>\n",
              "\n",
              "  <script>\n",
              "    async function quickchart(key) {\n",
              "      const quickchartButtonEl =\n",
              "        document.querySelector('#' + key + ' button');\n",
              "      quickchartButtonEl.disabled = true;  // To prevent multiple clicks.\n",
              "      quickchartButtonEl.classList.add('colab-df-spinner');\n",
              "      try {\n",
              "        const charts = await google.colab.kernel.invokeFunction(\n",
              "            'suggestCharts', [key], {});\n",
              "      } catch (error) {\n",
              "        console.error('Error during call to suggestCharts:', error);\n",
              "      }\n",
              "      quickchartButtonEl.classList.remove('colab-df-spinner');\n",
              "      quickchartButtonEl.classList.add('colab-df-quickchart-complete');\n",
              "    }\n",
              "    (() => {\n",
              "      let quickchartButtonEl =\n",
              "        document.querySelector('#df-103549d4-723d-4ff6-9734-425251f22b35 button');\n",
              "      quickchartButtonEl.style.display =\n",
              "        google.colab.kernel.accessAllowed ? 'block' : 'none';\n",
              "    })();\n",
              "  </script>\n",
              "</div>\n",
              "\n",
              "    </div>\n",
              "  </div>\n"
            ],
            "application/vnd.google.colaboratory.intrinsic+json": {
              "type": "dataframe",
              "variable_name": "enriched_train_features"
            }
          },
          "metadata": {},
          "execution_count": 12
        }
      ],
      "source": [
        "enriched_train_features.head(2)"
      ]
    },
    {
      "cell_type": "code",
      "execution_count": null,
      "metadata": {
        "id": "Xg-ZSnoDdIIG"
      },
      "outputs": [],
      "source": [
        "from catboost import CatBoostRegressor\n",
        "from catboost.utils import eval_metric\n",
        "from sklearn.model_selection import train_test_split\n",
        "\n",
        "# Find all categorical features and replace NaNs with 'NA'\n",
        "cat_col_enriched = [col for col in enriched_train_features.columns if enriched_train_features[col].dtype == \"O\"]\n",
        "enriched_train_features.loc[:, cat_col_enriched] = enriched_train_features.loc[:, cat_col_enriched].fillna(\"NA\")\n",
        "\n",
        "cat_col_baseline = [col for col in train_features.columns if train_features[col].dtype == \"O\"]\n",
        "train_features.loc[:, cat_col_baseline] = train_features.loc[:, cat_col_baseline].fillna(\"NA\")\n",
        "\n",
        "# Train and test split for correct model evaluation\n",
        "X_train, X_test, y_train, y_test, X_train_baseline, X_test_baseline = train_test_split(\n",
        "    enriched_train_features,\n",
        "    train_target,\n",
        "    train_features,\n",
        "    test_size=0.2,\n",
        "    shuffle=True,\n",
        "    random_state=0)\n",
        "\n",
        "# Task-optimized Catboost estimator\n",
        "model = CatBoostRegressor(\n",
        "    learning_rate=0.03,\n",
        "    iterations=330,\n",
        "    random_state=0,\n",
        "    eval_metric=\"MAE\",\n",
        "    verbose=False,)"
      ]
    },
    {
      "cell_type": "markdown",
      "metadata": {
        "id": "Q60M1Vn3FNkE"
      },
      "source": [
        "Baseline **BEFORE** enrichment with the new features, *Mean Absolute Error*:"
      ]
    },
    {
      "cell_type": "code",
      "execution_count": null,
      "metadata": {
        "colab": {
          "base_uri": "https://localhost:8080/"
        },
        "id": "2fxmxA-RrgGF",
        "outputId": "c359a20f-cdaf-41b7-abd9-4701e51d0963"
      },
      "outputs": [
        {
          "output_type": "execute_result",
          "data": {
            "text/plain": [
              "[22.415689095313247]"
            ]
          },
          "metadata": {},
          "execution_count": 14
        }
      ],
      "source": [
        "model.fit(X_train_baseline, y_train, cat_features=cat_col_baseline)\n",
        "preds = model.predict(X_test_baseline)\n",
        "eval_metric(y_test.values, preds, \"MAE\")"
      ]
    },
    {
      "cell_type": "markdown",
      "metadata": {
        "id": "PB6SRgONFXuv"
      },
      "source": [
        "**AFTER** enrichment, *Mean Absolute Error*:"
      ]
    },
    {
      "cell_type": "code",
      "execution_count": null,
      "metadata": {
        "colab": {
          "base_uri": "https://localhost:8080/"
        },
        "id": "576rPcPoFPMu",
        "outputId": "b31abfb4-c060-4999-9fd4-9b55bd6491fc"
      },
      "outputs": [
        {
          "output_type": "execute_result",
          "data": {
            "text/plain": [
              "[20.95046063080986]"
            ]
          },
          "metadata": {},
          "execution_count": 15
        }
      ],
      "source": [
        "model.fit(X_train, y_train, cat_features=cat_col_enriched)\n",
        "preds = model.predict(X_test)\n",
        "eval_metric(y_test.values, preds, \"MAE\")"
      ]
    },
    {
      "cell_type": "markdown",
      "metadata": {
        "id": "KImqK8qbs4Dd"
      },
      "source": [
        "______________________________\n",
        "**That's all for a quick start in 15 minutes!**  \n",
        "If you found this useful or interesting, feel free to share.  \n",
        "______________________________\n",
        "## 🔗 Useful links\n",
        "* Upgini Library [Documentation](https://github.com/upgini/upgini#readme)\n",
        "* More [Notebooks and Guides](https://github.com/upgini/upgini?tab=readme-ov-file#-tutorials)\n",
        "* Kaggle public [Notebooks](https://www.kaggle.com/romaupgini/code)\n",
        "\n",
        "\n",
        "<sup>😔 Found mistype or a bug in code snippet? Our bad! <a href=\"https://github.com/upgini/upgini/issues/new?assignees=&title=readme%2Fbug\">\n",
        "Please report it here.</a></sup>"
      ]
    },
    {
      "cell_type": "markdown",
      "metadata": {
        "id": "16-1EcXEwUZ8"
      },
      "source": [
        "## Optional: Enrichment with **external data & features only**, whithout LLM based feature generation\n",
        "\n",
        "To enrich training dataset ONLY with features from external data sources, without automated feature generation on the text columns, you can simply remove parameter  `generate_features=['combined', 'company_txt']` from  `FeaturesEnricher`.  \n",
        "Thus, you'll be able to compare Uplift from *LLM based feature generation + External Data* VS. *Uplift from External data and features only*:  "
      ]
    },
    {
      "cell_type": "code",
      "execution_count": null,
      "metadata": {
        "id": "hR_ZeGg_77QK",
        "colab": {
          "base_uri": "https://localhost:8080/",
          "height": 939
        },
        "outputId": "0e589382-4a70-4271-9d90-3f7e438bccd7"
      },
      "outputs": [
        {
          "output_type": "display_data",
          "data": {
            "text/plain": [
              "[============================================================] 100% Finished"
            ],
            "text/html": [
              "<progress style='width:60ex' max='100' value='100'></progress>  100% Finished</br>"
            ]
          },
          "metadata": {}
        },
        {
          "output_type": "stream",
          "name": "stdout",
          "text": [
            "Demo training dataset detected. Registration for an API key is not required.\n",
            "\n",
            "\n",
            "Detected task type: ModelTaskType.REGRESSION. Reason: many unique label-values or non-integer floating point values observed\n",
            "You can set task type manually with argument `model_task_type` of FeaturesEnricher constructor if task type detected incorrectly\n",
            "\n",
            "WARNING #1: No date/datetime column was detected in X to be used as a search key. The current date will be used to match the latest version of data sources\n",
            "\n",
            "WARNING #2: Your training sample is unstable in number of rows per date. It is recommended to redesign the training sample\n",
            "\n",
            "WARNING #3: Columns ['R_yn', 'datetime_day_in_quarter_sin', 'datetime_day_in_quarter_cos'] has value with frequency more than 99%, removed from X\n",
            "\n",
            "WARNING #4: Columns ['desc_len', 'combined'] has high cardinality (>90% unique values), removed from X\n",
            "\n"
          ]
        },
        {
          "output_type": "display_data",
          "data": {
            "text/plain": [
              "<IPython.core.display.HTML object>"
            ],
            "text/html": [
              "<table><tr><th style='font-weight:bold'>Column name</th><th style='font-weight:bold'>Status</th><th style='font-weight:bold'>Errors</th></tr><tr><td>Postal_code</td><td style='background-color:#FFC300;color:black'>Some invalid</td><td>2.2% values failed validation and removed from dataframe, invalid values: [&lt;NA&gt;, &lt;NA&gt;, &lt;NA&gt;, &lt;NA&gt;, &lt;NA&gt;]</td></tr><tr><td>country</td><td style='background-color:#DAF7A6;color:black'>All valid</td><td>-</td></tr><tr><td>target</td><td style='background-color:#DAF7A6;color:black'>All valid</td><td>-</td></tr><tr><td>current_date</td><td style='background-color:#DAF7A6;color:black'>All valid</td><td>-</td></tr></table>"
            ]
          },
          "metadata": {}
        },
        {
          "output_type": "stream",
          "name": "stdout",
          "text": [
            "\n",
            "\n",
            "Running search request, search_id=79962dc4-ed99-4392-8df1-a17d04e62195\n",
            "We'll send email notification once it's completed, just use your personal api_key from profile.upgini.com\n",
            "\n",
            "\u001b[92m\u001b[1m\n",
            "1 relevant feature(s) found with the search keys: ['Postal_code', 'country', 'current_date']\u001b[0m\n"
          ]
        },
        {
          "output_type": "display_data",
          "data": {
            "text/plain": [
              "<IPython.core.display.HTML object>"
            ],
            "text/html": [
              "<style>\n",
              "            .upgini-df thead th {\n",
              "                font-weight:bold;\n",
              "                text-align: center;\n",
              "                padding: 0.5em;\n",
              "                border-bottom: 2px solid black;\n",
              "            }\n",
              "\n",
              "            .upgini-df tbody td {\n",
              "                padding: 0.5em;\n",
              "            }\n",
              "\n",
              "            .upgini-df tbody tr:nth-child(odd) {\n",
              "                background-color: #ffffff;\n",
              "            }\n",
              "\n",
              "            .upgini-df tbody tr:nth-child(even) {\n",
              "                background-color: #f2f2f2;\n",
              "            }\n",
              "\n",
              "            .upgini-text {\n",
              "                text-align: left;\n",
              "            }\n",
              "\n",
              "            .upgini-number {\n",
              "                text-align: center;\n",
              "            }\n",
              "        </style>\n",
              "        <h2>Relevant features</h2>\n",
              "        <div style=\"display:flex; flex-direction:column; align-items:flex-end; width: fit-content;\">\n",
              "            \n",
              "            <div style=\"text-align: right\">\n",
              "                <button onclick=navigator.clipboard.writeText(decodeURI('Feature%20name%09SHAP%20value%09Coverage%20%25%09Value%20preview%09Provider%09Source%09Updates%0Af_telecom_country_postal_cells_UMTS_10km_range_avg_9dcf0c9e%096.1814%0996.98275862068965%094079.0219,%205621.3995,%204372.761...%09Upgini%09World%20mobile%20network%20coverage%09Quarterly%0A'))>📂 Copy</button>\n",
              "                <a href='mailto:<Share with...>?subject=Relevant external data sources from Upgini.com&body=Feature%20name%09SHAP%20value%09Coverage%20%25%09Value%20preview%09Provider%09Source%09Updates%0Af_telecom_country_postal_cells_UMTS_10km_range_avg_9dcf0c9e%096.1814%0996.98275862068965%094079.0219,%205621.3995,%204372.761...%09Upgini%09World%20mobile%20network%20coverage%09Quarterly%0A'>\n",
              "                    <button>📨 Share</button>\n",
              "                </a>\n",
              "            </div>\n",
              "            <table class='upgini-df'><thead><th>Feature name</th><th>SHAP value</th><th>Coverage %</th><th>Value preview</th><th>Provider</th><th>Source</th><th>Updates</th></thead><tbody><tr><td class='upgini-text'>f_telecom_country_postal_cells_UMTS_10km_range_avg_9dcf0c9e</td><td class='upgini-number'>6.1814</td><td class='upgini-number'>96.9828</td><td class='upgini-text'>4079.0219, 5621.3995, 4372.761...</td><td class='upgini-text'><a href='https://www.upgini.com' target='_blank' rel='noopener noreferrer'>Upgini</a></td><td class='upgini-text'><a href='https://upgini.com/#data_sources' target='_blank' rel='noopener noreferrer'>World mobile network coverage</a></td><td class='upgini-text'>Quarterly</td></tr></tbody></table>\n",
              "        </div>\n",
              "        "
            ]
          },
          "metadata": {}
        },
        {
          "output_type": "display_data",
          "data": {
            "text/plain": [
              "<IPython.core.display.HTML object>"
            ],
            "text/html": [
              "<style>\n",
              "            .upgini-df thead th {\n",
              "                font-weight:bold;\n",
              "                text-align: center;\n",
              "                padding: 0.5em;\n",
              "                border-bottom: 2px solid black;\n",
              "            }\n",
              "\n",
              "            .upgini-df tbody td {\n",
              "                padding: 0.5em;\n",
              "            }\n",
              "\n",
              "            .upgini-df tbody tr:nth-child(odd) {\n",
              "                background-color: #ffffff;\n",
              "            }\n",
              "\n",
              "            .upgini-df tbody tr:nth-child(even) {\n",
              "                background-color: #f2f2f2;\n",
              "            }\n",
              "\n",
              "            .upgini-text {\n",
              "                text-align: left;\n",
              "            }\n",
              "\n",
              "            .upgini-number {\n",
              "                text-align: center;\n",
              "            }\n",
              "        </style>\n",
              "        <h2>Relevant data sources</h2>\n",
              "        <div style=\"display:flex; flex-direction:column; align-items:flex-end; width: fit-content;\">\n",
              "            \n",
              "            <div style=\"text-align: right\">\n",
              "                <button onclick=navigator.clipboard.writeText(decodeURI('Provider%09Source%09All%20features%20SHAP%09Number%20of%20relevant%20features%0AUpgini%09World%20mobile%20network%20coverage%096.1814%091%0A'))>📂 Copy</button>\n",
              "                <a href='mailto:<Share with...>?subject=Relevant external data sources from Upgini.com&body=Provider%09Source%09All%20features%20SHAP%09Number%20of%20relevant%20features%0AUpgini%09World%20mobile%20network%20coverage%096.1814%091%0A'>\n",
              "                    <button>📨 Share</button>\n",
              "                </a>\n",
              "            </div>\n",
              "            <table class='upgini-df'><thead><th>Provider</th><th>Source</th><th>All features SHAP</th><th>Number of relevant features</th></thead><tbody><tr><td class='upgini-text'><a href='https://www.upgini.com' target='_blank' rel='noopener noreferrer'>Upgini</a></td><td class='upgini-text'><a href='https://upgini.com/#data_sources' target='_blank' rel='noopener noreferrer'>World mobile network coverage</a></td><td class='upgini-number'>6.1814</td><td class='upgini-number'>1</td></tr></tbody></table>\n",
              "        </div>\n",
              "        "
            ]
          },
          "metadata": {}
        },
        {
          "output_type": "stream",
          "name": "stdout",
          "text": [
            "Calculating accuracy uplift after enrichment...\n"
          ]
        },
        {
          "output_type": "display_data",
          "data": {
            "text/plain": [
              "<IPython.core.display.HTML object>"
            ],
            "text/html": [
              "<style>\n",
              "            .upgini-df thead th {\n",
              "                font-weight:bold;\n",
              "                text-align: center;\n",
              "                padding: 0.5em;\n",
              "                border-bottom: 2px solid black;\n",
              "            }\n",
              "\n",
              "            .upgini-df tbody td {\n",
              "                padding: 0.5em;\n",
              "            }\n",
              "\n",
              "            .upgini-df tbody tr:nth-child(odd) {\n",
              "                background-color: #ffffff;\n",
              "            }\n",
              "\n",
              "            .upgini-df tbody tr:nth-child(even) {\n",
              "                background-color: #f2f2f2;\n",
              "            }\n",
              "\n",
              "            .upgini-text {\n",
              "                text-align: left;\n",
              "            }\n",
              "\n",
              "            .upgini-number {\n",
              "                text-align: center;\n",
              "            }\n",
              "        </style>\n",
              "        <h2>Accuracy after enrichment</h2>\n",
              "        <div style=\"display:flex; flex-direction:column; align-items:flex-end; width: fit-content;\">\n",
              "            \n",
              "            <div style=\"text-align: right\">\n",
              "                <button onclick=navigator.clipboard.writeText(decodeURI('Dataset%20type%09Rows%09Mean%20target%09Baseline%20mean_absolute_error%09Enriched%20mean_absolute_error%09Uplift%0ATrain%09464%09100.7802%0922.892%20%C2%B1%201.865%0922.857%20%C2%B1%201.617%090.03471433672060442%0A'))>📂 Copy</button>\n",
              "                <a href='mailto:<Share with...>?subject=Relevant external data sources from Upgini.com&body=Dataset%20type%09Rows%09Mean%20target%09Baseline%20mean_absolute_error%09Enriched%20mean_absolute_error%09Uplift%0ATrain%09464%09100.7802%0922.892%20%C2%B1%201.865%0922.857%20%C2%B1%201.617%090.03471433672060442%0A'>\n",
              "                    <button>📨 Share</button>\n",
              "                </a>\n",
              "            </div>\n",
              "            <table class='upgini-df'><thead><th>Dataset type</th><th>Rows</th><th>Mean target</th><th>Baseline mean_absolute_error</th><th>Enriched mean_absolute_error</th><th>Uplift</th></thead><tbody><tr><td class='upgini-text'>Train</td><td class='upgini-number'>464</td><td class='upgini-number'>100.7802</td><td class='upgini-text'>22.892 ± 1.865</td><td class='upgini-text'>22.857 ± 1.617</td><td class='upgini-number'>0.0347</td></tr></tbody></table>\n",
              "        </div>\n",
              "        "
            ]
          },
          "metadata": {}
        },
        {
          "output_type": "display_data",
          "data": {
            "text/plain": [
              "<IPython.core.display.HTML object>"
            ],
            "text/html": [
              "<a download=\"upgini-report-bc68c4d2-ae28-46a1-992f-0242b7383f29.pdf\" href=\"data:application/pdf;base64,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\" target=\"_blank\">\n",
              "        <button>📊 Download PDF report</button></a>"
            ]
          },
          "metadata": {}
        }
      ],
      "source": [
        "df = pd.read_csv(df_path)\n",
        "train_features = df.drop(['avg_salary'], axis=1)\n",
        "train_target = df.avg_salary\n",
        "\n",
        "enricher = FeaturesEnricher(\n",
        "    search_keys={\n",
        "    'country': SearchKey.COUNTRY,\n",
        "    'Postal_code': SearchKey.POSTAL_CODE})\n",
        "enricher.fit(train_features, train_target, scoring = \"mean_absolute_error\")"
      ]
    },
    {
      "cell_type": "code",
      "source": [],
      "metadata": {
        "id": "hG9d67_N99u6"
      },
      "execution_count": null,
      "outputs": []
    }
  ],
  "metadata": {
    "colab": {
      "provenance": []
    },
    "kernelspec": {
      "display_name": "Python 3",
      "name": "python3"
    },
    "language_info": {
      "name": "python"
    }
  },
  "nbformat": 4,
  "nbformat_minor": 0
}