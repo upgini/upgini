{
  "cells": [
    {
      "cell_type": "markdown",
      "metadata": {
        "id": "OWCJgnbSj2Sm"
      },
      "source": [
        "![alt text](\n",
        "https://cdn.prod.website-files.com/65d5721664bea140c05f5301/65e354e4b9ddb1c6aaa7d7b1_upgini_logo%20gradient.svg)   \n",
        "## [Intelligent data search & enrichment engine for Machine Learning](https://upgini.com)\n",
        "# Quick Start guide: Search new relevant external features for  store item demand forecast\n",
        "_________________\n",
        "\n",
        "Following this guide, you'll learn how to **search new relevant features with Upgini library**. We will enrich a dataset with new features and significantly improve model accuracy. All in 3 simple steps.  \n",
        "The goal is to predict future sales of different goods in stores based on a 5-year history of sales. The evaluation metric is MAPE.  \n",
        "⏱ Time needed: *10 minutes.*  \n",
        "\n",
        "Download this notebook: [GitHub Link](https://github.com/upgini/upgini/blob/main/notebooks/kaggle_example.ipynb)\n",
        "_________________\n",
        "\n",
        "First, let's install latest version of Upgini library. Also, we'll need CatBoost for the last part of this guide."
      ]
    },
    {
      "cell_type": "code",
      "execution_count": 1,
      "metadata": {
        "id": "abGU-D4rj2So",
        "outputId": "29f300a7-c5d9-4a8f-b4c3-8258bdb03a7e",
        "colab": {
          "base_uri": "https://localhost:8080/"
        }
      },
      "outputs": [
        {
          "output_type": "stream",
          "name": "stdout",
          "text": [
            "\u001b[2K     \u001b[90m━━━━━━━━━━━━━━━━━━━━━━━━━━━━━━━━━━━━━━━\u001b[0m \u001b[32m49.5/49.5 kB\u001b[0m \u001b[31m860.5 kB/s\u001b[0m eta \u001b[36m0:00:00\u001b[0m\n",
            "\u001b[2K     \u001b[90m━━━━━━━━━━━━━━━━━━━━━━━━━━━━━━━━━━━━━━\u001b[0m \u001b[32m913.9/913.9 kB\u001b[0m \u001b[31m23.3 MB/s\u001b[0m eta \u001b[36m0:00:00\u001b[0m\n",
            "\u001b[?25h  Preparing metadata (setup.py) ... \u001b[?25l\u001b[?25hdone\n",
            "\u001b[2K   \u001b[90m━━━━━━━━━━━━━━━━━━━━━━━━━━━━━━━━━━━━━━━━\u001b[0m \u001b[32m291.0/291.0 kB\u001b[0m \u001b[31m15.4 MB/s\u001b[0m eta \u001b[36m0:00:00\u001b[0m\n",
            "\u001b[2K   \u001b[90m━━━━━━━━━━━━━━━━━━━━━━━━━━━━━━━━━━━━━━━━\u001b[0m \u001b[32m99.2/99.2 MB\u001b[0m \u001b[31m7.9 MB/s\u001b[0m eta \u001b[36m0:00:00\u001b[0m\n",
            "\u001b[2K   \u001b[90m━━━━━━━━━━━━━━━━━━━━━━━━━━━━━━━━━━━━━━━━\u001b[0m \u001b[32m85.7/85.7 kB\u001b[0m \u001b[31m7.5 MB/s\u001b[0m eta \u001b[36m0:00:00\u001b[0m\n",
            "\u001b[2K   \u001b[90m━━━━━━━━━━━━━━━━━━━━━━━━━━━━━━━━━━━━━━━━\u001b[0m \u001b[32m1.8/1.8 MB\u001b[0m \u001b[31m59.3 MB/s\u001b[0m eta \u001b[36m0:00:00\u001b[0m\n",
            "\u001b[2K   \u001b[90m━━━━━━━━━━━━━━━━━━━━━━━━━━━━━━━━━━━━━━━━\u001b[0m \u001b[32m139.8/139.8 kB\u001b[0m \u001b[31m11.5 MB/s\u001b[0m eta \u001b[36m0:00:00\u001b[0m\n",
            "\u001b[2K   \u001b[90m━━━━━━━━━━━━━━━━━━━━━━━━━━━━━━━━━━━━━━━━\u001b[0m \u001b[32m161.7/161.7 kB\u001b[0m \u001b[31m15.4 MB/s\u001b[0m eta \u001b[36m0:00:00\u001b[0m\n",
            "\u001b[2K   \u001b[90m━━━━━━━━━━━━━━━━━━━━━━━━━━━━━━━━━━━━━━━━\u001b[0m \u001b[32m3.6/3.6 MB\u001b[0m \u001b[31m98.5 MB/s\u001b[0m eta \u001b[36m0:00:00\u001b[0m\n",
            "\u001b[2K   \u001b[90m━━━━━━━━━━━━━━━━━━━━━━━━━━━━━━━━━━━━━━━━\u001b[0m \u001b[32m125.0/125.0 kB\u001b[0m \u001b[31m12.4 MB/s\u001b[0m eta \u001b[36m0:00:00\u001b[0m\n",
            "\u001b[2K   \u001b[90m━━━━━━━━━━━━━━━━━━━━━━━━━━━━━━━━━━━━━━━━\u001b[0m \u001b[32m420.2/420.2 kB\u001b[0m \u001b[31m35.0 MB/s\u001b[0m eta \u001b[36m0:00:00\u001b[0m\n",
            "\u001b[2K   \u001b[90m━━━━━━━━━━━━━━━━━━━━━━━━━━━━━━━━━━━━━━━━\u001b[0m \u001b[32m110.5/110.5 kB\u001b[0m \u001b[31m10.6 MB/s\u001b[0m eta \u001b[36m0:00:00\u001b[0m\n",
            "\u001b[2K   \u001b[90m━━━━━━━━━━━━━━━━━━━━━━━━━━━━━━━━━━━━━━━━\u001b[0m \u001b[32m304.2/304.2 kB\u001b[0m \u001b[31m27.9 MB/s\u001b[0m eta \u001b[36m0:00:00\u001b[0m\n",
            "\u001b[2K   \u001b[90m━━━━━━━━━━━━━━━━━━━━━━━━━━━━━━━━━━━━━━━━\u001b[0m \u001b[32m3.1/3.1 MB\u001b[0m \u001b[31m96.3 MB/s\u001b[0m eta \u001b[36m0:00:00\u001b[0m\n",
            "\u001b[2K   \u001b[90m━━━━━━━━━━━━━━━━━━━━━━━━━━━━━━━━━━━━━━━━\u001b[0m \u001b[32m2.0/2.0 MB\u001b[0m \u001b[31m83.3 MB/s\u001b[0m eta \u001b[36m0:00:00\u001b[0m\n",
            "\u001b[2K   \u001b[90m━━━━━━━━━━━━━━━━━━━━━━━━━━━━━━━━━━━━━━━━\u001b[0m \u001b[32m2.2/2.2 MB\u001b[0m \u001b[31m81.9 MB/s\u001b[0m eta \u001b[36m0:00:00\u001b[0m\n",
            "\u001b[2K   \u001b[90m━━━━━━━━━━━━━━━━━━━━━━━━━━━━━━━━━━━━━━━━\u001b[0m \u001b[32m105.0/105.0 kB\u001b[0m \u001b[31m9.6 MB/s\u001b[0m eta \u001b[36m0:00:00\u001b[0m\n",
            "\u001b[2K   \u001b[90m━━━━━━━━━━━━━━━━━━━━━━━━━━━━━━━━━━━━━━━━\u001b[0m \u001b[32m1.6/1.6 MB\u001b[0m \u001b[31m71.6 MB/s\u001b[0m eta \u001b[36m0:00:00\u001b[0m\n",
            "\u001b[2K   \u001b[90m━━━━━━━━━━━━━━━━━━━━━━━━━━━━━━━━━━━━━━━━\u001b[0m \u001b[32m194.6/194.6 kB\u001b[0m \u001b[31m16.9 MB/s\u001b[0m eta \u001b[36m0:00:00\u001b[0m\n",
            "\u001b[?25h  Building wheel for svglib (setup.py) ... \u001b[?25l\u001b[?25hdone\n"
          ]
        }
      ],
      "source": [
        "%pip install -Uq upgini catboost"
      ]
    },
    {
      "cell_type": "markdown",
      "metadata": {
        "id": "YO-yFlFXj2Sq"
      },
      "source": [
        "## 1️⃣ Prepare input data\n",
        "\n",
        "For this guide we'll use the train dataset from [Store Item Demand Forecasting Challenge](https://www.kaggle.com/c/demand-forecasting-kernels-only). You can download it from [here](https://www.kaggle.com/c/demand-forecasting-kernels-only/data?select=train.csv).  \n",
        "To speed up the search we'll take a subsample.  \n",
        "⚠️ All columns in the input dataset with dates/datetime should be converted to pandas datetime object for correct datetime representation"
      ]
    },
    {
      "cell_type": "code",
      "execution_count": 2,
      "metadata": {
        "colab": {
          "base_uri": "https://localhost:8080/",
          "height": 206
        },
        "id": "q_5HZgtCj2Sq",
        "outputId": "699a4068-4dd8-48a2-b083-f9a254118df2"
      },
      "outputs": [
        {
          "output_type": "execute_result",
          "data": {
            "text/plain": [
              "        date store item  sales\n",
              "0 2013-01-01     7    5      5\n",
              "1 2013-01-01     4    9     19\n",
              "2 2013-01-01     1   33     37\n",
              "3 2013-01-01     3   41     14\n",
              "4 2013-01-01     5   24     26"
            ],
            "text/html": [
              "\n",
              "  <div id=\"df-b4981a8f-8555-4f04-aa2f-85a226672033\" class=\"colab-df-container\">\n",
              "    <div>\n",
              "<style scoped>\n",
              "    .dataframe tbody tr th:only-of-type {\n",
              "        vertical-align: middle;\n",
              "    }\n",
              "\n",
              "    .dataframe tbody tr th {\n",
              "        vertical-align: top;\n",
              "    }\n",
              "\n",
              "    .dataframe thead th {\n",
              "        text-align: right;\n",
              "    }\n",
              "</style>\n",
              "<table border=\"1\" class=\"dataframe\">\n",
              "  <thead>\n",
              "    <tr style=\"text-align: right;\">\n",
              "      <th></th>\n",
              "      <th>date</th>\n",
              "      <th>store</th>\n",
              "      <th>item</th>\n",
              "      <th>sales</th>\n",
              "    </tr>\n",
              "  </thead>\n",
              "  <tbody>\n",
              "    <tr>\n",
              "      <th>0</th>\n",
              "      <td>2013-01-01</td>\n",
              "      <td>7</td>\n",
              "      <td>5</td>\n",
              "      <td>5</td>\n",
              "    </tr>\n",
              "    <tr>\n",
              "      <th>1</th>\n",
              "      <td>2013-01-01</td>\n",
              "      <td>4</td>\n",
              "      <td>9</td>\n",
              "      <td>19</td>\n",
              "    </tr>\n",
              "    <tr>\n",
              "      <th>2</th>\n",
              "      <td>2013-01-01</td>\n",
              "      <td>1</td>\n",
              "      <td>33</td>\n",
              "      <td>37</td>\n",
              "    </tr>\n",
              "    <tr>\n",
              "      <th>3</th>\n",
              "      <td>2013-01-01</td>\n",
              "      <td>3</td>\n",
              "      <td>41</td>\n",
              "      <td>14</td>\n",
              "    </tr>\n",
              "    <tr>\n",
              "      <th>4</th>\n",
              "      <td>2013-01-01</td>\n",
              "      <td>5</td>\n",
              "      <td>24</td>\n",
              "      <td>26</td>\n",
              "    </tr>\n",
              "  </tbody>\n",
              "</table>\n",
              "</div>\n",
              "    <div class=\"colab-df-buttons\">\n",
              "\n",
              "  <div class=\"colab-df-container\">\n",
              "    <button class=\"colab-df-convert\" onclick=\"convertToInteractive('df-b4981a8f-8555-4f04-aa2f-85a226672033')\"\n",
              "            title=\"Convert this dataframe to an interactive table.\"\n",
              "            style=\"display:none;\">\n",
              "\n",
              "  <svg xmlns=\"http://www.w3.org/2000/svg\" height=\"24px\" viewBox=\"0 -960 960 960\">\n",
              "    <path d=\"M120-120v-720h720v720H120Zm60-500h600v-160H180v160Zm220 220h160v-160H400v160Zm0 220h160v-160H400v160ZM180-400h160v-160H180v160Zm440 0h160v-160H620v160ZM180-180h160v-160H180v160Zm440 0h160v-160H620v160Z\"/>\n",
              "  </svg>\n",
              "    </button>\n",
              "\n",
              "  <style>\n",
              "    .colab-df-container {\n",
              "      display:flex;\n",
              "      gap: 12px;\n",
              "    }\n",
              "\n",
              "    .colab-df-convert {\n",
              "      background-color: #E8F0FE;\n",
              "      border: none;\n",
              "      border-radius: 50%;\n",
              "      cursor: pointer;\n",
              "      display: none;\n",
              "      fill: #1967D2;\n",
              "      height: 32px;\n",
              "      padding: 0 0 0 0;\n",
              "      width: 32px;\n",
              "    }\n",
              "\n",
              "    .colab-df-convert:hover {\n",
              "      background-color: #E2EBFA;\n",
              "      box-shadow: 0px 1px 2px rgba(60, 64, 67, 0.3), 0px 1px 3px 1px rgba(60, 64, 67, 0.15);\n",
              "      fill: #174EA6;\n",
              "    }\n",
              "\n",
              "    .colab-df-buttons div {\n",
              "      margin-bottom: 4px;\n",
              "    }\n",
              "\n",
              "    [theme=dark] .colab-df-convert {\n",
              "      background-color: #3B4455;\n",
              "      fill: #D2E3FC;\n",
              "    }\n",
              "\n",
              "    [theme=dark] .colab-df-convert:hover {\n",
              "      background-color: #434B5C;\n",
              "      box-shadow: 0px 1px 3px 1px rgba(0, 0, 0, 0.15);\n",
              "      filter: drop-shadow(0px 1px 2px rgba(0, 0, 0, 0.3));\n",
              "      fill: #FFFFFF;\n",
              "    }\n",
              "  </style>\n",
              "\n",
              "    <script>\n",
              "      const buttonEl =\n",
              "        document.querySelector('#df-b4981a8f-8555-4f04-aa2f-85a226672033 button.colab-df-convert');\n",
              "      buttonEl.style.display =\n",
              "        google.colab.kernel.accessAllowed ? 'block' : 'none';\n",
              "\n",
              "      async function convertToInteractive(key) {\n",
              "        const element = document.querySelector('#df-b4981a8f-8555-4f04-aa2f-85a226672033');\n",
              "        const dataTable =\n",
              "          await google.colab.kernel.invokeFunction('convertToInteractive',\n",
              "                                                    [key], {});\n",
              "        if (!dataTable) return;\n",
              "\n",
              "        const docLinkHtml = 'Like what you see? Visit the ' +\n",
              "          '<a target=\"_blank\" href=https://colab.research.google.com/notebooks/data_table.ipynb>data table notebook</a>'\n",
              "          + ' to learn more about interactive tables.';\n",
              "        element.innerHTML = '';\n",
              "        dataTable['output_type'] = 'display_data';\n",
              "        await google.colab.output.renderOutput(dataTable, element);\n",
              "        const docLink = document.createElement('div');\n",
              "        docLink.innerHTML = docLinkHtml;\n",
              "        element.appendChild(docLink);\n",
              "      }\n",
              "    </script>\n",
              "  </div>\n",
              "\n",
              "\n",
              "    <div id=\"df-ba9894e7-c0cb-4c87-89f6-59868655ee11\">\n",
              "      <button class=\"colab-df-quickchart\" onclick=\"quickchart('df-ba9894e7-c0cb-4c87-89f6-59868655ee11')\"\n",
              "                title=\"Suggest charts\"\n",
              "                style=\"display:none;\">\n",
              "\n",
              "<svg xmlns=\"http://www.w3.org/2000/svg\" height=\"24px\"viewBox=\"0 0 24 24\"\n",
              "     width=\"24px\">\n",
              "    <g>\n",
              "        <path d=\"M19 3H5c-1.1 0-2 .9-2 2v14c0 1.1.9 2 2 2h14c1.1 0 2-.9 2-2V5c0-1.1-.9-2-2-2zM9 17H7v-7h2v7zm4 0h-2V7h2v10zm4 0h-2v-4h2v4z\"/>\n",
              "    </g>\n",
              "</svg>\n",
              "      </button>\n",
              "\n",
              "<style>\n",
              "  .colab-df-quickchart {\n",
              "      --bg-color: #E8F0FE;\n",
              "      --fill-color: #1967D2;\n",
              "      --hover-bg-color: #E2EBFA;\n",
              "      --hover-fill-color: #174EA6;\n",
              "      --disabled-fill-color: #AAA;\n",
              "      --disabled-bg-color: #DDD;\n",
              "  }\n",
              "\n",
              "  [theme=dark] .colab-df-quickchart {\n",
              "      --bg-color: #3B4455;\n",
              "      --fill-color: #D2E3FC;\n",
              "      --hover-bg-color: #434B5C;\n",
              "      --hover-fill-color: #FFFFFF;\n",
              "      --disabled-bg-color: #3B4455;\n",
              "      --disabled-fill-color: #666;\n",
              "  }\n",
              "\n",
              "  .colab-df-quickchart {\n",
              "    background-color: var(--bg-color);\n",
              "    border: none;\n",
              "    border-radius: 50%;\n",
              "    cursor: pointer;\n",
              "    display: none;\n",
              "    fill: var(--fill-color);\n",
              "    height: 32px;\n",
              "    padding: 0;\n",
              "    width: 32px;\n",
              "  }\n",
              "\n",
              "  .colab-df-quickchart:hover {\n",
              "    background-color: var(--hover-bg-color);\n",
              "    box-shadow: 0 1px 2px rgba(60, 64, 67, 0.3), 0 1px 3px 1px rgba(60, 64, 67, 0.15);\n",
              "    fill: var(--button-hover-fill-color);\n",
              "  }\n",
              "\n",
              "  .colab-df-quickchart-complete:disabled,\n",
              "  .colab-df-quickchart-complete:disabled:hover {\n",
              "    background-color: var(--disabled-bg-color);\n",
              "    fill: var(--disabled-fill-color);\n",
              "    box-shadow: none;\n",
              "  }\n",
              "\n",
              "  .colab-df-spinner {\n",
              "    border: 2px solid var(--fill-color);\n",
              "    border-color: transparent;\n",
              "    border-bottom-color: var(--fill-color);\n",
              "    animation:\n",
              "      spin 1s steps(1) infinite;\n",
              "  }\n",
              "\n",
              "  @keyframes spin {\n",
              "    0% {\n",
              "      border-color: transparent;\n",
              "      border-bottom-color: var(--fill-color);\n",
              "      border-left-color: var(--fill-color);\n",
              "    }\n",
              "    20% {\n",
              "      border-color: transparent;\n",
              "      border-left-color: var(--fill-color);\n",
              "      border-top-color: var(--fill-color);\n",
              "    }\n",
              "    30% {\n",
              "      border-color: transparent;\n",
              "      border-left-color: var(--fill-color);\n",
              "      border-top-color: var(--fill-color);\n",
              "      border-right-color: var(--fill-color);\n",
              "    }\n",
              "    40% {\n",
              "      border-color: transparent;\n",
              "      border-right-color: var(--fill-color);\n",
              "      border-top-color: var(--fill-color);\n",
              "    }\n",
              "    60% {\n",
              "      border-color: transparent;\n",
              "      border-right-color: var(--fill-color);\n",
              "    }\n",
              "    80% {\n",
              "      border-color: transparent;\n",
              "      border-right-color: var(--fill-color);\n",
              "      border-bottom-color: var(--fill-color);\n",
              "    }\n",
              "    90% {\n",
              "      border-color: transparent;\n",
              "      border-bottom-color: var(--fill-color);\n",
              "    }\n",
              "  }\n",
              "</style>\n",
              "\n",
              "      <script>\n",
              "        async function quickchart(key) {\n",
              "          const quickchartButtonEl =\n",
              "            document.querySelector('#' + key + ' button');\n",
              "          quickchartButtonEl.disabled = true;  // To prevent multiple clicks.\n",
              "          quickchartButtonEl.classList.add('colab-df-spinner');\n",
              "          try {\n",
              "            const charts = await google.colab.kernel.invokeFunction(\n",
              "                'suggestCharts', [key], {});\n",
              "          } catch (error) {\n",
              "            console.error('Error during call to suggestCharts:', error);\n",
              "          }\n",
              "          quickchartButtonEl.classList.remove('colab-df-spinner');\n",
              "          quickchartButtonEl.classList.add('colab-df-quickchart-complete');\n",
              "        }\n",
              "        (() => {\n",
              "          let quickchartButtonEl =\n",
              "            document.querySelector('#df-ba9894e7-c0cb-4c87-89f6-59868655ee11 button');\n",
              "          quickchartButtonEl.style.display =\n",
              "            google.colab.kernel.accessAllowed ? 'block' : 'none';\n",
              "        })();\n",
              "      </script>\n",
              "    </div>\n",
              "\n",
              "    </div>\n",
              "  </div>\n"
            ],
            "application/vnd.google.colaboratory.intrinsic+json": {
              "type": "dataframe",
              "variable_name": "df",
              "summary": "{\n  \"name\": \"df\",\n  \"rows\": 19000,\n  \"fields\": [\n    {\n      \"column\": \"date\",\n      \"properties\": {\n        \"dtype\": \"date\",\n        \"min\": \"2013-01-01 00:00:00\",\n        \"max\": \"2017-12-31 00:00:00\",\n        \"num_unique_values\": 1826,\n        \"samples\": [\n          \"2015-09-26 00:00:00\",\n          \"2017-02-27 00:00:00\",\n          \"2013-10-26 00:00:00\"\n        ],\n        \"semantic_type\": \"\",\n        \"description\": \"\"\n      }\n    },\n    {\n      \"column\": \"store\",\n      \"properties\": {\n        \"dtype\": \"category\",\n        \"num_unique_values\": 10,\n        \"samples\": [\n          \"9\",\n          \"4\",\n          \"2\"\n        ],\n        \"semantic_type\": \"\",\n        \"description\": \"\"\n      }\n    },\n    {\n      \"column\": \"item\",\n      \"properties\": {\n        \"dtype\": \"category\",\n        \"num_unique_values\": 50,\n        \"samples\": [\n          \"40\",\n          \"43\",\n          \"20\"\n        ],\n        \"semantic_type\": \"\",\n        \"description\": \"\"\n      }\n    },\n    {\n      \"column\": \"sales\",\n      \"properties\": {\n        \"dtype\": \"number\",\n        \"std\": 28,\n        \"min\": 1,\n        \"max\": 205,\n        \"num_unique_values\": 173,\n        \"samples\": [\n          196,\n          63,\n          94\n        ],\n        \"semantic_type\": \"\",\n        \"description\": \"\"\n      }\n    }\n  ]\n}"
            }
          },
          "metadata": {},
          "execution_count": 2
        }
      ],
      "source": [
        "from os.path import exists\n",
        "import pandas as pd\n",
        "\n",
        "df_path = \"train.csv.zip\" if exists(\"train.csv.zip\") else \"https://github.com/upgini/upgini/raw/main/notebooks/train.csv.zip\"\n",
        "df = pd.read_csv(df_path).sample(n=19_000, random_state=0)\n",
        "df[\"store\"] = df[\"store\"].astype(str)\n",
        "df[\"item\"] = df[\"item\"].astype(str)\n",
        "\n",
        "# Convert date column to datetime pandas object\n",
        "df[\"date\"] = pd.to_datetime(df[\"date\"])\n",
        "\n",
        "df.sort_values(\"date\", inplace=True)\n",
        "df.reset_index(inplace=True, drop=True)\n",
        "df.head()"
      ]
    },
    {
      "cell_type": "markdown",
      "metadata": {
        "id": "bpxDehsxj2Sq"
      },
      "source": [
        "This dataset contains 5 years of records from 2013 to 2017. Let's split it into the train (2013–2016) and the evaluation (2017) parts."
      ]
    },
    {
      "cell_type": "code",
      "execution_count": 3,
      "metadata": {
        "id": "VLTtFk1Xj2Sr"
      },
      "outputs": [],
      "source": [
        "train = df[df[\"date\"] < \"2017-01-01\"]\n",
        "test = df[df[\"date\"] >= \"2017-01-01\"]"
      ]
    },
    {
      "cell_type": "markdown",
      "metadata": {
        "id": "p9LMpAcVj2Sr"
      },
      "source": [
        "Let's also separate features from targets in *a scikit-learn style* (X and y)."
      ]
    },
    {
      "cell_type": "code",
      "execution_count": 4,
      "metadata": {
        "id": "7Ty1IWg8j2Sr"
      },
      "outputs": [],
      "source": [
        "train_features = train.drop(columns=[\"sales\"])\n",
        "train_target = train[\"sales\"]\n",
        "test_features = test.drop(columns=[\"sales\"])\n",
        "test_target = test[\"sales\"]"
      ]
    },
    {
      "cell_type": "markdown",
      "metadata": {
        "id": "xWkF4TeAj2Ss"
      },
      "source": [
        "## 2️⃣ Search new relevant features with FeaturesEnricher\n",
        "\n",
        "Next, we will use **`FeaturesEnricher`** on the train dataset to find new features relevant for this target prediction.  \n",
        "* To do this, we need to specify the column(s) containing [**search key(s)**](https://github.com/upgini/upgini#-search-key-types-we-support-more-to-come), in this case it's `date` and provide the target to predict.  \n",
        "* Also, we can specify any number of additional out-of-time validation datasets to evaluate robustness of the new features.  \n",
        "* This search task will be auto-detected as a regression. And as we have time series prediction (daily sales as a target variable), we have to pass [**time series specific cross-validation split**](https://github.com/upgini/upgini#-time-series-prediction-support) **`CVType.time_series`**. Now search algorithm know that we are working with the time series prediction task, not just simple regression and will use [time series CV](https://scikit-learn.org/stable/modules/cross_validation.html#time-series-split) for new features search.  \n",
        "* For Multivariate Time Series you should specify **`id_columns`** which contains `id` of univariate TS, in this example - combination of Store and Item.\n",
        "\n",
        "Search step will take around *2.5 minutes*"
      ]
    },
    {
      "cell_type": "code",
      "execution_count": 5,
      "metadata": {
        "colab": {
          "base_uri": "https://localhost:8080/",
          "height": 1000
        },
        "id": "C_iR9XEXj2Ss",
        "outputId": "4137b099-1cb6-4ae8-8f73-55407dd50a03"
      },
      "outputs": [
        {
          "output_type": "display_data",
          "data": {
            "text/plain": [
              "[============================================================] 100% Finished"
            ],
            "text/html": [
              "<progress style='width:60ex' max='100' value='100'></progress>  100% Finished</br>"
            ]
          },
          "metadata": {}
        },
        {
          "output_type": "display_data",
          "data": {
            "text/plain": [
              "<IPython.core.display.Javascript object>"
            ],
            "application/javascript": [
              "\n",
              "                    async function getVisitorId() {\n",
              "                        return import('https://upgini.github.io/upgini/js/a.js')\n",
              "                            .then(FingerprintJS => FingerprintJS.load())\n",
              "                            .then(fp => fp.get())\n",
              "                            .then(result => result.visitorId);\n",
              "                    }\n",
              "                    "
            ]
          },
          "metadata": {}
        },
        {
          "output_type": "display_data",
          "data": {
            "text/plain": [
              "<IPython.core.display.Javascript object>"
            ],
            "application/javascript": [
              "\n",
              "                    async function getVisitorId() {\n",
              "                        return import('https://upgini.github.io/upgini/js/a.js')\n",
              "                            .then(FingerprintJS => FingerprintJS.load())\n",
              "                            .then(fp => fp.get())\n",
              "                            .then(result => result.visitorId);\n",
              "                    }\n",
              "                    "
            ]
          },
          "metadata": {}
        },
        {
          "output_type": "display_data",
          "data": {
            "text/plain": [
              "<IPython.core.display.Javascript object>"
            ],
            "application/javascript": [
              "\n",
              "                    async function getVisitorId() {\n",
              "                        return import('https://upgini.github.io/upgini/js/a.js')\n",
              "                            .then(FingerprintJS => FingerprintJS.load())\n",
              "                            .then(fp => fp.get())\n",
              "                            .then(result => result.visitorId);\n",
              "                    }\n",
              "                    "
            ]
          },
          "metadata": {}
        },
        {
          "output_type": "display_data",
          "data": {
            "text/plain": [
              "<IPython.core.display.Javascript object>"
            ],
            "application/javascript": [
              "\n",
              "                    async function getVisitorId() {\n",
              "                        return import('https://upgini.github.io/upgini/js/a.js')\n",
              "                            .then(FingerprintJS => FingerprintJS.load())\n",
              "                            .then(fp => fp.get())\n",
              "                            .then(result => result.visitorId);\n",
              "                    }\n",
              "                    "
            ]
          },
          "metadata": {}
        },
        {
          "output_type": "display_data",
          "data": {
            "text/plain": [
              "<IPython.core.display.Javascript object>"
            ],
            "application/javascript": [
              "\n",
              "                    async function getVisitorId() {\n",
              "                        return import('https://upgini.github.io/upgini/js/a.js')\n",
              "                            .then(FingerprintJS => FingerprintJS.load())\n",
              "                            .then(fp => fp.get())\n",
              "                            .then(result => result.visitorId);\n",
              "                    }\n",
              "                    "
            ]
          },
          "metadata": {}
        },
        {
          "output_type": "display_data",
          "data": {
            "text/plain": [
              "<IPython.core.display.Javascript object>"
            ],
            "application/javascript": [
              "\n",
              "                    async function getVisitorId() {\n",
              "                        return import('https://upgini.github.io/upgini/js/a.js')\n",
              "                            .then(FingerprintJS => FingerprintJS.load())\n",
              "                            .then(fp => fp.get())\n",
              "                            .then(result => result.visitorId);\n",
              "                    }\n",
              "                    "
            ]
          },
          "metadata": {}
        },
        {
          "output_type": "display_data",
          "data": {
            "text/plain": [
              "<IPython.core.display.Javascript object>"
            ],
            "application/javascript": [
              "\n",
              "                    async function getVisitorId() {\n",
              "                        return import('https://upgini.github.io/upgini/js/a.js')\n",
              "                            .then(FingerprintJS => FingerprintJS.load())\n",
              "                            .then(fp => fp.get())\n",
              "                            .then(result => result.visitorId);\n",
              "                    }\n",
              "                    "
            ]
          },
          "metadata": {}
        },
        {
          "output_type": "stream",
          "name": "stdout",
          "text": [
            "WARNING #1: Search started with DATE search key only\n",
            "Try to add other keys like the COUNTRY, POSTAL_CODE, PHONE NUMBER, EMAIL/HEM, IP to your training dataset\n",
            "for search through all the available data sources.\n",
            "See docs https://github.com/upgini/upgini#-total-239-countries-and-up-to-41-years-of-history\n",
            "\n"
          ]
        },
        {
          "output_type": "display_data",
          "data": {
            "text/plain": [
              "<IPython.core.display.Javascript object>"
            ],
            "application/javascript": [
              "\n",
              "                    async function getVisitorId() {\n",
              "                        return import('https://upgini.github.io/upgini/js/a.js')\n",
              "                            .then(FingerprintJS => FingerprintJS.load())\n",
              "                            .then(fp => fp.get())\n",
              "                            .then(result => result.visitorId);\n",
              "                    }\n",
              "                    "
            ]
          },
          "metadata": {}
        },
        {
          "output_type": "display_data",
          "data": {
            "text/plain": [
              "<IPython.core.display.Javascript object>"
            ],
            "application/javascript": [
              "\n",
              "                    async function getVisitorId() {\n",
              "                        return import('https://upgini.github.io/upgini/js/a.js')\n",
              "                            .then(FingerprintJS => FingerprintJS.load())\n",
              "                            .then(fp => fp.get())\n",
              "                            .then(result => result.visitorId);\n",
              "                    }\n",
              "                    "
            ]
          },
          "metadata": {}
        },
        {
          "output_type": "display_data",
          "data": {
            "text/plain": [
              "<IPython.core.display.Javascript object>"
            ],
            "application/javascript": [
              "\n",
              "                    async function getVisitorId() {\n",
              "                        return import('https://upgini.github.io/upgini/js/a.js')\n",
              "                            .then(FingerprintJS => FingerprintJS.load())\n",
              "                            .then(fp => fp.get())\n",
              "                            .then(result => result.visitorId);\n",
              "                    }\n",
              "                    "
            ]
          },
          "metadata": {}
        },
        {
          "output_type": "stream",
          "name": "stdout",
          "text": [
            "\n",
            "Detected task type: ModelTaskType.REGRESSION. Reason: date search key is present, treating as regression\n",
            "You can set task type manually with argument `model_task_type` of FeaturesEnricher constructor if task type detected incorrectly\n",
            "\n"
          ]
        },
        {
          "output_type": "display_data",
          "data": {
            "text/plain": [
              "<IPython.core.display.Javascript object>"
            ],
            "application/javascript": [
              "\n",
              "                    async function getVisitorId() {\n",
              "                        return import('https://upgini.github.io/upgini/js/a.js')\n",
              "                            .then(FingerprintJS => FingerprintJS.load())\n",
              "                            .then(fp => fp.get())\n",
              "                            .then(result => result.visitorId);\n",
              "                    }\n",
              "                    "
            ]
          },
          "metadata": {}
        },
        {
          "output_type": "stream",
          "name": "stdout",
          "text": [
            "WARNING #2: Your training sample is unstable in number of rows per date. It is recommended to redesign the training sample\n",
            "\n"
          ]
        },
        {
          "output_type": "display_data",
          "data": {
            "text/plain": [
              "<IPython.core.display.Javascript object>"
            ],
            "application/javascript": [
              "\n",
              "                    async function getVisitorId() {\n",
              "                        return import('https://upgini.github.io/upgini/js/a.js')\n",
              "                            .then(FingerprintJS => FingerprintJS.load())\n",
              "                            .then(fp => fp.get())\n",
              "                            .then(result => result.visitorId);\n",
              "                    }\n",
              "                    "
            ]
          },
          "metadata": {}
        },
        {
          "output_type": "display_data",
          "data": {
            "text/plain": [
              "<IPython.core.display.Javascript object>"
            ],
            "application/javascript": [
              "\n",
              "                    async function getVisitorId() {\n",
              "                        return import('https://upgini.github.io/upgini/js/a.js')\n",
              "                            .then(FingerprintJS => FingerprintJS.load())\n",
              "                            .then(fp => fp.get())\n",
              "                            .then(result => result.visitorId);\n",
              "                    }\n",
              "                    "
            ]
          },
          "metadata": {}
        },
        {
          "output_type": "display_data",
          "data": {
            "text/plain": [
              "<IPython.core.display.Javascript object>"
            ],
            "application/javascript": [
              "\n",
              "                    async function getVisitorId() {\n",
              "                        return import('https://upgini.github.io/upgini/js/a.js')\n",
              "                            .then(FingerprintJS => FingerprintJS.load())\n",
              "                            .then(fp => fp.get())\n",
              "                            .then(result => result.visitorId);\n",
              "                    }\n",
              "                    "
            ]
          },
          "metadata": {}
        },
        {
          "output_type": "display_data",
          "data": {
            "text/plain": [
              "<IPython.core.display.Javascript object>"
            ],
            "application/javascript": [
              "\n",
              "                    async function getVisitorId() {\n",
              "                        return import('https://upgini.github.io/upgini/js/a.js')\n",
              "                            .then(FingerprintJS => FingerprintJS.load())\n",
              "                            .then(fp => fp.get())\n",
              "                            .then(result => result.visitorId);\n",
              "                    }\n",
              "                    "
            ]
          },
          "metadata": {}
        },
        {
          "output_type": "display_data",
          "data": {
            "text/plain": [
              "<IPython.core.display.Javascript object>"
            ],
            "application/javascript": [
              "\n",
              "                    async function getVisitorId() {\n",
              "                        return import('https://upgini.github.io/upgini/js/a.js')\n",
              "                            .then(FingerprintJS => FingerprintJS.load())\n",
              "                            .then(fp => fp.get())\n",
              "                            .then(result => result.visitorId);\n",
              "                    }\n",
              "                    "
            ]
          },
          "metadata": {}
        },
        {
          "output_type": "display_data",
          "data": {
            "text/plain": [
              "<IPython.core.display.HTML object>"
            ],
            "text/html": [
              "<table><tr><th style='font-weight:bold'>Column name</th><th style='font-weight:bold'>Status</th><th style='font-weight:bold'>Errors</th></tr><tr><td>date</td><td style='background-color:#DAF7A6;color:black'>All valid</td><td>-</td></tr><tr><td>store</td><td style='background-color:#DAF7A6;color:black'>All valid</td><td>-</td></tr><tr><td>target</td><td style='background-color:#DAF7A6;color:black'>All valid</td><td>-</td></tr><tr><td>item</td><td style='background-color:#DAF7A6;color:black'>All valid</td><td>-</td></tr></table>"
            ]
          },
          "metadata": {}
        },
        {
          "output_type": "stream",
          "name": "stdout",
          "text": [
            "\n"
          ]
        },
        {
          "output_type": "display_data",
          "data": {
            "text/plain": [
              "<IPython.core.display.Javascript object>"
            ],
            "application/javascript": [
              "\n",
              "                    async function getVisitorId() {\n",
              "                        return import('https://upgini.github.io/upgini/js/a.js')\n",
              "                            .then(FingerprintJS => FingerprintJS.load())\n",
              "                            .then(fp => fp.get())\n",
              "                            .then(result => result.visitorId);\n",
              "                    }\n",
              "                    "
            ]
          },
          "metadata": {}
        },
        {
          "output_type": "display_data",
          "data": {
            "text/plain": [
              "<IPython.core.display.Javascript object>"
            ],
            "application/javascript": [
              "\n",
              "                        async function getIP() {\n",
              "                            return fetch(\"https://api64.ipify.org\")\n",
              "                                .then(response => response.text())\n",
              "                                .then(data => data);\n",
              "                        }\n",
              "                        "
            ]
          },
          "metadata": {}
        },
        {
          "output_type": "display_data",
          "data": {
            "text/plain": [
              "<IPython.core.display.Javascript object>"
            ],
            "application/javascript": [
              "\n",
              "                    async function getVisitorId() {\n",
              "                        return import('https://upgini.github.io/upgini/js/a.js')\n",
              "                            .then(FingerprintJS => FingerprintJS.load())\n",
              "                            .then(fp => fp.get())\n",
              "                            .then(result => result.visitorId);\n",
              "                    }\n",
              "                    "
            ]
          },
          "metadata": {}
        },
        {
          "output_type": "display_data",
          "data": {
            "text/plain": [
              "<IPython.core.display.Javascript object>"
            ],
            "application/javascript": [
              "\n",
              "                    async function getVisitorId() {\n",
              "                        return import('https://upgini.github.io/upgini/js/a.js')\n",
              "                            .then(FingerprintJS => FingerprintJS.load())\n",
              "                            .then(fp => fp.get())\n",
              "                            .then(result => result.visitorId);\n",
              "                    }\n",
              "                    "
            ]
          },
          "metadata": {}
        },
        {
          "output_type": "display_data",
          "data": {
            "text/plain": [
              "<IPython.core.display.Javascript object>"
            ],
            "application/javascript": [
              "\n",
              "                    async function getVisitorId() {\n",
              "                        return import('https://upgini.github.io/upgini/js/a.js')\n",
              "                            .then(FingerprintJS => FingerprintJS.load())\n",
              "                            .then(fp => fp.get())\n",
              "                            .then(result => result.visitorId);\n",
              "                    }\n",
              "                    "
            ]
          },
          "metadata": {}
        },
        {
          "output_type": "display_data",
          "data": {
            "text/plain": [
              "<IPython.core.display.Javascript object>"
            ],
            "application/javascript": [
              "\n",
              "                    async function getVisitorId() {\n",
              "                        return import('https://upgini.github.io/upgini/js/a.js')\n",
              "                            .then(FingerprintJS => FingerprintJS.load())\n",
              "                            .then(fp => fp.get())\n",
              "                            .then(result => result.visitorId);\n",
              "                    }\n",
              "                    "
            ]
          },
          "metadata": {}
        },
        {
          "output_type": "display_data",
          "data": {
            "text/plain": [
              "<IPython.core.display.Javascript object>"
            ],
            "application/javascript": [
              "\n",
              "                    async function getVisitorId() {\n",
              "                        return import('https://upgini.github.io/upgini/js/a.js')\n",
              "                            .then(FingerprintJS => FingerprintJS.load())\n",
              "                            .then(fp => fp.get())\n",
              "                            .then(result => result.visitorId);\n",
              "                    }\n",
              "                    "
            ]
          },
          "metadata": {}
        },
        {
          "output_type": "display_data",
          "data": {
            "text/plain": [
              "<IPython.core.display.Javascript object>"
            ],
            "application/javascript": [
              "\n",
              "                    async function getVisitorId() {\n",
              "                        return import('https://upgini.github.io/upgini/js/a.js')\n",
              "                            .then(FingerprintJS => FingerprintJS.load())\n",
              "                            .then(fp => fp.get())\n",
              "                            .then(result => result.visitorId);\n",
              "                    }\n",
              "                    "
            ]
          },
          "metadata": {}
        },
        {
          "output_type": "display_data",
          "data": {
            "text/plain": [
              "<IPython.core.display.Javascript object>"
            ],
            "application/javascript": [
              "\n",
              "                    async function getVisitorId() {\n",
              "                        return import('https://upgini.github.io/upgini/js/a.js')\n",
              "                            .then(FingerprintJS => FingerprintJS.load())\n",
              "                            .then(fp => fp.get())\n",
              "                            .then(result => result.visitorId);\n",
              "                    }\n",
              "                    "
            ]
          },
          "metadata": {}
        },
        {
          "output_type": "display_data",
          "data": {
            "text/plain": [
              "<IPython.core.display.Javascript object>"
            ],
            "application/javascript": [
              "\n",
              "                    async function getVisitorId() {\n",
              "                        return import('https://upgini.github.io/upgini/js/a.js')\n",
              "                            .then(FingerprintJS => FingerprintJS.load())\n",
              "                            .then(fp => fp.get())\n",
              "                            .then(result => result.visitorId);\n",
              "                    }\n",
              "                    "
            ]
          },
          "metadata": {}
        },
        {
          "output_type": "display_data",
          "data": {
            "text/plain": [
              "<IPython.core.display.Javascript object>"
            ],
            "application/javascript": [
              "\n",
              "                        async function getIP() {\n",
              "                            return fetch(\"https://api64.ipify.org\")\n",
              "                                .then(response => response.text())\n",
              "                                .then(data => data);\n",
              "                        }\n",
              "                        "
            ]
          },
          "metadata": {}
        },
        {
          "output_type": "display_data",
          "data": {
            "text/plain": [
              "<IPython.core.display.Javascript object>"
            ],
            "application/javascript": [
              "\n",
              "                        async function getIP() {\n",
              "                            return fetch(\"https://api64.ipify.org\")\n",
              "                                .then(response => response.text())\n",
              "                                .then(data => data);\n",
              "                        }\n",
              "                        "
            ]
          },
          "metadata": {}
        },
        {
          "output_type": "display_data",
          "data": {
            "text/plain": [
              "<IPython.core.display.Javascript object>"
            ],
            "application/javascript": [
              "\n",
              "                        async function getIP() {\n",
              "                            return fetch(\"https://api64.ipify.org\")\n",
              "                                .then(response => response.text())\n",
              "                                .then(data => data);\n",
              "                        }\n",
              "                        "
            ]
          },
          "metadata": {}
        },
        {
          "output_type": "display_data",
          "data": {
            "text/plain": [
              "<IPython.core.display.Javascript object>"
            ],
            "application/javascript": [
              "\n",
              "                        async function getIP() {\n",
              "                            return fetch(\"https://api64.ipify.org\")\n",
              "                                .then(response => response.text())\n",
              "                                .then(data => data);\n",
              "                        }\n",
              "                        "
            ]
          },
          "metadata": {}
        },
        {
          "output_type": "display_data",
          "data": {
            "text/plain": [
              "<IPython.core.display.Javascript object>"
            ],
            "application/javascript": [
              "\n",
              "                        async function getIP() {\n",
              "                            return fetch(\"https://api64.ipify.org\")\n",
              "                                .then(response => response.text())\n",
              "                                .then(data => data);\n",
              "                        }\n",
              "                        "
            ]
          },
          "metadata": {}
        },
        {
          "output_type": "display_data",
          "data": {
            "text/plain": [
              "<IPython.core.display.Javascript object>"
            ],
            "application/javascript": [
              "\n",
              "                        async function getIP() {\n",
              "                            return fetch(\"https://api64.ipify.org\")\n",
              "                                .then(response => response.text())\n",
              "                                .then(data => data);\n",
              "                        }\n",
              "                        "
            ]
          },
          "metadata": {}
        },
        {
          "output_type": "display_data",
          "data": {
            "text/plain": [
              "<IPython.core.display.Javascript object>"
            ],
            "application/javascript": [
              "\n",
              "                        async function getIP() {\n",
              "                            return fetch(\"https://api64.ipify.org\")\n",
              "                                .then(response => response.text())\n",
              "                                .then(data => data);\n",
              "                        }\n",
              "                        "
            ]
          },
          "metadata": {}
        },
        {
          "output_type": "display_data",
          "data": {
            "text/plain": [
              "<IPython.core.display.Javascript object>"
            ],
            "application/javascript": [
              "\n",
              "                        async function getIP() {\n",
              "                            return fetch(\"https://api64.ipify.org\")\n",
              "                                .then(response => response.text())\n",
              "                                .then(data => data);\n",
              "                        }\n",
              "                        "
            ]
          },
          "metadata": {}
        },
        {
          "output_type": "display_data",
          "data": {
            "text/plain": [
              "<IPython.core.display.Javascript object>"
            ],
            "application/javascript": [
              "\n",
              "                        async function getIP() {\n",
              "                            return fetch(\"https://api64.ipify.org\")\n",
              "                                .then(response => response.text())\n",
              "                                .then(data => data);\n",
              "                        }\n",
              "                        "
            ]
          },
          "metadata": {}
        },
        {
          "output_type": "display_data",
          "data": {
            "text/plain": [
              "<IPython.core.display.Javascript object>"
            ],
            "application/javascript": [
              "\n",
              "                        async function getIP() {\n",
              "                            return fetch(\"https://api64.ipify.org\")\n",
              "                                .then(response => response.text())\n",
              "                                .then(data => data);\n",
              "                        }\n",
              "                        "
            ]
          },
          "metadata": {}
        },
        {
          "output_type": "display_data",
          "data": {
            "text/plain": [
              "<IPython.core.display.Javascript object>"
            ],
            "application/javascript": [
              "\n",
              "                        async function getIP() {\n",
              "                            return fetch(\"https://api64.ipify.org\")\n",
              "                                .then(response => response.text())\n",
              "                                .then(data => data);\n",
              "                        }\n",
              "                        "
            ]
          },
          "metadata": {}
        },
        {
          "output_type": "display_data",
          "data": {
            "text/plain": [
              "<IPython.core.display.Javascript object>"
            ],
            "application/javascript": [
              "\n",
              "                        async function getIP() {\n",
              "                            return fetch(\"https://api64.ipify.org\")\n",
              "                                .then(response => response.text())\n",
              "                                .then(data => data);\n",
              "                        }\n",
              "                        "
            ]
          },
          "metadata": {}
        },
        {
          "output_type": "display_data",
          "data": {
            "text/plain": [
              "<IPython.core.display.Javascript object>"
            ],
            "application/javascript": [
              "\n",
              "                        async function getIP() {\n",
              "                            return fetch(\"https://api64.ipify.org\")\n",
              "                                .then(response => response.text())\n",
              "                                .then(data => data);\n",
              "                        }\n",
              "                        "
            ]
          },
          "metadata": {}
        },
        {
          "output_type": "display_data",
          "data": {
            "text/plain": [
              "<IPython.core.display.Javascript object>"
            ],
            "application/javascript": [
              "\n",
              "                        async function getIP() {\n",
              "                            return fetch(\"https://api64.ipify.org\")\n",
              "                                .then(response => response.text())\n",
              "                                .then(data => data);\n",
              "                        }\n",
              "                        "
            ]
          },
          "metadata": {}
        },
        {
          "output_type": "display_data",
          "data": {
            "text/plain": [
              "<IPython.core.display.Javascript object>"
            ],
            "application/javascript": [
              "\n",
              "                        async function getIP() {\n",
              "                            return fetch(\"https://api64.ipify.org\")\n",
              "                                .then(response => response.text())\n",
              "                                .then(data => data);\n",
              "                        }\n",
              "                        "
            ]
          },
          "metadata": {}
        },
        {
          "output_type": "display_data",
          "data": {
            "text/plain": [
              "<IPython.core.display.Javascript object>"
            ],
            "application/javascript": [
              "\n",
              "                        async function getIP() {\n",
              "                            return fetch(\"https://api64.ipify.org\")\n",
              "                                .then(response => response.text())\n",
              "                                .then(data => data);\n",
              "                        }\n",
              "                        "
            ]
          },
          "metadata": {}
        },
        {
          "output_type": "display_data",
          "data": {
            "text/plain": [
              "<IPython.core.display.Javascript object>"
            ],
            "application/javascript": [
              "\n",
              "                        async function getIP() {\n",
              "                            return fetch(\"https://api64.ipify.org\")\n",
              "                                .then(response => response.text())\n",
              "                                .then(data => data);\n",
              "                        }\n",
              "                        "
            ]
          },
          "metadata": {}
        },
        {
          "output_type": "display_data",
          "data": {
            "text/plain": [
              "<IPython.core.display.Javascript object>"
            ],
            "application/javascript": [
              "\n",
              "                        async function getIP() {\n",
              "                            return fetch(\"https://api64.ipify.org\")\n",
              "                                .then(response => response.text())\n",
              "                                .then(data => data);\n",
              "                        }\n",
              "                        "
            ]
          },
          "metadata": {}
        },
        {
          "output_type": "display_data",
          "data": {
            "text/plain": [
              "<IPython.core.display.Javascript object>"
            ],
            "application/javascript": [
              "\n",
              "                        async function getIP() {\n",
              "                            return fetch(\"https://api64.ipify.org\")\n",
              "                                .then(response => response.text())\n",
              "                                .then(data => data);\n",
              "                        }\n",
              "                        "
            ]
          },
          "metadata": {}
        },
        {
          "output_type": "display_data",
          "data": {
            "text/plain": [
              "<IPython.core.display.Javascript object>"
            ],
            "application/javascript": [
              "\n",
              "                        async function getIP() {\n",
              "                            return fetch(\"https://api64.ipify.org\")\n",
              "                                .then(response => response.text())\n",
              "                                .then(data => data);\n",
              "                        }\n",
              "                        "
            ]
          },
          "metadata": {}
        },
        {
          "output_type": "display_data",
          "data": {
            "text/plain": [
              "<IPython.core.display.Javascript object>"
            ],
            "application/javascript": [
              "\n",
              "                        async function getIP() {\n",
              "                            return fetch(\"https://api64.ipify.org\")\n",
              "                                .then(response => response.text())\n",
              "                                .then(data => data);\n",
              "                        }\n",
              "                        "
            ]
          },
          "metadata": {}
        },
        {
          "output_type": "display_data",
          "data": {
            "text/plain": [
              "<IPython.core.display.Javascript object>"
            ],
            "application/javascript": [
              "\n",
              "                        async function getIP() {\n",
              "                            return fetch(\"https://api64.ipify.org\")\n",
              "                                .then(response => response.text())\n",
              "                                .then(data => data);\n",
              "                        }\n",
              "                        "
            ]
          },
          "metadata": {}
        },
        {
          "output_type": "display_data",
          "data": {
            "text/plain": [
              "<IPython.core.display.Javascript object>"
            ],
            "application/javascript": [
              "\n",
              "                        async function getIP() {\n",
              "                            return fetch(\"https://api64.ipify.org\")\n",
              "                                .then(response => response.text())\n",
              "                                .then(data => data);\n",
              "                        }\n",
              "                        "
            ]
          },
          "metadata": {}
        },
        {
          "output_type": "display_data",
          "data": {
            "text/plain": [
              "<IPython.core.display.Javascript object>"
            ],
            "application/javascript": [
              "\n",
              "                        async function getIP() {\n",
              "                            return fetch(\"https://api64.ipify.org\")\n",
              "                                .then(response => response.text())\n",
              "                                .then(data => data);\n",
              "                        }\n",
              "                        "
            ]
          },
          "metadata": {}
        },
        {
          "output_type": "stream",
          "name": "stdout",
          "text": [
            "\n",
            "Running search request, search_id=c168a650-ee30-4f76-8903-6c387a95bf9f\n",
            "We'll send email notification once it's completed, just use your personal api_key from profile.upgini.com\n",
            "\n",
            "\u001b[92m\u001b[1m\n",
            "22 relevant feature(s) found with the search keys: ['date']\u001b[0m\n"
          ]
        },
        {
          "output_type": "display_data",
          "data": {
            "text/plain": [
              "<IPython.core.display.HTML object>"
            ],
            "text/html": [
              "<style>\n",
              "            .upgini-df thead th {\n",
              "                font-weight:bold;\n",
              "                text-align: center;\n",
              "                padding: 0.5em;\n",
              "                border-bottom: 2px solid black;\n",
              "            }\n",
              "\n",
              "            .upgini-df tbody td {\n",
              "                padding: 0.5em;\n",
              "                color: black;\n",
              "            }\n",
              "\n",
              "            .upgini-df tbody tr:nth-child(odd) {\n",
              "                background-color: #ffffff;\n",
              "            }\n",
              "\n",
              "            .upgini-df tbody tr:nth-child(even) {\n",
              "                background-color: #f2f2f2;\n",
              "            }\n",
              "\n",
              "            .upgini-text {\n",
              "                text-align: left;\n",
              "            }\n",
              "\n",
              "            .upgini-number {\n",
              "                text-align: center;\n",
              "            }\n",
              "        </style>\n",
              "        <h2>Relevant features</h2>\n",
              "        <div style=\"display:flex; flex-direction:column; align-items:flex-end; width: fit-content;\">\n",
              "            \n",
              "            <div style=\"text-align: right\">\n",
              "                <button onclick=navigator.clipboard.writeText(decodeURI('Feature%20name%09SHAP%20value%09Coverage%20%25%09Value%20preview%09Provider%09Source%09Updates%0Aitem%098.7631%09100.0%0912,%2038,%202%09%09%09%0Astore%096.6029%09100.0%096,%202,%205%09%09%09%0Af_autofe_trend_coef_8dae5d36ce%096.1936%09100.0%090.0189,%200.0072,%200.005%09Training%20dataset%09AutoFE%3A%20features%20from%20Training%20dataset%09%0Af_events_date_week_sin1_847b5db1%094.1014%09100.0%090.0,%20-0.4339,%200.4339%09Upgini%09Calendar%20data%09Daily%0Af_events_date_year_cos1_9014a856%092.227%09100.0%09-0.8566,%20-0.263,%200.878%09Upgini%09Calendar%20data%09Daily%0Af_autofe_roll_3d_min_aed5463a33%092.1619%09100.0%09-0.8566,%20-0.263,%200.878%09Training%20dataset,%20Upgini%09AutoFE%3A%20features%20from%20Training%20dataset,%3Ca%20href%3D%27https%3A%2F%2Fupgini.com%2F%23data_sources%27%20target%3D%27_blank%27%20rel%3D%27noopener%20noreferrer%27%3ECalendar%20data%3C%2Fa%3E%09Daily%0Af_autofe_roll_7d_min_ea7571ef80%091.8358%09100.0%09-0.8566,%20-0.263,%200.878%09Training%20dataset,%20Upgini%09AutoFE%3A%20features%20from%20Training%20dataset,%3Ca%20href%3D%27https%3A%2F%2Fupgini.com%2F%23data_sources%27%20target%3D%27_blank%27%20rel%3D%27noopener%20noreferrer%27%3ECalendar%20data%3C%2Fa%3E%09Daily%0Af_events_date_week_cos3_7525fe31%091.7808%09100.0%091.0,%20-0.2225,%20-0.2225%09Upgini%09Calendar%20data%09Daily%0Af_financial_date_crude_oil_7d_to_1y_c3e0ad17%091.1176%09100.0%091.1037,%201.1405,%200.9803%09Upgini%09Markets%20data%09Daily%0Af_events_date_year_sin1_3c44bc64%090.6248%09100.0%090.5307,%200.9806,%20-0.7117%09Upgini%09Calendar%20data%09Daily%0Af_economic_date_cbpol_pca_4_be889d56%090.6127%09100.0%09-3.3436,%20-0.5043,%200.8261%09Upgini%09World%20economic%20indicators%09Daily%0Af_financial_date_finance_umap_0_3c020a5e%090.5511%09100.0%099.6007,%2010.914,%209.645%09Upgini%09Markets%20data%09Daily%0Af_financial_date_finance_umap_2_a414df3b%090.3559%09100.0%097.3613,%206.5305,%207.335%09Upgini%09Markets%20data%09Daily%0Af_economic_date_cbpol_umap_6_aa0352de%090.3475%09100.0%092.2349,%208.5169,%200.9823%09Upgini%09World%20economic%20indicators%09Daily%0Af_economic_date_cbpol_pca_5_c87ba63a%090.3288%09100.0%091.1568,%20-0.0129,%20-1.0479%09Upgini%09World%20economic%20indicators%09Daily%0Af_financial_date_silver_7d_to_1y_0ccfe462%090.3077%09100.0%090.9942,%201.141,%200.9808%09Upgini%09Markets%20data%09Daily%0Af_events_date_year_sin2_59955ffd%090.2587%09100.0%09-0.8996,%200.3847,%20-0.9999%09Upgini%09Calendar%20data%09Daily%0Af_economic_date_cpi_umap_1_ba1c4045%090.2407%09100.0%0911.5905,%20-5.5998,%2013.2346%09Upgini%09World%20economic%20indicators%09Daily%0Af_financial_date_silver_7d_to_7d_1y_shift_55fa8001%090.2364%09100.0%091.1292,%201.0941,%200.8877%09Upgini%09Markets%20data%09Daily%0Af_financial_date_finance_umap_4_c0717402%090.2009%09100.0%097.2116,%207.8099,%205.8956%09Upgini%09Markets%20data%09Daily%0Af_economic_date_cbpol_pca_0_ef0bbff4%090.1407%09100.0%091.644,%200.377,%20-0.3245%09Upgini%09World%20economic%20indicators%09Daily%0Af_economic_date_cpi_umap_4_23b6dfce%090.0488%09100.0%092.0278,%209.3672,%205.009%09Upgini%09World%20economic%20indicators%09Daily%0A'))>📂 Copy</button>\n",
              "                <a href='mailto:<Share with...>?subject=Relevant external data sources from Upgini.com&body=Feature%20name%09SHAP%20value%09Coverage%20%25%09Value%20preview%09Provider%09Source%09Updates%0Aitem%098.7631%09100.0%0912,%2038,%202%09%09%09%0Astore%096.6029%09100.0%096,%202,%205%09%09%09%0Af_autofe_trend_coef_8dae5d36ce%096.1936%09100.0%090.0189,%200.0072,%200.005%09Training%20dataset%09AutoFE%3A%20features%20from%20Training%20dataset%09%0Af_events_date_week_sin1_847b5db1%094.1014%09100.0%090.0,%20-0.4339,%200.4339%09Upgini%09Calendar%20data%09Daily%0Af_events_date_year_cos1_9014a856%092.227%09100.0%09-0.8566,%20-0.263,%200.878%09Upgini%09Calendar%20data%09Daily%0Af_autofe_roll_3d_min_aed5463a33%092.1619%09100.0%09-0.8566,%20-0.263,%200.878%09Training%20dataset,%20Upgini%09AutoFE%3A%20features%20from%20Training%20dataset,%3Ca%20href%3D%27https%3A%2F%2Fupgini.com%2F%23data_sources%27%20target%3D%27_blank%27%20rel%3D%27noopener%20noreferrer%27%3ECalendar%20data%3C%2Fa%3E%09Daily%0Af_autofe_roll_7d_min_ea7571ef80%091.8358%09100.0%09-0.8566,%20-0.263,%200.878%09Training%20dataset,%20Upgini%09AutoFE%3A%20features%20from%20Training%20dataset,%3Ca%20href%3D%27https%3A%2F%2Fupgini.com%2F%23data_sources%27%20target%3D%27_blank%27%20rel%3D%27noopener%20noreferrer%27%3ECalendar%20data%3C%2Fa%3E%09Daily%0Af_events_date_week_cos3_7525fe31%091.7808%09100.0%091.0,%20-0.2225,%20-0.2225%09Upgini%09Calendar%20data%09Daily%0Af_financial_date_crude_oil_7d_to_1y_c3e0ad17%091.1176%09100.0%091.1037,%201.1405,%200.9803%09Upgini%09Markets%20data%09Daily%0Af_events_date_year_sin1_3c44bc64%090.6248%09100.0%090.5307,%200.9806,%20-0.7117%09Upgini%09Calendar%20data%09Daily%0Af_economic_date_cbpol_pca_4_be889d56%090.6127%09100.0%09-3.3436,%20-0.5043,%200.8261%09Upgini%09World%20economic%20indicators%09Daily%0Af_financial_date_finance_umap_0_3c020a5e%090.5511%09100.0%099.6007,%2010.914,%209.645%09Upgini%09Markets%20data%09Daily%0Af_financial_date_finance_umap_2_a414df3b%090.3559%09100.0%097.3613,%206.5305,%207.335%09Upgini%09Markets%20data%09Daily%0Af_economic_date_cbpol_umap_6_aa0352de%090.3475%09100.0%092.2349,%208.5169,%200.9823%09Upgini%09World%20economic%20indicators%09Daily%0Af_economic_date_cbpol_pca_5_c87ba63a%090.3288%09100.0%091.1568,%20-0.0129,%20-1.0479%09Upgini%09World%20economic%20indicators%09Daily%0Af_financial_date_silver_7d_to_1y_0ccfe462%090.3077%09100.0%090.9942,%201.141,%200.9808%09Upgini%09Markets%20data%09Daily%0Af_events_date_year_sin2_59955ffd%090.2587%09100.0%09-0.8996,%200.3847,%20-0.9999%09Upgini%09Calendar%20data%09Daily%0Af_economic_date_cpi_umap_1_ba1c4045%090.2407%09100.0%0911.5905,%20-5.5998,%2013.2346%09Upgini%09World%20economic%20indicators%09Daily%0Af_financial_date_silver_7d_to_7d_1y_shift_55fa8001%090.2364%09100.0%091.1292,%201.0941,%200.8877%09Upgini%09Markets%20data%09Daily%0Af_financial_date_finance_umap_4_c0717402%090.2009%09100.0%097.2116,%207.8099,%205.8956%09Upgini%09Markets%20data%09Daily%0Af_economic_date_cbpol_pca_0_ef0bbff4%090.1407%09100.0%091.644,%200.377,%20-0.3245%09Upgini%09World%20economic%20indicators%09Daily%0Af_economic_date_cpi_umap_4_23b6dfce%090.0488%09100.0%092.0278,%209.3672,%205.009%09Upgini%09World%20economic%20indicators%09Daily%0A'>\n",
              "                    <button>📨 Share</button>\n",
              "                </a>\n",
              "            </div>\n",
              "            <table class='upgini-df'><thead><th>Feature name</th><th>SHAP value</th><th>Coverage %</th><th>Value preview</th><th>Provider</th><th>Source</th><th>Updates</th></thead><tbody><tr><td class='upgini-text'>item</td><td class='upgini-number'>8.7631</td><td class='upgini-number'>100.0000</td><td class='upgini-text'>12, 38, 2</td><td class='upgini-text'>&nbsp;</td><td class='upgini-text'>&nbsp;</td><td class='upgini-text'>&nbsp;</td></tr><tr><td class='upgini-text'>store</td><td class='upgini-number'>6.6029</td><td class='upgini-number'>100.0000</td><td class='upgini-text'>6, 2, 5</td><td class='upgini-text'>&nbsp;</td><td class='upgini-text'>&nbsp;</td><td class='upgini-text'>&nbsp;</td></tr><tr><td class='upgini-text'>f_autofe_trend_coef_8dae5d36ce</td><td class='upgini-number'>6.1936</td><td class='upgini-number'>100.0000</td><td class='upgini-text'>0.0189, 0.0072, 0.005</td><td class='upgini-text'>Training dataset</td><td class='upgini-text'>AutoFE: features from Training dataset</td><td class='upgini-text'>&nbsp;</td></tr><tr><td class='upgini-text'><a href='https://docs.upgini.com/public/calendar/calendar#f_events_date_week_sin1_847b5db1' target='_blank' rel='noopener noreferrer'>f_events_date_week_sin1_847b5db1</a></td><td class='upgini-number'>4.1014</td><td class='upgini-number'>100.0000</td><td class='upgini-text'>0.0, -0.4339, 0.4339</td><td class='upgini-text'><a href='https://upgini.com/' target='_blank' rel='noopener noreferrer'>Upgini</a></td><td class='upgini-text'><a href='https://upgini.com/#data_sources' target='_blank' rel='noopener noreferrer'>Calendar data</a></td><td class='upgini-text'>Daily</td></tr><tr><td class='upgini-text'><a href='https://docs.upgini.com/public/calendar/calendar#f_events_date_year_cos1_9014a856' target='_blank' rel='noopener noreferrer'>f_events_date_year_cos1_9014a856</a></td><td class='upgini-number'>2.2270</td><td class='upgini-number'>100.0000</td><td class='upgini-text'>-0.8566, -0.263, 0.878</td><td class='upgini-text'><a href='https://upgini.com/' target='_blank' rel='noopener noreferrer'>Upgini</a></td><td class='upgini-text'><a href='https://upgini.com/#data_sources' target='_blank' rel='noopener noreferrer'>Calendar data</a></td><td class='upgini-text'>Daily</td></tr><tr><td class='upgini-text'>f_autofe_roll_3d_min_aed5463a33</td><td class='upgini-number'>2.1619</td><td class='upgini-number'>100.0000</td><td class='upgini-text'>-0.8566, -0.263, 0.878</td><td class='upgini-text'>Training dataset,<a href='https://upgini.com/' target='_blank' rel='noopener noreferrer'>Upgini</a></td><td class='upgini-text'>AutoFE: features from Training dataset,<a href='https://upgini.com/#data_sources' target='_blank' rel='noopener noreferrer'>Calendar data</a></td><td class='upgini-text'>Daily</td></tr><tr><td class='upgini-text'>f_autofe_roll_7d_min_ea7571ef80</td><td class='upgini-number'>1.8358</td><td class='upgini-number'>100.0000</td><td class='upgini-text'>-0.8566, -0.263, 0.878</td><td class='upgini-text'>Training dataset,<a href='https://upgini.com/' target='_blank' rel='noopener noreferrer'>Upgini</a></td><td class='upgini-text'>AutoFE: features from Training dataset,<a href='https://upgini.com/#data_sources' target='_blank' rel='noopener noreferrer'>Calendar data</a></td><td class='upgini-text'>Daily</td></tr><tr><td class='upgini-text'><a href='https://docs.upgini.com/public/calendar/calendar#f_events_date_week_cos3_7525fe31' target='_blank' rel='noopener noreferrer'>f_events_date_week_cos3_7525fe31</a></td><td class='upgini-number'>1.7808</td><td class='upgini-number'>100.0000</td><td class='upgini-text'>1.0, -0.2225, -0.2225</td><td class='upgini-text'><a href='https://upgini.com/' target='_blank' rel='noopener noreferrer'>Upgini</a></td><td class='upgini-text'><a href='https://upgini.com/#data_sources' target='_blank' rel='noopener noreferrer'>Calendar data</a></td><td class='upgini-text'>Daily</td></tr><tr><td class='upgini-text'><a href='https://docs.upgini.com/public/markets/finance#f_financial_date_crude_oil_7d_to_1y_c3e0ad17' target='_blank' rel='noopener noreferrer'>f_financial_date_crude_oil_7d_to_1y_c3e0ad17</a></td><td class='upgini-number'>1.1176</td><td class='upgini-number'>100.0000</td><td class='upgini-text'>1.1037, 1.1405, 0.9803</td><td class='upgini-text'><a href='https://upgini.com/' target='_blank' rel='noopener noreferrer'>Upgini</a></td><td class='upgini-text'><a href='https://upgini.com/#data_sources' target='_blank' rel='noopener noreferrer'>Markets data</a></td><td class='upgini-text'>Daily</td></tr><tr><td class='upgini-text'><a href='https://docs.upgini.com/public/calendar/calendar#f_events_date_year_sin1_3c44bc64' target='_blank' rel='noopener noreferrer'>f_events_date_year_sin1_3c44bc64</a></td><td class='upgini-number'>0.6248</td><td class='upgini-number'>100.0000</td><td class='upgini-text'>0.5307, 0.9806, -0.7117</td><td class='upgini-text'><a href='https://upgini.com/' target='_blank' rel='noopener noreferrer'>Upgini</a></td><td class='upgini-text'><a href='https://upgini.com/#data_sources' target='_blank' rel='noopener noreferrer'>Calendar data</a></td><td class='upgini-text'>Daily</td></tr><tr><td class='upgini-text'><a href='https://docs.upgini.com/public/economics/cbpol_pca#f_economic_date_cbpol_pca_4_be889d56' target='_blank' rel='noopener noreferrer'>f_economic_date_cbpol_pca_4_be889d56</a></td><td class='upgini-number'>0.6127</td><td class='upgini-number'>100.0000</td><td class='upgini-text'>-3.3436, -0.5043, 0.8261</td><td class='upgini-text'><a href='https://upgini.com/' target='_blank' rel='noopener noreferrer'>Upgini</a></td><td class='upgini-text'><a href='https://upgini.com/#data_sources' target='_blank' rel='noopener noreferrer'>World economic indicators</a></td><td class='upgini-text'>Daily</td></tr><tr><td class='upgini-text'><a href='https://docs.upgini.com/public/markets/finance_umap#f_financial_date_finance_umap_0_3c020a5e' target='_blank' rel='noopener noreferrer'>f_financial_date_finance_umap_0_3c020a5e</a></td><td class='upgini-number'>0.5511</td><td class='upgini-number'>100.0000</td><td class='upgini-text'>9.6007, 10.914, 9.645</td><td class='upgini-text'><a href='https://upgini.com/' target='_blank' rel='noopener noreferrer'>Upgini</a></td><td class='upgini-text'><a href='https://upgini.com/#data_sources' target='_blank' rel='noopener noreferrer'>Markets data</a></td><td class='upgini-text'>Daily</td></tr><tr><td class='upgini-text'><a href='https://docs.upgini.com/public/markets/finance_umap#f_financial_date_finance_umap_2_a414df3b' target='_blank' rel='noopener noreferrer'>f_financial_date_finance_umap_2_a414df3b</a></td><td class='upgini-number'>0.3559</td><td class='upgini-number'>100.0000</td><td class='upgini-text'>7.3613, 6.5305, 7.335</td><td class='upgini-text'><a href='https://upgini.com/' target='_blank' rel='noopener noreferrer'>Upgini</a></td><td class='upgini-text'><a href='https://upgini.com/#data_sources' target='_blank' rel='noopener noreferrer'>Markets data</a></td><td class='upgini-text'>Daily</td></tr><tr><td class='upgini-text'><a href='https://docs.upgini.com/public/economics/cbpol_umap#f_economic_date_cbpol_umap_6_aa0352de' target='_blank' rel='noopener noreferrer'>f_economic_date_cbpol_umap_6_aa0352de</a></td><td class='upgini-number'>0.3475</td><td class='upgini-number'>100.0000</td><td class='upgini-text'>2.2349, 8.5169, 0.9823</td><td class='upgini-text'><a href='https://upgini.com/' target='_blank' rel='noopener noreferrer'>Upgini</a></td><td class='upgini-text'><a href='https://upgini.com/#data_sources' target='_blank' rel='noopener noreferrer'>World economic indicators</a></td><td class='upgini-text'>Daily</td></tr><tr><td class='upgini-text'><a href='https://docs.upgini.com/public/economics/cbpol_pca#f_economic_date_cbpol_pca_5_c87ba63a' target='_blank' rel='noopener noreferrer'>f_economic_date_cbpol_pca_5_c87ba63a</a></td><td class='upgini-number'>0.3288</td><td class='upgini-number'>100.0000</td><td class='upgini-text'>1.1568, -0.0129, -1.0479</td><td class='upgini-text'><a href='https://upgini.com/' target='_blank' rel='noopener noreferrer'>Upgini</a></td><td class='upgini-text'><a href='https://upgini.com/#data_sources' target='_blank' rel='noopener noreferrer'>World economic indicators</a></td><td class='upgini-text'>Daily</td></tr><tr><td class='upgini-text'><a href='https://docs.upgini.com/public/markets/finance#f_financial_date_silver_7d_to_1y_0ccfe462' target='_blank' rel='noopener noreferrer'>f_financial_date_silver_7d_to_1y_0ccfe462</a></td><td class='upgini-number'>0.3077</td><td class='upgini-number'>100.0000</td><td class='upgini-text'>0.9942, 1.141, 0.9808</td><td class='upgini-text'><a href='https://upgini.com/' target='_blank' rel='noopener noreferrer'>Upgini</a></td><td class='upgini-text'><a href='https://upgini.com/#data_sources' target='_blank' rel='noopener noreferrer'>Markets data</a></td><td class='upgini-text'>Daily</td></tr><tr><td class='upgini-text'><a href='https://docs.upgini.com/public/calendar/calendar#f_events_date_year_sin2_59955ffd' target='_blank' rel='noopener noreferrer'>f_events_date_year_sin2_59955ffd</a></td><td class='upgini-number'>0.2587</td><td class='upgini-number'>100.0000</td><td class='upgini-text'>-0.8996, 0.3847, -0.9999</td><td class='upgini-text'><a href='https://upgini.com/' target='_blank' rel='noopener noreferrer'>Upgini</a></td><td class='upgini-text'><a href='https://upgini.com/#data_sources' target='_blank' rel='noopener noreferrer'>Calendar data</a></td><td class='upgini-text'>Daily</td></tr><tr><td class='upgini-text'><a href='https://docs.upgini.com/public/economics/cpi_umap#f_economic_date_cpi_umap_1_ba1c4045' target='_blank' rel='noopener noreferrer'>f_economic_date_cpi_umap_1_ba1c4045</a></td><td class='upgini-number'>0.2407</td><td class='upgini-number'>100.0000</td><td class='upgini-text'>11.5905, -5.5998, 13.2346</td><td class='upgini-text'><a href='https://upgini.com/' target='_blank' rel='noopener noreferrer'>Upgini</a></td><td class='upgini-text'><a href='https://upgini.com/#data_sources' target='_blank' rel='noopener noreferrer'>World economic indicators</a></td><td class='upgini-text'>Daily</td></tr><tr><td class='upgini-text'><a href='https://docs.upgini.com/public/markets/finance#f_financial_date_silver_7d_to_7d_1y_shift_55fa8001' target='_blank' rel='noopener noreferrer'>f_financial_date_silver_7d_to_7d_1y_shift_55fa8001</a></td><td class='upgini-number'>0.2364</td><td class='upgini-number'>100.0000</td><td class='upgini-text'>1.1292, 1.0941, 0.8877</td><td class='upgini-text'><a href='https://upgini.com/' target='_blank' rel='noopener noreferrer'>Upgini</a></td><td class='upgini-text'><a href='https://upgini.com/#data_sources' target='_blank' rel='noopener noreferrer'>Markets data</a></td><td class='upgini-text'>Daily</td></tr><tr><td class='upgini-text'><a href='https://docs.upgini.com/public/markets/finance_umap#f_financial_date_finance_umap_4_c0717402' target='_blank' rel='noopener noreferrer'>f_financial_date_finance_umap_4_c0717402</a></td><td class='upgini-number'>0.2009</td><td class='upgini-number'>100.0000</td><td class='upgini-text'>7.2116, 7.8099, 5.8956</td><td class='upgini-text'><a href='https://upgini.com/' target='_blank' rel='noopener noreferrer'>Upgini</a></td><td class='upgini-text'><a href='https://upgini.com/#data_sources' target='_blank' rel='noopener noreferrer'>Markets data</a></td><td class='upgini-text'>Daily</td></tr><tr><td class='upgini-text'><a href='https://docs.upgini.com/public/economics/cbpol_pca#f_economic_date_cbpol_pca_0_ef0bbff4' target='_blank' rel='noopener noreferrer'>f_economic_date_cbpol_pca_0_ef0bbff4</a></td><td class='upgini-number'>0.1407</td><td class='upgini-number'>100.0000</td><td class='upgini-text'>1.644, 0.377, -0.3245</td><td class='upgini-text'><a href='https://upgini.com/' target='_blank' rel='noopener noreferrer'>Upgini</a></td><td class='upgini-text'><a href='https://upgini.com/#data_sources' target='_blank' rel='noopener noreferrer'>World economic indicators</a></td><td class='upgini-text'>Daily</td></tr><tr><td class='upgini-text'><a href='https://docs.upgini.com/public/economics/cpi_umap#f_economic_date_cpi_umap_4_23b6dfce' target='_blank' rel='noopener noreferrer'>f_economic_date_cpi_umap_4_23b6dfce</a></td><td class='upgini-number'>0.0488</td><td class='upgini-number'>100.0000</td><td class='upgini-text'>2.0278, 9.3672, 5.009</td><td class='upgini-text'><a href='https://upgini.com/' target='_blank' rel='noopener noreferrer'>Upgini</a></td><td class='upgini-text'><a href='https://upgini.com/#data_sources' target='_blank' rel='noopener noreferrer'>World economic indicators</a></td><td class='upgini-text'>Daily</td></tr></tbody></table>\n",
              "        </div>\n",
              "        "
            ]
          },
          "metadata": {}
        },
        {
          "output_type": "display_data",
          "data": {
            "text/plain": [
              "<IPython.core.display.HTML object>"
            ],
            "text/html": [
              "<style>\n",
              "            .upgini-df thead th {\n",
              "                font-weight:bold;\n",
              "                text-align: center;\n",
              "                padding: 0.5em;\n",
              "                border-bottom: 2px solid black;\n",
              "            }\n",
              "\n",
              "            .upgini-df tbody td {\n",
              "                padding: 0.5em;\n",
              "                color: black;\n",
              "            }\n",
              "\n",
              "            .upgini-df tbody tr:nth-child(odd) {\n",
              "                background-color: #ffffff;\n",
              "            }\n",
              "\n",
              "            .upgini-df tbody tr:nth-child(even) {\n",
              "                background-color: #f2f2f2;\n",
              "            }\n",
              "\n",
              "            .upgini-text {\n",
              "                text-align: left;\n",
              "            }\n",
              "\n",
              "            .upgini-number {\n",
              "                text-align: center;\n",
              "            }\n",
              "        </style>\n",
              "        <h2>Relevant data sources</h2>\n",
              "        <div style=\"display:flex; flex-direction:column; align-items:flex-end; width: fit-content;\">\n",
              "            \n",
              "            <div style=\"text-align: right\">\n",
              "                <button onclick=navigator.clipboard.writeText(decodeURI('Provider%09Source%09All%20features%20SHAP%09Number%20of%20relevant%20features%0AUpgini%09Calendar%20data%098.9927%095%0ATraining%20dataset%09AutoFE%3A%20features%20from%20Training%20dataset%096.1936%091%0ATraining%20dataset,%20Upgini%09AutoFE%3A%20features%20from%20Training%20dataset,%3Ca%20href%3D%27https%3A%2F%2Fupgini.com%2F%23data_sources%27%20target%3D%27_blank%27%20rel%3D%27noopener%20noreferrer%27%3ECalendar%20data%3C%2Fa%3E%093.9977%092%0AUpgini%09Markets%20data%092.7696%096%0AUpgini%09World%20economic%20indicators%091.7192%096%0A'))>📂 Copy</button>\n",
              "                <a href='mailto:<Share with...>?subject=Relevant external data sources from Upgini.com&body=Provider%09Source%09All%20features%20SHAP%09Number%20of%20relevant%20features%0AUpgini%09Calendar%20data%098.9927%095%0ATraining%20dataset%09AutoFE%3A%20features%20from%20Training%20dataset%096.1936%091%0ATraining%20dataset,%20Upgini%09AutoFE%3A%20features%20from%20Training%20dataset,%3Ca%20href%3D%27https%3A%2F%2Fupgini.com%2F%23data_sources%27%20target%3D%27_blank%27%20rel%3D%27noopener%20noreferrer%27%3ECalendar%20data%3C%2Fa%3E%093.9977%092%0AUpgini%09Markets%20data%092.7696%096%0AUpgini%09World%20economic%20indicators%091.7192%096%0A'>\n",
              "                    <button>📨 Share</button>\n",
              "                </a>\n",
              "            </div>\n",
              "            <table class='upgini-df'><thead><th>Provider</th><th>Source</th><th>All features SHAP</th><th>Number of relevant features</th></thead><tbody><tr><td class='upgini-text'><a href='https://upgini.com/' target='_blank' rel='noopener noreferrer'>Upgini</a></td><td class='upgini-text'><a href='https://upgini.com/#data_sources' target='_blank' rel='noopener noreferrer'>Calendar data</a></td><td class='upgini-number'>8.9927</td><td class='upgini-number'>5</td></tr><tr><td class='upgini-text'>Training dataset</td><td class='upgini-text'>AutoFE: features from Training dataset</td><td class='upgini-number'>6.1936</td><td class='upgini-number'>1</td></tr><tr><td class='upgini-text'>Training dataset,<a href='https://upgini.com/' target='_blank' rel='noopener noreferrer'>Upgini</a></td><td class='upgini-text'>AutoFE: features from Training dataset,<a href='https://upgini.com/#data_sources' target='_blank' rel='noopener noreferrer'>Calendar data</a></td><td class='upgini-number'>3.9977</td><td class='upgini-number'>2</td></tr><tr><td class='upgini-text'><a href='https://upgini.com/' target='_blank' rel='noopener noreferrer'>Upgini</a></td><td class='upgini-text'><a href='https://upgini.com/#data_sources' target='_blank' rel='noopener noreferrer'>Markets data</a></td><td class='upgini-number'>2.7696</td><td class='upgini-number'>6</td></tr><tr><td class='upgini-text'><a href='https://upgini.com/' target='_blank' rel='noopener noreferrer'>Upgini</a></td><td class='upgini-text'><a href='https://upgini.com/#data_sources' target='_blank' rel='noopener noreferrer'>World economic indicators</a></td><td class='upgini-number'>1.7192</td><td class='upgini-number'>6</td></tr></tbody></table>\n",
              "        </div>\n",
              "        "
            ]
          },
          "metadata": {}
        },
        {
          "output_type": "display_data",
          "data": {
            "text/plain": [
              "<IPython.core.display.HTML object>"
            ],
            "text/html": [
              "<style>\n",
              "            .upgini-df thead th {\n",
              "                font-weight:bold;\n",
              "                text-align: center;\n",
              "                padding: 0.5em;\n",
              "                border-bottom: 2px solid black;\n",
              "            }\n",
              "\n",
              "            .upgini-df tbody td {\n",
              "                padding: 0.5em;\n",
              "                color: black;\n",
              "            }\n",
              "\n",
              "            .upgini-df tbody tr:nth-child(odd) {\n",
              "                background-color: #ffffff;\n",
              "            }\n",
              "\n",
              "            .upgini-df tbody tr:nth-child(even) {\n",
              "                background-color: #f2f2f2;\n",
              "            }\n",
              "\n",
              "            .upgini-text {\n",
              "                text-align: left;\n",
              "            }\n",
              "\n",
              "            .upgini-number {\n",
              "                text-align: center;\n",
              "            }\n",
              "        </style>\n",
              "        <h2>*Description of AutoFE feature names</h2>\n",
              "        <div style=\"display:flex; flex-direction:column; align-items:flex-end; width: fit-content;\">\n",
              "            \n",
              "            <div style=\"text-align: right\">\n",
              "                <button onclick=navigator.clipboard.writeText(decodeURI('Sources%09Feature%20name%09Feature%201%09Function%0ATraining%20dataset%09f_autofe_trend_coef_8dae5d36ce%09target%09trend_coef%0ATraining%20dataset,%3Ca%20href%3D%27https%3A%2F%2Fupgini.com%2F%23data_sources%27%20target%3D%27_blank%27%20rel%3D%27noopener%20noreferrer%27%3ECalendar%20data%3C%2Fa%3E%09f_autofe_roll_3d_min_aed5463a33%09f_events_date_year_cos1_9014a856%09roll_3d_min%0ATraining%20dataset,%3Ca%20href%3D%27https%3A%2F%2Fupgini.com%2F%23data_sources%27%20target%3D%27_blank%27%20rel%3D%27noopener%20noreferrer%27%3ECalendar%20data%3C%2Fa%3E%09f_autofe_roll_7d_min_ea7571ef80%09f_events_date_year_cos1_9014a856%09roll_7d_min%0A'))>📂 Copy</button>\n",
              "                <a href='mailto:<Share with...>?subject=Relevant external data sources from Upgini.com&body=Sources%09Feature%20name%09Feature%201%09Function%0ATraining%20dataset%09f_autofe_trend_coef_8dae5d36ce%09target%09trend_coef%0ATraining%20dataset,%3Ca%20href%3D%27https%3A%2F%2Fupgini.com%2F%23data_sources%27%20target%3D%27_blank%27%20rel%3D%27noopener%20noreferrer%27%3ECalendar%20data%3C%2Fa%3E%09f_autofe_roll_3d_min_aed5463a33%09f_events_date_year_cos1_9014a856%09roll_3d_min%0ATraining%20dataset,%3Ca%20href%3D%27https%3A%2F%2Fupgini.com%2F%23data_sources%27%20target%3D%27_blank%27%20rel%3D%27noopener%20noreferrer%27%3ECalendar%20data%3C%2Fa%3E%09f_autofe_roll_7d_min_ea7571ef80%09f_events_date_year_cos1_9014a856%09roll_7d_min%0A'>\n",
              "                    <button>📨 Share</button>\n",
              "                </a>\n",
              "            </div>\n",
              "            <table class='upgini-df'><thead><th>Sources</th><th>Feature name</th><th>Feature 1</th><th>Function</th></thead><tbody><tr><td class='upgini-text'>Training dataset</td><td class='upgini-text'>f_autofe_trend_coef_8dae5d36ce</td><td class='upgini-text'>target</td><td class='upgini-text'>trend_coef</td></tr><tr><td class='upgini-text'>Training dataset,<a href='https://upgini.com/#data_sources' target='_blank' rel='noopener noreferrer'>Calendar data</a></td><td class='upgini-text'>f_autofe_roll_3d_min_aed5463a33</td><td class='upgini-text'>f_events_date_year_cos1_9014a856</td><td class='upgini-text'>roll_3d_min</td></tr><tr><td class='upgini-text'>Training dataset,<a href='https://upgini.com/#data_sources' target='_blank' rel='noopener noreferrer'>Calendar data</a></td><td class='upgini-text'>f_autofe_roll_7d_min_ea7571ef80</td><td class='upgini-text'>f_events_date_year_cos1_9014a856</td><td class='upgini-text'>roll_7d_min</td></tr></tbody></table>\n",
              "        </div>\n",
              "        "
            ]
          },
          "metadata": {}
        },
        {
          "output_type": "stream",
          "name": "stdout",
          "text": [
            "Calculating accuracy uplift after enrichment...\n",
            "-\ry distributions from the training sample and eval_set differ according to the Kolmogorov-Smirnov test,\n",
            "which makes metrics between the train and eval_set incomparable.\n"
          ]
        },
        {
          "output_type": "display_data",
          "data": {
            "text/plain": [
              "<IPython.core.display.HTML object>"
            ],
            "text/html": [
              "<style>\n",
              "            .upgini-df thead th {\n",
              "                font-weight:bold;\n",
              "                text-align: center;\n",
              "                padding: 0.5em;\n",
              "                border-bottom: 2px solid black;\n",
              "            }\n",
              "\n",
              "            .upgini-df tbody td {\n",
              "                padding: 0.5em;\n",
              "                color: black;\n",
              "            }\n",
              "\n",
              "            .upgini-df tbody tr:nth-child(odd) {\n",
              "                background-color: #ffffff;\n",
              "            }\n",
              "\n",
              "            .upgini-df tbody tr:nth-child(even) {\n",
              "                background-color: #f2f2f2;\n",
              "            }\n",
              "\n",
              "            .upgini-text {\n",
              "                text-align: left;\n",
              "            }\n",
              "\n",
              "            .upgini-number {\n",
              "                text-align: center;\n",
              "            }\n",
              "        </style>\n",
              "        <h2>Accuracy after enrichment</h2>\n",
              "        <div style=\"display:flex; flex-direction:column; align-items:flex-end; width: fit-content;\">\n",
              "            \n",
              "            <div style=\"text-align: right\">\n",
              "                <button onclick=navigator.clipboard.writeText(decodeURI('Dataset%20type%09Rows%09Mean%20target%09Baseline%20MAPE%09Enriched%20MAPE%09Uplift,%20abs%09Uplift,%20%25%0ATrain%099930%0953.8254%090.328%20%C2%B1%200.115%090.277%20%C2%B1%200.064%090.052%0915.7%25%0AEval%201%093787%0959.2424%090.281%20%C2%B1%200.010%090.252%20%C2%B1%200.024%090.028%0910.1%25%0A'))>📂 Copy</button>\n",
              "                <a href='mailto:<Share with...>?subject=Relevant external data sources from Upgini.com&body=Dataset%20type%09Rows%09Mean%20target%09Baseline%20MAPE%09Enriched%20MAPE%09Uplift,%20abs%09Uplift,%20%25%0ATrain%099930%0953.8254%090.328%20%C2%B1%200.115%090.277%20%C2%B1%200.064%090.052%0915.7%25%0AEval%201%093787%0959.2424%090.281%20%C2%B1%200.010%090.252%20%C2%B1%200.024%090.028%0910.1%25%0A'>\n",
              "                    <button>📨 Share</button>\n",
              "                </a>\n",
              "            </div>\n",
              "            <table class='upgini-df'><thead><th>Dataset type</th><th>Rows</th><th>Mean target</th><th>Baseline MAPE</th><th>Enriched MAPE</th><th>Uplift, abs</th><th>Uplift, %</th></thead><tbody><tr><td class='upgini-text'>Train</td><td class='upgini-number'>9930</td><td class='upgini-number'>53.8254</td><td class='upgini-text'>0.328 ± 0.115</td><td class='upgini-text'>0.277 ± 0.064</td><td class='upgini-number'>0.0520</td><td class='upgini-text'>15.7%</td></tr><tr><td class='upgini-text'>Eval 1</td><td class='upgini-number'>3787</td><td class='upgini-number'>59.2424</td><td class='upgini-text'>0.281 ± 0.010</td><td class='upgini-text'>0.252 ± 0.024</td><td class='upgini-number'>0.0280</td><td class='upgini-text'>10.1%</td></tr></tbody></table>\n",
              "        </div>\n",
              "        "
            ]
          },
          "metadata": {}
        },
        {
          "output_type": "display_data",
          "data": {
            "text/plain": [
              "<IPython.core.display.HTML object>"
            ],
            "text/html": [
              "<a download=\"upgini-report-eb4f6b8b-4b38-4e3d-b046-1400ead035c2.pdf\" href=\"data:application/pdf;base64,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\" target=\"_blank\">\n",
              "        <button>📊 Download PDF report</button></a>"
            ]
          },
          "metadata": {}
        }
      ],
      "source": [
        "from upgini import FeaturesEnricher, SearchKey\n",
        "from upgini.metadata import CVType\n",
        "\n",
        "enricher = FeaturesEnricher(\n",
        "    search_keys = {\n",
        "      \"date\": SearchKey.DATE,\n",
        "    },\n",
        "    cv = CVType.time_series,\n",
        "    id_columns = [\"store\",\"item\"],\n",
        ")\n",
        "enricher.fit(train_features,\n",
        "             train_target,\n",
        "             eval_set=[(test_features, test_target)]\n",
        ")"
      ]
    },
    {
      "cell_type": "markdown",
      "metadata": {
        "id": "2Dp1KpNMj2St"
      },
      "source": [
        "We've got **20+ new relevant features** from [different sources such as weather data, calendar data, financial data](https://github.com/upgini/upgini#-connected-data-sources-and-coverage), which expected to improve accuracy of the model. Ranked by [SHAP values](https://en.wikipedia.org/wiki/Shapley_value).\n",
        "\n",
        "Initial features from the training dataset will be checked for relevancy as well, so you don't need an extra feature selection step."
      ]
    },
    {
      "cell_type": "markdown",
      "metadata": {
        "id": "caYeWlb2v88X"
      },
      "source": [
        "## 3️⃣ Calculate uplift from new relevant features using optimized custom estimator and metric\n",
        "You can use any model estimator with scikit-learn compatible interface. Let's take CatBoost regressor.  \n",
        "For evaluation metric there are two options:\n",
        "* Predefined evaluation function alias from [*Upgini library*](https://github.com/upgini/upgini#-accuracy-and-uplift-metrics-calculations), like **`MAPE`** for Mean Average Percentage Error\n",
        "\n",
        "* Define custom evaluation function using [scikit-learn make_scorer](https://scikit-learn.org/0.15/modules/model_evaluation.html#defining-your-scoring-strategy-from-score-functions), for example [SMAPE](https://en.wikipedia.org/wiki/Symmetric_mean_absolute_percentage_error)\n",
        "\n",
        "Model evaluation metric both for train and validation datasets will be calculated with the same cross-validation strategy as for **`FeaturesEnricher.fit()`**-  in this example [time series CV](https://github.com/upgini/upgini#-time-series-prediction-support)."
      ]
    },
    {
      "cell_type": "code",
      "execution_count": 6,
      "metadata": {
        "colab": {
          "base_uri": "https://localhost:8080/",
          "height": 166
        },
        "id": "x7TCoGCgj2Su",
        "outputId": "0e8a6dfe-9a65-47ef-db86-667e9cca54ba"
      },
      "outputs": [
        {
          "output_type": "stream",
          "name": "stdout",
          "text": [
            "Calculating accuracy uplift after enrichment...\n",
            "-\ry distributions from the training sample and eval_set differ according to the Kolmogorov-Smirnov test,\n",
            "which makes metrics between the train and eval_set incomparable.\n"
          ]
        },
        {
          "output_type": "execute_result",
          "data": {
            "text/plain": [
              "  Dataset type  Rows  Mean target  Baseline MAPE  Enriched MAPE  Uplift, abs  \\\n",
              "0        Train  9930      53.8254  0.294 ± 0.113  0.200 ± 0.059        0.094   \n",
              "1       Eval 1  3787      59.2424  0.251 ± 0.015  0.190 ± 0.020        0.061   \n",
              "\n",
              "  Uplift, %  \n",
              "0     32.0%  \n",
              "1     24.3%  "
            ],
            "text/html": [
              "\n",
              "  <div id=\"df-496c84bc-3973-40a7-aad9-12edd60fe942\" class=\"colab-df-container\">\n",
              "    <div>\n",
              "<style scoped>\n",
              "    .dataframe tbody tr th:only-of-type {\n",
              "        vertical-align: middle;\n",
              "    }\n",
              "\n",
              "    .dataframe tbody tr th {\n",
              "        vertical-align: top;\n",
              "    }\n",
              "\n",
              "    .dataframe thead th {\n",
              "        text-align: right;\n",
              "    }\n",
              "</style>\n",
              "<table border=\"1\" class=\"dataframe\">\n",
              "  <thead>\n",
              "    <tr style=\"text-align: right;\">\n",
              "      <th></th>\n",
              "      <th>Dataset type</th>\n",
              "      <th>Rows</th>\n",
              "      <th>Mean target</th>\n",
              "      <th>Baseline MAPE</th>\n",
              "      <th>Enriched MAPE</th>\n",
              "      <th>Uplift, abs</th>\n",
              "      <th>Uplift, %</th>\n",
              "    </tr>\n",
              "  </thead>\n",
              "  <tbody>\n",
              "    <tr>\n",
              "      <th>0</th>\n",
              "      <td>Train</td>\n",
              "      <td>9930</td>\n",
              "      <td>53.8254</td>\n",
              "      <td>0.294 ± 0.113</td>\n",
              "      <td>0.200 ± 0.059</td>\n",
              "      <td>0.094</td>\n",
              "      <td>32.0%</td>\n",
              "    </tr>\n",
              "    <tr>\n",
              "      <th>1</th>\n",
              "      <td>Eval 1</td>\n",
              "      <td>3787</td>\n",
              "      <td>59.2424</td>\n",
              "      <td>0.251 ± 0.015</td>\n",
              "      <td>0.190 ± 0.020</td>\n",
              "      <td>0.061</td>\n",
              "      <td>24.3%</td>\n",
              "    </tr>\n",
              "  </tbody>\n",
              "</table>\n",
              "</div>\n",
              "    <div class=\"colab-df-buttons\">\n",
              "\n",
              "  <div class=\"colab-df-container\">\n",
              "    <button class=\"colab-df-convert\" onclick=\"convertToInteractive('df-496c84bc-3973-40a7-aad9-12edd60fe942')\"\n",
              "            title=\"Convert this dataframe to an interactive table.\"\n",
              "            style=\"display:none;\">\n",
              "\n",
              "  <svg xmlns=\"http://www.w3.org/2000/svg\" height=\"24px\" viewBox=\"0 -960 960 960\">\n",
              "    <path d=\"M120-120v-720h720v720H120Zm60-500h600v-160H180v160Zm220 220h160v-160H400v160Zm0 220h160v-160H400v160ZM180-400h160v-160H180v160Zm440 0h160v-160H620v160ZM180-180h160v-160H180v160Zm440 0h160v-160H620v160Z\"/>\n",
              "  </svg>\n",
              "    </button>\n",
              "\n",
              "  <style>\n",
              "    .colab-df-container {\n",
              "      display:flex;\n",
              "      gap: 12px;\n",
              "    }\n",
              "\n",
              "    .colab-df-convert {\n",
              "      background-color: #E8F0FE;\n",
              "      border: none;\n",
              "      border-radius: 50%;\n",
              "      cursor: pointer;\n",
              "      display: none;\n",
              "      fill: #1967D2;\n",
              "      height: 32px;\n",
              "      padding: 0 0 0 0;\n",
              "      width: 32px;\n",
              "    }\n",
              "\n",
              "    .colab-df-convert:hover {\n",
              "      background-color: #E2EBFA;\n",
              "      box-shadow: 0px 1px 2px rgba(60, 64, 67, 0.3), 0px 1px 3px 1px rgba(60, 64, 67, 0.15);\n",
              "      fill: #174EA6;\n",
              "    }\n",
              "\n",
              "    .colab-df-buttons div {\n",
              "      margin-bottom: 4px;\n",
              "    }\n",
              "\n",
              "    [theme=dark] .colab-df-convert {\n",
              "      background-color: #3B4455;\n",
              "      fill: #D2E3FC;\n",
              "    }\n",
              "\n",
              "    [theme=dark] .colab-df-convert:hover {\n",
              "      background-color: #434B5C;\n",
              "      box-shadow: 0px 1px 3px 1px rgba(0, 0, 0, 0.15);\n",
              "      filter: drop-shadow(0px 1px 2px rgba(0, 0, 0, 0.3));\n",
              "      fill: #FFFFFF;\n",
              "    }\n",
              "  </style>\n",
              "\n",
              "    <script>\n",
              "      const buttonEl =\n",
              "        document.querySelector('#df-496c84bc-3973-40a7-aad9-12edd60fe942 button.colab-df-convert');\n",
              "      buttonEl.style.display =\n",
              "        google.colab.kernel.accessAllowed ? 'block' : 'none';\n",
              "\n",
              "      async function convertToInteractive(key) {\n",
              "        const element = document.querySelector('#df-496c84bc-3973-40a7-aad9-12edd60fe942');\n",
              "        const dataTable =\n",
              "          await google.colab.kernel.invokeFunction('convertToInteractive',\n",
              "                                                    [key], {});\n",
              "        if (!dataTable) return;\n",
              "\n",
              "        const docLinkHtml = 'Like what you see? Visit the ' +\n",
              "          '<a target=\"_blank\" href=https://colab.research.google.com/notebooks/data_table.ipynb>data table notebook</a>'\n",
              "          + ' to learn more about interactive tables.';\n",
              "        element.innerHTML = '';\n",
              "        dataTable['output_type'] = 'display_data';\n",
              "        await google.colab.output.renderOutput(dataTable, element);\n",
              "        const docLink = document.createElement('div');\n",
              "        docLink.innerHTML = docLinkHtml;\n",
              "        element.appendChild(docLink);\n",
              "      }\n",
              "    </script>\n",
              "  </div>\n",
              "\n",
              "\n",
              "    <div id=\"df-389c45f3-4f54-42f4-8d34-a0e91ecb55e7\">\n",
              "      <button class=\"colab-df-quickchart\" onclick=\"quickchart('df-389c45f3-4f54-42f4-8d34-a0e91ecb55e7')\"\n",
              "                title=\"Suggest charts\"\n",
              "                style=\"display:none;\">\n",
              "\n",
              "<svg xmlns=\"http://www.w3.org/2000/svg\" height=\"24px\"viewBox=\"0 0 24 24\"\n",
              "     width=\"24px\">\n",
              "    <g>\n",
              "        <path d=\"M19 3H5c-1.1 0-2 .9-2 2v14c0 1.1.9 2 2 2h14c1.1 0 2-.9 2-2V5c0-1.1-.9-2-2-2zM9 17H7v-7h2v7zm4 0h-2V7h2v10zm4 0h-2v-4h2v4z\"/>\n",
              "    </g>\n",
              "</svg>\n",
              "      </button>\n",
              "\n",
              "<style>\n",
              "  .colab-df-quickchart {\n",
              "      --bg-color: #E8F0FE;\n",
              "      --fill-color: #1967D2;\n",
              "      --hover-bg-color: #E2EBFA;\n",
              "      --hover-fill-color: #174EA6;\n",
              "      --disabled-fill-color: #AAA;\n",
              "      --disabled-bg-color: #DDD;\n",
              "  }\n",
              "\n",
              "  [theme=dark] .colab-df-quickchart {\n",
              "      --bg-color: #3B4455;\n",
              "      --fill-color: #D2E3FC;\n",
              "      --hover-bg-color: #434B5C;\n",
              "      --hover-fill-color: #FFFFFF;\n",
              "      --disabled-bg-color: #3B4455;\n",
              "      --disabled-fill-color: #666;\n",
              "  }\n",
              "\n",
              "  .colab-df-quickchart {\n",
              "    background-color: var(--bg-color);\n",
              "    border: none;\n",
              "    border-radius: 50%;\n",
              "    cursor: pointer;\n",
              "    display: none;\n",
              "    fill: var(--fill-color);\n",
              "    height: 32px;\n",
              "    padding: 0;\n",
              "    width: 32px;\n",
              "  }\n",
              "\n",
              "  .colab-df-quickchart:hover {\n",
              "    background-color: var(--hover-bg-color);\n",
              "    box-shadow: 0 1px 2px rgba(60, 64, 67, 0.3), 0 1px 3px 1px rgba(60, 64, 67, 0.15);\n",
              "    fill: var(--button-hover-fill-color);\n",
              "  }\n",
              "\n",
              "  .colab-df-quickchart-complete:disabled,\n",
              "  .colab-df-quickchart-complete:disabled:hover {\n",
              "    background-color: var(--disabled-bg-color);\n",
              "    fill: var(--disabled-fill-color);\n",
              "    box-shadow: none;\n",
              "  }\n",
              "\n",
              "  .colab-df-spinner {\n",
              "    border: 2px solid var(--fill-color);\n",
              "    border-color: transparent;\n",
              "    border-bottom-color: var(--fill-color);\n",
              "    animation:\n",
              "      spin 1s steps(1) infinite;\n",
              "  }\n",
              "\n",
              "  @keyframes spin {\n",
              "    0% {\n",
              "      border-color: transparent;\n",
              "      border-bottom-color: var(--fill-color);\n",
              "      border-left-color: var(--fill-color);\n",
              "    }\n",
              "    20% {\n",
              "      border-color: transparent;\n",
              "      border-left-color: var(--fill-color);\n",
              "      border-top-color: var(--fill-color);\n",
              "    }\n",
              "    30% {\n",
              "      border-color: transparent;\n",
              "      border-left-color: var(--fill-color);\n",
              "      border-top-color: var(--fill-color);\n",
              "      border-right-color: var(--fill-color);\n",
              "    }\n",
              "    40% {\n",
              "      border-color: transparent;\n",
              "      border-right-color: var(--fill-color);\n",
              "      border-top-color: var(--fill-color);\n",
              "    }\n",
              "    60% {\n",
              "      border-color: transparent;\n",
              "      border-right-color: var(--fill-color);\n",
              "    }\n",
              "    80% {\n",
              "      border-color: transparent;\n",
              "      border-right-color: var(--fill-color);\n",
              "      border-bottom-color: var(--fill-color);\n",
              "    }\n",
              "    90% {\n",
              "      border-color: transparent;\n",
              "      border-bottom-color: var(--fill-color);\n",
              "    }\n",
              "  }\n",
              "</style>\n",
              "\n",
              "      <script>\n",
              "        async function quickchart(key) {\n",
              "          const quickchartButtonEl =\n",
              "            document.querySelector('#' + key + ' button');\n",
              "          quickchartButtonEl.disabled = true;  // To prevent multiple clicks.\n",
              "          quickchartButtonEl.classList.add('colab-df-spinner');\n",
              "          try {\n",
              "            const charts = await google.colab.kernel.invokeFunction(\n",
              "                'suggestCharts', [key], {});\n",
              "          } catch (error) {\n",
              "            console.error('Error during call to suggestCharts:', error);\n",
              "          }\n",
              "          quickchartButtonEl.classList.remove('colab-df-spinner');\n",
              "          quickchartButtonEl.classList.add('colab-df-quickchart-complete');\n",
              "        }\n",
              "        (() => {\n",
              "          let quickchartButtonEl =\n",
              "            document.querySelector('#df-389c45f3-4f54-42f4-8d34-a0e91ecb55e7 button');\n",
              "          quickchartButtonEl.style.display =\n",
              "            google.colab.kernel.accessAllowed ? 'block' : 'none';\n",
              "        })();\n",
              "      </script>\n",
              "    </div>\n",
              "\n",
              "    </div>\n",
              "  </div>\n"
            ],
            "application/vnd.google.colaboratory.intrinsic+json": {
              "type": "dataframe",
              "summary": "{\n  \"name\": \")\",\n  \"rows\": 2,\n  \"fields\": [\n    {\n      \"column\": \"Dataset type\",\n      \"properties\": {\n        \"dtype\": \"string\",\n        \"num_unique_values\": 2,\n        \"samples\": [\n          \"Eval 1\",\n          \"Train\"\n        ],\n        \"semantic_type\": \"\",\n        \"description\": \"\"\n      }\n    },\n    {\n      \"column\": \"Rows\",\n      \"properties\": {\n        \"dtype\": \"number\",\n        \"std\": 4343,\n        \"min\": 3787,\n        \"max\": 9930,\n        \"num_unique_values\": 2,\n        \"samples\": [\n          3787,\n          9930\n        ],\n        \"semantic_type\": \"\",\n        \"description\": \"\"\n      }\n    },\n    {\n      \"column\": \"Mean target\",\n      \"properties\": {\n        \"dtype\": \"number\",\n        \"std\": 3.830397433687529,\n        \"min\": 53.8254,\n        \"max\": 59.2424,\n        \"num_unique_values\": 2,\n        \"samples\": [\n          59.2424,\n          53.8254\n        ],\n        \"semantic_type\": \"\",\n        \"description\": \"\"\n      }\n    },\n    {\n      \"column\": \"Baseline MAPE\",\n      \"properties\": {\n        \"dtype\": \"string\",\n        \"num_unique_values\": 2,\n        \"samples\": [\n          \"0.251 \\u00b1 0.015\",\n          \"0.294 \\u00b1 0.113\"\n        ],\n        \"semantic_type\": \"\",\n        \"description\": \"\"\n      }\n    },\n    {\n      \"column\": \"Enriched MAPE\",\n      \"properties\": {\n        \"dtype\": \"string\",\n        \"num_unique_values\": 2,\n        \"samples\": [\n          \"0.190 \\u00b1 0.020\",\n          \"0.200 \\u00b1 0.059\"\n        ],\n        \"semantic_type\": \"\",\n        \"description\": \"\"\n      }\n    },\n    {\n      \"column\": \"Uplift, abs\",\n      \"properties\": {\n        \"dtype\": \"number\",\n        \"std\": 0.02333452377915607,\n        \"min\": 0.061,\n        \"max\": 0.094,\n        \"num_unique_values\": 2,\n        \"samples\": [\n          0.061,\n          0.094\n        ],\n        \"semantic_type\": \"\",\n        \"description\": \"\"\n      }\n    },\n    {\n      \"column\": \"Uplift, %\",\n      \"properties\": {\n        \"dtype\": \"string\",\n        \"num_unique_values\": 2,\n        \"samples\": [\n          \"24.3%\",\n          \"32.0%\"\n        ],\n        \"semantic_type\": \"\",\n        \"description\": \"\"\n      }\n    }\n  ]\n}"
            }
          },
          "metadata": {},
          "execution_count": 6
        }
      ],
      "source": [
        "from catboost import CatBoostRegressor\n",
        "from catboost.utils import eval_metric\n",
        "model = CatBoostRegressor(verbose=False, allow_writing_files=False, random_state=0)\n",
        "\n",
        "# Calculate metrics before and after enrichment with a new relevant features\n",
        "enricher.calculate_metrics(\n",
        "    estimator = model,\n",
        "    scoring = \"mean_absolute_percentage_error\"\n",
        ")"
      ]
    },
    {
      "cell_type": "markdown",
      "metadata": {
        "id": "zTax9qDzj2Su"
      },
      "source": [
        "We've got a strong uplift both on the cross-validation (*train*) and on the out-of-time validation dataset (*eval1*) **after enrichment**:   \n",
        "**BEFORE** enrichment 0.251   \n",
        "**AFTER** enrichment 0.185"
      ]
    },
    {
      "cell_type": "markdown",
      "source": [
        "## 4️⃣ Enrich dataset with selected features\n",
        "Limit 1000 rows for unregistered user"
      ],
      "metadata": {
        "id": "tOVpIqx325YA"
      }
    },
    {
      "cell_type": "code",
      "source": [
        "xy = pd.concat([train_features, train_target.to_frame(\"target\")], axis=1)\n",
        "xy_sampled = xy.sample(n=1000)\n",
        "x = xy_sampled.drop(columns=\"target\")\n",
        "y = xy_sampled[\"target\"]\n",
        "\n",
        "transformed = enricher.transform(x, y=y)\n",
        "transformed"
      ],
      "metadata": {
        "colab": {
          "base_uri": "https://localhost:8080/",
          "height": 847
        },
        "id": "7QC3X0G52yK-",
        "outputId": "5aaa24fd-8399-4c50-c4e7-4a42caaf1226"
      },
      "execution_count": 13,
      "outputs": [
        {
          "output_type": "display_data",
          "data": {
            "text/plain": [
              "[============================================================] 100% Finished"
            ],
            "text/html": [
              "<progress style='width:60ex' max='100' value='100'></progress>  100% Finished</br>"
            ]
          },
          "metadata": {}
        },
        {
          "output_type": "stream",
          "name": "stdout",
          "text": [
            "You use Trial access to Upgini data enrichment. Limit for Trial: 1000 rows. You have already enriched: 0 rows.\n"
          ]
        },
        {
          "output_type": "display_data",
          "data": {
            "text/plain": [
              "<IPython.core.display.HTML object>"
            ],
            "text/html": [
              "<table><tr><th style='font-weight:bold'>Column name</th><th style='font-weight:bold'>Status</th><th style='font-weight:bold'>Errors</th></tr><tr><td>store</td><td style='background-color:#DAF7A6;color:black'>All valid</td><td>-</td></tr><tr><td>date</td><td style='background-color:#DAF7A6;color:black'>All valid</td><td>-</td></tr><tr><td>item</td><td style='background-color:#DAF7A6;color:black'>All valid</td><td>-</td></tr></table>"
            ]
          },
          "metadata": {}
        },
        {
          "output_type": "stream",
          "name": "stdout",
          "text": [
            "\n",
            "\n",
            "Running transform request, id=a06ff2ce-9c7f-4bb7-b70b-2a3fae754dee\n",
            "We'll send email notification once it's completed, just use your personal api_key from profile.upgini.com\n",
            "\n",
            "Retrieving selected features from data sources...\n"
          ]
        },
        {
          "output_type": "execute_result",
          "data": {
            "text/plain": [
              "            date store item  target  \\\n",
              "7398  2014-12-05     4   24      41   \n",
              "9     2013-01-01    10   21      33   \n",
              "13066 2016-06-11     6   32      41   \n",
              "7672  2015-01-03     1   24      51   \n",
              "11692 2016-01-28     2   49      21   \n",
              "...          ...   ...  ...     ...   \n",
              "3168  2013-10-24     7   20      26   \n",
              "10563 2015-10-10     1   38      86   \n",
              "9088  2015-05-17     7   47      22   \n",
              "14796 2016-11-23     7   19      30   \n",
              "8051  2015-02-07     5   16      12   \n",
              "\n",
              "       f_financial_date_silver_7d_to_1y_0ccfe462  \\\n",
              "7398                                    0.832188   \n",
              "9                                       0.963323   \n",
              "13066                                   1.097506   \n",
              "7672                                    0.834301   \n",
              "11692                                   0.919757   \n",
              "...                                          ...   \n",
              "3168                                    0.852487   \n",
              "10563                                   0.976836   \n",
              "9088                                    0.959473   \n",
              "14796                                   0.987996   \n",
              "8051                                    0.914705   \n",
              "\n",
              "       f_financial_date_silver_7d_to_7d_1y_shift_55fa8001  \\\n",
              "7398                                            0.816911    \n",
              "9                                               1.072025    \n",
              "13066                                           1.047575    \n",
              "7672                                            0.802567    \n",
              "11692                                           0.780429    \n",
              "...                                                  ...    \n",
              "3168                                            0.685435    \n",
              "10563                                           0.922405    \n",
              "9088                                            0.877345    \n",
              "14796                                           1.180037    \n",
              "8051                                            0.884845    \n",
              "\n",
              "       f_economic_date_cbpol_umap_6_aa0352de  \\\n",
              "7398                                1.946529   \n",
              "9                                   3.161273   \n",
              "13066                               8.524164   \n",
              "7672                                0.504820   \n",
              "11692                               3.428345   \n",
              "...                                      ...   \n",
              "3168                                9.187079   \n",
              "10563                               2.564006   \n",
              "9088                                1.705898   \n",
              "14796                               8.211638   \n",
              "8051                                1.325454   \n",
              "\n",
              "       f_financial_date_finance_umap_0_3c020a5e  \\\n",
              "7398                                  13.127942   \n",
              "9                                     11.626170   \n",
              "13066                                 10.809167   \n",
              "7672                                  13.256419   \n",
              "11692                                 13.014300   \n",
              "...                                         ...   \n",
              "3168                                  12.985901   \n",
              "10563                                 12.997958   \n",
              "9088                                  13.701124   \n",
              "14796                                 10.124886   \n",
              "8051                                  13.775433   \n",
              "\n",
              "       f_financial_date_finance_umap_4_c0717402  \\\n",
              "7398                                   5.390800   \n",
              "9                                      3.280215   \n",
              "13066                                  7.830725   \n",
              "7672                                   5.586895   \n",
              "11692                                  6.392590   \n",
              "...                                         ...   \n",
              "3168                                   3.776883   \n",
              "10563                                  6.642457   \n",
              "9088                                   6.071007   \n",
              "14796                                  7.855833   \n",
              "8051                                   5.832941   \n",
              "\n",
              "       f_economic_date_cbpol_pca_4_be889d56  ...  \\\n",
              "7398                              -2.899011  ...   \n",
              "9                                 -1.012797  ...   \n",
              "13066                              0.686011  ...   \n",
              "7672                              -2.636645  ...   \n",
              "11692                             -0.518986  ...   \n",
              "...                                     ...  ...   \n",
              "3168                              -2.210282  ...   \n",
              "10563                             -0.288038  ...   \n",
              "9088                              -0.888304  ...   \n",
              "14796                              0.551180  ...   \n",
              "8051                              -1.300327  ...   \n",
              "\n",
              "       f_economic_date_cpi_umap_1_ba1c4045  \\\n",
              "7398                              5.000503   \n",
              "9                                -3.219577   \n",
              "13066                            -5.599431   \n",
              "7672                             -1.852548   \n",
              "11692                             9.303439   \n",
              "...                                    ...   \n",
              "3168                              7.747222   \n",
              "10563                            -0.357522   \n",
              "9088                              9.374797   \n",
              "14796                            12.966796   \n",
              "8051                             -1.822513   \n",
              "\n",
              "       f_economic_date_cpi_umap_4_23b6dfce  \\\n",
              "7398                              6.670873   \n",
              "9                                -3.515559   \n",
              "13066                             9.366595   \n",
              "7672                              5.262119   \n",
              "11692                            -1.462748   \n",
              "...                                    ...   \n",
              "3168                              7.829422   \n",
              "10563                             2.271612   \n",
              "9088                             -0.928875   \n",
              "14796                             2.471978   \n",
              "8051                              0.239332   \n",
              "\n",
              "       f_economic_date_cbpol_pca_0_ef0bbff4  f_events_date_year_sin1_3c44bc64  \\\n",
              "7398                               1.044253                         -0.288482   \n",
              "9                                  1.791906                          0.171293   \n",
              "13066                             -0.043835                          0.187719   \n",
              "7672                               1.078451                          0.205104   \n",
              "11692                             -0.623442                          0.593327   \n",
              "...                                     ...                               ...   \n",
              "3168                               1.394478                         -0.849817   \n",
              "10563                              0.476008                         -0.951057   \n",
              "9088                               1.510224                          0.587785   \n",
              "14796                             -0.315194                         -0.477536   \n",
              "8051                               2.308104                          0.723644   \n",
              "\n",
              "       f_events_date_year_cos1_9014a856  \\\n",
              "7398                           0.957485   \n",
              "9                              0.985220   \n",
              "13066                         -0.982223   \n",
              "7672                           0.978740   \n",
              "11692                          0.804962   \n",
              "...                                 ...   \n",
              "3168                           0.527078   \n",
              "10563                          0.309017   \n",
              "9088                          -0.809017   \n",
              "14796                          0.878612   \n",
              "8051                           0.690173   \n",
              "\n",
              "       f_financial_date_crude_oil_7d_to_1y_c3e0ad17  \\\n",
              "7398                                       0.697612   \n",
              "9                                          0.962707   \n",
              "13066                                      1.166733   \n",
              "7672                                       0.580085   \n",
              "11692                                      0.660162   \n",
              "...                                             ...   \n",
              "3168                                       1.033131   \n",
              "10563                                      0.855238   \n",
              "9088                                       0.799212   \n",
              "14796                                      1.099300   \n",
              "8051                                       0.566519   \n",
              "\n",
              "       f_financial_date_finance_umap_2_a414df3b  \\\n",
              "7398                                   5.748660   \n",
              "9                                      9.873652   \n",
              "13066                                  6.578324   \n",
              "7672                                   5.476885   \n",
              "11692                                  5.464448   \n",
              "...                                         ...   \n",
              "3168                                   8.343953   \n",
              "10563                                  5.105819   \n",
              "9088                                   4.684276   \n",
              "14796                                  7.118220   \n",
              "8051                                   4.776085   \n",
              "\n",
              "       f_autofe_roll_3d_min_aed5463a33  f_autofe_roll_7d_min_ea7571ef80  \\\n",
              "7398                          0.957485                         0.957485   \n",
              "9                             0.985220                         0.985220   \n",
              "13066                        -0.982223                        -0.982223   \n",
              "7672                          0.978740                         0.978740   \n",
              "11692                         0.804962                         0.804962   \n",
              "...                                ...                              ...   \n",
              "3168                          0.527078                         0.527078   \n",
              "10563                         0.309017                         0.309017   \n",
              "9088                         -0.809017                        -0.809017   \n",
              "14796                         0.878612                         0.878612   \n",
              "8051                          0.690173                         0.690173   \n",
              "\n",
              "       f_autofe_trend_coef_8dae5d36ce  \n",
              "7398                         0.029175  \n",
              "9                            0.000148  \n",
              "13066                        0.015550  \n",
              "7672                         0.004449  \n",
              "11692                        0.012821  \n",
              "...                               ...  \n",
              "3168                         0.011203  \n",
              "10563                        0.000408  \n",
              "9088                         0.005109  \n",
              "14796                       -0.014720  \n",
              "8051                        -0.001880  \n",
              "\n",
              "[1000 rows x 24 columns]"
            ],
            "text/html": [
              "\n",
              "  <div id=\"df-f02b3191-6415-4c80-883b-7febb0cb977e\" class=\"colab-df-container\">\n",
              "    <div>\n",
              "<style scoped>\n",
              "    .dataframe tbody tr th:only-of-type {\n",
              "        vertical-align: middle;\n",
              "    }\n",
              "\n",
              "    .dataframe tbody tr th {\n",
              "        vertical-align: top;\n",
              "    }\n",
              "\n",
              "    .dataframe thead th {\n",
              "        text-align: right;\n",
              "    }\n",
              "</style>\n",
              "<table border=\"1\" class=\"dataframe\">\n",
              "  <thead>\n",
              "    <tr style=\"text-align: right;\">\n",
              "      <th></th>\n",
              "      <th>date</th>\n",
              "      <th>store</th>\n",
              "      <th>item</th>\n",
              "      <th>target</th>\n",
              "      <th>f_financial_date_silver_7d_to_1y_0ccfe462</th>\n",
              "      <th>f_financial_date_silver_7d_to_7d_1y_shift_55fa8001</th>\n",
              "      <th>f_economic_date_cbpol_umap_6_aa0352de</th>\n",
              "      <th>f_financial_date_finance_umap_0_3c020a5e</th>\n",
              "      <th>f_financial_date_finance_umap_4_c0717402</th>\n",
              "      <th>f_economic_date_cbpol_pca_4_be889d56</th>\n",
              "      <th>...</th>\n",
              "      <th>f_economic_date_cpi_umap_1_ba1c4045</th>\n",
              "      <th>f_economic_date_cpi_umap_4_23b6dfce</th>\n",
              "      <th>f_economic_date_cbpol_pca_0_ef0bbff4</th>\n",
              "      <th>f_events_date_year_sin1_3c44bc64</th>\n",
              "      <th>f_events_date_year_cos1_9014a856</th>\n",
              "      <th>f_financial_date_crude_oil_7d_to_1y_c3e0ad17</th>\n",
              "      <th>f_financial_date_finance_umap_2_a414df3b</th>\n",
              "      <th>f_autofe_roll_3d_min_aed5463a33</th>\n",
              "      <th>f_autofe_roll_7d_min_ea7571ef80</th>\n",
              "      <th>f_autofe_trend_coef_8dae5d36ce</th>\n",
              "    </tr>\n",
              "  </thead>\n",
              "  <tbody>\n",
              "    <tr>\n",
              "      <th>7398</th>\n",
              "      <td>2014-12-05</td>\n",
              "      <td>4</td>\n",
              "      <td>24</td>\n",
              "      <td>41</td>\n",
              "      <td>0.832188</td>\n",
              "      <td>0.816911</td>\n",
              "      <td>1.946529</td>\n",
              "      <td>13.127942</td>\n",
              "      <td>5.390800</td>\n",
              "      <td>-2.899011</td>\n",
              "      <td>...</td>\n",
              "      <td>5.000503</td>\n",
              "      <td>6.670873</td>\n",
              "      <td>1.044253</td>\n",
              "      <td>-0.288482</td>\n",
              "      <td>0.957485</td>\n",
              "      <td>0.697612</td>\n",
              "      <td>5.748660</td>\n",
              "      <td>0.957485</td>\n",
              "      <td>0.957485</td>\n",
              "      <td>0.029175</td>\n",
              "    </tr>\n",
              "    <tr>\n",
              "      <th>9</th>\n",
              "      <td>2013-01-01</td>\n",
              "      <td>10</td>\n",
              "      <td>21</td>\n",
              "      <td>33</td>\n",
              "      <td>0.963323</td>\n",
              "      <td>1.072025</td>\n",
              "      <td>3.161273</td>\n",
              "      <td>11.626170</td>\n",
              "      <td>3.280215</td>\n",
              "      <td>-1.012797</td>\n",
              "      <td>...</td>\n",
              "      <td>-3.219577</td>\n",
              "      <td>-3.515559</td>\n",
              "      <td>1.791906</td>\n",
              "      <td>0.171293</td>\n",
              "      <td>0.985220</td>\n",
              "      <td>0.962707</td>\n",
              "      <td>9.873652</td>\n",
              "      <td>0.985220</td>\n",
              "      <td>0.985220</td>\n",
              "      <td>0.000148</td>\n",
              "    </tr>\n",
              "    <tr>\n",
              "      <th>13066</th>\n",
              "      <td>2016-06-11</td>\n",
              "      <td>6</td>\n",
              "      <td>32</td>\n",
              "      <td>41</td>\n",
              "      <td>1.097506</td>\n",
              "      <td>1.047575</td>\n",
              "      <td>8.524164</td>\n",
              "      <td>10.809167</td>\n",
              "      <td>7.830725</td>\n",
              "      <td>0.686011</td>\n",
              "      <td>...</td>\n",
              "      <td>-5.599431</td>\n",
              "      <td>9.366595</td>\n",
              "      <td>-0.043835</td>\n",
              "      <td>0.187719</td>\n",
              "      <td>-0.982223</td>\n",
              "      <td>1.166733</td>\n",
              "      <td>6.578324</td>\n",
              "      <td>-0.982223</td>\n",
              "      <td>-0.982223</td>\n",
              "      <td>0.015550</td>\n",
              "    </tr>\n",
              "    <tr>\n",
              "      <th>7672</th>\n",
              "      <td>2015-01-03</td>\n",
              "      <td>1</td>\n",
              "      <td>24</td>\n",
              "      <td>51</td>\n",
              "      <td>0.834301</td>\n",
              "      <td>0.802567</td>\n",
              "      <td>0.504820</td>\n",
              "      <td>13.256419</td>\n",
              "      <td>5.586895</td>\n",
              "      <td>-2.636645</td>\n",
              "      <td>...</td>\n",
              "      <td>-1.852548</td>\n",
              "      <td>5.262119</td>\n",
              "      <td>1.078451</td>\n",
              "      <td>0.205104</td>\n",
              "      <td>0.978740</td>\n",
              "      <td>0.580085</td>\n",
              "      <td>5.476885</td>\n",
              "      <td>0.978740</td>\n",
              "      <td>0.978740</td>\n",
              "      <td>0.004449</td>\n",
              "    </tr>\n",
              "    <tr>\n",
              "      <th>11692</th>\n",
              "      <td>2016-01-28</td>\n",
              "      <td>2</td>\n",
              "      <td>49</td>\n",
              "      <td>21</td>\n",
              "      <td>0.919757</td>\n",
              "      <td>0.780429</td>\n",
              "      <td>3.428345</td>\n",
              "      <td>13.014300</td>\n",
              "      <td>6.392590</td>\n",
              "      <td>-0.518986</td>\n",
              "      <td>...</td>\n",
              "      <td>9.303439</td>\n",
              "      <td>-1.462748</td>\n",
              "      <td>-0.623442</td>\n",
              "      <td>0.593327</td>\n",
              "      <td>0.804962</td>\n",
              "      <td>0.660162</td>\n",
              "      <td>5.464448</td>\n",
              "      <td>0.804962</td>\n",
              "      <td>0.804962</td>\n",
              "      <td>0.012821</td>\n",
              "    </tr>\n",
              "    <tr>\n",
              "      <th>...</th>\n",
              "      <td>...</td>\n",
              "      <td>...</td>\n",
              "      <td>...</td>\n",
              "      <td>...</td>\n",
              "      <td>...</td>\n",
              "      <td>...</td>\n",
              "      <td>...</td>\n",
              "      <td>...</td>\n",
              "      <td>...</td>\n",
              "      <td>...</td>\n",
              "      <td>...</td>\n",
              "      <td>...</td>\n",
              "      <td>...</td>\n",
              "      <td>...</td>\n",
              "      <td>...</td>\n",
              "      <td>...</td>\n",
              "      <td>...</td>\n",
              "      <td>...</td>\n",
              "      <td>...</td>\n",
              "      <td>...</td>\n",
              "      <td>...</td>\n",
              "    </tr>\n",
              "    <tr>\n",
              "      <th>3168</th>\n",
              "      <td>2013-10-24</td>\n",
              "      <td>7</td>\n",
              "      <td>20</td>\n",
              "      <td>26</td>\n",
              "      <td>0.852487</td>\n",
              "      <td>0.685435</td>\n",
              "      <td>9.187079</td>\n",
              "      <td>12.985901</td>\n",
              "      <td>3.776883</td>\n",
              "      <td>-2.210282</td>\n",
              "      <td>...</td>\n",
              "      <td>7.747222</td>\n",
              "      <td>7.829422</td>\n",
              "      <td>1.394478</td>\n",
              "      <td>-0.849817</td>\n",
              "      <td>0.527078</td>\n",
              "      <td>1.033131</td>\n",
              "      <td>8.343953</td>\n",
              "      <td>0.527078</td>\n",
              "      <td>0.527078</td>\n",
              "      <td>0.011203</td>\n",
              "    </tr>\n",
              "    <tr>\n",
              "      <th>10563</th>\n",
              "      <td>2015-10-10</td>\n",
              "      <td>1</td>\n",
              "      <td>38</td>\n",
              "      <td>86</td>\n",
              "      <td>0.976836</td>\n",
              "      <td>0.922405</td>\n",
              "      <td>2.564006</td>\n",
              "      <td>12.997958</td>\n",
              "      <td>6.642457</td>\n",
              "      <td>-0.288038</td>\n",
              "      <td>...</td>\n",
              "      <td>-0.357522</td>\n",
              "      <td>2.271612</td>\n",
              "      <td>0.476008</td>\n",
              "      <td>-0.951057</td>\n",
              "      <td>0.309017</td>\n",
              "      <td>0.855238</td>\n",
              "      <td>5.105819</td>\n",
              "      <td>0.309017</td>\n",
              "      <td>0.309017</td>\n",
              "      <td>0.000408</td>\n",
              "    </tr>\n",
              "    <tr>\n",
              "      <th>9088</th>\n",
              "      <td>2015-05-17</td>\n",
              "      <td>7</td>\n",
              "      <td>47</td>\n",
              "      <td>22</td>\n",
              "      <td>0.959473</td>\n",
              "      <td>0.877345</td>\n",
              "      <td>1.705898</td>\n",
              "      <td>13.701124</td>\n",
              "      <td>6.071007</td>\n",
              "      <td>-0.888304</td>\n",
              "      <td>...</td>\n",
              "      <td>9.374797</td>\n",
              "      <td>-0.928875</td>\n",
              "      <td>1.510224</td>\n",
              "      <td>0.587785</td>\n",
              "      <td>-0.809017</td>\n",
              "      <td>0.799212</td>\n",
              "      <td>4.684276</td>\n",
              "      <td>-0.809017</td>\n",
              "      <td>-0.809017</td>\n",
              "      <td>0.005109</td>\n",
              "    </tr>\n",
              "    <tr>\n",
              "      <th>14796</th>\n",
              "      <td>2016-11-23</td>\n",
              "      <td>7</td>\n",
              "      <td>19</td>\n",
              "      <td>30</td>\n",
              "      <td>0.987996</td>\n",
              "      <td>1.180037</td>\n",
              "      <td>8.211638</td>\n",
              "      <td>10.124886</td>\n",
              "      <td>7.855833</td>\n",
              "      <td>0.551180</td>\n",
              "      <td>...</td>\n",
              "      <td>12.966796</td>\n",
              "      <td>2.471978</td>\n",
              "      <td>-0.315194</td>\n",
              "      <td>-0.477536</td>\n",
              "      <td>0.878612</td>\n",
              "      <td>1.099300</td>\n",
              "      <td>7.118220</td>\n",
              "      <td>0.878612</td>\n",
              "      <td>0.878612</td>\n",
              "      <td>-0.014720</td>\n",
              "    </tr>\n",
              "    <tr>\n",
              "      <th>8051</th>\n",
              "      <td>2015-02-07</td>\n",
              "      <td>5</td>\n",
              "      <td>16</td>\n",
              "      <td>12</td>\n",
              "      <td>0.914705</td>\n",
              "      <td>0.884845</td>\n",
              "      <td>1.325454</td>\n",
              "      <td>13.775433</td>\n",
              "      <td>5.832941</td>\n",
              "      <td>-1.300327</td>\n",
              "      <td>...</td>\n",
              "      <td>-1.822513</td>\n",
              "      <td>0.239332</td>\n",
              "      <td>2.308104</td>\n",
              "      <td>0.723644</td>\n",
              "      <td>0.690173</td>\n",
              "      <td>0.566519</td>\n",
              "      <td>4.776085</td>\n",
              "      <td>0.690173</td>\n",
              "      <td>0.690173</td>\n",
              "      <td>-0.001880</td>\n",
              "    </tr>\n",
              "  </tbody>\n",
              "</table>\n",
              "<p>1000 rows × 24 columns</p>\n",
              "</div>\n",
              "    <div class=\"colab-df-buttons\">\n",
              "\n",
              "  <div class=\"colab-df-container\">\n",
              "    <button class=\"colab-df-convert\" onclick=\"convertToInteractive('df-f02b3191-6415-4c80-883b-7febb0cb977e')\"\n",
              "            title=\"Convert this dataframe to an interactive table.\"\n",
              "            style=\"display:none;\">\n",
              "\n",
              "  <svg xmlns=\"http://www.w3.org/2000/svg\" height=\"24px\" viewBox=\"0 -960 960 960\">\n",
              "    <path d=\"M120-120v-720h720v720H120Zm60-500h600v-160H180v160Zm220 220h160v-160H400v160Zm0 220h160v-160H400v160ZM180-400h160v-160H180v160Zm440 0h160v-160H620v160ZM180-180h160v-160H180v160Zm440 0h160v-160H620v160Z\"/>\n",
              "  </svg>\n",
              "    </button>\n",
              "\n",
              "  <style>\n",
              "    .colab-df-container {\n",
              "      display:flex;\n",
              "      gap: 12px;\n",
              "    }\n",
              "\n",
              "    .colab-df-convert {\n",
              "      background-color: #E8F0FE;\n",
              "      border: none;\n",
              "      border-radius: 50%;\n",
              "      cursor: pointer;\n",
              "      display: none;\n",
              "      fill: #1967D2;\n",
              "      height: 32px;\n",
              "      padding: 0 0 0 0;\n",
              "      width: 32px;\n",
              "    }\n",
              "\n",
              "    .colab-df-convert:hover {\n",
              "      background-color: #E2EBFA;\n",
              "      box-shadow: 0px 1px 2px rgba(60, 64, 67, 0.3), 0px 1px 3px 1px rgba(60, 64, 67, 0.15);\n",
              "      fill: #174EA6;\n",
              "    }\n",
              "\n",
              "    .colab-df-buttons div {\n",
              "      margin-bottom: 4px;\n",
              "    }\n",
              "\n",
              "    [theme=dark] .colab-df-convert {\n",
              "      background-color: #3B4455;\n",
              "      fill: #D2E3FC;\n",
              "    }\n",
              "\n",
              "    [theme=dark] .colab-df-convert:hover {\n",
              "      background-color: #434B5C;\n",
              "      box-shadow: 0px 1px 3px 1px rgba(0, 0, 0, 0.15);\n",
              "      filter: drop-shadow(0px 1px 2px rgba(0, 0, 0, 0.3));\n",
              "      fill: #FFFFFF;\n",
              "    }\n",
              "  </style>\n",
              "\n",
              "    <script>\n",
              "      const buttonEl =\n",
              "        document.querySelector('#df-f02b3191-6415-4c80-883b-7febb0cb977e button.colab-df-convert');\n",
              "      buttonEl.style.display =\n",
              "        google.colab.kernel.accessAllowed ? 'block' : 'none';\n",
              "\n",
              "      async function convertToInteractive(key) {\n",
              "        const element = document.querySelector('#df-f02b3191-6415-4c80-883b-7febb0cb977e');\n",
              "        const dataTable =\n",
              "          await google.colab.kernel.invokeFunction('convertToInteractive',\n",
              "                                                    [key], {});\n",
              "        if (!dataTable) return;\n",
              "\n",
              "        const docLinkHtml = 'Like what you see? Visit the ' +\n",
              "          '<a target=\"_blank\" href=https://colab.research.google.com/notebooks/data_table.ipynb>data table notebook</a>'\n",
              "          + ' to learn more about interactive tables.';\n",
              "        element.innerHTML = '';\n",
              "        dataTable['output_type'] = 'display_data';\n",
              "        await google.colab.output.renderOutput(dataTable, element);\n",
              "        const docLink = document.createElement('div');\n",
              "        docLink.innerHTML = docLinkHtml;\n",
              "        element.appendChild(docLink);\n",
              "      }\n",
              "    </script>\n",
              "  </div>\n",
              "\n",
              "\n",
              "    <div id=\"df-f192507e-b2fa-4d4d-a8f4-95d8dd2920a3\">\n",
              "      <button class=\"colab-df-quickchart\" onclick=\"quickchart('df-f192507e-b2fa-4d4d-a8f4-95d8dd2920a3')\"\n",
              "                title=\"Suggest charts\"\n",
              "                style=\"display:none;\">\n",
              "\n",
              "<svg xmlns=\"http://www.w3.org/2000/svg\" height=\"24px\"viewBox=\"0 0 24 24\"\n",
              "     width=\"24px\">\n",
              "    <g>\n",
              "        <path d=\"M19 3H5c-1.1 0-2 .9-2 2v14c0 1.1.9 2 2 2h14c1.1 0 2-.9 2-2V5c0-1.1-.9-2-2-2zM9 17H7v-7h2v7zm4 0h-2V7h2v10zm4 0h-2v-4h2v4z\"/>\n",
              "    </g>\n",
              "</svg>\n",
              "      </button>\n",
              "\n",
              "<style>\n",
              "  .colab-df-quickchart {\n",
              "      --bg-color: #E8F0FE;\n",
              "      --fill-color: #1967D2;\n",
              "      --hover-bg-color: #E2EBFA;\n",
              "      --hover-fill-color: #174EA6;\n",
              "      --disabled-fill-color: #AAA;\n",
              "      --disabled-bg-color: #DDD;\n",
              "  }\n",
              "\n",
              "  [theme=dark] .colab-df-quickchart {\n",
              "      --bg-color: #3B4455;\n",
              "      --fill-color: #D2E3FC;\n",
              "      --hover-bg-color: #434B5C;\n",
              "      --hover-fill-color: #FFFFFF;\n",
              "      --disabled-bg-color: #3B4455;\n",
              "      --disabled-fill-color: #666;\n",
              "  }\n",
              "\n",
              "  .colab-df-quickchart {\n",
              "    background-color: var(--bg-color);\n",
              "    border: none;\n",
              "    border-radius: 50%;\n",
              "    cursor: pointer;\n",
              "    display: none;\n",
              "    fill: var(--fill-color);\n",
              "    height: 32px;\n",
              "    padding: 0;\n",
              "    width: 32px;\n",
              "  }\n",
              "\n",
              "  .colab-df-quickchart:hover {\n",
              "    background-color: var(--hover-bg-color);\n",
              "    box-shadow: 0 1px 2px rgba(60, 64, 67, 0.3), 0 1px 3px 1px rgba(60, 64, 67, 0.15);\n",
              "    fill: var(--button-hover-fill-color);\n",
              "  }\n",
              "\n",
              "  .colab-df-quickchart-complete:disabled,\n",
              "  .colab-df-quickchart-complete:disabled:hover {\n",
              "    background-color: var(--disabled-bg-color);\n",
              "    fill: var(--disabled-fill-color);\n",
              "    box-shadow: none;\n",
              "  }\n",
              "\n",
              "  .colab-df-spinner {\n",
              "    border: 2px solid var(--fill-color);\n",
              "    border-color: transparent;\n",
              "    border-bottom-color: var(--fill-color);\n",
              "    animation:\n",
              "      spin 1s steps(1) infinite;\n",
              "  }\n",
              "\n",
              "  @keyframes spin {\n",
              "    0% {\n",
              "      border-color: transparent;\n",
              "      border-bottom-color: var(--fill-color);\n",
              "      border-left-color: var(--fill-color);\n",
              "    }\n",
              "    20% {\n",
              "      border-color: transparent;\n",
              "      border-left-color: var(--fill-color);\n",
              "      border-top-color: var(--fill-color);\n",
              "    }\n",
              "    30% {\n",
              "      border-color: transparent;\n",
              "      border-left-color: var(--fill-color);\n",
              "      border-top-color: var(--fill-color);\n",
              "      border-right-color: var(--fill-color);\n",
              "    }\n",
              "    40% {\n",
              "      border-color: transparent;\n",
              "      border-right-color: var(--fill-color);\n",
              "      border-top-color: var(--fill-color);\n",
              "    }\n",
              "    60% {\n",
              "      border-color: transparent;\n",
              "      border-right-color: var(--fill-color);\n",
              "    }\n",
              "    80% {\n",
              "      border-color: transparent;\n",
              "      border-right-color: var(--fill-color);\n",
              "      border-bottom-color: var(--fill-color);\n",
              "    }\n",
              "    90% {\n",
              "      border-color: transparent;\n",
              "      border-bottom-color: var(--fill-color);\n",
              "    }\n",
              "  }\n",
              "</style>\n",
              "\n",
              "      <script>\n",
              "        async function quickchart(key) {\n",
              "          const quickchartButtonEl =\n",
              "            document.querySelector('#' + key + ' button');\n",
              "          quickchartButtonEl.disabled = true;  // To prevent multiple clicks.\n",
              "          quickchartButtonEl.classList.add('colab-df-spinner');\n",
              "          try {\n",
              "            const charts = await google.colab.kernel.invokeFunction(\n",
              "                'suggestCharts', [key], {});\n",
              "          } catch (error) {\n",
              "            console.error('Error during call to suggestCharts:', error);\n",
              "          }\n",
              "          quickchartButtonEl.classList.remove('colab-df-spinner');\n",
              "          quickchartButtonEl.classList.add('colab-df-quickchart-complete');\n",
              "        }\n",
              "        (() => {\n",
              "          let quickchartButtonEl =\n",
              "            document.querySelector('#df-f192507e-b2fa-4d4d-a8f4-95d8dd2920a3 button');\n",
              "          quickchartButtonEl.style.display =\n",
              "            google.colab.kernel.accessAllowed ? 'block' : 'none';\n",
              "        })();\n",
              "      </script>\n",
              "    </div>\n",
              "\n",
              "  <div id=\"id_59a00dcb-a2e5-4d86-b02f-3e48c011c88c\">\n",
              "    <style>\n",
              "      .colab-df-generate {\n",
              "        background-color: #E8F0FE;\n",
              "        border: none;\n",
              "        border-radius: 50%;\n",
              "        cursor: pointer;\n",
              "        display: none;\n",
              "        fill: #1967D2;\n",
              "        height: 32px;\n",
              "        padding: 0 0 0 0;\n",
              "        width: 32px;\n",
              "      }\n",
              "\n",
              "      .colab-df-generate:hover {\n",
              "        background-color: #E2EBFA;\n",
              "        box-shadow: 0px 1px 2px rgba(60, 64, 67, 0.3), 0px 1px 3px 1px rgba(60, 64, 67, 0.15);\n",
              "        fill: #174EA6;\n",
              "      }\n",
              "\n",
              "      [theme=dark] .colab-df-generate {\n",
              "        background-color: #3B4455;\n",
              "        fill: #D2E3FC;\n",
              "      }\n",
              "\n",
              "      [theme=dark] .colab-df-generate:hover {\n",
              "        background-color: #434B5C;\n",
              "        box-shadow: 0px 1px 3px 1px rgba(0, 0, 0, 0.15);\n",
              "        filter: drop-shadow(0px 1px 2px rgba(0, 0, 0, 0.3));\n",
              "        fill: #FFFFFF;\n",
              "      }\n",
              "    </style>\n",
              "    <button class=\"colab-df-generate\" onclick=\"generateWithVariable('transformed')\"\n",
              "            title=\"Generate code using this dataframe.\"\n",
              "            style=\"display:none;\">\n",
              "\n",
              "  <svg xmlns=\"http://www.w3.org/2000/svg\" height=\"24px\"viewBox=\"0 0 24 24\"\n",
              "       width=\"24px\">\n",
              "    <path d=\"M7,19H8.4L18.45,9,17,7.55,7,17.6ZM5,21V16.75L18.45,3.32a2,2,0,0,1,2.83,0l1.4,1.43a1.91,1.91,0,0,1,.58,1.4,1.91,1.91,0,0,1-.58,1.4L9.25,21ZM18.45,9,17,7.55Zm-12,3A5.31,5.31,0,0,0,4.9,8.1,5.31,5.31,0,0,0,1,6.5,5.31,5.31,0,0,0,4.9,4.9,5.31,5.31,0,0,0,6.5,1,5.31,5.31,0,0,0,8.1,4.9,5.31,5.31,0,0,0,12,6.5,5.46,5.46,0,0,0,6.5,12Z\"/>\n",
              "  </svg>\n",
              "    </button>\n",
              "    <script>\n",
              "      (() => {\n",
              "      const buttonEl =\n",
              "        document.querySelector('#id_59a00dcb-a2e5-4d86-b02f-3e48c011c88c button.colab-df-generate');\n",
              "      buttonEl.style.display =\n",
              "        google.colab.kernel.accessAllowed ? 'block' : 'none';\n",
              "\n",
              "      buttonEl.onclick = () => {\n",
              "        google.colab.notebook.generateWithVariable('transformed');\n",
              "      }\n",
              "      })();\n",
              "    </script>\n",
              "  </div>\n",
              "\n",
              "    </div>\n",
              "  </div>\n"
            ],
            "application/vnd.google.colaboratory.intrinsic+json": {
              "type": "dataframe",
              "variable_name": "transformed"
            }
          },
          "metadata": {},
          "execution_count": 13
        }
      ]
    },
    {
      "cell_type": "markdown",
      "metadata": {
        "id": "G6FcQlAt4SdX"
      },
      "source": [
        "______________________________\n",
        "**That's all for a quick start in 10 minutes!**  \n",
        "If you found this useful or interesting, feel free to share.  \n",
        "______________________________\n",
        "## 🔗 Useful links\n",
        "* Upgini Library [Documentation](https://github.com/upgini/upgini#readme)\n",
        "* More [Notebooks and Guides](https://github.com/upgini/upgini?tab=readme-ov-file#-tutorials)\n",
        "* Kaggle public [Notebooks](https://www.kaggle.com/romaupgini/code)\n",
        "\n",
        "\n",
        "<sup>😔 Found mistype or a bug in code snippet? Our bad! <a href=\"https://github.com/upgini/upgini/issues/new?assignees=&title=readme%2Fbug\">\n",
        "Please report it here.</a></sup>"
      ]
    }
  ],
  "metadata": {
    "colab": {
      "provenance": []
    },
    "kernelspec": {
      "display_name": "Python 3.10.8 64-bit",
      "language": "python",
      "name": "python3"
    },
    "language_info": {
      "codemirror_mode": {
        "name": "ipython",
        "version": 3
      },
      "file_extension": ".py",
      "mimetype": "text/x-python",
      "name": "python",
      "nbconvert_exporter": "python",
      "pygments_lexer": "ipython3",
      "version": "3.10.8"
    },
    "vscode": {
      "interpreter": {
        "hash": "b0fa6594d8f4cbf19f97940f81e996739fb7646882a419484c72d19e05852a7e"
      }
    }
  },
  "nbformat": 4,
  "nbformat_minor": 0
}