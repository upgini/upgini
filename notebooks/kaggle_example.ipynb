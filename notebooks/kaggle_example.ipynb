{
  "cells": [
    {
      "cell_type": "markdown",
      "metadata": {
        "id": "OWCJgnbSj2Sm"
      },
      "source": [
        "![alt text](\n",
        "https://cdn.prod.website-files.com/65d5721664bea140c05f5301/65e354e4b9ddb1c6aaa7d7b1_upgini_logo%20gradient.svg)   \n",
        "## [Intelligent data search & enrichment engine for Machine Learning](https://upgini.com)\n",
        "# Quick Start guide: Search new relevant external features for  store item demand forecast\n",
        "_________________\n",
        "\n",
        "Following this guide, you'll learn how to **search new relevant features with Upgini library**. We will enrich a dataset with new features and significantly improve model accuracy. All in 3 simple steps.  \n",
        "The goal is to predict future sales of different goods in stores based on a 5-year history of sales. The evaluation metric is MAPE.  \n",
        "⏱ Time needed: *10 minutes.*  \n",
        "\n",
        "Download this notebook: [GitHub Link](https://github.com/upgini/upgini/blob/main/notebooks/kaggle_example.ipynb)\n",
        "_________________\n",
        "\n",
        "First, let's install latest version of Upgini library. Also, we'll need CatBoost for the last part of this guide."
      ]
    },
    {
      "cell_type": "code",
      "execution_count": 1,
      "metadata": {
        "id": "abGU-D4rj2So",
        "outputId": "8439cd9f-4675-43d6-89a8-f0239e75c96d",
        "colab": {
          "base_uri": "https://localhost:8080/"
        }
      },
      "outputs": [
        {
          "output_type": "stream",
          "name": "stdout",
          "text": [
            "\u001b[2K     \u001b[90m━━━━━━━━━━━━━━━━━━━━━━━━━━━━━━━━━━━━━━━━\u001b[0m \u001b[32m48.6/48.6 kB\u001b[0m \u001b[31m642.4 kB/s\u001b[0m eta \u001b[36m0:00:00\u001b[0m\n",
            "\u001b[2K     \u001b[90m━━━━━━━━━━━━━━━━━━━━━━━━━━━━━━━━━━━━━━━━\u001b[0m \u001b[32m913.9/913.9 kB\u001b[0m \u001b[31m14.7 MB/s\u001b[0m eta \u001b[36m0:00:00\u001b[0m\n",
            "\u001b[?25h  Preparing metadata (setup.py) ... \u001b[?25l\u001b[?25hdone\n",
            "\u001b[2K   \u001b[90m━━━━━━━━━━━━━━━━━━━━━━━━━━━━━━━━━━━━━━━━\u001b[0m \u001b[32m264.1/264.1 kB\u001b[0m \u001b[31m12.0 MB/s\u001b[0m eta \u001b[36m0:00:00\u001b[0m\n",
            "\u001b[2K   \u001b[90m━━━━━━━━━━━━━━━━━━━━━━━━━━━━━━━━━━━━━━━━\u001b[0m \u001b[32m98.7/98.7 MB\u001b[0m \u001b[31m8.7 MB/s\u001b[0m eta \u001b[36m0:00:00\u001b[0m\n",
            "\u001b[2K   \u001b[90m━━━━━━━━━━━━━━━━━━━━━━━━━━━━━━━━━━━━━━━━\u001b[0m \u001b[32m1.8/1.8 MB\u001b[0m \u001b[31m13.1 MB/s\u001b[0m eta \u001b[36m0:00:00\u001b[0m\n",
            "\u001b[2K   \u001b[90m━━━━━━━━━━━━━━━━━━━━━━━━━━━━━━━━━━━━━━━━\u001b[0m \u001b[32m139.8/139.8 kB\u001b[0m \u001b[31m8.7 MB/s\u001b[0m eta \u001b[36m0:00:00\u001b[0m\n",
            "\u001b[2K   \u001b[90m━━━━━━━━━━━━━━━━━━━━━━━━━━━━━━━━━━━━━━━━\u001b[0m \u001b[32m162.7/162.7 kB\u001b[0m \u001b[31m8.3 MB/s\u001b[0m eta \u001b[36m0:00:00\u001b[0m\n",
            "\u001b[2K   \u001b[90m━━━━━━━━━━━━━━━━━━━━━━━━━━━━━━━━━━━━━━━━\u001b[0m \u001b[32m125.0/125.0 kB\u001b[0m \u001b[31m7.4 MB/s\u001b[0m eta \u001b[36m0:00:00\u001b[0m\n",
            "\u001b[2K   \u001b[90m━━━━━━━━━━━━━━━━━━━━━━━━━━━━━━━━━━━━━━━━\u001b[0m \u001b[32m447.2/447.2 kB\u001b[0m \u001b[31m23.6 MB/s\u001b[0m eta \u001b[36m0:00:00\u001b[0m\n",
            "\u001b[2K   \u001b[90m━━━━━━━━━━━━━━━━━━━━━━━━━━━━━━━━━━━━━━━━\u001b[0m \u001b[32m109.3/109.3 kB\u001b[0m \u001b[31m7.1 MB/s\u001b[0m eta \u001b[36m0:00:00\u001b[0m\n",
            "\u001b[2K   \u001b[90m━━━━━━━━━━━━━━━━━━━━━━━━━━━━━━━━━━━━━━━━\u001b[0m \u001b[32m298.7/298.7 kB\u001b[0m \u001b[31m13.1 MB/s\u001b[0m eta \u001b[36m0:00:00\u001b[0m\n",
            "\u001b[2K   \u001b[90m━━━━━━━━━━━━━━━━━━━━━━━━━━━━━━━━━━━━━━━━\u001b[0m \u001b[32m3.1/3.1 MB\u001b[0m \u001b[31m55.5 MB/s\u001b[0m eta \u001b[36m0:00:00\u001b[0m\n",
            "\u001b[2K   \u001b[90m━━━━━━━━━━━━━━━━━━━━━━━━━━━━━━━━━━━━━━━━\u001b[0m \u001b[32m1.9/1.9 MB\u001b[0m \u001b[31m48.3 MB/s\u001b[0m eta \u001b[36m0:00:00\u001b[0m\n",
            "\u001b[2K   \u001b[90m━━━━━━━━━━━━━━━━━━━━━━━━━━━━━━━━━━━━━━━━\u001b[0m \u001b[32m2.3/2.3 MB\u001b[0m \u001b[31m45.8 MB/s\u001b[0m eta \u001b[36m0:00:00\u001b[0m\n",
            "\u001b[2K   \u001b[90m━━━━━━━━━━━━━━━━━━━━━━━━━━━━━━━━━━━━━━━━\u001b[0m \u001b[32m105.0/105.0 kB\u001b[0m \u001b[31m6.3 MB/s\u001b[0m eta \u001b[36m0:00:00\u001b[0m\n",
            "\u001b[2K   \u001b[90m━━━━━━━━━━━━━━━━━━━━━━━━━━━━━━━━━━━━━━━━\u001b[0m \u001b[32m1.6/1.6 MB\u001b[0m \u001b[31m38.5 MB/s\u001b[0m eta \u001b[36m0:00:00\u001b[0m\n",
            "\u001b[2K   \u001b[90m━━━━━━━━━━━━━━━━━━━━━━━━━━━━━━━━━━━━━━━━\u001b[0m \u001b[32m194.6/194.6 kB\u001b[0m \u001b[31m10.6 MB/s\u001b[0m eta \u001b[36m0:00:00\u001b[0m\n",
            "\u001b[2K   \u001b[90m━━━━━━━━━━━━━━━━━━━━━━━━━━━━━━━━━━━━━━━━\u001b[0m \u001b[32m45.7/45.7 kB\u001b[0m \u001b[31m1.7 MB/s\u001b[0m eta \u001b[36m0:00:00\u001b[0m\n",
            "\u001b[?25h  Building wheel for svglib (setup.py) ... \u001b[?25l\u001b[?25hdone\n"
          ]
        }
      ],
      "source": [
        "%pip install -Uq upgini catboost"
      ]
    },
    {
      "cell_type": "markdown",
      "metadata": {
        "id": "YO-yFlFXj2Sq"
      },
      "source": [
        "## 1️⃣ Prepare input data\n",
        "\n",
        "For this guide we'll use the train dataset from [Store Item Demand Forecasting Challenge](https://www.kaggle.com/c/demand-forecasting-kernels-only). You can download it from [here](https://www.kaggle.com/c/demand-forecasting-kernels-only/data?select=train.csv).  \n",
        "To speed up the search we'll take a subsample.  \n",
        "⚠️ All columns in the input dataset with dates/datetime should be converted to pandas datetime object for correct datetime representation"
      ]
    },
    {
      "cell_type": "code",
      "execution_count": 2,
      "metadata": {
        "colab": {
          "base_uri": "https://localhost:8080/",
          "height": 206
        },
        "id": "q_5HZgtCj2Sq",
        "outputId": "4740f942-8ef2-448b-871e-97ee9945f0f8"
      },
      "outputs": [
        {
          "output_type": "execute_result",
          "data": {
            "text/plain": [
              "        date store item  sales\n",
              "0 2013-01-01     7    5      5\n",
              "1 2013-01-01     4    9     19\n",
              "2 2013-01-01     1   33     37\n",
              "3 2013-01-01     3   41     14\n",
              "4 2013-01-01     5   24     26"
            ],
            "text/html": [
              "\n",
              "  <div id=\"df-d79e5773-e396-49b0-9c6f-ada20f1e95a4\" class=\"colab-df-container\">\n",
              "    <div>\n",
              "<style scoped>\n",
              "    .dataframe tbody tr th:only-of-type {\n",
              "        vertical-align: middle;\n",
              "    }\n",
              "\n",
              "    .dataframe tbody tr th {\n",
              "        vertical-align: top;\n",
              "    }\n",
              "\n",
              "    .dataframe thead th {\n",
              "        text-align: right;\n",
              "    }\n",
              "</style>\n",
              "<table border=\"1\" class=\"dataframe\">\n",
              "  <thead>\n",
              "    <tr style=\"text-align: right;\">\n",
              "      <th></th>\n",
              "      <th>date</th>\n",
              "      <th>store</th>\n",
              "      <th>item</th>\n",
              "      <th>sales</th>\n",
              "    </tr>\n",
              "  </thead>\n",
              "  <tbody>\n",
              "    <tr>\n",
              "      <th>0</th>\n",
              "      <td>2013-01-01</td>\n",
              "      <td>7</td>\n",
              "      <td>5</td>\n",
              "      <td>5</td>\n",
              "    </tr>\n",
              "    <tr>\n",
              "      <th>1</th>\n",
              "      <td>2013-01-01</td>\n",
              "      <td>4</td>\n",
              "      <td>9</td>\n",
              "      <td>19</td>\n",
              "    </tr>\n",
              "    <tr>\n",
              "      <th>2</th>\n",
              "      <td>2013-01-01</td>\n",
              "      <td>1</td>\n",
              "      <td>33</td>\n",
              "      <td>37</td>\n",
              "    </tr>\n",
              "    <tr>\n",
              "      <th>3</th>\n",
              "      <td>2013-01-01</td>\n",
              "      <td>3</td>\n",
              "      <td>41</td>\n",
              "      <td>14</td>\n",
              "    </tr>\n",
              "    <tr>\n",
              "      <th>4</th>\n",
              "      <td>2013-01-01</td>\n",
              "      <td>5</td>\n",
              "      <td>24</td>\n",
              "      <td>26</td>\n",
              "    </tr>\n",
              "  </tbody>\n",
              "</table>\n",
              "</div>\n",
              "    <div class=\"colab-df-buttons\">\n",
              "\n",
              "  <div class=\"colab-df-container\">\n",
              "    <button class=\"colab-df-convert\" onclick=\"convertToInteractive('df-d79e5773-e396-49b0-9c6f-ada20f1e95a4')\"\n",
              "            title=\"Convert this dataframe to an interactive table.\"\n",
              "            style=\"display:none;\">\n",
              "\n",
              "  <svg xmlns=\"http://www.w3.org/2000/svg\" height=\"24px\" viewBox=\"0 -960 960 960\">\n",
              "    <path d=\"M120-120v-720h720v720H120Zm60-500h600v-160H180v160Zm220 220h160v-160H400v160Zm0 220h160v-160H400v160ZM180-400h160v-160H180v160Zm440 0h160v-160H620v160ZM180-180h160v-160H180v160Zm440 0h160v-160H620v160Z\"/>\n",
              "  </svg>\n",
              "    </button>\n",
              "\n",
              "  <style>\n",
              "    .colab-df-container {\n",
              "      display:flex;\n",
              "      gap: 12px;\n",
              "    }\n",
              "\n",
              "    .colab-df-convert {\n",
              "      background-color: #E8F0FE;\n",
              "      border: none;\n",
              "      border-radius: 50%;\n",
              "      cursor: pointer;\n",
              "      display: none;\n",
              "      fill: #1967D2;\n",
              "      height: 32px;\n",
              "      padding: 0 0 0 0;\n",
              "      width: 32px;\n",
              "    }\n",
              "\n",
              "    .colab-df-convert:hover {\n",
              "      background-color: #E2EBFA;\n",
              "      box-shadow: 0px 1px 2px rgba(60, 64, 67, 0.3), 0px 1px 3px 1px rgba(60, 64, 67, 0.15);\n",
              "      fill: #174EA6;\n",
              "    }\n",
              "\n",
              "    .colab-df-buttons div {\n",
              "      margin-bottom: 4px;\n",
              "    }\n",
              "\n",
              "    [theme=dark] .colab-df-convert {\n",
              "      background-color: #3B4455;\n",
              "      fill: #D2E3FC;\n",
              "    }\n",
              "\n",
              "    [theme=dark] .colab-df-convert:hover {\n",
              "      background-color: #434B5C;\n",
              "      box-shadow: 0px 1px 3px 1px rgba(0, 0, 0, 0.15);\n",
              "      filter: drop-shadow(0px 1px 2px rgba(0, 0, 0, 0.3));\n",
              "      fill: #FFFFFF;\n",
              "    }\n",
              "  </style>\n",
              "\n",
              "    <script>\n",
              "      const buttonEl =\n",
              "        document.querySelector('#df-d79e5773-e396-49b0-9c6f-ada20f1e95a4 button.colab-df-convert');\n",
              "      buttonEl.style.display =\n",
              "        google.colab.kernel.accessAllowed ? 'block' : 'none';\n",
              "\n",
              "      async function convertToInteractive(key) {\n",
              "        const element = document.querySelector('#df-d79e5773-e396-49b0-9c6f-ada20f1e95a4');\n",
              "        const dataTable =\n",
              "          await google.colab.kernel.invokeFunction('convertToInteractive',\n",
              "                                                    [key], {});\n",
              "        if (!dataTable) return;\n",
              "\n",
              "        const docLinkHtml = 'Like what you see? Visit the ' +\n",
              "          '<a target=\"_blank\" href=https://colab.research.google.com/notebooks/data_table.ipynb>data table notebook</a>'\n",
              "          + ' to learn more about interactive tables.';\n",
              "        element.innerHTML = '';\n",
              "        dataTable['output_type'] = 'display_data';\n",
              "        await google.colab.output.renderOutput(dataTable, element);\n",
              "        const docLink = document.createElement('div');\n",
              "        docLink.innerHTML = docLinkHtml;\n",
              "        element.appendChild(docLink);\n",
              "      }\n",
              "    </script>\n",
              "  </div>\n",
              "\n",
              "\n",
              "<div id=\"df-0cc965cb-9341-425a-b726-86d14f016b45\">\n",
              "  <button class=\"colab-df-quickchart\" onclick=\"quickchart('df-0cc965cb-9341-425a-b726-86d14f016b45')\"\n",
              "            title=\"Suggest charts\"\n",
              "            style=\"display:none;\">\n",
              "\n",
              "<svg xmlns=\"http://www.w3.org/2000/svg\" height=\"24px\"viewBox=\"0 0 24 24\"\n",
              "     width=\"24px\">\n",
              "    <g>\n",
              "        <path d=\"M19 3H5c-1.1 0-2 .9-2 2v14c0 1.1.9 2 2 2h14c1.1 0 2-.9 2-2V5c0-1.1-.9-2-2-2zM9 17H7v-7h2v7zm4 0h-2V7h2v10zm4 0h-2v-4h2v4z\"/>\n",
              "    </g>\n",
              "</svg>\n",
              "  </button>\n",
              "\n",
              "<style>\n",
              "  .colab-df-quickchart {\n",
              "      --bg-color: #E8F0FE;\n",
              "      --fill-color: #1967D2;\n",
              "      --hover-bg-color: #E2EBFA;\n",
              "      --hover-fill-color: #174EA6;\n",
              "      --disabled-fill-color: #AAA;\n",
              "      --disabled-bg-color: #DDD;\n",
              "  }\n",
              "\n",
              "  [theme=dark] .colab-df-quickchart {\n",
              "      --bg-color: #3B4455;\n",
              "      --fill-color: #D2E3FC;\n",
              "      --hover-bg-color: #434B5C;\n",
              "      --hover-fill-color: #FFFFFF;\n",
              "      --disabled-bg-color: #3B4455;\n",
              "      --disabled-fill-color: #666;\n",
              "  }\n",
              "\n",
              "  .colab-df-quickchart {\n",
              "    background-color: var(--bg-color);\n",
              "    border: none;\n",
              "    border-radius: 50%;\n",
              "    cursor: pointer;\n",
              "    display: none;\n",
              "    fill: var(--fill-color);\n",
              "    height: 32px;\n",
              "    padding: 0;\n",
              "    width: 32px;\n",
              "  }\n",
              "\n",
              "  .colab-df-quickchart:hover {\n",
              "    background-color: var(--hover-bg-color);\n",
              "    box-shadow: 0 1px 2px rgba(60, 64, 67, 0.3), 0 1px 3px 1px rgba(60, 64, 67, 0.15);\n",
              "    fill: var(--button-hover-fill-color);\n",
              "  }\n",
              "\n",
              "  .colab-df-quickchart-complete:disabled,\n",
              "  .colab-df-quickchart-complete:disabled:hover {\n",
              "    background-color: var(--disabled-bg-color);\n",
              "    fill: var(--disabled-fill-color);\n",
              "    box-shadow: none;\n",
              "  }\n",
              "\n",
              "  .colab-df-spinner {\n",
              "    border: 2px solid var(--fill-color);\n",
              "    border-color: transparent;\n",
              "    border-bottom-color: var(--fill-color);\n",
              "    animation:\n",
              "      spin 1s steps(1) infinite;\n",
              "  }\n",
              "\n",
              "  @keyframes spin {\n",
              "    0% {\n",
              "      border-color: transparent;\n",
              "      border-bottom-color: var(--fill-color);\n",
              "      border-left-color: var(--fill-color);\n",
              "    }\n",
              "    20% {\n",
              "      border-color: transparent;\n",
              "      border-left-color: var(--fill-color);\n",
              "      border-top-color: var(--fill-color);\n",
              "    }\n",
              "    30% {\n",
              "      border-color: transparent;\n",
              "      border-left-color: var(--fill-color);\n",
              "      border-top-color: var(--fill-color);\n",
              "      border-right-color: var(--fill-color);\n",
              "    }\n",
              "    40% {\n",
              "      border-color: transparent;\n",
              "      border-right-color: var(--fill-color);\n",
              "      border-top-color: var(--fill-color);\n",
              "    }\n",
              "    60% {\n",
              "      border-color: transparent;\n",
              "      border-right-color: var(--fill-color);\n",
              "    }\n",
              "    80% {\n",
              "      border-color: transparent;\n",
              "      border-right-color: var(--fill-color);\n",
              "      border-bottom-color: var(--fill-color);\n",
              "    }\n",
              "    90% {\n",
              "      border-color: transparent;\n",
              "      border-bottom-color: var(--fill-color);\n",
              "    }\n",
              "  }\n",
              "</style>\n",
              "\n",
              "  <script>\n",
              "    async function quickchart(key) {\n",
              "      const quickchartButtonEl =\n",
              "        document.querySelector('#' + key + ' button');\n",
              "      quickchartButtonEl.disabled = true;  // To prevent multiple clicks.\n",
              "      quickchartButtonEl.classList.add('colab-df-spinner');\n",
              "      try {\n",
              "        const charts = await google.colab.kernel.invokeFunction(\n",
              "            'suggestCharts', [key], {});\n",
              "      } catch (error) {\n",
              "        console.error('Error during call to suggestCharts:', error);\n",
              "      }\n",
              "      quickchartButtonEl.classList.remove('colab-df-spinner');\n",
              "      quickchartButtonEl.classList.add('colab-df-quickchart-complete');\n",
              "    }\n",
              "    (() => {\n",
              "      let quickchartButtonEl =\n",
              "        document.querySelector('#df-0cc965cb-9341-425a-b726-86d14f016b45 button');\n",
              "      quickchartButtonEl.style.display =\n",
              "        google.colab.kernel.accessAllowed ? 'block' : 'none';\n",
              "    })();\n",
              "  </script>\n",
              "</div>\n",
              "    </div>\n",
              "  </div>\n"
            ],
            "application/vnd.google.colaboratory.intrinsic+json": {
              "type": "dataframe",
              "variable_name": "df",
              "summary": "{\n  \"name\": \"df\",\n  \"rows\": 19000,\n  \"fields\": [\n    {\n      \"column\": \"date\",\n      \"properties\": {\n        \"dtype\": \"date\",\n        \"min\": \"2013-01-01 00:00:00\",\n        \"max\": \"2017-12-31 00:00:00\",\n        \"num_unique_values\": 1826,\n        \"samples\": [\n          \"2015-09-26 00:00:00\",\n          \"2017-02-27 00:00:00\",\n          \"2013-10-26 00:00:00\"\n        ],\n        \"semantic_type\": \"\",\n        \"description\": \"\"\n      }\n    },\n    {\n      \"column\": \"store\",\n      \"properties\": {\n        \"dtype\": \"category\",\n        \"num_unique_values\": 10,\n        \"samples\": [\n          \"9\",\n          \"4\",\n          \"2\"\n        ],\n        \"semantic_type\": \"\",\n        \"description\": \"\"\n      }\n    },\n    {\n      \"column\": \"item\",\n      \"properties\": {\n        \"dtype\": \"category\",\n        \"num_unique_values\": 50,\n        \"samples\": [\n          \"40\",\n          \"43\",\n          \"20\"\n        ],\n        \"semantic_type\": \"\",\n        \"description\": \"\"\n      }\n    },\n    {\n      \"column\": \"sales\",\n      \"properties\": {\n        \"dtype\": \"number\",\n        \"std\": 28,\n        \"min\": 1,\n        \"max\": 205,\n        \"num_unique_values\": 173,\n        \"samples\": [\n          196,\n          63,\n          94\n        ],\n        \"semantic_type\": \"\",\n        \"description\": \"\"\n      }\n    }\n  ]\n}"
            }
          },
          "metadata": {},
          "execution_count": 2
        }
      ],
      "source": [
        "from os.path import exists\n",
        "import pandas as pd\n",
        "\n",
        "df_path = \"train.csv.zip\" if exists(\"train.csv.zip\") else \"https://github.com/upgini/upgini/raw/main/notebooks/train.csv.zip\"\n",
        "df = pd.read_csv(df_path).sample(n=19_000, random_state=0)\n",
        "df[\"store\"] = df[\"store\"].astype(str)\n",
        "df[\"item\"] = df[\"item\"].astype(str)\n",
        "\n",
        "# Convert date column to datetime pandas object\n",
        "df[\"date\"] = pd.to_datetime(df[\"date\"])\n",
        "\n",
        "df.sort_values(\"date\", inplace=True)\n",
        "df.reset_index(inplace=True, drop=True)\n",
        "df.head()"
      ]
    },
    {
      "cell_type": "markdown",
      "metadata": {
        "id": "bpxDehsxj2Sq"
      },
      "source": [
        "This dataset contains 5 years of records from 2013 to 2017. Let's split it into the train (2013–2016) and the evaluation (2017) parts."
      ]
    },
    {
      "cell_type": "code",
      "execution_count": 3,
      "metadata": {
        "id": "VLTtFk1Xj2Sr"
      },
      "outputs": [],
      "source": [
        "train = df[df[\"date\"] < \"2017-01-01\"]\n",
        "test = df[df[\"date\"] >= \"2017-01-01\"]"
      ]
    },
    {
      "cell_type": "markdown",
      "metadata": {
        "id": "p9LMpAcVj2Sr"
      },
      "source": [
        "Let's also separate features from targets in *a scikit-learn style* (X and y)."
      ]
    },
    {
      "cell_type": "code",
      "execution_count": 4,
      "metadata": {
        "id": "7Ty1IWg8j2Sr"
      },
      "outputs": [],
      "source": [
        "train_features = train.drop(columns=[\"sales\"])\n",
        "train_target = train[\"sales\"]\n",
        "test_features = test.drop(columns=[\"sales\"])\n",
        "test_target = test[\"sales\"]"
      ]
    },
    {
      "cell_type": "markdown",
      "metadata": {
        "id": "xWkF4TeAj2Ss"
      },
      "source": [
        "## 2️⃣ Search new relevant features with FeaturesEnricher\n",
        "\n",
        "Next, we will use **`FeaturesEnricher`** on the train dataset to find new features relevant for this target prediction.  \n",
        "* To do this, we need to specify the column(s) containing [**search key(s)**](https://github.com/upgini/upgini#-search-key-types-we-support-more-to-come), in this case it's `date` and provide the target to predict.  \n",
        "* Also, we can specify any number of additional out-of-time validation datasets to evaluate robustness of the new features.  \n",
        "* This search task will be auto-detected as a regression. And as we have time series prediction (daily sales as a target variable), we have to pass [**time series specific cross-validation split**](https://github.com/upgini/upgini#-time-series-prediction-support) **`CVType.time_series`**. Now search algorithm know that we are working with the time series prediction task, not just simple regression and will use [time series CV](https://scikit-learn.org/stable/modules/cross_validation.html#time-series-split) for new features search.  \n",
        "* For Multivariate Time Series you should specify **`id_columns`** which contains `id` of univariate TS, in this example - combination of Store and Item.\n",
        "\n",
        "Search step will take around *2.5 minutes*"
      ]
    },
    {
      "cell_type": "code",
      "execution_count": 6,
      "metadata": {
        "colab": {
          "base_uri": "https://localhost:8080/",
          "height": 1000
        },
        "id": "C_iR9XEXj2Ss",
        "outputId": "8de3d43b-5181-4679-8fdb-3bc9b4db25c2"
      },
      "outputs": [
        {
          "output_type": "display_data",
          "data": {
            "text/plain": [
              "[============================================================] 100% Finished"
            ],
            "text/html": [
              "<progress style='width:60ex' max='100' value='100'></progress>  100% Finished</br>"
            ]
          },
          "metadata": {}
        },
        {
          "output_type": "display_data",
          "data": {
            "text/plain": [
              "<IPython.core.display.Javascript object>"
            ],
            "application/javascript": [
              "\n",
              "                    async function getVisitorId() {\n",
              "                        return import('https://upgini.github.io/upgini/js/a.js')\n",
              "                            .then(FingerprintJS => FingerprintJS.load())\n",
              "                            .then(fp => fp.get())\n",
              "                            .then(result => result.visitorId);\n",
              "                    }\n",
              "                    "
            ]
          },
          "metadata": {}
        },
        {
          "output_type": "display_data",
          "data": {
            "text/plain": [
              "<IPython.core.display.Javascript object>"
            ],
            "application/javascript": [
              "\n",
              "                    async function getVisitorId() {\n",
              "                        return import('https://upgini.github.io/upgini/js/a.js')\n",
              "                            .then(FingerprintJS => FingerprintJS.load())\n",
              "                            .then(fp => fp.get())\n",
              "                            .then(result => result.visitorId);\n",
              "                    }\n",
              "                    "
            ]
          },
          "metadata": {}
        },
        {
          "output_type": "display_data",
          "data": {
            "text/plain": [
              "<IPython.core.display.Javascript object>"
            ],
            "application/javascript": [
              "\n",
              "                    async function getVisitorId() {\n",
              "                        return import('https://upgini.github.io/upgini/js/a.js')\n",
              "                            .then(FingerprintJS => FingerprintJS.load())\n",
              "                            .then(fp => fp.get())\n",
              "                            .then(result => result.visitorId);\n",
              "                    }\n",
              "                    "
            ]
          },
          "metadata": {}
        },
        {
          "output_type": "display_data",
          "data": {
            "text/plain": [
              "<IPython.core.display.Javascript object>"
            ],
            "application/javascript": [
              "\n",
              "                    async function getVisitorId() {\n",
              "                        return import('https://upgini.github.io/upgini/js/a.js')\n",
              "                            .then(FingerprintJS => FingerprintJS.load())\n",
              "                            .then(fp => fp.get())\n",
              "                            .then(result => result.visitorId);\n",
              "                    }\n",
              "                    "
            ]
          },
          "metadata": {}
        },
        {
          "output_type": "display_data",
          "data": {
            "text/plain": [
              "<IPython.core.display.Javascript object>"
            ],
            "application/javascript": [
              "\n",
              "                    async function getVisitorId() {\n",
              "                        return import('https://upgini.github.io/upgini/js/a.js')\n",
              "                            .then(FingerprintJS => FingerprintJS.load())\n",
              "                            .then(fp => fp.get())\n",
              "                            .then(result => result.visitorId);\n",
              "                    }\n",
              "                    "
            ]
          },
          "metadata": {}
        },
        {
          "output_type": "display_data",
          "data": {
            "text/plain": [
              "<IPython.core.display.Javascript object>"
            ],
            "application/javascript": [
              "\n",
              "                    async function getVisitorId() {\n",
              "                        return import('https://upgini.github.io/upgini/js/a.js')\n",
              "                            .then(FingerprintJS => FingerprintJS.load())\n",
              "                            .then(fp => fp.get())\n",
              "                            .then(result => result.visitorId);\n",
              "                    }\n",
              "                    "
            ]
          },
          "metadata": {}
        },
        {
          "output_type": "display_data",
          "data": {
            "text/plain": [
              "<IPython.core.display.Javascript object>"
            ],
            "application/javascript": [
              "\n",
              "                    async function getVisitorId() {\n",
              "                        return import('https://upgini.github.io/upgini/js/a.js')\n",
              "                            .then(FingerprintJS => FingerprintJS.load())\n",
              "                            .then(fp => fp.get())\n",
              "                            .then(result => result.visitorId);\n",
              "                    }\n",
              "                    "
            ]
          },
          "metadata": {}
        },
        {
          "output_type": "stream",
          "name": "stdout",
          "text": [
            "WARNING #1: Search started with DATE search key only\n",
            "Try to add other keys like the COUNTRY, POSTAL_CODE, PHONE NUMBER, EMAIL/HEM, IP to your training dataset\n",
            "for search through all the available data sources.\n",
            "See docs https://github.com/upgini/upgini#-total-239-countries-and-up-to-41-years-of-history\n",
            "\n"
          ]
        },
        {
          "output_type": "display_data",
          "data": {
            "text/plain": [
              "<IPython.core.display.Javascript object>"
            ],
            "application/javascript": [
              "\n",
              "                    async function getVisitorId() {\n",
              "                        return import('https://upgini.github.io/upgini/js/a.js')\n",
              "                            .then(FingerprintJS => FingerprintJS.load())\n",
              "                            .then(fp => fp.get())\n",
              "                            .then(result => result.visitorId);\n",
              "                    }\n",
              "                    "
            ]
          },
          "metadata": {}
        },
        {
          "output_type": "display_data",
          "data": {
            "text/plain": [
              "<IPython.core.display.Javascript object>"
            ],
            "application/javascript": [
              "\n",
              "                    async function getVisitorId() {\n",
              "                        return import('https://upgini.github.io/upgini/js/a.js')\n",
              "                            .then(FingerprintJS => FingerprintJS.load())\n",
              "                            .then(fp => fp.get())\n",
              "                            .then(result => result.visitorId);\n",
              "                    }\n",
              "                    "
            ]
          },
          "metadata": {}
        },
        {
          "output_type": "stream",
          "name": "stdout",
          "text": [
            "\n",
            "Detected task type: ModelTaskType.REGRESSION. Reason: date search key is present, treating as regression\n",
            "You can set task type manually with argument `model_task_type` of FeaturesEnricher constructor if task type detected incorrectly\n"
          ]
        },
        {
          "output_type": "display_data",
          "data": {
            "text/plain": [
              "<IPython.core.display.Javascript object>"
            ],
            "application/javascript": [
              "\n",
              "                    async function getVisitorId() {\n",
              "                        return import('https://upgini.github.io/upgini/js/a.js')\n",
              "                            .then(FingerprintJS => FingerprintJS.load())\n",
              "                            .then(fp => fp.get())\n",
              "                            .then(result => result.visitorId);\n",
              "                    }\n",
              "                    "
            ]
          },
          "metadata": {}
        },
        {
          "output_type": "stream",
          "name": "stdout",
          "text": [
            "\n"
          ]
        },
        {
          "output_type": "display_data",
          "data": {
            "text/plain": [
              "<IPython.core.display.Javascript object>"
            ],
            "application/javascript": [
              "\n",
              "                    async function getVisitorId() {\n",
              "                        return import('https://upgini.github.io/upgini/js/a.js')\n",
              "                            .then(FingerprintJS => FingerprintJS.load())\n",
              "                            .then(fp => fp.get())\n",
              "                            .then(result => result.visitorId);\n",
              "                    }\n",
              "                    "
            ]
          },
          "metadata": {}
        },
        {
          "output_type": "display_data",
          "data": {
            "text/plain": [
              "<IPython.core.display.Javascript object>"
            ],
            "application/javascript": [
              "\n",
              "                    async function getVisitorId() {\n",
              "                        return import('https://upgini.github.io/upgini/js/a.js')\n",
              "                            .then(FingerprintJS => FingerprintJS.load())\n",
              "                            .then(fp => fp.get())\n",
              "                            .then(result => result.visitorId);\n",
              "                    }\n",
              "                    "
            ]
          },
          "metadata": {}
        },
        {
          "output_type": "stream",
          "name": "stdout",
          "text": [
            "WARNING #2: Your training sample is unstable in number of rows per date. It is recommended to redesign the training sample\n",
            "\n"
          ]
        },
        {
          "output_type": "display_data",
          "data": {
            "text/plain": [
              "<IPython.core.display.Javascript object>"
            ],
            "application/javascript": [
              "\n",
              "                    async function getVisitorId() {\n",
              "                        return import('https://upgini.github.io/upgini/js/a.js')\n",
              "                            .then(FingerprintJS => FingerprintJS.load())\n",
              "                            .then(fp => fp.get())\n",
              "                            .then(result => result.visitorId);\n",
              "                    }\n",
              "                    "
            ]
          },
          "metadata": {}
        },
        {
          "output_type": "display_data",
          "data": {
            "text/plain": [
              "<IPython.core.display.Javascript object>"
            ],
            "application/javascript": [
              "\n",
              "                    async function getVisitorId() {\n",
              "                        return import('https://upgini.github.io/upgini/js/a.js')\n",
              "                            .then(FingerprintJS => FingerprintJS.load())\n",
              "                            .then(fp => fp.get())\n",
              "                            .then(result => result.visitorId);\n",
              "                    }\n",
              "                    "
            ]
          },
          "metadata": {}
        },
        {
          "output_type": "display_data",
          "data": {
            "text/plain": [
              "<IPython.core.display.Javascript object>"
            ],
            "application/javascript": [
              "\n",
              "                    async function getVisitorId() {\n",
              "                        return import('https://upgini.github.io/upgini/js/a.js')\n",
              "                            .then(FingerprintJS => FingerprintJS.load())\n",
              "                            .then(fp => fp.get())\n",
              "                            .then(result => result.visitorId);\n",
              "                    }\n",
              "                    "
            ]
          },
          "metadata": {}
        },
        {
          "output_type": "display_data",
          "data": {
            "text/plain": [
              "<IPython.core.display.HTML object>"
            ],
            "text/html": [
              "<table><tr><th style='font-weight:bold'>Column name</th><th style='font-weight:bold'>Status</th><th style='font-weight:bold'>Errors</th></tr><tr><td>date</td><td style='background-color:#DAF7A6;color:black'>All valid</td><td>-</td></tr><tr><td>target</td><td style='background-color:#DAF7A6;color:black'>All valid</td><td>-</td></tr><tr><td>item</td><td style='background-color:#DAF7A6;color:black'>All valid</td><td>-</td></tr><tr><td>store</td><td style='background-color:#DAF7A6;color:black'>All valid</td><td>-</td></tr></table>"
            ]
          },
          "metadata": {}
        },
        {
          "output_type": "stream",
          "name": "stdout",
          "text": [
            "\n"
          ]
        },
        {
          "output_type": "display_data",
          "data": {
            "text/plain": [
              "<IPython.core.display.Javascript object>"
            ],
            "application/javascript": [
              "\n",
              "                    async function getVisitorId() {\n",
              "                        return import('https://upgini.github.io/upgini/js/a.js')\n",
              "                            .then(FingerprintJS => FingerprintJS.load())\n",
              "                            .then(fp => fp.get())\n",
              "                            .then(result => result.visitorId);\n",
              "                    }\n",
              "                    "
            ]
          },
          "metadata": {}
        },
        {
          "output_type": "display_data",
          "data": {
            "text/plain": [
              "<IPython.core.display.Javascript object>"
            ],
            "application/javascript": [
              "\n",
              "                    async function getVisitorId() {\n",
              "                        return import('https://upgini.github.io/upgini/js/a.js')\n",
              "                            .then(FingerprintJS => FingerprintJS.load())\n",
              "                            .then(fp => fp.get())\n",
              "                            .then(result => result.visitorId);\n",
              "                    }\n",
              "                    "
            ]
          },
          "metadata": {}
        },
        {
          "output_type": "display_data",
          "data": {
            "text/plain": [
              "<IPython.core.display.Javascript object>"
            ],
            "application/javascript": [
              "\n",
              "                        async function getIP() {\n",
              "                            return fetch(\"https://api64.ipify.org\")\n",
              "                                .then(response => response.text())\n",
              "                                .then(data => data);\n",
              "                        }\n",
              "                        "
            ]
          },
          "metadata": {}
        },
        {
          "output_type": "display_data",
          "data": {
            "text/plain": [
              "<IPython.core.display.Javascript object>"
            ],
            "application/javascript": [
              "\n",
              "                        async function getIP() {\n",
              "                            return fetch(\"https://api64.ipify.org\")\n",
              "                                .then(response => response.text())\n",
              "                                .then(data => data);\n",
              "                        }\n",
              "                        "
            ]
          },
          "metadata": {}
        },
        {
          "output_type": "display_data",
          "data": {
            "text/plain": [
              "<IPython.core.display.Javascript object>"
            ],
            "application/javascript": [
              "\n",
              "                        async function getIP() {\n",
              "                            return fetch(\"https://api64.ipify.org\")\n",
              "                                .then(response => response.text())\n",
              "                                .then(data => data);\n",
              "                        }\n",
              "                        "
            ]
          },
          "metadata": {}
        },
        {
          "output_type": "display_data",
          "data": {
            "text/plain": [
              "<IPython.core.display.Javascript object>"
            ],
            "application/javascript": [
              "\n",
              "                        async function getIP() {\n",
              "                            return fetch(\"https://api64.ipify.org\")\n",
              "                                .then(response => response.text())\n",
              "                                .then(data => data);\n",
              "                        }\n",
              "                        "
            ]
          },
          "metadata": {}
        },
        {
          "output_type": "display_data",
          "data": {
            "text/plain": [
              "<IPython.core.display.Javascript object>"
            ],
            "application/javascript": [
              "\n",
              "                        async function getIP() {\n",
              "                            return fetch(\"https://api64.ipify.org\")\n",
              "                                .then(response => response.text())\n",
              "                                .then(data => data);\n",
              "                        }\n",
              "                        "
            ]
          },
          "metadata": {}
        },
        {
          "output_type": "display_data",
          "data": {
            "text/plain": [
              "<IPython.core.display.Javascript object>"
            ],
            "application/javascript": [
              "\n",
              "                        async function getIP() {\n",
              "                            return fetch(\"https://api64.ipify.org\")\n",
              "                                .then(response => response.text())\n",
              "                                .then(data => data);\n",
              "                        }\n",
              "                        "
            ]
          },
          "metadata": {}
        },
        {
          "output_type": "display_data",
          "data": {
            "text/plain": [
              "<IPython.core.display.Javascript object>"
            ],
            "application/javascript": [
              "\n",
              "                        async function getIP() {\n",
              "                            return fetch(\"https://api64.ipify.org\")\n",
              "                                .then(response => response.text())\n",
              "                                .then(data => data);\n",
              "                        }\n",
              "                        "
            ]
          },
          "metadata": {}
        },
        {
          "output_type": "display_data",
          "data": {
            "text/plain": [
              "<IPython.core.display.Javascript object>"
            ],
            "application/javascript": [
              "\n",
              "                        async function getIP() {\n",
              "                            return fetch(\"https://api64.ipify.org\")\n",
              "                                .then(response => response.text())\n",
              "                                .then(data => data);\n",
              "                        }\n",
              "                        "
            ]
          },
          "metadata": {}
        },
        {
          "output_type": "display_data",
          "data": {
            "text/plain": [
              "<IPython.core.display.Javascript object>"
            ],
            "application/javascript": [
              "\n",
              "                        async function getIP() {\n",
              "                            return fetch(\"https://api64.ipify.org\")\n",
              "                                .then(response => response.text())\n",
              "                                .then(data => data);\n",
              "                        }\n",
              "                        "
            ]
          },
          "metadata": {}
        },
        {
          "output_type": "display_data",
          "data": {
            "text/plain": [
              "<IPython.core.display.Javascript object>"
            ],
            "application/javascript": [
              "\n",
              "                        async function getIP() {\n",
              "                            return fetch(\"https://api64.ipify.org\")\n",
              "                                .then(response => response.text())\n",
              "                                .then(data => data);\n",
              "                        }\n",
              "                        "
            ]
          },
          "metadata": {}
        },
        {
          "output_type": "display_data",
          "data": {
            "text/plain": [
              "<IPython.core.display.Javascript object>"
            ],
            "application/javascript": [
              "\n",
              "                        async function getIP() {\n",
              "                            return fetch(\"https://api64.ipify.org\")\n",
              "                                .then(response => response.text())\n",
              "                                .then(data => data);\n",
              "                        }\n",
              "                        "
            ]
          },
          "metadata": {}
        },
        {
          "output_type": "display_data",
          "data": {
            "text/plain": [
              "<IPython.core.display.Javascript object>"
            ],
            "application/javascript": [
              "\n",
              "                        async function getIP() {\n",
              "                            return fetch(\"https://api64.ipify.org\")\n",
              "                                .then(response => response.text())\n",
              "                                .then(data => data);\n",
              "                        }\n",
              "                        "
            ]
          },
          "metadata": {}
        },
        {
          "output_type": "display_data",
          "data": {
            "text/plain": [
              "<IPython.core.display.Javascript object>"
            ],
            "application/javascript": [
              "\n",
              "                        async function getIP() {\n",
              "                            return fetch(\"https://api64.ipify.org\")\n",
              "                                .then(response => response.text())\n",
              "                                .then(data => data);\n",
              "                        }\n",
              "                        "
            ]
          },
          "metadata": {}
        },
        {
          "output_type": "display_data",
          "data": {
            "text/plain": [
              "<IPython.core.display.Javascript object>"
            ],
            "application/javascript": [
              "\n",
              "                        async function getIP() {\n",
              "                            return fetch(\"https://api64.ipify.org\")\n",
              "                                .then(response => response.text())\n",
              "                                .then(data => data);\n",
              "                        }\n",
              "                        "
            ]
          },
          "metadata": {}
        },
        {
          "output_type": "display_data",
          "data": {
            "text/plain": [
              "<IPython.core.display.Javascript object>"
            ],
            "application/javascript": [
              "\n",
              "                        async function getIP() {\n",
              "                            return fetch(\"https://api64.ipify.org\")\n",
              "                                .then(response => response.text())\n",
              "                                .then(data => data);\n",
              "                        }\n",
              "                        "
            ]
          },
          "metadata": {}
        },
        {
          "output_type": "display_data",
          "data": {
            "text/plain": [
              "<IPython.core.display.Javascript object>"
            ],
            "application/javascript": [
              "\n",
              "                        async function getIP() {\n",
              "                            return fetch(\"https://api64.ipify.org\")\n",
              "                                .then(response => response.text())\n",
              "                                .then(data => data);\n",
              "                        }\n",
              "                        "
            ]
          },
          "metadata": {}
        },
        {
          "output_type": "display_data",
          "data": {
            "text/plain": [
              "<IPython.core.display.Javascript object>"
            ],
            "application/javascript": [
              "\n",
              "                        async function getIP() {\n",
              "                            return fetch(\"https://api64.ipify.org\")\n",
              "                                .then(response => response.text())\n",
              "                                .then(data => data);\n",
              "                        }\n",
              "                        "
            ]
          },
          "metadata": {}
        },
        {
          "output_type": "stream",
          "name": "stdout",
          "text": [
            "\n",
            "Running search request, search_id=37ebb20f-a069-405d-9cd6-a4316109c88d\n",
            "We'll send email notification once it's completed, just use your personal api_key from profile.upgini.com\n",
            "\n",
            "\u001b[92m\u001b[1m\n",
            "35 relevant feature(s) found with the search keys: ['date', 'store', 'item']\u001b[0m\n"
          ]
        },
        {
          "output_type": "display_data",
          "data": {
            "text/plain": [
              "<IPython.core.display.HTML object>"
            ],
            "text/html": [
              "<style>\n",
              "            .upgini-df thead th {\n",
              "                font-weight:bold;\n",
              "                text-align: center;\n",
              "                padding: 0.5em;\n",
              "                border-bottom: 2px solid black;\n",
              "            }\n",
              "\n",
              "            .upgini-df tbody td {\n",
              "                padding: 0.5em;\n",
              "            }\n",
              "\n",
              "            .upgini-df tbody tr:nth-child(odd) {\n",
              "                background-color: #ffffff;\n",
              "            }\n",
              "\n",
              "            .upgini-df tbody tr:nth-child(even) {\n",
              "                background-color: #f2f2f2;\n",
              "            }\n",
              "\n",
              "            .upgini-text {\n",
              "                text-align: left;\n",
              "            }\n",
              "\n",
              "            .upgini-number {\n",
              "                text-align: center;\n",
              "            }\n",
              "        </style>\n",
              "        <h2>Relevant features</h2>\n",
              "        <div style=\"display:flex; flex-direction:column; align-items:flex-end; width: fit-content;\">\n",
              "            \n",
              "            <div style=\"text-align: right\">\n",
              "                <button onclick=navigator.clipboard.writeText(decodeURI('Feature%20name%09SHAP%20value%09Coverage%20%25%09Value%20preview%09Provider%09Source%09Updates%0Af_events_date_year_cos1_9014a856%094.002%09100.0%090.2093,%20-0.7325,%20-0.9231%09Upgini%09Calendar%20data%09Daily%0Af_autofe_lag_7d_44ccb1e1%091.7691%0999.48070728981791%090.9905,%20-0.2345,%20-0.7624%09Training%20dataset%09AutoFE%3A%20features%20from%20Training%20dataset,%3Ca%20href%3D%27https%3A%2F%2Fupgini.com%2F%23data_sources%27%20target%3D%27_blank%27%20rel%3D%27noopener%20noreferrer%27%3ECalendar%20data%3C%2Fa%3E%09Daily%0Af_events_date_week_sin1_847b5db1%091.0779%09100.0%09-0.9749,%20-0.7818,%200.0%09Upgini%09Calendar%20data%09Daily%0Af_financial_date_gold_bf71e733%090.9815%09100.0%091501.0,%201214.2,%201306.3%09Upgini%09Markets%20data%09Daily%0Af_autofe_lag_2d_1947d061%090.942%0999.85538684020246%090.6235,%20-0.2225,%200.6235%09Training%20dataset%09AutoFE%3A%20features%20from%20Training%20dataset,%3Ca%20href%3D%27https%3A%2F%2Fupgini.com%2F%23data_sources%27%20target%3D%27_blank%27%20rel%3D%27noopener%20noreferrer%27%3ECalendar%20data%3C%2Fa%3E%09Daily%0Af_autofe_lag_3d_d168eb3e%090.792%0999.78308026030369%09-0.9749,%200.7818,%20-0.4339%09Training%20dataset%09AutoFE%3A%20features%20from%20Training%20dataset,%3Ca%20href%3D%27https%3A%2F%2Fupgini.com%2F%23data_sources%27%20target%3D%27_blank%27%20rel%3D%27noopener%20noreferrer%27%3ECalendar%20data%3C%2Fa%3E%09Daily%0Af_autofe_lag_3d_5dba02da%090.6874%0999.78308026030369%09341.48,%20339.14,%20346.42%09Training%20dataset%09AutoFE%3A%20features%20from%20Training%20dataset,%3Ca%20href%3D%27https%3A%2F%2Fupgini.com%2F%23data_sources%27%20target%3D%27_blank%27%20rel%3D%27noopener%20noreferrer%27%3EMarkets%20data%3C%2Fa%3E%09Daily%0Af_autofe_lag_7d_6354b8dc%090.6632%0999.48070728981791%09377.68,%20320.97,%20342.92%09Training%20dataset%09AutoFE%3A%20features%20from%20Training%20dataset,%3Ca%20href%3D%27https%3A%2F%2Fupgini.com%2F%23data_sources%27%20target%3D%27_blank%27%20rel%3D%27noopener%20noreferrer%27%3EMarkets%20data%3C%2Fa%3E%09Daily%0Af_autofe_roll_7d_norm_mean_b8cbc4e4%090.4932%0942.936961808979156%095.6806442808608536e%2B16,%205.6806...%09Training%20dataset%09AutoFE%3A%20features%20from%20Training%20dataset,%3Ca%20href%3D%27https%3A%2F%2Fupgini.com%2F%23data_sources%27%20target%3D%27_blank%27%20rel%3D%27noopener%20noreferrer%27%3ECalendar%20data%3C%2Fa%3E%09Daily%0Af_autofe_lag_7d_24084e88%090.4916%0999.48070728981791%09-0.4339,%20-0.9749,%200.4339%09Training%20dataset%09AutoFE%3A%20features%20from%20Training%20dataset,%3Ca%20href%3D%27https%3A%2F%2Fupgini.com%2F%23data_sources%27%20target%3D%27_blank%27%20rel%3D%27noopener%20noreferrer%27%3ECalendar%20data%3C%2Fa%3E%09Daily%0Af_autofe_lag_3d_7d332726%090.3985%0999.78308026030369%091446.3,%201128.8,%201283.4%09Training%20dataset%09AutoFE%3A%20features%20from%20Training%20dataset,%3Ca%20href%3D%27https%3A%2F%2Fupgini.com%2F%23data_sources%27%20target%3D%27_blank%27%20rel%3D%27noopener%20noreferrer%27%3EMarkets%20data%3C%2Fa%3E%09Daily%0Af_autofe_roll_7d_norm_mean_f4c75f3e%090.3896%0999.5530138697167%090.7474,%201.0704,%20-0.2002%09Training%20dataset%09AutoFE%3A%20features%20from%20Training%20dataset,%3Ca%20href%3D%27https%3A%2F%2Fupgini.com%2F%23data_sources%27%20target%3D%27_blank%27%20rel%3D%27noopener%20noreferrer%27%3ECalendar%20data%3C%2Fa%3E%09Daily%0Af_autofe_roll_3d_median_67a4ca4c%090.3213%0999.85538684020246%09-0.901,%200.6235,%20-0.2225%09Training%20dataset%09AutoFE%3A%20features%20from%20Training%20dataset,%3Ca%20href%3D%27https%3A%2F%2Fupgini.com%2F%23data_sources%27%20target%3D%27_blank%27%20rel%3D%27noopener%20noreferrer%27%3ECalendar%20data%3C%2Fa%3E%09Daily%0Af_autofe_roll_2d_min_bd3d6759%090.2864%0999.93426674554658%090.6235,%200.6235,%200.6235%09Training%20dataset%09AutoFE%3A%20features%20from%20Training%20dataset,%3Ca%20href%3D%27https%3A%2F%2Fupgini.com%2F%23data_sources%27%20target%3D%27_blank%27%20rel%3D%27noopener%20noreferrer%27%3ECalendar%20data%3C%2Fa%3E%09Daily%0Af_financial_date_natural_gas_7d_to_7d_1y_shift_a5c3c07f%090.2471%09100.0%091.9057,%200.6312,%201.4129%09Upgini%09Markets%20data%09Daily%0Af_autofe_roll_3d_std_8d2902a0%090.2382%0999.85538684020246%090.0055,%200.0023,%200.0023%09Training%20dataset%09AutoFE%3A%20features%20from%20Training%20dataset,%3Ca%20href%3D%27https%3A%2F%2Fupgini.com%2F%23data_sources%27%20target%3D%27_blank%27%20rel%3D%27noopener%20noreferrer%27%3EMarkets%20data%3C%2Fa%3E%09Daily%0Af_autofe_lag_1d_5138dd83%090.1924%0999.93426674554658%09-0.4339,%200.4339,%200.4339%09Training%20dataset%09AutoFE%3A%20features%20from%20Training%20dataset,%3Ca%20href%3D%27https%3A%2F%2Fupgini.com%2F%23data_sources%27%20target%3D%27_blank%27%20rel%3D%27noopener%20noreferrer%27%3ECalendar%20data%3C%2Fa%3E%09Daily%0Af_autofe_lag_7d_80f1c53c%090.1715%0999.48070728981791%091223.9,%201160.1,%201320.9%09Training%20dataset%09AutoFE%3A%20features%20from%20Training%20dataset,%3Ca%20href%3D%27https%3A%2F%2Fupgini.com%2F%23data_sources%27%20target%3D%27_blank%27%20rel%3D%27noopener%20noreferrer%27%3EMarkets%20data%3C%2Fa%3E%09Daily%0Af_autofe_lag_7d_298854c4%090.1671%0999.48070728981791%091.1729,%201.1155,%201.0007%09Training%20dataset%09AutoFE%3A%20features%20from%20Training%20dataset,%3Ca%20href%3D%27https%3A%2F%2Fupgini.com%2F%23data_sources%27%20target%3D%27_blank%27%20rel%3D%27noopener%20noreferrer%27%3EMarkets%20data%3C%2Fa%3E%09Daily%0Af_autofe_roll_2d_norm_mean_fe42d9a4%090.1484%0999.93426674554658%091.0032,%200.9746,%200.9984%09Training%20dataset%09AutoFE%3A%20features%20from%20Training%20dataset,%3Ca%20href%3D%27https%3A%2F%2Fupgini.com%2F%23data_sources%27%20target%3D%27_blank%27%20rel%3D%27noopener%20noreferrer%27%3ECalendar%20data%3C%2Fa%3E%09Daily%0Af_autofe_roll_7d_median_8e1a5fee%090.1365%0999.5530138697167%091.2915,%201.0768,%200.8933%09Training%20dataset%09AutoFE%3A%20features%20from%20Training%20dataset,%3Ca%20href%3D%27https%3A%2F%2Fupgini.com%2F%23data_sources%27%20target%3D%27_blank%27%20rel%3D%27noopener%20noreferrer%27%3EMarkets%20data%3C%2Fa%3E%09Daily%0Af_financial_date_crude_oil_1f195998%090.1225%09100.0%0952.12,%2046.7,%2053.26%09Upgini%09Markets%20data%09Daily%0Af_autofe_roll_3d_std_e0a7813d%090.1041%0999.85538684020246%090.135,%200.7448,%200.1609%09Training%20dataset%09AutoFE%3A%20features%20from%20Training%20dataset,%3Ca%20href%3D%27https%3A%2F%2Fupgini.com%2F%23data_sources%27%20target%3D%27_blank%27%20rel%3D%27noopener%20noreferrer%27%3EMarkets%20data%3C%2Fa%3E%09Daily%0Af_autofe_roll_2d_std_b88ae2e3%090.0928%0999.93426674554658%090.0919,%200.1174,%200.0955%09Training%20dataset%09AutoFE%3A%20features%20from%20Training%20dataset,%3Ca%20href%3D%27https%3A%2F%2Fupgini.com%2F%23data_sources%27%20target%3D%27_blank%27%20rel%3D%27noopener%20noreferrer%27%3EMarkets%20data%3C%2Fa%3E%09Daily%0Af_autofe_roll_2d_norm_mean_f727ebb5%090.0876%0982.99480707289818%091.1111,%201.6129,%201.6667%09Training%20dataset%09AutoFE%3A%20features%20from%20Training%20dataset,%3Ca%20href%3D%27https%3A%2F%2Fupgini.com%2F%23data_sources%27%20target%3D%27_blank%27%20rel%3D%27noopener%20noreferrer%27%3EMarkets%20data%3C%2Fa%3E%09Daily%0Af_autofe_roll_3d_std_cf25c6ce%090.0632%0999.85538684020246%090.4792,%204.6579,%202.1795%09Training%20dataset%09AutoFE%3A%20features%20from%20Training%20dataset,%3Ca%20href%3D%27https%3A%2F%2Fupgini.com%2F%23data_sources%27%20target%3D%27_blank%27%20rel%3D%27noopener%20noreferrer%27%3EMarkets%20data%3C%2Fa%3E%09Daily%0Af_autofe_roll_2d_std_6466a8eb%090.0591%0999.93426674554658%090.0467,%200.1237,%200.0078%09Training%20dataset%09AutoFE%3A%20features%20from%20Training%20dataset,%3Ca%20href%3D%27https%3A%2F%2Fupgini.com%2F%23data_sources%27%20target%3D%27_blank%27%20rel%3D%27noopener%20noreferrer%27%3EMarkets%20data%3C%2Fa%3E%09Daily%0Af_autofe_roll_3d_norm_mean_d3a34f3f%090.0583%0999.85538684020246%090.9944,%201.0554,%200.8674%09Training%20dataset%09AutoFE%3A%20features%20from%20Training%20dataset,%3Ca%20href%3D%27https%3A%2F%2Fupgini.com%2F%23data_sources%27%20target%3D%27_blank%27%20rel%3D%27noopener%20noreferrer%27%3ECalendar%20data%3C%2Fa%3E%09Daily%0Af_autofe_lag_1d_8255eb29%090.0578%0999.93426674554658%090.01,%20-0.26,%20-0.15%09Training%20dataset%09AutoFE%3A%20features%20from%20Training%20dataset,%3Ca%20href%3D%27https%3A%2F%2Fupgini.com%2F%23data_sources%27%20target%3D%27_blank%27%20rel%3D%27noopener%20noreferrer%27%3EMarkets%20data%3C%2Fa%3E%09Daily%0Af_autofe_roll_2d_norm_mean_85d150da%090.0472%0982.48866101360679%092.9388,%201.8378,%201.2364%09Training%20dataset%09AutoFE%3A%20features%20from%20Training%20dataset,%3Ca%20href%3D%27https%3A%2F%2Fupgini.com%2F%23data_sources%27%20target%3D%27_blank%27%20rel%3D%27noopener%20noreferrer%27%3EMarkets%20data%3C%2Fa%3E%09Daily%0Af_autofe_roll_2d_std_5994058b%090.0439%0999.93426674554658%093.5426,%202.6163,%200.792%09Training%20dataset%09AutoFE%3A%20features%20from%20Training%20dataset,%3Ca%20href%3D%27https%3A%2F%2Fupgini.com%2F%23data_sources%27%20target%3D%27_blank%27%20rel%3D%27noopener%20noreferrer%27%3EMarkets%20data%3C%2Fa%3E%09Daily%0Af_autofe_roll_3d_std_43db36b9%090.0363%0999.85538684020246%090.4167,%200.9224,%200.4041%09Training%20dataset%09AutoFE%3A%20features%20from%20Training%20dataset,%3Ca%20href%3D%27https%3A%2F%2Fupgini.com%2F%23data_sources%27%20target%3D%27_blank%27%20rel%3D%27noopener%20noreferrer%27%3EMarkets%20data%3C%2Fa%3E%09Daily%0Af_autofe_lag_1d_1e473dd0%090.0131%0999.93426674554658%090.09,%20-0.32,%20-0.16%09Training%20dataset%09AutoFE%3A%20features%20from%20Training%20dataset,%3Ca%20href%3D%27https%3A%2F%2Fupgini.com%2F%23data_sources%27%20target%3D%27_blank%27%20rel%3D%27noopener%20noreferrer%27%3EMarkets%20data%3C%2Fa%3E%09Daily%0Af_autofe_roll_2d_min_aa7719e1%090.0101%0999.93426674554658%090.324,%20-0.984,%200.109%09Training%20dataset%09AutoFE%3A%20features%20from%20Training%20dataset,%3Ca%20href%3D%27https%3A%2F%2Fupgini.com%2F%23data_sources%27%20target%3D%27_blank%27%20rel%3D%27noopener%20noreferrer%27%3EMarkets%20data%3C%2Fa%3E%09Daily%0Af_autofe_lag_3d_3c41924a%090.0097%0999.78308026030369%090.288,%20-0.07,%20-0.247%09Training%20dataset%09AutoFE%3A%20features%20from%20Training%20dataset,%3Ca%20href%3D%27https%3A%2F%2Fupgini.com%2F%23data_sources%27%20target%3D%27_blank%27%20rel%3D%27noopener%20noreferrer%27%3EMarkets%20data%3C%2Fa%3E%09Daily%0A'))>📂 Copy</button>\n",
              "                <a href='mailto:<Share with...>?subject=Relevant external data sources from Upgini.com&body=Feature%20name%09SHAP%20value%09Coverage%20%25%09Value%20preview%09Provider%09Source%09Updates%0Af_events_date_year_cos1_9014a856%094.002%09100.0%090.2093,%20-0.7325,%20-0.9231%09Upgini%09Calendar%20data%09Daily%0Af_autofe_lag_7d_44ccb1e1%091.7691%0999.48070728981791%090.9905,%20-0.2345,%20-0.7624%09Training%20dataset%09AutoFE%3A%20features%20from%20Training%20dataset,%3Ca%20href%3D%27https%3A%2F%2Fupgini.com%2F%23data_sources%27%20target%3D%27_blank%27%20rel%3D%27noopener%20noreferrer%27%3ECalendar%20data%3C%2Fa%3E%09Daily%0Af_events_date_week_sin1_847b5db1%091.0779%09100.0%09-0.9749,%20-0.7818,%200.0%09Upgini%09Calendar%20data%09Daily%0Af_financial_date_gold_bf71e733%090.9815%09100.0%091501.0,%201214.2,%201306.3%09Upgini%09Markets%20data%09Daily%0Af_autofe_lag_2d_1947d061%090.942%0999.85538684020246%090.6235,%20-0.2225,%200.6235%09Training%20dataset%09AutoFE%3A%20features%20from%20Training%20dataset,%3Ca%20href%3D%27https%3A%2F%2Fupgini.com%2F%23data_sources%27%20target%3D%27_blank%27%20rel%3D%27noopener%20noreferrer%27%3ECalendar%20data%3C%2Fa%3E%09Daily%0Af_autofe_lag_3d_d168eb3e%090.792%0999.78308026030369%09-0.9749,%200.7818,%20-0.4339%09Training%20dataset%09AutoFE%3A%20features%20from%20Training%20dataset,%3Ca%20href%3D%27https%3A%2F%2Fupgini.com%2F%23data_sources%27%20target%3D%27_blank%27%20rel%3D%27noopener%20noreferrer%27%3ECalendar%20data%3C%2Fa%3E%09Daily%0Af_autofe_lag_3d_5dba02da%090.6874%0999.78308026030369%09341.48,%20339.14,%20346.42%09Training%20dataset%09AutoFE%3A%20features%20from%20Training%20dataset,%3Ca%20href%3D%27https%3A%2F%2Fupgini.com%2F%23data_sources%27%20target%3D%27_blank%27%20rel%3D%27noopener%20noreferrer%27%3EMarkets%20data%3C%2Fa%3E%09Daily%0Af_autofe_lag_7d_6354b8dc%090.6632%0999.48070728981791%09377.68,%20320.97,%20342.92%09Training%20dataset%09AutoFE%3A%20features%20from%20Training%20dataset,%3Ca%20href%3D%27https%3A%2F%2Fupgini.com%2F%23data_sources%27%20target%3D%27_blank%27%20rel%3D%27noopener%20noreferrer%27%3EMarkets%20data%3C%2Fa%3E%09Daily%0Af_autofe_roll_7d_norm_mean_b8cbc4e4%090.4932%0942.936961808979156%095.6806442808608536e%2B16,%205.6806...%09Training%20dataset%09AutoFE%3A%20features%20from%20Training%20dataset,%3Ca%20href%3D%27https%3A%2F%2Fupgini.com%2F%23data_sources%27%20target%3D%27_blank%27%20rel%3D%27noopener%20noreferrer%27%3ECalendar%20data%3C%2Fa%3E%09Daily%0Af_autofe_lag_7d_24084e88%090.4916%0999.48070728981791%09-0.4339,%20-0.9749,%200.4339%09Training%20dataset%09AutoFE%3A%20features%20from%20Training%20dataset,%3Ca%20href%3D%27https%3A%2F%2Fupgini.com%2F%23data_sources%27%20target%3D%27_blank%27%20rel%3D%27noopener%20noreferrer%27%3ECalendar%20data%3C%2Fa%3E%09Daily%0Af_autofe_lag_3d_7d332726%090.3985%0999.78308026030369%091446.3,%201128.8,%201283.4%09Training%20dataset%09AutoFE%3A%20features%20from%20Training%20dataset,%3Ca%20href%3D%27https%3A%2F%2Fupgini.com%2F%23data_sources%27%20target%3D%27_blank%27%20rel%3D%27noopener%20noreferrer%27%3EMarkets%20data%3C%2Fa%3E%09Daily%0Af_autofe_roll_7d_norm_mean_f4c75f3e%090.3896%0999.5530138697167%090.7474,%201.0704,%20-0.2002%09Training%20dataset%09AutoFE%3A%20features%20from%20Training%20dataset,%3Ca%20href%3D%27https%3A%2F%2Fupgini.com%2F%23data_sources%27%20target%3D%27_blank%27%20rel%3D%27noopener%20noreferrer%27%3ECalendar%20data%3C%2Fa%3E%09Daily%0Af_autofe_roll_3d_median_67a4ca4c%090.3213%0999.85538684020246%09-0.901,%200.6235,%20-0.2225%09Training%20dataset%09AutoFE%3A%20features%20from%20Training%20dataset,%3Ca%20href%3D%27https%3A%2F%2Fupgini.com%2F%23data_sources%27%20target%3D%27_blank%27%20rel%3D%27noopener%20noreferrer%27%3ECalendar%20data%3C%2Fa%3E%09Daily%0Af_autofe_roll_2d_min_bd3d6759%090.2864%0999.93426674554658%090.6235,%200.6235,%200.6235%09Training%20dataset%09AutoFE%3A%20features%20from%20Training%20dataset,%3Ca%20href%3D%27https%3A%2F%2Fupgini.com%2F%23data_sources%27%20target%3D%27_blank%27%20rel%3D%27noopener%20noreferrer%27%3ECalendar%20data%3C%2Fa%3E%09Daily%0Af_financial_date_natural_gas_7d_to_7d_1y_shift_a5c3c07f%090.2471%09100.0%091.9057,%200.6312,%201.4129%09Upgini%09Markets%20data%09Daily%0Af_autofe_roll_3d_std_8d2902a0%090.2382%0999.85538684020246%090.0055,%200.0023,%200.0023%09Training%20dataset%09AutoFE%3A%20features%20from%20Training%20dataset,%3Ca%20href%3D%27https%3A%2F%2Fupgini.com%2F%23data_sources%27%20target%3D%27_blank%27%20rel%3D%27noopener%20noreferrer%27%3EMarkets%20data%3C%2Fa%3E%09Daily%0Af_autofe_lag_1d_5138dd83%090.1924%0999.93426674554658%09-0.4339,%200.4339,%200.4339%09Training%20dataset%09AutoFE%3A%20features%20from%20Training%20dataset,%3Ca%20href%3D%27https%3A%2F%2Fupgini.com%2F%23data_sources%27%20target%3D%27_blank%27%20rel%3D%27noopener%20noreferrer%27%3ECalendar%20data%3C%2Fa%3E%09Daily%0Af_autofe_lag_7d_80f1c53c%090.1715%0999.48070728981791%091223.9,%201160.1,%201320.9%09Training%20dataset%09AutoFE%3A%20features%20from%20Training%20dataset,%3Ca%20href%3D%27https%3A%2F%2Fupgini.com%2F%23data_sources%27%20target%3D%27_blank%27%20rel%3D%27noopener%20noreferrer%27%3EMarkets%20data%3C%2Fa%3E%09Daily%0Af_autofe_lag_7d_298854c4%090.1671%0999.48070728981791%091.1729,%201.1155,%201.0007%09Training%20dataset%09AutoFE%3A%20features%20from%20Training%20dataset,%3Ca%20href%3D%27https%3A%2F%2Fupgini.com%2F%23data_sources%27%20target%3D%27_blank%27%20rel%3D%27noopener%20noreferrer%27%3EMarkets%20data%3C%2Fa%3E%09Daily%0Af_autofe_roll_2d_norm_mean_fe42d9a4%090.1484%0999.93426674554658%091.0032,%200.9746,%200.9984%09Training%20dataset%09AutoFE%3A%20features%20from%20Training%20dataset,%3Ca%20href%3D%27https%3A%2F%2Fupgini.com%2F%23data_sources%27%20target%3D%27_blank%27%20rel%3D%27noopener%20noreferrer%27%3ECalendar%20data%3C%2Fa%3E%09Daily%0Af_autofe_roll_7d_median_8e1a5fee%090.1365%0999.5530138697167%091.2915,%201.0768,%200.8933%09Training%20dataset%09AutoFE%3A%20features%20from%20Training%20dataset,%3Ca%20href%3D%27https%3A%2F%2Fupgini.com%2F%23data_sources%27%20target%3D%27_blank%27%20rel%3D%27noopener%20noreferrer%27%3EMarkets%20data%3C%2Fa%3E%09Daily%0Af_financial_date_crude_oil_1f195998%090.1225%09100.0%0952.12,%2046.7,%2053.26%09Upgini%09Markets%20data%09Daily%0Af_autofe_roll_3d_std_e0a7813d%090.1041%0999.85538684020246%090.135,%200.7448,%200.1609%09Training%20dataset%09AutoFE%3A%20features%20from%20Training%20dataset,%3Ca%20href%3D%27https%3A%2F%2Fupgini.com%2F%23data_sources%27%20target%3D%27_blank%27%20rel%3D%27noopener%20noreferrer%27%3EMarkets%20data%3C%2Fa%3E%09Daily%0Af_autofe_roll_2d_std_b88ae2e3%090.0928%0999.93426674554658%090.0919,%200.1174,%200.0955%09Training%20dataset%09AutoFE%3A%20features%20from%20Training%20dataset,%3Ca%20href%3D%27https%3A%2F%2Fupgini.com%2F%23data_sources%27%20target%3D%27_blank%27%20rel%3D%27noopener%20noreferrer%27%3EMarkets%20data%3C%2Fa%3E%09Daily%0Af_autofe_roll_2d_norm_mean_f727ebb5%090.0876%0982.99480707289818%091.1111,%201.6129,%201.6667%09Training%20dataset%09AutoFE%3A%20features%20from%20Training%20dataset,%3Ca%20href%3D%27https%3A%2F%2Fupgini.com%2F%23data_sources%27%20target%3D%27_blank%27%20rel%3D%27noopener%20noreferrer%27%3EMarkets%20data%3C%2Fa%3E%09Daily%0Af_autofe_roll_3d_std_cf25c6ce%090.0632%0999.85538684020246%090.4792,%204.6579,%202.1795%09Training%20dataset%09AutoFE%3A%20features%20from%20Training%20dataset,%3Ca%20href%3D%27https%3A%2F%2Fupgini.com%2F%23data_sources%27%20target%3D%27_blank%27%20rel%3D%27noopener%20noreferrer%27%3EMarkets%20data%3C%2Fa%3E%09Daily%0Af_autofe_roll_2d_std_6466a8eb%090.0591%0999.93426674554658%090.0467,%200.1237,%200.0078%09Training%20dataset%09AutoFE%3A%20features%20from%20Training%20dataset,%3Ca%20href%3D%27https%3A%2F%2Fupgini.com%2F%23data_sources%27%20target%3D%27_blank%27%20rel%3D%27noopener%20noreferrer%27%3EMarkets%20data%3C%2Fa%3E%09Daily%0Af_autofe_roll_3d_norm_mean_d3a34f3f%090.0583%0999.85538684020246%090.9944,%201.0554,%200.8674%09Training%20dataset%09AutoFE%3A%20features%20from%20Training%20dataset,%3Ca%20href%3D%27https%3A%2F%2Fupgini.com%2F%23data_sources%27%20target%3D%27_blank%27%20rel%3D%27noopener%20noreferrer%27%3ECalendar%20data%3C%2Fa%3E%09Daily%0Af_autofe_lag_1d_8255eb29%090.0578%0999.93426674554658%090.01,%20-0.26,%20-0.15%09Training%20dataset%09AutoFE%3A%20features%20from%20Training%20dataset,%3Ca%20href%3D%27https%3A%2F%2Fupgini.com%2F%23data_sources%27%20target%3D%27_blank%27%20rel%3D%27noopener%20noreferrer%27%3EMarkets%20data%3C%2Fa%3E%09Daily%0Af_autofe_roll_2d_norm_mean_85d150da%090.0472%0982.48866101360679%092.9388,%201.8378,%201.2364%09Training%20dataset%09AutoFE%3A%20features%20from%20Training%20dataset,%3Ca%20href%3D%27https%3A%2F%2Fupgini.com%2F%23data_sources%27%20target%3D%27_blank%27%20rel%3D%27noopener%20noreferrer%27%3EMarkets%20data%3C%2Fa%3E%09Daily%0Af_autofe_roll_2d_std_5994058b%090.0439%0999.93426674554658%093.5426,%202.6163,%200.792%09Training%20dataset%09AutoFE%3A%20features%20from%20Training%20dataset,%3Ca%20href%3D%27https%3A%2F%2Fupgini.com%2F%23data_sources%27%20target%3D%27_blank%27%20rel%3D%27noopener%20noreferrer%27%3EMarkets%20data%3C%2Fa%3E%09Daily%0Af_autofe_roll_3d_std_43db36b9%090.0363%0999.85538684020246%090.4167,%200.9224,%200.4041%09Training%20dataset%09AutoFE%3A%20features%20from%20Training%20dataset,%3Ca%20href%3D%27https%3A%2F%2Fupgini.com%2F%23data_sources%27%20target%3D%27_blank%27%20rel%3D%27noopener%20noreferrer%27%3EMarkets%20data%3C%2Fa%3E%09Daily%0Af_autofe_lag_1d_1e473dd0%090.0131%0999.93426674554658%090.09,%20-0.32,%20-0.16%09Training%20dataset%09AutoFE%3A%20features%20from%20Training%20dataset,%3Ca%20href%3D%27https%3A%2F%2Fupgini.com%2F%23data_sources%27%20target%3D%27_blank%27%20rel%3D%27noopener%20noreferrer%27%3EMarkets%20data%3C%2Fa%3E%09Daily%0Af_autofe_roll_2d_min_aa7719e1%090.0101%0999.93426674554658%090.324,%20-0.984,%200.109%09Training%20dataset%09AutoFE%3A%20features%20from%20Training%20dataset,%3Ca%20href%3D%27https%3A%2F%2Fupgini.com%2F%23data_sources%27%20target%3D%27_blank%27%20rel%3D%27noopener%20noreferrer%27%3EMarkets%20data%3C%2Fa%3E%09Daily%0Af_autofe_lag_3d_3c41924a%090.0097%0999.78308026030369%090.288,%20-0.07,%20-0.247%09Training%20dataset%09AutoFE%3A%20features%20from%20Training%20dataset,%3Ca%20href%3D%27https%3A%2F%2Fupgini.com%2F%23data_sources%27%20target%3D%27_blank%27%20rel%3D%27noopener%20noreferrer%27%3EMarkets%20data%3C%2Fa%3E%09Daily%0A'>\n",
              "                    <button>📨 Share</button>\n",
              "                </a>\n",
              "            </div>\n",
              "            <table class='upgini-df'><thead><th>Feature name</th><th>SHAP value</th><th>Coverage %</th><th>Value preview</th><th>Provider</th><th>Source</th><th>Updates</th></thead><tbody><tr><td class='upgini-text'><a href='https://docs.upgini.com/public/calendar/calendar#f_events_date_year_cos1_9014a856' target='_blank' rel='noopener noreferrer'>f_events_date_year_cos1_9014a856</a></td><td class='upgini-number'>4.0020</td><td class='upgini-number'>100.0000</td><td class='upgini-text'>0.2093, -0.7325, -0.9231</td><td class='upgini-text'><a href='https://upgini.com/' target='_blank' rel='noopener noreferrer'>Upgini</a></td><td class='upgini-text'><a href='https://upgini.com/#data_sources' target='_blank' rel='noopener noreferrer'>Calendar data</a></td><td class='upgini-text'>Daily</td></tr><tr><td class='upgini-text'>f_autofe_lag_7d_44ccb1e1</td><td class='upgini-number'>1.7691</td><td class='upgini-number'>99.4807</td><td class='upgini-text'>0.9905, -0.2345, -0.7624</td><td class='upgini-text'>Training dataset,<a href='https://upgini.com/' target='_blank' rel='noopener noreferrer'>Upgini</a></td><td class='upgini-text'>AutoFE: features from Training dataset,<a href='https://upgini.com/#data_sources' target='_blank' rel='noopener noreferrer'>Calendar data</a></td><td class='upgini-text'>Daily</td></tr><tr><td class='upgini-text'><a href='https://docs.upgini.com/public/calendar/calendar#f_events_date_week_sin1_847b5db1' target='_blank' rel='noopener noreferrer'>f_events_date_week_sin1_847b5db1</a></td><td class='upgini-number'>1.0779</td><td class='upgini-number'>100.0000</td><td class='upgini-text'>-0.9749, -0.7818, 0.0</td><td class='upgini-text'><a href='https://upgini.com/' target='_blank' rel='noopener noreferrer'>Upgini</a></td><td class='upgini-text'><a href='https://upgini.com/#data_sources' target='_blank' rel='noopener noreferrer'>Calendar data</a></td><td class='upgini-text'>Daily</td></tr><tr><td class='upgini-text'><a href='https://docs.upgini.com/public/markets/finance#f_financial_date_gold_bf71e733' target='_blank' rel='noopener noreferrer'>f_financial_date_gold_bf71e733</a></td><td class='upgini-number'>0.9815</td><td class='upgini-number'>100.0000</td><td class='upgini-text'>1501.0, 1214.2, 1306.3</td><td class='upgini-text'><a href='https://upgini.com/' target='_blank' rel='noopener noreferrer'>Upgini</a></td><td class='upgini-text'><a href='https://upgini.com/#data_sources' target='_blank' rel='noopener noreferrer'>Markets data</a></td><td class='upgini-text'>Daily</td></tr><tr><td class='upgini-text'>f_autofe_lag_2d_1947d061</td><td class='upgini-number'>0.9420</td><td class='upgini-number'>99.8554</td><td class='upgini-text'>0.6235, -0.2225, 0.6235</td><td class='upgini-text'>Training dataset,<a href='https://upgini.com/' target='_blank' rel='noopener noreferrer'>Upgini</a></td><td class='upgini-text'>AutoFE: features from Training dataset,<a href='https://upgini.com/#data_sources' target='_blank' rel='noopener noreferrer'>Calendar data</a></td><td class='upgini-text'>Daily</td></tr><tr><td class='upgini-text'>f_autofe_lag_3d_d168eb3e</td><td class='upgini-number'>0.7920</td><td class='upgini-number'>99.7831</td><td class='upgini-text'>-0.9749, 0.7818, -0.4339</td><td class='upgini-text'>Training dataset,<a href='https://upgini.com/' target='_blank' rel='noopener noreferrer'>Upgini</a></td><td class='upgini-text'>AutoFE: features from Training dataset,<a href='https://upgini.com/#data_sources' target='_blank' rel='noopener noreferrer'>Calendar data</a></td><td class='upgini-text'>Daily</td></tr><tr><td class='upgini-text'>f_autofe_lag_3d_5dba02da</td><td class='upgini-number'>0.6874</td><td class='upgini-number'>99.7831</td><td class='upgini-text'>341.48, 339.14, 346.42</td><td class='upgini-text'>Training dataset,<a href='https://upgini.com/' target='_blank' rel='noopener noreferrer'>Upgini</a></td><td class='upgini-text'>AutoFE: features from Training dataset,<a href='https://upgini.com/#data_sources' target='_blank' rel='noopener noreferrer'>Markets data</a></td><td class='upgini-text'>Daily</td></tr><tr><td class='upgini-text'>f_autofe_lag_7d_6354b8dc</td><td class='upgini-number'>0.6632</td><td class='upgini-number'>99.4807</td><td class='upgini-text'>377.68, 320.97, 342.92</td><td class='upgini-text'>Training dataset,<a href='https://upgini.com/' target='_blank' rel='noopener noreferrer'>Upgini</a></td><td class='upgini-text'>AutoFE: features from Training dataset,<a href='https://upgini.com/#data_sources' target='_blank' rel='noopener noreferrer'>Markets data</a></td><td class='upgini-text'>Daily</td></tr><tr><td class='upgini-text'>f_autofe_roll_7d_norm_mean_b8cbc4e4</td><td class='upgini-number'>0.4932</td><td class='upgini-number'>42.9370</td><td class='upgini-text'>5.6806442808608536e+16, 5.6806...</td><td class='upgini-text'>Training dataset,<a href='https://upgini.com/' target='_blank' rel='noopener noreferrer'>Upgini</a></td><td class='upgini-text'>AutoFE: features from Training dataset,<a href='https://upgini.com/#data_sources' target='_blank' rel='noopener noreferrer'>Calendar data</a></td><td class='upgini-text'>Daily</td></tr><tr><td class='upgini-text'>f_autofe_lag_7d_24084e88</td><td class='upgini-number'>0.4916</td><td class='upgini-number'>99.4807</td><td class='upgini-text'>-0.4339, -0.9749, 0.4339</td><td class='upgini-text'>Training dataset,<a href='https://upgini.com/' target='_blank' rel='noopener noreferrer'>Upgini</a></td><td class='upgini-text'>AutoFE: features from Training dataset,<a href='https://upgini.com/#data_sources' target='_blank' rel='noopener noreferrer'>Calendar data</a></td><td class='upgini-text'>Daily</td></tr><tr><td class='upgini-text'>f_autofe_lag_3d_7d332726</td><td class='upgini-number'>0.3985</td><td class='upgini-number'>99.7831</td><td class='upgini-text'>1446.3, 1128.8, 1283.4</td><td class='upgini-text'>Training dataset,<a href='https://upgini.com/' target='_blank' rel='noopener noreferrer'>Upgini</a></td><td class='upgini-text'>AutoFE: features from Training dataset,<a href='https://upgini.com/#data_sources' target='_blank' rel='noopener noreferrer'>Markets data</a></td><td class='upgini-text'>Daily</td></tr><tr><td class='upgini-text'>f_autofe_roll_7d_norm_mean_f4c75f3e</td><td class='upgini-number'>0.3896</td><td class='upgini-number'>99.5530</td><td class='upgini-text'>0.7474, 1.0704, -0.2002</td><td class='upgini-text'>Training dataset,<a href='https://upgini.com/' target='_blank' rel='noopener noreferrer'>Upgini</a></td><td class='upgini-text'>AutoFE: features from Training dataset,<a href='https://upgini.com/#data_sources' target='_blank' rel='noopener noreferrer'>Calendar data</a></td><td class='upgini-text'>Daily</td></tr><tr><td class='upgini-text'>f_autofe_roll_3d_median_67a4ca4c</td><td class='upgini-number'>0.3213</td><td class='upgini-number'>99.8554</td><td class='upgini-text'>-0.901, 0.6235, -0.2225</td><td class='upgini-text'>Training dataset,<a href='https://upgini.com/' target='_blank' rel='noopener noreferrer'>Upgini</a></td><td class='upgini-text'>AutoFE: features from Training dataset,<a href='https://upgini.com/#data_sources' target='_blank' rel='noopener noreferrer'>Calendar data</a></td><td class='upgini-text'>Daily</td></tr><tr><td class='upgini-text'>f_autofe_roll_2d_min_bd3d6759</td><td class='upgini-number'>0.2864</td><td class='upgini-number'>99.9343</td><td class='upgini-text'>0.6235, 0.6235, 0.6235</td><td class='upgini-text'>Training dataset,<a href='https://upgini.com/' target='_blank' rel='noopener noreferrer'>Upgini</a></td><td class='upgini-text'>AutoFE: features from Training dataset,<a href='https://upgini.com/#data_sources' target='_blank' rel='noopener noreferrer'>Calendar data</a></td><td class='upgini-text'>Daily</td></tr><tr><td class='upgini-text'><a href='https://docs.upgini.com/public/markets/finance#f_financial_date_natural_gas_7d_to_7d_1y_shift_a5c3c07f' target='_blank' rel='noopener noreferrer'>f_financial_date_natural_gas_7d_to_7d_1y_shift_a5c3c07f</a></td><td class='upgini-number'>0.2471</td><td class='upgini-number'>100.0000</td><td class='upgini-text'>1.9057, 0.6312, 1.4129</td><td class='upgini-text'><a href='https://upgini.com/' target='_blank' rel='noopener noreferrer'>Upgini</a></td><td class='upgini-text'><a href='https://upgini.com/#data_sources' target='_blank' rel='noopener noreferrer'>Markets data</a></td><td class='upgini-text'>Daily</td></tr><tr><td class='upgini-text'>f_autofe_roll_3d_std_8d2902a0</td><td class='upgini-number'>0.2382</td><td class='upgini-number'>99.8554</td><td class='upgini-text'>0.0055, 0.0023, 0.0023</td><td class='upgini-text'>Training dataset,<a href='https://upgini.com/' target='_blank' rel='noopener noreferrer'>Upgini</a></td><td class='upgini-text'>AutoFE: features from Training dataset,<a href='https://upgini.com/#data_sources' target='_blank' rel='noopener noreferrer'>Markets data</a></td><td class='upgini-text'>Daily</td></tr><tr><td class='upgini-text'>f_autofe_lag_1d_5138dd83</td><td class='upgini-number'>0.1924</td><td class='upgini-number'>99.9343</td><td class='upgini-text'>-0.4339, 0.4339, 0.4339</td><td class='upgini-text'>Training dataset,<a href='https://upgini.com/' target='_blank' rel='noopener noreferrer'>Upgini</a></td><td class='upgini-text'>AutoFE: features from Training dataset,<a href='https://upgini.com/#data_sources' target='_blank' rel='noopener noreferrer'>Calendar data</a></td><td class='upgini-text'>Daily</td></tr><tr><td class='upgini-text'>f_autofe_lag_7d_80f1c53c</td><td class='upgini-number'>0.1715</td><td class='upgini-number'>99.4807</td><td class='upgini-text'>1223.9, 1160.1, 1320.9</td><td class='upgini-text'>Training dataset,<a href='https://upgini.com/' target='_blank' rel='noopener noreferrer'>Upgini</a></td><td class='upgini-text'>AutoFE: features from Training dataset,<a href='https://upgini.com/#data_sources' target='_blank' rel='noopener noreferrer'>Markets data</a></td><td class='upgini-text'>Daily</td></tr><tr><td class='upgini-text'>f_autofe_lag_7d_298854c4</td><td class='upgini-number'>0.1671</td><td class='upgini-number'>99.4807</td><td class='upgini-text'>1.1729, 1.1155, 1.0007</td><td class='upgini-text'>Training dataset,<a href='https://upgini.com/' target='_blank' rel='noopener noreferrer'>Upgini</a></td><td class='upgini-text'>AutoFE: features from Training dataset,<a href='https://upgini.com/#data_sources' target='_blank' rel='noopener noreferrer'>Markets data</a></td><td class='upgini-text'>Daily</td></tr><tr><td class='upgini-text'>f_autofe_roll_2d_norm_mean_fe42d9a4</td><td class='upgini-number'>0.1484</td><td class='upgini-number'>99.9343</td><td class='upgini-text'>1.0032, 0.9746, 0.9984</td><td class='upgini-text'>Training dataset,<a href='https://upgini.com/' target='_blank' rel='noopener noreferrer'>Upgini</a></td><td class='upgini-text'>AutoFE: features from Training dataset,<a href='https://upgini.com/#data_sources' target='_blank' rel='noopener noreferrer'>Calendar data</a></td><td class='upgini-text'>Daily</td></tr><tr><td class='upgini-text'>f_autofe_roll_7d_median_8e1a5fee</td><td class='upgini-number'>0.1365</td><td class='upgini-number'>99.5530</td><td class='upgini-text'>1.2915, 1.0768, 0.8933</td><td class='upgini-text'>Training dataset,<a href='https://upgini.com/' target='_blank' rel='noopener noreferrer'>Upgini</a></td><td class='upgini-text'>AutoFE: features from Training dataset,<a href='https://upgini.com/#data_sources' target='_blank' rel='noopener noreferrer'>Markets data</a></td><td class='upgini-text'>Daily</td></tr><tr><td class='upgini-text'><a href='https://docs.upgini.com/public/markets/finance#f_financial_date_crude_oil_1f195998' target='_blank' rel='noopener noreferrer'>f_financial_date_crude_oil_1f195998</a></td><td class='upgini-number'>0.1225</td><td class='upgini-number'>100.0000</td><td class='upgini-text'>52.12, 46.7, 53.26</td><td class='upgini-text'><a href='https://upgini.com/' target='_blank' rel='noopener noreferrer'>Upgini</a></td><td class='upgini-text'><a href='https://upgini.com/#data_sources' target='_blank' rel='noopener noreferrer'>Markets data</a></td><td class='upgini-text'>Daily</td></tr><tr><td class='upgini-text'>f_autofe_roll_3d_std_e0a7813d</td><td class='upgini-number'>0.1041</td><td class='upgini-number'>99.8554</td><td class='upgini-text'>0.135, 0.7448, 0.1609</td><td class='upgini-text'>Training dataset,<a href='https://upgini.com/' target='_blank' rel='noopener noreferrer'>Upgini</a></td><td class='upgini-text'>AutoFE: features from Training dataset,<a href='https://upgini.com/#data_sources' target='_blank' rel='noopener noreferrer'>Markets data</a></td><td class='upgini-text'>Daily</td></tr><tr><td class='upgini-text'>f_autofe_roll_2d_std_b88ae2e3</td><td class='upgini-number'>0.0928</td><td class='upgini-number'>99.9343</td><td class='upgini-text'>0.0919, 0.1174, 0.0955</td><td class='upgini-text'>Training dataset,<a href='https://upgini.com/' target='_blank' rel='noopener noreferrer'>Upgini</a></td><td class='upgini-text'>AutoFE: features from Training dataset,<a href='https://upgini.com/#data_sources' target='_blank' rel='noopener noreferrer'>Markets data</a></td><td class='upgini-text'>Daily</td></tr><tr><td class='upgini-text'>f_autofe_roll_2d_norm_mean_f727ebb5</td><td class='upgini-number'>0.0876</td><td class='upgini-number'>82.9948</td><td class='upgini-text'>1.1111, 1.6129, 1.6667</td><td class='upgini-text'>Training dataset,<a href='https://upgini.com/' target='_blank' rel='noopener noreferrer'>Upgini</a></td><td class='upgini-text'>AutoFE: features from Training dataset,<a href='https://upgini.com/#data_sources' target='_blank' rel='noopener noreferrer'>Markets data</a></td><td class='upgini-text'>Daily</td></tr><tr><td class='upgini-text'>f_autofe_roll_3d_std_cf25c6ce</td><td class='upgini-number'>0.0632</td><td class='upgini-number'>99.8554</td><td class='upgini-text'>0.4792, 4.6579, 2.1795</td><td class='upgini-text'>Training dataset,<a href='https://upgini.com/' target='_blank' rel='noopener noreferrer'>Upgini</a></td><td class='upgini-text'>AutoFE: features from Training dataset,<a href='https://upgini.com/#data_sources' target='_blank' rel='noopener noreferrer'>Markets data</a></td><td class='upgini-text'>Daily</td></tr><tr><td class='upgini-text'>f_autofe_roll_2d_std_6466a8eb</td><td class='upgini-number'>0.0591</td><td class='upgini-number'>99.9343</td><td class='upgini-text'>0.0467, 0.1237, 0.0078</td><td class='upgini-text'>Training dataset,<a href='https://upgini.com/' target='_blank' rel='noopener noreferrer'>Upgini</a></td><td class='upgini-text'>AutoFE: features from Training dataset,<a href='https://upgini.com/#data_sources' target='_blank' rel='noopener noreferrer'>Markets data</a></td><td class='upgini-text'>Daily</td></tr><tr><td class='upgini-text'>f_autofe_roll_3d_norm_mean_d3a34f3f</td><td class='upgini-number'>0.0583</td><td class='upgini-number'>99.8554</td><td class='upgini-text'>0.9944, 1.0554, 0.8674</td><td class='upgini-text'>Training dataset,<a href='https://upgini.com/' target='_blank' rel='noopener noreferrer'>Upgini</a></td><td class='upgini-text'>AutoFE: features from Training dataset,<a href='https://upgini.com/#data_sources' target='_blank' rel='noopener noreferrer'>Calendar data</a></td><td class='upgini-text'>Daily</td></tr><tr><td class='upgini-text'>f_autofe_lag_1d_8255eb29</td><td class='upgini-number'>0.0578</td><td class='upgini-number'>99.9343</td><td class='upgini-text'>0.01, -0.26, -0.15</td><td class='upgini-text'>Training dataset,<a href='https://upgini.com/' target='_blank' rel='noopener noreferrer'>Upgini</a></td><td class='upgini-text'>AutoFE: features from Training dataset,<a href='https://upgini.com/#data_sources' target='_blank' rel='noopener noreferrer'>Markets data</a></td><td class='upgini-text'>Daily</td></tr><tr><td class='upgini-text'>f_autofe_roll_2d_norm_mean_85d150da</td><td class='upgini-number'>0.0472</td><td class='upgini-number'>82.4887</td><td class='upgini-text'>2.9388, 1.8378, 1.2364</td><td class='upgini-text'>Training dataset,<a href='https://upgini.com/' target='_blank' rel='noopener noreferrer'>Upgini</a></td><td class='upgini-text'>AutoFE: features from Training dataset,<a href='https://upgini.com/#data_sources' target='_blank' rel='noopener noreferrer'>Markets data</a></td><td class='upgini-text'>Daily</td></tr><tr><td class='upgini-text'>f_autofe_roll_2d_std_5994058b</td><td class='upgini-number'>0.0439</td><td class='upgini-number'>99.9343</td><td class='upgini-text'>3.5426, 2.6163, 0.792</td><td class='upgini-text'>Training dataset,<a href='https://upgini.com/' target='_blank' rel='noopener noreferrer'>Upgini</a></td><td class='upgini-text'>AutoFE: features from Training dataset,<a href='https://upgini.com/#data_sources' target='_blank' rel='noopener noreferrer'>Markets data</a></td><td class='upgini-text'>Daily</td></tr><tr><td class='upgini-text'>f_autofe_roll_3d_std_43db36b9</td><td class='upgini-number'>0.0363</td><td class='upgini-number'>99.8554</td><td class='upgini-text'>0.4167, 0.9224, 0.4041</td><td class='upgini-text'>Training dataset,<a href='https://upgini.com/' target='_blank' rel='noopener noreferrer'>Upgini</a></td><td class='upgini-text'>AutoFE: features from Training dataset,<a href='https://upgini.com/#data_sources' target='_blank' rel='noopener noreferrer'>Markets data</a></td><td class='upgini-text'>Daily</td></tr><tr><td class='upgini-text'>f_autofe_lag_1d_1e473dd0</td><td class='upgini-number'>0.0131</td><td class='upgini-number'>99.9343</td><td class='upgini-text'>0.09, -0.32, -0.16</td><td class='upgini-text'>Training dataset,<a href='https://upgini.com/' target='_blank' rel='noopener noreferrer'>Upgini</a></td><td class='upgini-text'>AutoFE: features from Training dataset,<a href='https://upgini.com/#data_sources' target='_blank' rel='noopener noreferrer'>Markets data</a></td><td class='upgini-text'>Daily</td></tr><tr><td class='upgini-text'>f_autofe_roll_2d_min_aa7719e1</td><td class='upgini-number'>0.0101</td><td class='upgini-number'>99.9343</td><td class='upgini-text'>0.324, -0.984, 0.109</td><td class='upgini-text'>Training dataset,<a href='https://upgini.com/' target='_blank' rel='noopener noreferrer'>Upgini</a></td><td class='upgini-text'>AutoFE: features from Training dataset,<a href='https://upgini.com/#data_sources' target='_blank' rel='noopener noreferrer'>Markets data</a></td><td class='upgini-text'>Daily</td></tr><tr><td class='upgini-text'>f_autofe_lag_3d_3c41924a</td><td class='upgini-number'>0.0097</td><td class='upgini-number'>99.7831</td><td class='upgini-text'>0.288, -0.07, -0.247</td><td class='upgini-text'>Training dataset,<a href='https://upgini.com/' target='_blank' rel='noopener noreferrer'>Upgini</a></td><td class='upgini-text'>AutoFE: features from Training dataset,<a href='https://upgini.com/#data_sources' target='_blank' rel='noopener noreferrer'>Markets data</a></td><td class='upgini-text'>Daily</td></tr></tbody></table>\n",
              "        </div>\n",
              "        "
            ]
          },
          "metadata": {}
        },
        {
          "output_type": "display_data",
          "data": {
            "text/plain": [
              "<IPython.core.display.HTML object>"
            ],
            "text/html": [
              "<style>\n",
              "            .upgini-df thead th {\n",
              "                font-weight:bold;\n",
              "                text-align: center;\n",
              "                padding: 0.5em;\n",
              "                border-bottom: 2px solid black;\n",
              "            }\n",
              "\n",
              "            .upgini-df tbody td {\n",
              "                padding: 0.5em;\n",
              "            }\n",
              "\n",
              "            .upgini-df tbody tr:nth-child(odd) {\n",
              "                background-color: #ffffff;\n",
              "            }\n",
              "\n",
              "            .upgini-df tbody tr:nth-child(even) {\n",
              "                background-color: #f2f2f2;\n",
              "            }\n",
              "\n",
              "            .upgini-text {\n",
              "                text-align: left;\n",
              "            }\n",
              "\n",
              "            .upgini-number {\n",
              "                text-align: center;\n",
              "            }\n",
              "        </style>\n",
              "        <h2>Relevant data sources</h2>\n",
              "        <div style=\"display:flex; flex-direction:column; align-items:flex-end; width: fit-content;\">\n",
              "            \n",
              "            <div style=\"text-align: right\">\n",
              "                <button onclick=navigator.clipboard.writeText(decodeURI('Provider%09Source%09All%20features%20SHAP%09Number%20of%20relevant%20features%0ATraining%20dataset%09AutoFE%3A%20features%20from%20Training%20dataset,%3Ca%20href%3D%27https%3A%2F%2Fupgini.com%2F%23data_sources%27%20target%3D%27_blank%27%20rel%3D%27noopener%20noreferrer%27%3ECalendar%20data%3C%2Fa%3E%095.8843%0911%0AUpgini%09Calendar%20data%095.0799%092%0ATraining%20dataset%09AutoFE%3A%20features%20from%20Training%20dataset,%3Ca%20href%3D%27https%3A%2F%2Fupgini.com%2F%23data_sources%27%20target%3D%27_blank%27%20rel%3D%27noopener%20noreferrer%27%3EMarkets%20data%3C%2Fa%3E%093.0873%0919%0AUpgini%09Markets%20data%091.3511%093%0A'))>📂 Copy</button>\n",
              "                <a href='mailto:<Share with...>?subject=Relevant external data sources from Upgini.com&body=Provider%09Source%09All%20features%20SHAP%09Number%20of%20relevant%20features%0ATraining%20dataset%09AutoFE%3A%20features%20from%20Training%20dataset,%3Ca%20href%3D%27https%3A%2F%2Fupgini.com%2F%23data_sources%27%20target%3D%27_blank%27%20rel%3D%27noopener%20noreferrer%27%3ECalendar%20data%3C%2Fa%3E%095.8843%0911%0AUpgini%09Calendar%20data%095.0799%092%0ATraining%20dataset%09AutoFE%3A%20features%20from%20Training%20dataset,%3Ca%20href%3D%27https%3A%2F%2Fupgini.com%2F%23data_sources%27%20target%3D%27_blank%27%20rel%3D%27noopener%20noreferrer%27%3EMarkets%20data%3C%2Fa%3E%093.0873%0919%0AUpgini%09Markets%20data%091.3511%093%0A'>\n",
              "                    <button>📨 Share</button>\n",
              "                </a>\n",
              "            </div>\n",
              "            <table class='upgini-df'><thead><th>Provider</th><th>Source</th><th>All features SHAP</th><th>Number of relevant features</th></thead><tbody><tr><td class='upgini-text'>Training dataset,<a href='https://upgini.com/' target='_blank' rel='noopener noreferrer'>Upgini</a></td><td class='upgini-text'>AutoFE: features from Training dataset,<a href='https://upgini.com/#data_sources' target='_blank' rel='noopener noreferrer'>Calendar data</a></td><td class='upgini-number'>5.8843</td><td class='upgini-number'>11</td></tr><tr><td class='upgini-text'><a href='https://upgini.com/' target='_blank' rel='noopener noreferrer'>Upgini</a></td><td class='upgini-text'><a href='https://upgini.com/#data_sources' target='_blank' rel='noopener noreferrer'>Calendar data</a></td><td class='upgini-number'>5.0799</td><td class='upgini-number'>2</td></tr><tr><td class='upgini-text'>Training dataset,<a href='https://upgini.com/' target='_blank' rel='noopener noreferrer'>Upgini</a></td><td class='upgini-text'>AutoFE: features from Training dataset,<a href='https://upgini.com/#data_sources' target='_blank' rel='noopener noreferrer'>Markets data</a></td><td class='upgini-number'>3.0873</td><td class='upgini-number'>19</td></tr><tr><td class='upgini-text'><a href='https://upgini.com/' target='_blank' rel='noopener noreferrer'>Upgini</a></td><td class='upgini-text'><a href='https://upgini.com/#data_sources' target='_blank' rel='noopener noreferrer'>Markets data</a></td><td class='upgini-number'>1.3511</td><td class='upgini-number'>3</td></tr></tbody></table>\n",
              "        </div>\n",
              "        "
            ]
          },
          "metadata": {}
        },
        {
          "output_type": "display_data",
          "data": {
            "text/plain": [
              "<IPython.core.display.HTML object>"
            ],
            "text/html": [
              "<style>\n",
              "            .upgini-df thead th {\n",
              "                font-weight:bold;\n",
              "                text-align: center;\n",
              "                padding: 0.5em;\n",
              "                border-bottom: 2px solid black;\n",
              "            }\n",
              "\n",
              "            .upgini-df tbody td {\n",
              "                padding: 0.5em;\n",
              "            }\n",
              "\n",
              "            .upgini-df tbody tr:nth-child(odd) {\n",
              "                background-color: #ffffff;\n",
              "            }\n",
              "\n",
              "            .upgini-df tbody tr:nth-child(even) {\n",
              "                background-color: #f2f2f2;\n",
              "            }\n",
              "\n",
              "            .upgini-text {\n",
              "                text-align: left;\n",
              "            }\n",
              "\n",
              "            .upgini-number {\n",
              "                text-align: center;\n",
              "            }\n",
              "        </style>\n",
              "        <h2>*Description of AutoFE feature names</h2>\n",
              "        <div style=\"display:flex; flex-direction:column; align-items:flex-end; width: fit-content;\">\n",
              "            \n",
              "            <div style=\"text-align: right\">\n",
              "                <button onclick=navigator.clipboard.writeText(decodeURI('Sources%09Feature%20name%09Feature%201%09Function%0ATraining%20dataset,%3Ca%20href%3D%27https%3A%2F%2Fupgini.com%2F%23data_sources%27%20target%3D%27_blank%27%20rel%3D%27noopener%20noreferrer%27%3ECalendar%20data%3C%2Fa%3E%09f_autofe_lag_7d_44ccb1e1%09f_events_date_year_cos1_9014a856%09lag_7d%0ATraining%20dataset,%3Ca%20href%3D%27https%3A%2F%2Fupgini.com%2F%23data_sources%27%20target%3D%27_blank%27%20rel%3D%27noopener%20noreferrer%27%3ECalendar%20data%3C%2Fa%3E%09f_autofe_lag_2d_1947d061%09f_events_date_week_cos1_f6a8c1fc%09lag_2d%0ATraining%20dataset,%3Ca%20href%3D%27https%3A%2F%2Fupgini.com%2F%23data_sources%27%20target%3D%27_blank%27%20rel%3D%27noopener%20noreferrer%27%3ECalendar%20data%3C%2Fa%3E%09f_autofe_lag_3d_d168eb3e%09f_events_date_week_sin1_847b5db1%09lag_3d%0ATraining%20dataset,%3Ca%20href%3D%27https%3A%2F%2Fupgini.com%2F%23data_sources%27%20target%3D%27_blank%27%20rel%3D%27noopener%20noreferrer%27%3EMarkets%20data%3C%2Fa%3E%09f_autofe_lag_3d_5dba02da%09f_financial_date_stoxx_043cbcd4%09lag_3d%0ATraining%20dataset,%3Ca%20href%3D%27https%3A%2F%2Fupgini.com%2F%23data_sources%27%20target%3D%27_blank%27%20rel%3D%27noopener%20noreferrer%27%3EMarkets%20data%3C%2Fa%3E%09f_autofe_lag_7d_6354b8dc%09f_financial_date_stoxx_043cbcd4%09lag_7d%0ATraining%20dataset,%3Ca%20href%3D%27https%3A%2F%2Fupgini.com%2F%23data_sources%27%20target%3D%27_blank%27%20rel%3D%27noopener%20noreferrer%27%3ECalendar%20data%3C%2Fa%3E%09f_autofe_roll_7d_norm_mean_b8cbc4e4%09f_events_date_week_cos2_b0a07cfc%09roll_7d_norm_mean%0ATraining%20dataset,%3Ca%20href%3D%27https%3A%2F%2Fupgini.com%2F%23data_sources%27%20target%3D%27_blank%27%20rel%3D%27noopener%20noreferrer%27%3ECalendar%20data%3C%2Fa%3E%09f_autofe_lag_7d_24084e88%09f_events_date_week_sin1_847b5db1%09lag_7d%0ATraining%20dataset,%3Ca%20href%3D%27https%3A%2F%2Fupgini.com%2F%23data_sources%27%20target%3D%27_blank%27%20rel%3D%27noopener%20noreferrer%27%3EMarkets%20data%3C%2Fa%3E%09f_autofe_lag_3d_7d332726%09f_financial_date_gold_bf71e733%09lag_3d%0ATraining%20dataset,%3Ca%20href%3D%27https%3A%2F%2Fupgini.com%2F%23data_sources%27%20target%3D%27_blank%27%20rel%3D%27noopener%20noreferrer%27%3ECalendar%20data%3C%2Fa%3E%09f_autofe_roll_7d_norm_mean_f4c75f3e%09f_events_date_year_cos1_9014a856%09roll_7d_norm_mean%0ATraining%20dataset,%3Ca%20href%3D%27https%3A%2F%2Fupgini.com%2F%23data_sources%27%20target%3D%27_blank%27%20rel%3D%27noopener%20noreferrer%27%3ECalendar%20data%3C%2Fa%3E%09f_autofe_roll_3d_median_67a4ca4c%09f_events_date_week_cos3_7525fe31%09roll_3d_median%0ATraining%20dataset,%3Ca%20href%3D%27https%3A%2F%2Fupgini.com%2F%23data_sources%27%20target%3D%27_blank%27%20rel%3D%27noopener%20noreferrer%27%3ECalendar%20data%3C%2Fa%3E%09f_autofe_roll_2d_min_bd3d6759%09f_events_date_week_cos1_f6a8c1fc%09roll_2d_min%0ATraining%20dataset,%3Ca%20href%3D%27https%3A%2F%2Fupgini.com%2F%23data_sources%27%20target%3D%27_blank%27%20rel%3D%27noopener%20noreferrer%27%3EMarkets%20data%3C%2Fa%3E%09f_autofe_roll_3d_std_8d2902a0%09f_financial_date_usd_eur_5d1b9c8f%09roll_3d_std%0ATraining%20dataset,%3Ca%20href%3D%27https%3A%2F%2Fupgini.com%2F%23data_sources%27%20target%3D%27_blank%27%20rel%3D%27noopener%20noreferrer%27%3ECalendar%20data%3C%2Fa%3E%09f_autofe_lag_1d_5138dd83%09f_events_date_week_sin2_e28440a5%09lag_1d%0ATraining%20dataset,%3Ca%20href%3D%27https%3A%2F%2Fupgini.com%2F%23data_sources%27%20target%3D%27_blank%27%20rel%3D%27noopener%20noreferrer%27%3EMarkets%20data%3C%2Fa%3E%09f_autofe_lag_7d_80f1c53c%09f_financial_date_gold_bf71e733%09lag_7d%0ATraining%20dataset,%3Ca%20href%3D%27https%3A%2F%2Fupgini.com%2F%23data_sources%27%20target%3D%27_blank%27%20rel%3D%27noopener%20noreferrer%27%3EMarkets%20data%3C%2Fa%3E%09f_autofe_lag_7d_298854c4%09f_financial_date_natural_gas_7d_to_1y_7a6f300d%09lag_7d%0ATraining%20dataset,%3Ca%20href%3D%27https%3A%2F%2Fupgini.com%2F%23data_sources%27%20target%3D%27_blank%27%20rel%3D%27noopener%20noreferrer%27%3ECalendar%20data%3C%2Fa%3E%09f_autofe_roll_2d_norm_mean_fe42d9a4%09f_events_date_year_sin1_3c44bc64%09roll_2d_norm_mean%0ATraining%20dataset,%3Ca%20href%3D%27https%3A%2F%2Fupgini.com%2F%23data_sources%27%20target%3D%27_blank%27%20rel%3D%27noopener%20noreferrer%27%3EMarkets%20data%3C%2Fa%3E%09f_autofe_roll_7d_median_8e1a5fee%09f_financial_date_vix_7d_to_1y_634c77eb%09roll_7d_median%0ATraining%20dataset,%3Ca%20href%3D%27https%3A%2F%2Fupgini.com%2F%23data_sources%27%20target%3D%27_blank%27%20rel%3D%27noopener%20noreferrer%27%3EMarkets%20data%3C%2Fa%3E%09f_autofe_roll_3d_std_e0a7813d%09f_financial_date_usd_7419609a%09roll_3d_std%0ATraining%20dataset,%3Ca%20href%3D%27https%3A%2F%2Fupgini.com%2F%23data_sources%27%20target%3D%27_blank%27%20rel%3D%27noopener%20noreferrer%27%3EMarkets%20data%3C%2Fa%3E%09f_autofe_roll_2d_std_b88ae2e3%09f_financial_date_silver_gap_f5b63f5b%09roll_2d_std%0ATraining%20dataset,%3Ca%20href%3D%27https%3A%2F%2Fupgini.com%2F%23data_sources%27%20target%3D%27_blank%27%20rel%3D%27noopener%20noreferrer%27%3EMarkets%20data%3C%2Fa%3E%09f_autofe_roll_2d_norm_mean_f727ebb5%09f_financial_date_usd_daydiff_8bcdeec4%09roll_2d_norm_mean%0ATraining%20dataset,%3Ca%20href%3D%27https%3A%2F%2Fupgini.com%2F%23data_sources%27%20target%3D%27_blank%27%20rel%3D%27noopener%20noreferrer%27%3EMarkets%20data%3C%2Fa%3E%09f_autofe_roll_3d_std_cf25c6ce%09f_financial_date_stoxx_043cbcd4%09roll_3d_std%0ATraining%20dataset,%3Ca%20href%3D%27https%3A%2F%2Fupgini.com%2F%23data_sources%27%20target%3D%27_blank%27%20rel%3D%27noopener%20noreferrer%27%3EMarkets%20data%3C%2Fa%3E%09f_autofe_roll_2d_std_6466a8eb%09f_financial_date_natural_gas_92dac942%09roll_2d_std%0ATraining%20dataset,%3Ca%20href%3D%27https%3A%2F%2Fupgini.com%2F%23data_sources%27%20target%3D%27_blank%27%20rel%3D%27noopener%20noreferrer%27%3ECalendar%20data%3C%2Fa%3E%09f_autofe_roll_3d_norm_mean_d3a34f3f%09f_events_date_year_sin1_3c44bc64%09roll_3d_norm_mean%0ATraining%20dataset,%3Ca%20href%3D%27https%3A%2F%2Fupgini.com%2F%23data_sources%27%20target%3D%27_blank%27%20rel%3D%27noopener%20noreferrer%27%3EMarkets%20data%3C%2Fa%3E%09f_autofe_lag_1d_8255eb29%09f_financial_date_usd_gap_615a0ec0%09lag_1d%0ATraining%20dataset,%3Ca%20href%3D%27https%3A%2F%2Fupgini.com%2F%23data_sources%27%20target%3D%27_blank%27%20rel%3D%27noopener%20noreferrer%27%3EMarkets%20data%3C%2Fa%3E%09f_autofe_roll_2d_norm_mean_85d150da%09f_financial_date_gold_daydiff_6c8f15fb%09roll_2d_norm_mean%0ATraining%20dataset,%3Ca%20href%3D%27https%3A%2F%2Fupgini.com%2F%23data_sources%27%20target%3D%27_blank%27%20rel%3D%27noopener%20noreferrer%27%3EMarkets%20data%3C%2Fa%3E%09f_autofe_roll_2d_std_5994058b%09f_financial_date_vix_gap_b64bd2b9%09roll_2d_std%0ATraining%20dataset,%3Ca%20href%3D%27https%3A%2F%2Fupgini.com%2F%23data_sources%27%20target%3D%27_blank%27%20rel%3D%27noopener%20noreferrer%27%3EMarkets%20data%3C%2Fa%3E%09f_autofe_roll_3d_std_43db36b9%09f_financial_date_crude_oil_1f195998%09roll_3d_std%0ATraining%20dataset,%3Ca%20href%3D%27https%3A%2F%2Fupgini.com%2F%23data_sources%27%20target%3D%27_blank%27%20rel%3D%27noopener%20noreferrer%27%3EMarkets%20data%3C%2Fa%3E%09f_autofe_lag_1d_1e473dd0%09f_financial_date_usd_daydiff_8bcdeec4%09lag_1d%0ATraining%20dataset,%3Ca%20href%3D%27https%3A%2F%2Fupgini.com%2F%23data_sources%27%20target%3D%27_blank%27%20rel%3D%27noopener%20noreferrer%27%3EMarkets%20data%3C%2Fa%3E%09f_autofe_roll_2d_min_aa7719e1%09f_financial_date_silver_daydiff_25cf4951%09roll_2d_min%0ATraining%20dataset,%3Ca%20href%3D%27https%3A%2F%2Fupgini.com%2F%23data_sources%27%20target%3D%27_blank%27%20rel%3D%27noopener%20noreferrer%27%3EMarkets%20data%3C%2Fa%3E%09f_autofe_lag_3d_3c41924a%09f_financial_date_silver_daydiff_25cf4951%09lag_3d%0A'))>📂 Copy</button>\n",
              "                <a href='mailto:<Share with...>?subject=Relevant external data sources from Upgini.com&body=Sources%09Feature%20name%09Feature%201%09Function%0ATraining%20dataset,%3Ca%20href%3D%27https%3A%2F%2Fupgini.com%2F%23data_sources%27%20target%3D%27_blank%27%20rel%3D%27noopener%20noreferrer%27%3ECalendar%20data%3C%2Fa%3E%09f_autofe_lag_7d_44ccb1e1%09f_events_date_year_cos1_9014a856%09lag_7d%0ATraining%20dataset,%3Ca%20href%3D%27https%3A%2F%2Fupgini.com%2F%23data_sources%27%20target%3D%27_blank%27%20rel%3D%27noopener%20noreferrer%27%3ECalendar%20data%3C%2Fa%3E%09f_autofe_lag_2d_1947d061%09f_events_date_week_cos1_f6a8c1fc%09lag_2d%0ATraining%20dataset,%3Ca%20href%3D%27https%3A%2F%2Fupgini.com%2F%23data_sources%27%20target%3D%27_blank%27%20rel%3D%27noopener%20noreferrer%27%3ECalendar%20data%3C%2Fa%3E%09f_autofe_lag_3d_d168eb3e%09f_events_date_week_sin1_847b5db1%09lag_3d%0ATraining%20dataset,%3Ca%20href%3D%27https%3A%2F%2Fupgini.com%2F%23data_sources%27%20target%3D%27_blank%27%20rel%3D%27noopener%20noreferrer%27%3EMarkets%20data%3C%2Fa%3E%09f_autofe_lag_3d_5dba02da%09f_financial_date_stoxx_043cbcd4%09lag_3d%0ATraining%20dataset,%3Ca%20href%3D%27https%3A%2F%2Fupgini.com%2F%23data_sources%27%20target%3D%27_blank%27%20rel%3D%27noopener%20noreferrer%27%3EMarkets%20data%3C%2Fa%3E%09f_autofe_lag_7d_6354b8dc%09f_financial_date_stoxx_043cbcd4%09lag_7d%0ATraining%20dataset,%3Ca%20href%3D%27https%3A%2F%2Fupgini.com%2F%23data_sources%27%20target%3D%27_blank%27%20rel%3D%27noopener%20noreferrer%27%3ECalendar%20data%3C%2Fa%3E%09f_autofe_roll_7d_norm_mean_b8cbc4e4%09f_events_date_week_cos2_b0a07cfc%09roll_7d_norm_mean%0ATraining%20dataset,%3Ca%20href%3D%27https%3A%2F%2Fupgini.com%2F%23data_sources%27%20target%3D%27_blank%27%20rel%3D%27noopener%20noreferrer%27%3ECalendar%20data%3C%2Fa%3E%09f_autofe_lag_7d_24084e88%09f_events_date_week_sin1_847b5db1%09lag_7d%0ATraining%20dataset,%3Ca%20href%3D%27https%3A%2F%2Fupgini.com%2F%23data_sources%27%20target%3D%27_blank%27%20rel%3D%27noopener%20noreferrer%27%3EMarkets%20data%3C%2Fa%3E%09f_autofe_lag_3d_7d332726%09f_financial_date_gold_bf71e733%09lag_3d%0ATraining%20dataset,%3Ca%20href%3D%27https%3A%2F%2Fupgini.com%2F%23data_sources%27%20target%3D%27_blank%27%20rel%3D%27noopener%20noreferrer%27%3ECalendar%20data%3C%2Fa%3E%09f_autofe_roll_7d_norm_mean_f4c75f3e%09f_events_date_year_cos1_9014a856%09roll_7d_norm_mean%0ATraining%20dataset,%3Ca%20href%3D%27https%3A%2F%2Fupgini.com%2F%23data_sources%27%20target%3D%27_blank%27%20rel%3D%27noopener%20noreferrer%27%3ECalendar%20data%3C%2Fa%3E%09f_autofe_roll_3d_median_67a4ca4c%09f_events_date_week_cos3_7525fe31%09roll_3d_median%0ATraining%20dataset,%3Ca%20href%3D%27https%3A%2F%2Fupgini.com%2F%23data_sources%27%20target%3D%27_blank%27%20rel%3D%27noopener%20noreferrer%27%3ECalendar%20data%3C%2Fa%3E%09f_autofe_roll_2d_min_bd3d6759%09f_events_date_week_cos1_f6a8c1fc%09roll_2d_min%0ATraining%20dataset,%3Ca%20href%3D%27https%3A%2F%2Fupgini.com%2F%23data_sources%27%20target%3D%27_blank%27%20rel%3D%27noopener%20noreferrer%27%3EMarkets%20data%3C%2Fa%3E%09f_autofe_roll_3d_std_8d2902a0%09f_financial_date_usd_eur_5d1b9c8f%09roll_3d_std%0ATraining%20dataset,%3Ca%20href%3D%27https%3A%2F%2Fupgini.com%2F%23data_sources%27%20target%3D%27_blank%27%20rel%3D%27noopener%20noreferrer%27%3ECalendar%20data%3C%2Fa%3E%09f_autofe_lag_1d_5138dd83%09f_events_date_week_sin2_e28440a5%09lag_1d%0ATraining%20dataset,%3Ca%20href%3D%27https%3A%2F%2Fupgini.com%2F%23data_sources%27%20target%3D%27_blank%27%20rel%3D%27noopener%20noreferrer%27%3EMarkets%20data%3C%2Fa%3E%09f_autofe_lag_7d_80f1c53c%09f_financial_date_gold_bf71e733%09lag_7d%0ATraining%20dataset,%3Ca%20href%3D%27https%3A%2F%2Fupgini.com%2F%23data_sources%27%20target%3D%27_blank%27%20rel%3D%27noopener%20noreferrer%27%3EMarkets%20data%3C%2Fa%3E%09f_autofe_lag_7d_298854c4%09f_financial_date_natural_gas_7d_to_1y_7a6f300d%09lag_7d%0ATraining%20dataset,%3Ca%20href%3D%27https%3A%2F%2Fupgini.com%2F%23data_sources%27%20target%3D%27_blank%27%20rel%3D%27noopener%20noreferrer%27%3ECalendar%20data%3C%2Fa%3E%09f_autofe_roll_2d_norm_mean_fe42d9a4%09f_events_date_year_sin1_3c44bc64%09roll_2d_norm_mean%0ATraining%20dataset,%3Ca%20href%3D%27https%3A%2F%2Fupgini.com%2F%23data_sources%27%20target%3D%27_blank%27%20rel%3D%27noopener%20noreferrer%27%3EMarkets%20data%3C%2Fa%3E%09f_autofe_roll_7d_median_8e1a5fee%09f_financial_date_vix_7d_to_1y_634c77eb%09roll_7d_median%0ATraining%20dataset,%3Ca%20href%3D%27https%3A%2F%2Fupgini.com%2F%23data_sources%27%20target%3D%27_blank%27%20rel%3D%27noopener%20noreferrer%27%3EMarkets%20data%3C%2Fa%3E%09f_autofe_roll_3d_std_e0a7813d%09f_financial_date_usd_7419609a%09roll_3d_std%0ATraining%20dataset,%3Ca%20href%3D%27https%3A%2F%2Fupgini.com%2F%23data_sources%27%20target%3D%27_blank%27%20rel%3D%27noopener%20noreferrer%27%3EMarkets%20data%3C%2Fa%3E%09f_autofe_roll_2d_std_b88ae2e3%09f_financial_date_silver_gap_f5b63f5b%09roll_2d_std%0ATraining%20dataset,%3Ca%20href%3D%27https%3A%2F%2Fupgini.com%2F%23data_sources%27%20target%3D%27_blank%27%20rel%3D%27noopener%20noreferrer%27%3EMarkets%20data%3C%2Fa%3E%09f_autofe_roll_2d_norm_mean_f727ebb5%09f_financial_date_usd_daydiff_8bcdeec4%09roll_2d_norm_mean%0ATraining%20dataset,%3Ca%20href%3D%27https%3A%2F%2Fupgini.com%2F%23data_sources%27%20target%3D%27_blank%27%20rel%3D%27noopener%20noreferrer%27%3EMarkets%20data%3C%2Fa%3E%09f_autofe_roll_3d_std_cf25c6ce%09f_financial_date_stoxx_043cbcd4%09roll_3d_std%0ATraining%20dataset,%3Ca%20href%3D%27https%3A%2F%2Fupgini.com%2F%23data_sources%27%20target%3D%27_blank%27%20rel%3D%27noopener%20noreferrer%27%3EMarkets%20data%3C%2Fa%3E%09f_autofe_roll_2d_std_6466a8eb%09f_financial_date_natural_gas_92dac942%09roll_2d_std%0ATraining%20dataset,%3Ca%20href%3D%27https%3A%2F%2Fupgini.com%2F%23data_sources%27%20target%3D%27_blank%27%20rel%3D%27noopener%20noreferrer%27%3ECalendar%20data%3C%2Fa%3E%09f_autofe_roll_3d_norm_mean_d3a34f3f%09f_events_date_year_sin1_3c44bc64%09roll_3d_norm_mean%0ATraining%20dataset,%3Ca%20href%3D%27https%3A%2F%2Fupgini.com%2F%23data_sources%27%20target%3D%27_blank%27%20rel%3D%27noopener%20noreferrer%27%3EMarkets%20data%3C%2Fa%3E%09f_autofe_lag_1d_8255eb29%09f_financial_date_usd_gap_615a0ec0%09lag_1d%0ATraining%20dataset,%3Ca%20href%3D%27https%3A%2F%2Fupgini.com%2F%23data_sources%27%20target%3D%27_blank%27%20rel%3D%27noopener%20noreferrer%27%3EMarkets%20data%3C%2Fa%3E%09f_autofe_roll_2d_norm_mean_85d150da%09f_financial_date_gold_daydiff_6c8f15fb%09roll_2d_norm_mean%0ATraining%20dataset,%3Ca%20href%3D%27https%3A%2F%2Fupgini.com%2F%23data_sources%27%20target%3D%27_blank%27%20rel%3D%27noopener%20noreferrer%27%3EMarkets%20data%3C%2Fa%3E%09f_autofe_roll_2d_std_5994058b%09f_financial_date_vix_gap_b64bd2b9%09roll_2d_std%0ATraining%20dataset,%3Ca%20href%3D%27https%3A%2F%2Fupgini.com%2F%23data_sources%27%20target%3D%27_blank%27%20rel%3D%27noopener%20noreferrer%27%3EMarkets%20data%3C%2Fa%3E%09f_autofe_roll_3d_std_43db36b9%09f_financial_date_crude_oil_1f195998%09roll_3d_std%0ATraining%20dataset,%3Ca%20href%3D%27https%3A%2F%2Fupgini.com%2F%23data_sources%27%20target%3D%27_blank%27%20rel%3D%27noopener%20noreferrer%27%3EMarkets%20data%3C%2Fa%3E%09f_autofe_lag_1d_1e473dd0%09f_financial_date_usd_daydiff_8bcdeec4%09lag_1d%0ATraining%20dataset,%3Ca%20href%3D%27https%3A%2F%2Fupgini.com%2F%23data_sources%27%20target%3D%27_blank%27%20rel%3D%27noopener%20noreferrer%27%3EMarkets%20data%3C%2Fa%3E%09f_autofe_roll_2d_min_aa7719e1%09f_financial_date_silver_daydiff_25cf4951%09roll_2d_min%0ATraining%20dataset,%3Ca%20href%3D%27https%3A%2F%2Fupgini.com%2F%23data_sources%27%20target%3D%27_blank%27%20rel%3D%27noopener%20noreferrer%27%3EMarkets%20data%3C%2Fa%3E%09f_autofe_lag_3d_3c41924a%09f_financial_date_silver_daydiff_25cf4951%09lag_3d%0A'>\n",
              "                    <button>📨 Share</button>\n",
              "                </a>\n",
              "            </div>\n",
              "            <table class='upgini-df'><thead><th>Sources</th><th>Feature name</th><th>Feature 1</th><th>Function</th></thead><tbody><tr><td class='upgini-text'>Training dataset,<a href='https://upgini.com/#data_sources' target='_blank' rel='noopener noreferrer'>Calendar data</a></td><td class='upgini-text'>f_autofe_lag_7d_44ccb1e1</td><td class='upgini-text'>f_events_date_year_cos1_9014a856</td><td class='upgini-text'>lag_7d</td></tr><tr><td class='upgini-text'>Training dataset,<a href='https://upgini.com/#data_sources' target='_blank' rel='noopener noreferrer'>Calendar data</a></td><td class='upgini-text'>f_autofe_lag_2d_1947d061</td><td class='upgini-text'>f_events_date_week_cos1_f6a8c1fc</td><td class='upgini-text'>lag_2d</td></tr><tr><td class='upgini-text'>Training dataset,<a href='https://upgini.com/#data_sources' target='_blank' rel='noopener noreferrer'>Calendar data</a></td><td class='upgini-text'>f_autofe_lag_3d_d168eb3e</td><td class='upgini-text'>f_events_date_week_sin1_847b5db1</td><td class='upgini-text'>lag_3d</td></tr><tr><td class='upgini-text'>Training dataset,<a href='https://upgini.com/#data_sources' target='_blank' rel='noopener noreferrer'>Markets data</a></td><td class='upgini-text'>f_autofe_lag_3d_5dba02da</td><td class='upgini-text'>f_financial_date_stoxx_043cbcd4</td><td class='upgini-text'>lag_3d</td></tr><tr><td class='upgini-text'>Training dataset,<a href='https://upgini.com/#data_sources' target='_blank' rel='noopener noreferrer'>Markets data</a></td><td class='upgini-text'>f_autofe_lag_7d_6354b8dc</td><td class='upgini-text'>f_financial_date_stoxx_043cbcd4</td><td class='upgini-text'>lag_7d</td></tr><tr><td class='upgini-text'>Training dataset,<a href='https://upgini.com/#data_sources' target='_blank' rel='noopener noreferrer'>Calendar data</a></td><td class='upgini-text'>f_autofe_roll_7d_norm_mean_b8cbc4e4</td><td class='upgini-text'>f_events_date_week_cos2_b0a07cfc</td><td class='upgini-text'>roll_7d_norm_mean</td></tr><tr><td class='upgini-text'>Training dataset,<a href='https://upgini.com/#data_sources' target='_blank' rel='noopener noreferrer'>Calendar data</a></td><td class='upgini-text'>f_autofe_lag_7d_24084e88</td><td class='upgini-text'>f_events_date_week_sin1_847b5db1</td><td class='upgini-text'>lag_7d</td></tr><tr><td class='upgini-text'>Training dataset,<a href='https://upgini.com/#data_sources' target='_blank' rel='noopener noreferrer'>Markets data</a></td><td class='upgini-text'>f_autofe_lag_3d_7d332726</td><td class='upgini-text'>f_financial_date_gold_bf71e733</td><td class='upgini-text'>lag_3d</td></tr><tr><td class='upgini-text'>Training dataset,<a href='https://upgini.com/#data_sources' target='_blank' rel='noopener noreferrer'>Calendar data</a></td><td class='upgini-text'>f_autofe_roll_7d_norm_mean_f4c75f3e</td><td class='upgini-text'>f_events_date_year_cos1_9014a856</td><td class='upgini-text'>roll_7d_norm_mean</td></tr><tr><td class='upgini-text'>Training dataset,<a href='https://upgini.com/#data_sources' target='_blank' rel='noopener noreferrer'>Calendar data</a></td><td class='upgini-text'>f_autofe_roll_3d_median_67a4ca4c</td><td class='upgini-text'>f_events_date_week_cos3_7525fe31</td><td class='upgini-text'>roll_3d_median</td></tr><tr><td class='upgini-text'>Training dataset,<a href='https://upgini.com/#data_sources' target='_blank' rel='noopener noreferrer'>Calendar data</a></td><td class='upgini-text'>f_autofe_roll_2d_min_bd3d6759</td><td class='upgini-text'>f_events_date_week_cos1_f6a8c1fc</td><td class='upgini-text'>roll_2d_min</td></tr><tr><td class='upgini-text'>Training dataset,<a href='https://upgini.com/#data_sources' target='_blank' rel='noopener noreferrer'>Markets data</a></td><td class='upgini-text'>f_autofe_roll_3d_std_8d2902a0</td><td class='upgini-text'>f_financial_date_usd_eur_5d1b9c8f</td><td class='upgini-text'>roll_3d_std</td></tr><tr><td class='upgini-text'>Training dataset,<a href='https://upgini.com/#data_sources' target='_blank' rel='noopener noreferrer'>Calendar data</a></td><td class='upgini-text'>f_autofe_lag_1d_5138dd83</td><td class='upgini-text'>f_events_date_week_sin2_e28440a5</td><td class='upgini-text'>lag_1d</td></tr><tr><td class='upgini-text'>Training dataset,<a href='https://upgini.com/#data_sources' target='_blank' rel='noopener noreferrer'>Markets data</a></td><td class='upgini-text'>f_autofe_lag_7d_80f1c53c</td><td class='upgini-text'>f_financial_date_gold_bf71e733</td><td class='upgini-text'>lag_7d</td></tr><tr><td class='upgini-text'>Training dataset,<a href='https://upgini.com/#data_sources' target='_blank' rel='noopener noreferrer'>Markets data</a></td><td class='upgini-text'>f_autofe_lag_7d_298854c4</td><td class='upgini-text'>f_financial_date_natural_gas_7d_to_1y_7a6f300d</td><td class='upgini-text'>lag_7d</td></tr><tr><td class='upgini-text'>Training dataset,<a href='https://upgini.com/#data_sources' target='_blank' rel='noopener noreferrer'>Calendar data</a></td><td class='upgini-text'>f_autofe_roll_2d_norm_mean_fe42d9a4</td><td class='upgini-text'>f_events_date_year_sin1_3c44bc64</td><td class='upgini-text'>roll_2d_norm_mean</td></tr><tr><td class='upgini-text'>Training dataset,<a href='https://upgini.com/#data_sources' target='_blank' rel='noopener noreferrer'>Markets data</a></td><td class='upgini-text'>f_autofe_roll_7d_median_8e1a5fee</td><td class='upgini-text'>f_financial_date_vix_7d_to_1y_634c77eb</td><td class='upgini-text'>roll_7d_median</td></tr><tr><td class='upgini-text'>Training dataset,<a href='https://upgini.com/#data_sources' target='_blank' rel='noopener noreferrer'>Markets data</a></td><td class='upgini-text'>f_autofe_roll_3d_std_e0a7813d</td><td class='upgini-text'>f_financial_date_usd_7419609a</td><td class='upgini-text'>roll_3d_std</td></tr><tr><td class='upgini-text'>Training dataset,<a href='https://upgini.com/#data_sources' target='_blank' rel='noopener noreferrer'>Markets data</a></td><td class='upgini-text'>f_autofe_roll_2d_std_b88ae2e3</td><td class='upgini-text'>f_financial_date_silver_gap_f5b63f5b</td><td class='upgini-text'>roll_2d_std</td></tr><tr><td class='upgini-text'>Training dataset,<a href='https://upgini.com/#data_sources' target='_blank' rel='noopener noreferrer'>Markets data</a></td><td class='upgini-text'>f_autofe_roll_2d_norm_mean_f727ebb5</td><td class='upgini-text'>f_financial_date_usd_daydiff_8bcdeec4</td><td class='upgini-text'>roll_2d_norm_mean</td></tr><tr><td class='upgini-text'>Training dataset,<a href='https://upgini.com/#data_sources' target='_blank' rel='noopener noreferrer'>Markets data</a></td><td class='upgini-text'>f_autofe_roll_3d_std_cf25c6ce</td><td class='upgini-text'>f_financial_date_stoxx_043cbcd4</td><td class='upgini-text'>roll_3d_std</td></tr><tr><td class='upgini-text'>Training dataset,<a href='https://upgini.com/#data_sources' target='_blank' rel='noopener noreferrer'>Markets data</a></td><td class='upgini-text'>f_autofe_roll_2d_std_6466a8eb</td><td class='upgini-text'>f_financial_date_natural_gas_92dac942</td><td class='upgini-text'>roll_2d_std</td></tr><tr><td class='upgini-text'>Training dataset,<a href='https://upgini.com/#data_sources' target='_blank' rel='noopener noreferrer'>Calendar data</a></td><td class='upgini-text'>f_autofe_roll_3d_norm_mean_d3a34f3f</td><td class='upgini-text'>f_events_date_year_sin1_3c44bc64</td><td class='upgini-text'>roll_3d_norm_mean</td></tr><tr><td class='upgini-text'>Training dataset,<a href='https://upgini.com/#data_sources' target='_blank' rel='noopener noreferrer'>Markets data</a></td><td class='upgini-text'>f_autofe_lag_1d_8255eb29</td><td class='upgini-text'>f_financial_date_usd_gap_615a0ec0</td><td class='upgini-text'>lag_1d</td></tr><tr><td class='upgini-text'>Training dataset,<a href='https://upgini.com/#data_sources' target='_blank' rel='noopener noreferrer'>Markets data</a></td><td class='upgini-text'>f_autofe_roll_2d_norm_mean_85d150da</td><td class='upgini-text'>f_financial_date_gold_daydiff_6c8f15fb</td><td class='upgini-text'>roll_2d_norm_mean</td></tr><tr><td class='upgini-text'>Training dataset,<a href='https://upgini.com/#data_sources' target='_blank' rel='noopener noreferrer'>Markets data</a></td><td class='upgini-text'>f_autofe_roll_2d_std_5994058b</td><td class='upgini-text'>f_financial_date_vix_gap_b64bd2b9</td><td class='upgini-text'>roll_2d_std</td></tr><tr><td class='upgini-text'>Training dataset,<a href='https://upgini.com/#data_sources' target='_blank' rel='noopener noreferrer'>Markets data</a></td><td class='upgini-text'>f_autofe_roll_3d_std_43db36b9</td><td class='upgini-text'>f_financial_date_crude_oil_1f195998</td><td class='upgini-text'>roll_3d_std</td></tr><tr><td class='upgini-text'>Training dataset,<a href='https://upgini.com/#data_sources' target='_blank' rel='noopener noreferrer'>Markets data</a></td><td class='upgini-text'>f_autofe_lag_1d_1e473dd0</td><td class='upgini-text'>f_financial_date_usd_daydiff_8bcdeec4</td><td class='upgini-text'>lag_1d</td></tr><tr><td class='upgini-text'>Training dataset,<a href='https://upgini.com/#data_sources' target='_blank' rel='noopener noreferrer'>Markets data</a></td><td class='upgini-text'>f_autofe_roll_2d_min_aa7719e1</td><td class='upgini-text'>f_financial_date_silver_daydiff_25cf4951</td><td class='upgini-text'>roll_2d_min</td></tr><tr><td class='upgini-text'>Training dataset,<a href='https://upgini.com/#data_sources' target='_blank' rel='noopener noreferrer'>Markets data</a></td><td class='upgini-text'>f_autofe_lag_3d_3c41924a</td><td class='upgini-text'>f_financial_date_silver_daydiff_25cf4951</td><td class='upgini-text'>lag_3d</td></tr></tbody></table>\n",
              "        </div>\n",
              "        "
            ]
          },
          "metadata": {}
        },
        {
          "output_type": "stream",
          "name": "stdout",
          "text": [
            "We detected 113 outliers in your sample.\n",
            "Examples of outliers with maximum value of target:\n",
            "84    205\n",
            "47    196\n",
            "38    187\n",
            "Name: target, dtype: int64\n",
            "Outliers will be excluded during the metrics calculation.\n",
            "Calculating accuracy uplift after enrichment...\n",
            "y distributions from the training sample and eval_set differ according to the Kolmogorov-Smirnov test,\n",
            "which makes metrics between the train and eval_set incomparable.\n"
          ]
        },
        {
          "output_type": "display_data",
          "data": {
            "text/plain": [
              "<IPython.core.display.HTML object>"
            ],
            "text/html": [
              "<style>\n",
              "            .upgini-df thead th {\n",
              "                font-weight:bold;\n",
              "                text-align: center;\n",
              "                padding: 0.5em;\n",
              "                border-bottom: 2px solid black;\n",
              "            }\n",
              "\n",
              "            .upgini-df tbody td {\n",
              "                padding: 0.5em;\n",
              "            }\n",
              "\n",
              "            .upgini-df tbody tr:nth-child(odd) {\n",
              "                background-color: #ffffff;\n",
              "            }\n",
              "\n",
              "            .upgini-df tbody tr:nth-child(even) {\n",
              "                background-color: #f2f2f2;\n",
              "            }\n",
              "\n",
              "            .upgini-text {\n",
              "                text-align: left;\n",
              "            }\n",
              "\n",
              "            .upgini-number {\n",
              "                text-align: center;\n",
              "            }\n",
              "        </style>\n",
              "        <h2>Accuracy after enrichment</h2>\n",
              "        <div style=\"display:flex; flex-direction:column; align-items:flex-end; width: fit-content;\">\n",
              "            \n",
              "            <div style=\"text-align: right\">\n",
              "                <button onclick=navigator.clipboard.writeText(decodeURI('Dataset%20type%09Rows%09Mean%20target%09Baseline%20mean_squared_error%09Enriched%20mean_squared_error%09Uplift%0ATrain%0915213%0950.3977%09305.220%20%C2%B1%20103.118%09201.473%20%C2%B1%2062.127%09103.74671842998947%0AEval%201%093787%0959.2424%09490.798%20%C2%B1%2071.251%09336.804%20%C2%B1%2076.049%09153.99386123401092%0A'))>📂 Copy</button>\n",
              "                <a href='mailto:<Share with...>?subject=Relevant external data sources from Upgini.com&body=Dataset%20type%09Rows%09Mean%20target%09Baseline%20mean_squared_error%09Enriched%20mean_squared_error%09Uplift%0ATrain%0915213%0950.3977%09305.220%20%C2%B1%20103.118%09201.473%20%C2%B1%2062.127%09103.74671842998947%0AEval%201%093787%0959.2424%09490.798%20%C2%B1%2071.251%09336.804%20%C2%B1%2076.049%09153.99386123401092%0A'>\n",
              "                    <button>📨 Share</button>\n",
              "                </a>\n",
              "            </div>\n",
              "            <table class='upgini-df'><thead><th>Dataset type</th><th>Rows</th><th>Mean target</th><th>Baseline mean_squared_error</th><th>Enriched mean_squared_error</th><th>Uplift</th></thead><tbody><tr><td class='upgini-text'>Train</td><td class='upgini-number'>15213</td><td class='upgini-number'>50.3977</td><td class='upgini-text'>305.220 ± 103.118</td><td class='upgini-text'>201.473 ± 62.127</td><td class='upgini-number'>103.7467</td></tr><tr><td class='upgini-text'>Eval 1</td><td class='upgini-number'>3787</td><td class='upgini-number'>59.2424</td><td class='upgini-text'>490.798 ± 71.251</td><td class='upgini-text'>336.804 ± 76.049</td><td class='upgini-number'>153.9939</td></tr></tbody></table>\n",
              "        </div>\n",
              "        "
            ]
          },
          "metadata": {}
        },
        {
          "output_type": "display_data",
          "data": {
            "text/plain": [
              "<IPython.core.display.HTML object>"
            ],
            "text/html": [
              "<a download=\"upgini-report-df3331da-86c9-47c5-9bca-9f5ecb9008ce.pdf\" href=\"data:application/pdf;base64,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\" target=\"_blank\">\n",
              "        <button>📊 Download PDF report</button></a>"
            ]
          },
          "metadata": {}
        }
      ],
      "source": [
        "from upgini import FeaturesEnricher, SearchKey\n",
        "from upgini.metadata import CVType\n",
        "\n",
        "enricher = FeaturesEnricher(\n",
        "    search_keys = {\n",
        "      \"date\": SearchKey.DATE,\n",
        "    },\n",
        "    cv = CVType.time_series,\n",
        "    id_columns = [\"store\",\"item\"],\n",
        ")\n",
        "enricher.fit(train_features,\n",
        "             train_target,\n",
        "             eval_set=[(test_features, test_target)]\n",
        ")"
      ]
    },
    {
      "cell_type": "markdown",
      "metadata": {
        "id": "2Dp1KpNMj2St"
      },
      "source": [
        "We've got **20+ new relevant features** from [different sources such as weather data, calendar data, financial data](https://github.com/upgini/upgini#-connected-data-sources-and-coverage), which expected to improve accuracy of the model. Ranked by [SHAP values](https://en.wikipedia.org/wiki/Shapley_value).\n",
        "\n",
        "Initial features from the training dataset will be checked for relevancy as well, so you don't need an extra feature selection step."
      ]
    },
    {
      "cell_type": "markdown",
      "metadata": {
        "id": "caYeWlb2v88X"
      },
      "source": [
        "## 3️⃣ Calculate uplift from new relevant features using optimized custom estimator and metric\n",
        "You can use any model estimator with scikit-learn compatible interface. Let's take CatBoost regressor.  \n",
        "For evaluation metric there are two options:\n",
        "* Predefined evaluation function alias from [*Upgini library*](https://github.com/upgini/upgini#-accuracy-and-uplift-metrics-calculations), like **`MAPE`** for Mean Average Percentage Error\n",
        "\n",
        "* Define custom evaluation function using [scikit-learn make_scorer](https://scikit-learn.org/0.15/modules/model_evaluation.html#defining-your-scoring-strategy-from-score-functions), for example [SMAPE](https://en.wikipedia.org/wiki/Symmetric_mean_absolute_percentage_error)\n",
        "\n",
        "Model evaluation metric both for train and validation datasets will be calculated with the same cross-validation strategy as for **`FeaturesEnricher.fit()`**-  in this example [time series CV](https://github.com/upgini/upgini#-time-series-prediction-support)."
      ]
    },
    {
      "cell_type": "code",
      "execution_count": null,
      "metadata": {
        "colab": {
          "base_uri": "https://localhost:8080/",
          "height": 1000
        },
        "id": "x7TCoGCgj2Su",
        "outputId": "52542a2d-6a54-496f-ad45-daa8e8a61ab8"
      },
      "outputs": [
        {
          "output_type": "stream",
          "name": "stdout",
          "text": [
            "Calculating accuracy uplift after enrichment...\n",
            "-\ry distributions from the training sample and eval_set differ according to the Kolmogorov-Smirnov test,\n",
            "which makes metrics between the train and eval_set incomparable.\n"
          ]
        },
        {
          "output_type": "display_data",
          "data": {
            "text/plain": [
              "<IPython.core.display.HTML object>"
            ],
            "text/html": [
              "<style>\n",
              "            .upgini-df thead th {\n",
              "                font-weight:bold;\n",
              "                text-align: center;\n",
              "                padding: 0.5em;\n",
              "                border-bottom: 2px solid black;\n",
              "            }\n",
              "\n",
              "            .upgini-df tbody td {\n",
              "                padding: 0.5em;\n",
              "            }\n",
              "\n",
              "            .upgini-df tbody tr:nth-child(odd) {\n",
              "                background-color: #ffffff;\n",
              "            }\n",
              "\n",
              "            .upgini-df tbody tr:nth-child(even) {\n",
              "                background-color: #f2f2f2;\n",
              "            }\n",
              "\n",
              "            .upgini-text {\n",
              "                text-align: left;\n",
              "            }\n",
              "\n",
              "            .upgini-number {\n",
              "                text-align: center;\n",
              "            }\n",
              "        </style>\n",
              "        <h2>Relevant features</h2>\n",
              "        <div style=\"display:flex; flex-direction:column; align-items:flex-end; width: fit-content;\">\n",
              "            \n",
              "            <div style=\"text-align: right\">\n",
              "                <button onclick=navigator.clipboard.writeText(decodeURI('Feature%20name%09SHAP%20value%09Coverage%20%25%09Value%20preview%09Provider%09Source%09Updates%0Af_events_date_year_cos1_9014a856%094.0524%09100.0%09-0.2512,%20-0.133,%20-0.6793%09Upgini%09Calendar%20data%09Daily%0Af_autofe_lag_7d_44ccb1e1%092.1382%0999.48070728981791%09-0.8945,%20-0.9093,%20-0.5864%09Training%20dataset%09AutoFE%3A%20features%20from%20Training%20dataset,%3Ca%20href%3D%27https%3A%2F%2Fupgini.com%2F%23data_sources%27%20target%3D%27_blank%27%20rel%3D%27noopener%20noreferrer%27%3ECalendar%20data%3C%2Fa%3E%09Daily%0Af_events_date_week_sin1_847b5db1%091.4226%09100.0%090.9749,%200.9749,%200.9749%09Upgini%09Calendar%20data%09Daily%0Af_autofe_lag_3d_d168eb3e%091.0297%0999.78308026030369%090.4339,%20-0.4339,%200.4339%09Training%20dataset%09AutoFE%3A%20features%20from%20Training%20dataset,%3Ca%20href%3D%27https%3A%2F%2Fupgini.com%2F%23data_sources%27%20target%3D%27_blank%27%20rel%3D%27noopener%20noreferrer%27%3ECalendar%20data%3C%2Fa%3E%09Daily%0Af_autofe_lag_7d_6354b8dc%091.0281%0999.48070728981791%09332.72,%20344.12,%20395.81%09Training%20dataset%09AutoFE%3A%20features%20from%20Training%20dataset,%3Ca%20href%3D%27https%3A%2F%2Fupgini.com%2F%23data_sources%27%20target%3D%27_blank%27%20rel%3D%27noopener%20noreferrer%27%3EMarkets%20data%3C%2Fa%3E%09Daily%0Af_autofe_lag_3d_5dba02da%090.8501%0999.78308026030369%09344.67,%20378.32,%20353.11%09Training%20dataset%09AutoFE%3A%20features%20from%20Training%20dataset,%3Ca%20href%3D%27https%3A%2F%2Fupgini.com%2F%23data_sources%27%20target%3D%27_blank%27%20rel%3D%27noopener%20noreferrer%27%3EMarkets%20data%3C%2Fa%3E%09Daily%0Af_financial_date_gold_bf71e733%090.7752%09100.0%091296.9,%201310.8,%201551.8%09Upgini%09Markets%20data%09Daily%0Af_autofe_roll_7d_norm_mean_f4c75f3e%090.6334%0999.5530138697167%090.9487,%200.8103,%200.2945%09Training%20dataset%09AutoFE%3A%20features%20from%20Training%20dataset,%3Ca%20href%3D%27https%3A%2F%2Fupgini.com%2F%23data_sources%27%20target%3D%27_blank%27%20rel%3D%27noopener%20noreferrer%27%3ECalendar%20data%3C%2Fa%3E%09Daily%0Af_autofe_lag_2d_1947d061%090.6249%0999.85538684020246%09-0.2225,%20-0.2225,%20-0.2225%09Training%20dataset%09AutoFE%3A%20features%20from%20Training%20dataset,%3Ca%20href%3D%27https%3A%2F%2Fupgini.com%2F%23data_sources%27%20target%3D%27_blank%27%20rel%3D%27noopener%20noreferrer%27%3ECalendar%20data%3C%2Fa%3E%09Daily%0Af_autofe_lag_7d_24084e88%090.5177%0999.48070728981791%09-0.7818,%200.9749,%20-0.7818%09Training%20dataset%09AutoFE%3A%20features%20from%20Training%20dataset,%3Ca%20href%3D%27https%3A%2F%2Fupgini.com%2F%23data_sources%27%20target%3D%27_blank%27%20rel%3D%27noopener%20noreferrer%27%3ECalendar%20data%3C%2Fa%3E%09Daily%0Af_autofe_roll_3d_median_67a4ca4c%090.5125%0999.85538684020246%09-0.2225,%200.6235,%20-0.2225%09Training%20dataset%09AutoFE%3A%20features%20from%20Training%20dataset,%3Ca%20href%3D%27https%3A%2F%2Fupgini.com%2F%23data_sources%27%20target%3D%27_blank%27%20rel%3D%27noopener%20noreferrer%27%3ECalendar%20data%3C%2Fa%3E%09Daily%0Af_financial_date_crude_oil_1f195998%090.4262%09100.0%0997.48,%20106.91,%2051.5%09Upgini%09Markets%20data%09Daily%0Af_autofe_roll_7d_norm_mean_b8cbc4e4%090.4145%0942.936961808979156%096.305039478318694e%2B16,%20-1.8706...%09Training%20dataset%09AutoFE%3A%20features%20from%20Training%20dataset,%3Ca%20href%3D%27https%3A%2F%2Fupgini.com%2F%23data_sources%27%20target%3D%27_blank%27%20rel%3D%27noopener%20noreferrer%27%3ECalendar%20data%3C%2Fa%3E%09Daily%0Af_autofe_roll_2d_min_bd3d6759%090.4141%0999.93426674554658%09-0.901,%20-0.2225,%20-0.901%09Training%20dataset%09AutoFE%3A%20features%20from%20Training%20dataset,%3Ca%20href%3D%27https%3A%2F%2Fupgini.com%2F%23data_sources%27%20target%3D%27_blank%27%20rel%3D%27noopener%20noreferrer%27%3ECalendar%20data%3C%2Fa%3E%09Daily%0Af_autofe_lag_7d_298854c4%090.4031%0999.48070728981791%091.081,%201.3364,%200.9439%09Training%20dataset%09AutoFE%3A%20features%20from%20Training%20dataset,%3Ca%20href%3D%27https%3A%2F%2Fupgini.com%2F%23data_sources%27%20target%3D%27_blank%27%20rel%3D%27noopener%20noreferrer%27%3EMarkets%20data%3C%2Fa%3E%09Daily%0Af_autofe_lag_3d_7d332726%090.3851%0999.78308026030369%091337.7,%201183.2,%201421.0%09Training%20dataset%09AutoFE%3A%20features%20from%20Training%20dataset,%3Ca%20href%3D%27https%3A%2F%2Fupgini.com%2F%23data_sources%27%20target%3D%27_blank%27%20rel%3D%27noopener%20noreferrer%27%3EMarkets%20data%3C%2Fa%3E%09Daily%0Af_financial_date_natural_gas_7d_to_7d_1y_shift_a5c3c07f%090.3759%09100.0%091.0555,%201.1619,%201.6786%09Upgini%09Markets%20data%09Daily%0Af_autofe_lag_1d_5138dd83%090.3136%0999.93426674554658%090.7818,%20-0.4339,%20-0.7818%09Training%20dataset%09AutoFE%3A%20features%20from%20Training%20dataset,%3Ca%20href%3D%27https%3A%2F%2Fupgini.com%2F%23data_sources%27%20target%3D%27_blank%27%20rel%3D%27noopener%20noreferrer%27%3ECalendar%20data%3C%2Fa%3E%09Daily%0Af_autofe_roll_7d_median_8e1a5fee%090.2589%0999.5530138697167%090.8396,%201.2009,%201.1719%09Training%20dataset%09AutoFE%3A%20features%20from%20Training%20dataset,%3Ca%20href%3D%27https%3A%2F%2Fupgini.com%2F%23data_sources%27%20target%3D%27_blank%27%20rel%3D%27noopener%20noreferrer%27%3EMarkets%20data%3C%2Fa%3E%09Daily%0Af_autofe_roll_3d_std_cf25c6ce%090.2416%0999.85538684020246%092.5775,%200.2079,%201.7185%09Training%20dataset%09AutoFE%3A%20features%20from%20Training%20dataset,%3Ca%20href%3D%27https%3A%2F%2Fupgini.com%2F%23data_sources%27%20target%3D%27_blank%27%20rel%3D%27noopener%20noreferrer%27%3EMarkets%20data%3C%2Fa%3E%09Daily%0Af_autofe_lag_7d_80f1c53c%090.2218%0999.48070728981791%091332.5,%201308.7,%201660.7%09Training%20dataset%09AutoFE%3A%20features%20from%20Training%20dataset,%3Ca%20href%3D%27https%3A%2F%2Fupgini.com%2F%23data_sources%27%20target%3D%27_blank%27%20rel%3D%27noopener%20noreferrer%27%3EMarkets%20data%3C%2Fa%3E%09Daily%0Af_autofe_roll_2d_std_6466a8eb%090.1996%0999.93426674554658%090.0219,%200.0198,%200.0665%09Training%20dataset%09AutoFE%3A%20features%20from%20Training%20dataset,%3Ca%20href%3D%27https%3A%2F%2Fupgini.com%2F%23data_sources%27%20target%3D%27_blank%27%20rel%3D%27noopener%20noreferrer%27%3EMarkets%20data%3C%2Fa%3E%09Daily%0Af_autofe_roll_3d_std_8d2902a0%090.1956%0999.85538684020246%090.0012,%200.0004,%200.0025%09Training%20dataset%09AutoFE%3A%20features%20from%20Training%20dataset,%3Ca%20href%3D%27https%3A%2F%2Fupgini.com%2F%23data_sources%27%20target%3D%27_blank%27%20rel%3D%27noopener%20noreferrer%27%3EMarkets%20data%3C%2Fa%3E%09Daily%0Af_autofe_roll_2d_norm_mean_fe42d9a4%090.1819%0999.93426674554658%090.998,%200.9961,%201.0295%09Training%20dataset%09AutoFE%3A%20features%20from%20Training%20dataset,%3Ca%20href%3D%27https%3A%2F%2Fupgini.com%2F%23data_sources%27%20target%3D%27_blank%27%20rel%3D%27noopener%20noreferrer%27%3ECalendar%20data%3C%2Fa%3E%09Daily%0Af_autofe_roll_3d_norm_mean_d3a34f3f%090.1557%0999.85538684020246%090.5001,%200.9984,%200.9445%09Training%20dataset%09AutoFE%3A%20features%20from%20Training%20dataset,%3Ca%20href%3D%27https%3A%2F%2Fupgini.com%2F%23data_sources%27%20target%3D%27_blank%27%20rel%3D%27noopener%20noreferrer%27%3ECalendar%20data%3C%2Fa%3E%09Daily%0Af_autofe_roll_2d_norm_mean_85d150da%090.1487%0982.48866101360679%09-14.6673,%206.4004,%201.6879%09Training%20dataset%09AutoFE%3A%20features%20from%20Training%20dataset,%3Ca%20href%3D%27https%3A%2F%2Fupgini.com%2F%23data_sources%27%20target%3D%27_blank%27%20rel%3D%27noopener%20noreferrer%27%3EMarkets%20data%3C%2Fa%3E%09Daily%0Af_autofe_roll_2d_std_b88ae2e3%090.1454%0999.93426674554658%090.1923,%200.0969,%200.0926%09Training%20dataset%09AutoFE%3A%20features%20from%20Training%20dataset,%3Ca%20href%3D%27https%3A%2F%2Fupgini.com%2F%23data_sources%27%20target%3D%27_blank%27%20rel%3D%27noopener%20noreferrer%27%3EMarkets%20data%3C%2Fa%3E%09Daily%0Af_autofe_roll_3d_std_43db36b9%090.1401%0999.85538684020246%091.0666,%200.1097,%200.4212%09Training%20dataset%09AutoFE%3A%20features%20from%20Training%20dataset,%3Ca%20href%3D%27https%3A%2F%2Fupgini.com%2F%23data_sources%27%20target%3D%27_blank%27%20rel%3D%27noopener%20noreferrer%27%3EMarkets%20data%3C%2Fa%3E%09Daily%0Af_autofe_roll_3d_std_e0a7813d%090.1285%0999.85538684020246%090.0379,%200.2714,%200.3637%09Training%20dataset%09AutoFE%3A%20features%20from%20Training%20dataset,%3Ca%20href%3D%27https%3A%2F%2Fupgini.com%2F%23data_sources%27%20target%3D%27_blank%27%20rel%3D%27noopener%20noreferrer%27%3EMarkets%20data%3C%2Fa%3E%09Daily%0Af_autofe_roll_2d_std_5994058b%090.1282%0999.93426674554658%091.4849,%201.0819,%202.0789%09Training%20dataset%09AutoFE%3A%20features%20from%20Training%20dataset,%3Ca%20href%3D%27https%3A%2F%2Fupgini.com%2F%23data_sources%27%20target%3D%27_blank%27%20rel%3D%27noopener%20noreferrer%27%3EMarkets%20data%3C%2Fa%3E%09Daily%0Af_autofe_roll_2d_norm_mean_f727ebb5%090.1196%0982.99480707289818%090.1194,%20-0.7998,%201.4286%09Training%20dataset%09AutoFE%3A%20features%20from%20Training%20dataset,%3Ca%20href%3D%27https%3A%2F%2Fupgini.com%2F%23data_sources%27%20target%3D%27_blank%27%20rel%3D%27noopener%20noreferrer%27%3EMarkets%20data%3C%2Fa%3E%09Daily%0Af_autofe_lag_1d_1e473dd0%090.1096%0999.93426674554658%09-1.52,%20-0.44,%200.14%09Training%20dataset%09AutoFE%3A%20features%20from%20Training%20dataset,%3Ca%20href%3D%27https%3A%2F%2Fupgini.com%2F%23data_sources%27%20target%3D%27_blank%27%20rel%3D%27noopener%20noreferrer%27%3EMarkets%20data%3C%2Fa%3E%09Daily%0Af_autofe_lag_1d_8255eb29%090.0927%0999.93426674554658%090.06,%20-0.22,%20-0.23%09Training%20dataset%09AutoFE%3A%20features%20from%20Training%20dataset,%3Ca%20href%3D%27https%3A%2F%2Fupgini.com%2F%23data_sources%27%20target%3D%27_blank%27%20rel%3D%27noopener%20noreferrer%27%3EMarkets%20data%3C%2Fa%3E%09Daily%0Af_autofe_lag_3d_3c41924a%090.0833%0999.78308026030369%090.002,%20-0.149,%200.077%09Training%20dataset%09AutoFE%3A%20features%20from%20Training%20dataset,%3Ca%20href%3D%27https%3A%2F%2Fupgini.com%2F%23data_sources%27%20target%3D%27_blank%27%20rel%3D%27noopener%20noreferrer%27%3EMarkets%20data%3C%2Fa%3E%09Daily%0Af_autofe_roll_2d_min_aa7719e1%090.0818%0999.93426674554658%09-0.018,%20-0.115,%20-0.429%09Training%20dataset%09AutoFE%3A%20features%20from%20Training%20dataset,%3Ca%20href%3D%27https%3A%2F%2Fupgini.com%2F%23data_sources%27%20target%3D%27_blank%27%20rel%3D%27noopener%20noreferrer%27%3EMarkets%20data%3C%2Fa%3E%09Daily%0A'))>📂 Copy</button>\n",
              "                <a href='mailto:<Share with...>?subject=Relevant external data sources from Upgini.com&body=Feature%20name%09SHAP%20value%09Coverage%20%25%09Value%20preview%09Provider%09Source%09Updates%0Af_events_date_year_cos1_9014a856%094.0524%09100.0%09-0.2512,%20-0.133,%20-0.6793%09Upgini%09Calendar%20data%09Daily%0Af_autofe_lag_7d_44ccb1e1%092.1382%0999.48070728981791%09-0.8945,%20-0.9093,%20-0.5864%09Training%20dataset%09AutoFE%3A%20features%20from%20Training%20dataset,%3Ca%20href%3D%27https%3A%2F%2Fupgini.com%2F%23data_sources%27%20target%3D%27_blank%27%20rel%3D%27noopener%20noreferrer%27%3ECalendar%20data%3C%2Fa%3E%09Daily%0Af_events_date_week_sin1_847b5db1%091.4226%09100.0%090.9749,%200.9749,%200.9749%09Upgini%09Calendar%20data%09Daily%0Af_autofe_lag_3d_d168eb3e%091.0297%0999.78308026030369%090.4339,%20-0.4339,%200.4339%09Training%20dataset%09AutoFE%3A%20features%20from%20Training%20dataset,%3Ca%20href%3D%27https%3A%2F%2Fupgini.com%2F%23data_sources%27%20target%3D%27_blank%27%20rel%3D%27noopener%20noreferrer%27%3ECalendar%20data%3C%2Fa%3E%09Daily%0Af_autofe_lag_7d_6354b8dc%091.0281%0999.48070728981791%09332.72,%20344.12,%20395.81%09Training%20dataset%09AutoFE%3A%20features%20from%20Training%20dataset,%3Ca%20href%3D%27https%3A%2F%2Fupgini.com%2F%23data_sources%27%20target%3D%27_blank%27%20rel%3D%27noopener%20noreferrer%27%3EMarkets%20data%3C%2Fa%3E%09Daily%0Af_autofe_lag_3d_5dba02da%090.8501%0999.78308026030369%09344.67,%20378.32,%20353.11%09Training%20dataset%09AutoFE%3A%20features%20from%20Training%20dataset,%3Ca%20href%3D%27https%3A%2F%2Fupgini.com%2F%23data_sources%27%20target%3D%27_blank%27%20rel%3D%27noopener%20noreferrer%27%3EMarkets%20data%3C%2Fa%3E%09Daily%0Af_financial_date_gold_bf71e733%090.7752%09100.0%091296.9,%201310.8,%201551.8%09Upgini%09Markets%20data%09Daily%0Af_autofe_roll_7d_norm_mean_f4c75f3e%090.6334%0999.5530138697167%090.9487,%200.8103,%200.2945%09Training%20dataset%09AutoFE%3A%20features%20from%20Training%20dataset,%3Ca%20href%3D%27https%3A%2F%2Fupgini.com%2F%23data_sources%27%20target%3D%27_blank%27%20rel%3D%27noopener%20noreferrer%27%3ECalendar%20data%3C%2Fa%3E%09Daily%0Af_autofe_lag_2d_1947d061%090.6249%0999.85538684020246%09-0.2225,%20-0.2225,%20-0.2225%09Training%20dataset%09AutoFE%3A%20features%20from%20Training%20dataset,%3Ca%20href%3D%27https%3A%2F%2Fupgini.com%2F%23data_sources%27%20target%3D%27_blank%27%20rel%3D%27noopener%20noreferrer%27%3ECalendar%20data%3C%2Fa%3E%09Daily%0Af_autofe_lag_7d_24084e88%090.5177%0999.48070728981791%09-0.7818,%200.9749,%20-0.7818%09Training%20dataset%09AutoFE%3A%20features%20from%20Training%20dataset,%3Ca%20href%3D%27https%3A%2F%2Fupgini.com%2F%23data_sources%27%20target%3D%27_blank%27%20rel%3D%27noopener%20noreferrer%27%3ECalendar%20data%3C%2Fa%3E%09Daily%0Af_autofe_roll_3d_median_67a4ca4c%090.5125%0999.85538684020246%09-0.2225,%200.6235,%20-0.2225%09Training%20dataset%09AutoFE%3A%20features%20from%20Training%20dataset,%3Ca%20href%3D%27https%3A%2F%2Fupgini.com%2F%23data_sources%27%20target%3D%27_blank%27%20rel%3D%27noopener%20noreferrer%27%3ECalendar%20data%3C%2Fa%3E%09Daily%0Af_financial_date_crude_oil_1f195998%090.4262%09100.0%0997.48,%20106.91,%2051.5%09Upgini%09Markets%20data%09Daily%0Af_autofe_roll_7d_norm_mean_b8cbc4e4%090.4145%0942.936961808979156%096.305039478318694e%2B16,%20-1.8706...%09Training%20dataset%09AutoFE%3A%20features%20from%20Training%20dataset,%3Ca%20href%3D%27https%3A%2F%2Fupgini.com%2F%23data_sources%27%20target%3D%27_blank%27%20rel%3D%27noopener%20noreferrer%27%3ECalendar%20data%3C%2Fa%3E%09Daily%0Af_autofe_roll_2d_min_bd3d6759%090.4141%0999.93426674554658%09-0.901,%20-0.2225,%20-0.901%09Training%20dataset%09AutoFE%3A%20features%20from%20Training%20dataset,%3Ca%20href%3D%27https%3A%2F%2Fupgini.com%2F%23data_sources%27%20target%3D%27_blank%27%20rel%3D%27noopener%20noreferrer%27%3ECalendar%20data%3C%2Fa%3E%09Daily%0Af_autofe_lag_7d_298854c4%090.4031%0999.48070728981791%091.081,%201.3364,%200.9439%09Training%20dataset%09AutoFE%3A%20features%20from%20Training%20dataset,%3Ca%20href%3D%27https%3A%2F%2Fupgini.com%2F%23data_sources%27%20target%3D%27_blank%27%20rel%3D%27noopener%20noreferrer%27%3EMarkets%20data%3C%2Fa%3E%09Daily%0Af_autofe_lag_3d_7d332726%090.3851%0999.78308026030369%091337.7,%201183.2,%201421.0%09Training%20dataset%09AutoFE%3A%20features%20from%20Training%20dataset,%3Ca%20href%3D%27https%3A%2F%2Fupgini.com%2F%23data_sources%27%20target%3D%27_blank%27%20rel%3D%27noopener%20noreferrer%27%3EMarkets%20data%3C%2Fa%3E%09Daily%0Af_financial_date_natural_gas_7d_to_7d_1y_shift_a5c3c07f%090.3759%09100.0%091.0555,%201.1619,%201.6786%09Upgini%09Markets%20data%09Daily%0Af_autofe_lag_1d_5138dd83%090.3136%0999.93426674554658%090.7818,%20-0.4339,%20-0.7818%09Training%20dataset%09AutoFE%3A%20features%20from%20Training%20dataset,%3Ca%20href%3D%27https%3A%2F%2Fupgini.com%2F%23data_sources%27%20target%3D%27_blank%27%20rel%3D%27noopener%20noreferrer%27%3ECalendar%20data%3C%2Fa%3E%09Daily%0Af_autofe_roll_7d_median_8e1a5fee%090.2589%0999.5530138697167%090.8396,%201.2009,%201.1719%09Training%20dataset%09AutoFE%3A%20features%20from%20Training%20dataset,%3Ca%20href%3D%27https%3A%2F%2Fupgini.com%2F%23data_sources%27%20target%3D%27_blank%27%20rel%3D%27noopener%20noreferrer%27%3EMarkets%20data%3C%2Fa%3E%09Daily%0Af_autofe_roll_3d_std_cf25c6ce%090.2416%0999.85538684020246%092.5775,%200.2079,%201.7185%09Training%20dataset%09AutoFE%3A%20features%20from%20Training%20dataset,%3Ca%20href%3D%27https%3A%2F%2Fupgini.com%2F%23data_sources%27%20target%3D%27_blank%27%20rel%3D%27noopener%20noreferrer%27%3EMarkets%20data%3C%2Fa%3E%09Daily%0Af_autofe_lag_7d_80f1c53c%090.2218%0999.48070728981791%091332.5,%201308.7,%201660.7%09Training%20dataset%09AutoFE%3A%20features%20from%20Training%20dataset,%3Ca%20href%3D%27https%3A%2F%2Fupgini.com%2F%23data_sources%27%20target%3D%27_blank%27%20rel%3D%27noopener%20noreferrer%27%3EMarkets%20data%3C%2Fa%3E%09Daily%0Af_autofe_roll_2d_std_6466a8eb%090.1996%0999.93426674554658%090.0219,%200.0198,%200.0665%09Training%20dataset%09AutoFE%3A%20features%20from%20Training%20dataset,%3Ca%20href%3D%27https%3A%2F%2Fupgini.com%2F%23data_sources%27%20target%3D%27_blank%27%20rel%3D%27noopener%20noreferrer%27%3EMarkets%20data%3C%2Fa%3E%09Daily%0Af_autofe_roll_3d_std_8d2902a0%090.1956%0999.85538684020246%090.0012,%200.0004,%200.0025%09Training%20dataset%09AutoFE%3A%20features%20from%20Training%20dataset,%3Ca%20href%3D%27https%3A%2F%2Fupgini.com%2F%23data_sources%27%20target%3D%27_blank%27%20rel%3D%27noopener%20noreferrer%27%3EMarkets%20data%3C%2Fa%3E%09Daily%0Af_autofe_roll_2d_norm_mean_fe42d9a4%090.1819%0999.93426674554658%090.998,%200.9961,%201.0295%09Training%20dataset%09AutoFE%3A%20features%20from%20Training%20dataset,%3Ca%20href%3D%27https%3A%2F%2Fupgini.com%2F%23data_sources%27%20target%3D%27_blank%27%20rel%3D%27noopener%20noreferrer%27%3ECalendar%20data%3C%2Fa%3E%09Daily%0Af_autofe_roll_3d_norm_mean_d3a34f3f%090.1557%0999.85538684020246%090.5001,%200.9984,%200.9445%09Training%20dataset%09AutoFE%3A%20features%20from%20Training%20dataset,%3Ca%20href%3D%27https%3A%2F%2Fupgini.com%2F%23data_sources%27%20target%3D%27_blank%27%20rel%3D%27noopener%20noreferrer%27%3ECalendar%20data%3C%2Fa%3E%09Daily%0Af_autofe_roll_2d_norm_mean_85d150da%090.1487%0982.48866101360679%09-14.6673,%206.4004,%201.6879%09Training%20dataset%09AutoFE%3A%20features%20from%20Training%20dataset,%3Ca%20href%3D%27https%3A%2F%2Fupgini.com%2F%23data_sources%27%20target%3D%27_blank%27%20rel%3D%27noopener%20noreferrer%27%3EMarkets%20data%3C%2Fa%3E%09Daily%0Af_autofe_roll_2d_std_b88ae2e3%090.1454%0999.93426674554658%090.1923,%200.0969,%200.0926%09Training%20dataset%09AutoFE%3A%20features%20from%20Training%20dataset,%3Ca%20href%3D%27https%3A%2F%2Fupgini.com%2F%23data_sources%27%20target%3D%27_blank%27%20rel%3D%27noopener%20noreferrer%27%3EMarkets%20data%3C%2Fa%3E%09Daily%0Af_autofe_roll_3d_std_43db36b9%090.1401%0999.85538684020246%091.0666,%200.1097,%200.4212%09Training%20dataset%09AutoFE%3A%20features%20from%20Training%20dataset,%3Ca%20href%3D%27https%3A%2F%2Fupgini.com%2F%23data_sources%27%20target%3D%27_blank%27%20rel%3D%27noopener%20noreferrer%27%3EMarkets%20data%3C%2Fa%3E%09Daily%0Af_autofe_roll_3d_std_e0a7813d%090.1285%0999.85538684020246%090.0379,%200.2714,%200.3637%09Training%20dataset%09AutoFE%3A%20features%20from%20Training%20dataset,%3Ca%20href%3D%27https%3A%2F%2Fupgini.com%2F%23data_sources%27%20target%3D%27_blank%27%20rel%3D%27noopener%20noreferrer%27%3EMarkets%20data%3C%2Fa%3E%09Daily%0Af_autofe_roll_2d_std_5994058b%090.1282%0999.93426674554658%091.4849,%201.0819,%202.0789%09Training%20dataset%09AutoFE%3A%20features%20from%20Training%20dataset,%3Ca%20href%3D%27https%3A%2F%2Fupgini.com%2F%23data_sources%27%20target%3D%27_blank%27%20rel%3D%27noopener%20noreferrer%27%3EMarkets%20data%3C%2Fa%3E%09Daily%0Af_autofe_roll_2d_norm_mean_f727ebb5%090.1196%0982.99480707289818%090.1194,%20-0.7998,%201.4286%09Training%20dataset%09AutoFE%3A%20features%20from%20Training%20dataset,%3Ca%20href%3D%27https%3A%2F%2Fupgini.com%2F%23data_sources%27%20target%3D%27_blank%27%20rel%3D%27noopener%20noreferrer%27%3EMarkets%20data%3C%2Fa%3E%09Daily%0Af_autofe_lag_1d_1e473dd0%090.1096%0999.93426674554658%09-1.52,%20-0.44,%200.14%09Training%20dataset%09AutoFE%3A%20features%20from%20Training%20dataset,%3Ca%20href%3D%27https%3A%2F%2Fupgini.com%2F%23data_sources%27%20target%3D%27_blank%27%20rel%3D%27noopener%20noreferrer%27%3EMarkets%20data%3C%2Fa%3E%09Daily%0Af_autofe_lag_1d_8255eb29%090.0927%0999.93426674554658%090.06,%20-0.22,%20-0.23%09Training%20dataset%09AutoFE%3A%20features%20from%20Training%20dataset,%3Ca%20href%3D%27https%3A%2F%2Fupgini.com%2F%23data_sources%27%20target%3D%27_blank%27%20rel%3D%27noopener%20noreferrer%27%3EMarkets%20data%3C%2Fa%3E%09Daily%0Af_autofe_lag_3d_3c41924a%090.0833%0999.78308026030369%090.002,%20-0.149,%200.077%09Training%20dataset%09AutoFE%3A%20features%20from%20Training%20dataset,%3Ca%20href%3D%27https%3A%2F%2Fupgini.com%2F%23data_sources%27%20target%3D%27_blank%27%20rel%3D%27noopener%20noreferrer%27%3EMarkets%20data%3C%2Fa%3E%09Daily%0Af_autofe_roll_2d_min_aa7719e1%090.0818%0999.93426674554658%09-0.018,%20-0.115,%20-0.429%09Training%20dataset%09AutoFE%3A%20features%20from%20Training%20dataset,%3Ca%20href%3D%27https%3A%2F%2Fupgini.com%2F%23data_sources%27%20target%3D%27_blank%27%20rel%3D%27noopener%20noreferrer%27%3EMarkets%20data%3C%2Fa%3E%09Daily%0A'>\n",
              "                    <button>📨 Share</button>\n",
              "                </a>\n",
              "            </div>\n",
              "            <table class='upgini-df'><thead><th>Feature name</th><th>SHAP value</th><th>Coverage %</th><th>Value preview</th><th>Provider</th><th>Source</th><th>Updates</th></thead><tbody><tr><td class='upgini-text'><a href='https://docs.upgini.com/public/calendar/calendar#f_events_date_year_cos1_9014a856' target='_blank' rel='noopener noreferrer'>f_events_date_year_cos1_9014a856</a></td><td class='upgini-number'>4.0524</td><td class='upgini-number'>100.0000</td><td class='upgini-text'>-0.2512, -0.133, -0.6793</td><td class='upgini-text'><a href='https://upgini.com' target='_blank' rel='noopener noreferrer'>Upgini</a></td><td class='upgini-text'><a href='https://upgini.com/#data_sources' target='_blank' rel='noopener noreferrer'>Calendar data</a></td><td class='upgini-text'>Daily</td></tr><tr><td class='upgini-text'>f_autofe_lag_7d_44ccb1e1</td><td class='upgini-number'>2.1382</td><td class='upgini-number'>99.4807</td><td class='upgini-text'>-0.8945, -0.9093, -0.5864</td><td class='upgini-text'>Training dataset,<a href='https://upgini.com' target='_blank' rel='noopener noreferrer'>Upgini</a></td><td class='upgini-text'>AutoFE: features from Training dataset,<a href='https://upgini.com/#data_sources' target='_blank' rel='noopener noreferrer'>Calendar data</a></td><td class='upgini-text'>Daily</td></tr><tr><td class='upgini-text'><a href='https://docs.upgini.com/public/calendar/calendar#f_events_date_week_sin1_847b5db1' target='_blank' rel='noopener noreferrer'>f_events_date_week_sin1_847b5db1</a></td><td class='upgini-number'>1.4226</td><td class='upgini-number'>100.0000</td><td class='upgini-text'>0.9749, 0.9749, 0.9749</td><td class='upgini-text'><a href='https://upgini.com' target='_blank' rel='noopener noreferrer'>Upgini</a></td><td class='upgini-text'><a href='https://upgini.com/#data_sources' target='_blank' rel='noopener noreferrer'>Calendar data</a></td><td class='upgini-text'>Daily</td></tr><tr><td class='upgini-text'>f_autofe_lag_3d_d168eb3e</td><td class='upgini-number'>1.0297</td><td class='upgini-number'>99.7831</td><td class='upgini-text'>0.4339, -0.4339, 0.4339</td><td class='upgini-text'>Training dataset,<a href='https://upgini.com' target='_blank' rel='noopener noreferrer'>Upgini</a></td><td class='upgini-text'>AutoFE: features from Training dataset,<a href='https://upgini.com/#data_sources' target='_blank' rel='noopener noreferrer'>Calendar data</a></td><td class='upgini-text'>Daily</td></tr><tr><td class='upgini-text'>f_autofe_lag_7d_6354b8dc</td><td class='upgini-number'>1.0281</td><td class='upgini-number'>99.4807</td><td class='upgini-text'>332.72, 344.12, 395.81</td><td class='upgini-text'>Training dataset,<a href='https://upgini.com' target='_blank' rel='noopener noreferrer'>Upgini</a></td><td class='upgini-text'>AutoFE: features from Training dataset,<a href='https://upgini.com/#data_sources' target='_blank' rel='noopener noreferrer'>Markets data</a></td><td class='upgini-text'>Daily</td></tr><tr><td class='upgini-text'>f_autofe_lag_3d_5dba02da</td><td class='upgini-number'>0.8501</td><td class='upgini-number'>99.7831</td><td class='upgini-text'>344.67, 378.32, 353.11</td><td class='upgini-text'>Training dataset,<a href='https://upgini.com' target='_blank' rel='noopener noreferrer'>Upgini</a></td><td class='upgini-text'>AutoFE: features from Training dataset,<a href='https://upgini.com/#data_sources' target='_blank' rel='noopener noreferrer'>Markets data</a></td><td class='upgini-text'>Daily</td></tr><tr><td class='upgini-text'><a href='https://docs.upgini.com/public/markets/finance#f_financial_date_gold_bf71e733' target='_blank' rel='noopener noreferrer'>f_financial_date_gold_bf71e733</a></td><td class='upgini-number'>0.7752</td><td class='upgini-number'>100.0000</td><td class='upgini-text'>1296.9, 1310.8, 1551.8</td><td class='upgini-text'><a href='https://upgini.com' target='_blank' rel='noopener noreferrer'>Upgini</a></td><td class='upgini-text'><a href='https://upgini.com/#data_sources' target='_blank' rel='noopener noreferrer'>Markets data</a></td><td class='upgini-text'>Daily</td></tr><tr><td class='upgini-text'>f_autofe_roll_7d_norm_mean_f4c75f3e</td><td class='upgini-number'>0.6334</td><td class='upgini-number'>99.5530</td><td class='upgini-text'>0.9487, 0.8103, 0.2945</td><td class='upgini-text'>Training dataset,<a href='https://upgini.com' target='_blank' rel='noopener noreferrer'>Upgini</a></td><td class='upgini-text'>AutoFE: features from Training dataset,<a href='https://upgini.com/#data_sources' target='_blank' rel='noopener noreferrer'>Calendar data</a></td><td class='upgini-text'>Daily</td></tr><tr><td class='upgini-text'>f_autofe_lag_2d_1947d061</td><td class='upgini-number'>0.6249</td><td class='upgini-number'>99.8554</td><td class='upgini-text'>-0.2225, -0.2225, -0.2225</td><td class='upgini-text'>Training dataset,<a href='https://upgini.com' target='_blank' rel='noopener noreferrer'>Upgini</a></td><td class='upgini-text'>AutoFE: features from Training dataset,<a href='https://upgini.com/#data_sources' target='_blank' rel='noopener noreferrer'>Calendar data</a></td><td class='upgini-text'>Daily</td></tr><tr><td class='upgini-text'>f_autofe_lag_7d_24084e88</td><td class='upgini-number'>0.5177</td><td class='upgini-number'>99.4807</td><td class='upgini-text'>-0.7818, 0.9749, -0.7818</td><td class='upgini-text'>Training dataset,<a href='https://upgini.com' target='_blank' rel='noopener noreferrer'>Upgini</a></td><td class='upgini-text'>AutoFE: features from Training dataset,<a href='https://upgini.com/#data_sources' target='_blank' rel='noopener noreferrer'>Calendar data</a></td><td class='upgini-text'>Daily</td></tr><tr><td class='upgini-text'>f_autofe_roll_3d_median_67a4ca4c</td><td class='upgini-number'>0.5125</td><td class='upgini-number'>99.8554</td><td class='upgini-text'>-0.2225, 0.6235, -0.2225</td><td class='upgini-text'>Training dataset,<a href='https://upgini.com' target='_blank' rel='noopener noreferrer'>Upgini</a></td><td class='upgini-text'>AutoFE: features from Training dataset,<a href='https://upgini.com/#data_sources' target='_blank' rel='noopener noreferrer'>Calendar data</a></td><td class='upgini-text'>Daily</td></tr><tr><td class='upgini-text'><a href='https://docs.upgini.com/public/markets/finance#f_financial_date_crude_oil_1f195998' target='_blank' rel='noopener noreferrer'>f_financial_date_crude_oil_1f195998</a></td><td class='upgini-number'>0.4262</td><td class='upgini-number'>100.0000</td><td class='upgini-text'>97.48, 106.91, 51.5</td><td class='upgini-text'><a href='https://upgini.com' target='_blank' rel='noopener noreferrer'>Upgini</a></td><td class='upgini-text'><a href='https://upgini.com/#data_sources' target='_blank' rel='noopener noreferrer'>Markets data</a></td><td class='upgini-text'>Daily</td></tr><tr><td class='upgini-text'>f_autofe_roll_7d_norm_mean_b8cbc4e4</td><td class='upgini-number'>0.4145</td><td class='upgini-number'>42.9370</td><td class='upgini-text'>6.305039478318694e+16, -1.8706...</td><td class='upgini-text'>Training dataset,<a href='https://upgini.com' target='_blank' rel='noopener noreferrer'>Upgini</a></td><td class='upgini-text'>AutoFE: features from Training dataset,<a href='https://upgini.com/#data_sources' target='_blank' rel='noopener noreferrer'>Calendar data</a></td><td class='upgini-text'>Daily</td></tr><tr><td class='upgini-text'>f_autofe_roll_2d_min_bd3d6759</td><td class='upgini-number'>0.4141</td><td class='upgini-number'>99.9343</td><td class='upgini-text'>-0.901, -0.2225, -0.901</td><td class='upgini-text'>Training dataset,<a href='https://upgini.com' target='_blank' rel='noopener noreferrer'>Upgini</a></td><td class='upgini-text'>AutoFE: features from Training dataset,<a href='https://upgini.com/#data_sources' target='_blank' rel='noopener noreferrer'>Calendar data</a></td><td class='upgini-text'>Daily</td></tr><tr><td class='upgini-text'>f_autofe_lag_7d_298854c4</td><td class='upgini-number'>0.4031</td><td class='upgini-number'>99.4807</td><td class='upgini-text'>1.081, 1.3364, 0.9439</td><td class='upgini-text'>Training dataset,<a href='https://upgini.com' target='_blank' rel='noopener noreferrer'>Upgini</a></td><td class='upgini-text'>AutoFE: features from Training dataset,<a href='https://upgini.com/#data_sources' target='_blank' rel='noopener noreferrer'>Markets data</a></td><td class='upgini-text'>Daily</td></tr><tr><td class='upgini-text'>f_autofe_lag_3d_7d332726</td><td class='upgini-number'>0.3851</td><td class='upgini-number'>99.7831</td><td class='upgini-text'>1337.7, 1183.2, 1421.0</td><td class='upgini-text'>Training dataset,<a href='https://upgini.com' target='_blank' rel='noopener noreferrer'>Upgini</a></td><td class='upgini-text'>AutoFE: features from Training dataset,<a href='https://upgini.com/#data_sources' target='_blank' rel='noopener noreferrer'>Markets data</a></td><td class='upgini-text'>Daily</td></tr><tr><td class='upgini-text'><a href='https://docs.upgini.com/public/markets/finance#f_financial_date_natural_gas_7d_to_7d_1y_shift_a5c3c07f' target='_blank' rel='noopener noreferrer'>f_financial_date_natural_gas_7d_to_7d_1y_shift_a5c3c07f</a></td><td class='upgini-number'>0.3759</td><td class='upgini-number'>100.0000</td><td class='upgini-text'>1.0555, 1.1619, 1.6786</td><td class='upgini-text'><a href='https://upgini.com' target='_blank' rel='noopener noreferrer'>Upgini</a></td><td class='upgini-text'><a href='https://upgini.com/#data_sources' target='_blank' rel='noopener noreferrer'>Markets data</a></td><td class='upgini-text'>Daily</td></tr><tr><td class='upgini-text'>f_autofe_lag_1d_5138dd83</td><td class='upgini-number'>0.3136</td><td class='upgini-number'>99.9343</td><td class='upgini-text'>0.7818, -0.4339, -0.7818</td><td class='upgini-text'>Training dataset,<a href='https://upgini.com' target='_blank' rel='noopener noreferrer'>Upgini</a></td><td class='upgini-text'>AutoFE: features from Training dataset,<a href='https://upgini.com/#data_sources' target='_blank' rel='noopener noreferrer'>Calendar data</a></td><td class='upgini-text'>Daily</td></tr><tr><td class='upgini-text'>f_autofe_roll_7d_median_8e1a5fee</td><td class='upgini-number'>0.2589</td><td class='upgini-number'>99.5530</td><td class='upgini-text'>0.8396, 1.2009, 1.1719</td><td class='upgini-text'>Training dataset,<a href='https://upgini.com' target='_blank' rel='noopener noreferrer'>Upgini</a></td><td class='upgini-text'>AutoFE: features from Training dataset,<a href='https://upgini.com/#data_sources' target='_blank' rel='noopener noreferrer'>Markets data</a></td><td class='upgini-text'>Daily</td></tr><tr><td class='upgini-text'>f_autofe_roll_3d_std_cf25c6ce</td><td class='upgini-number'>0.2416</td><td class='upgini-number'>99.8554</td><td class='upgini-text'>2.5775, 0.2079, 1.7185</td><td class='upgini-text'>Training dataset,<a href='https://upgini.com' target='_blank' rel='noopener noreferrer'>Upgini</a></td><td class='upgini-text'>AutoFE: features from Training dataset,<a href='https://upgini.com/#data_sources' target='_blank' rel='noopener noreferrer'>Markets data</a></td><td class='upgini-text'>Daily</td></tr><tr><td class='upgini-text'>f_autofe_lag_7d_80f1c53c</td><td class='upgini-number'>0.2218</td><td class='upgini-number'>99.4807</td><td class='upgini-text'>1332.5, 1308.7, 1660.7</td><td class='upgini-text'>Training dataset,<a href='https://upgini.com' target='_blank' rel='noopener noreferrer'>Upgini</a></td><td class='upgini-text'>AutoFE: features from Training dataset,<a href='https://upgini.com/#data_sources' target='_blank' rel='noopener noreferrer'>Markets data</a></td><td class='upgini-text'>Daily</td></tr><tr><td class='upgini-text'>f_autofe_roll_2d_std_6466a8eb</td><td class='upgini-number'>0.1996</td><td class='upgini-number'>99.9343</td><td class='upgini-text'>0.0219, 0.0198, 0.0665</td><td class='upgini-text'>Training dataset,<a href='https://upgini.com' target='_blank' rel='noopener noreferrer'>Upgini</a></td><td class='upgini-text'>AutoFE: features from Training dataset,<a href='https://upgini.com/#data_sources' target='_blank' rel='noopener noreferrer'>Markets data</a></td><td class='upgini-text'>Daily</td></tr><tr><td class='upgini-text'>f_autofe_roll_3d_std_8d2902a0</td><td class='upgini-number'>0.1956</td><td class='upgini-number'>99.8554</td><td class='upgini-text'>0.0012, 0.0004, 0.0025</td><td class='upgini-text'>Training dataset,<a href='https://upgini.com' target='_blank' rel='noopener noreferrer'>Upgini</a></td><td class='upgini-text'>AutoFE: features from Training dataset,<a href='https://upgini.com/#data_sources' target='_blank' rel='noopener noreferrer'>Markets data</a></td><td class='upgini-text'>Daily</td></tr><tr><td class='upgini-text'>f_autofe_roll_2d_norm_mean_fe42d9a4</td><td class='upgini-number'>0.1819</td><td class='upgini-number'>99.9343</td><td class='upgini-text'>0.998, 0.9961, 1.0295</td><td class='upgini-text'>Training dataset,<a href='https://upgini.com' target='_blank' rel='noopener noreferrer'>Upgini</a></td><td class='upgini-text'>AutoFE: features from Training dataset,<a href='https://upgini.com/#data_sources' target='_blank' rel='noopener noreferrer'>Calendar data</a></td><td class='upgini-text'>Daily</td></tr><tr><td class='upgini-text'>f_autofe_roll_3d_norm_mean_d3a34f3f</td><td class='upgini-number'>0.1557</td><td class='upgini-number'>99.8554</td><td class='upgini-text'>0.5001, 0.9984, 0.9445</td><td class='upgini-text'>Training dataset,<a href='https://upgini.com' target='_blank' rel='noopener noreferrer'>Upgini</a></td><td class='upgini-text'>AutoFE: features from Training dataset,<a href='https://upgini.com/#data_sources' target='_blank' rel='noopener noreferrer'>Calendar data</a></td><td class='upgini-text'>Daily</td></tr><tr><td class='upgini-text'>f_autofe_roll_2d_norm_mean_85d150da</td><td class='upgini-number'>0.1487</td><td class='upgini-number'>82.4887</td><td class='upgini-text'>-14.6673, 6.4004, 1.6879</td><td class='upgini-text'>Training dataset,<a href='https://upgini.com' target='_blank' rel='noopener noreferrer'>Upgini</a></td><td class='upgini-text'>AutoFE: features from Training dataset,<a href='https://upgini.com/#data_sources' target='_blank' rel='noopener noreferrer'>Markets data</a></td><td class='upgini-text'>Daily</td></tr><tr><td class='upgini-text'>f_autofe_roll_2d_std_b88ae2e3</td><td class='upgini-number'>0.1454</td><td class='upgini-number'>99.9343</td><td class='upgini-text'>0.1923, 0.0969, 0.0926</td><td class='upgini-text'>Training dataset,<a href='https://upgini.com' target='_blank' rel='noopener noreferrer'>Upgini</a></td><td class='upgini-text'>AutoFE: features from Training dataset,<a href='https://upgini.com/#data_sources' target='_blank' rel='noopener noreferrer'>Markets data</a></td><td class='upgini-text'>Daily</td></tr><tr><td class='upgini-text'>f_autofe_roll_3d_std_43db36b9</td><td class='upgini-number'>0.1401</td><td class='upgini-number'>99.8554</td><td class='upgini-text'>1.0666, 0.1097, 0.4212</td><td class='upgini-text'>Training dataset,<a href='https://upgini.com' target='_blank' rel='noopener noreferrer'>Upgini</a></td><td class='upgini-text'>AutoFE: features from Training dataset,<a href='https://upgini.com/#data_sources' target='_blank' rel='noopener noreferrer'>Markets data</a></td><td class='upgini-text'>Daily</td></tr><tr><td class='upgini-text'>f_autofe_roll_3d_std_e0a7813d</td><td class='upgini-number'>0.1285</td><td class='upgini-number'>99.8554</td><td class='upgini-text'>0.0379, 0.2714, 0.3637</td><td class='upgini-text'>Training dataset,<a href='https://upgini.com' target='_blank' rel='noopener noreferrer'>Upgini</a></td><td class='upgini-text'>AutoFE: features from Training dataset,<a href='https://upgini.com/#data_sources' target='_blank' rel='noopener noreferrer'>Markets data</a></td><td class='upgini-text'>Daily</td></tr><tr><td class='upgini-text'>f_autofe_roll_2d_std_5994058b</td><td class='upgini-number'>0.1282</td><td class='upgini-number'>99.9343</td><td class='upgini-text'>1.4849, 1.0819, 2.0789</td><td class='upgini-text'>Training dataset,<a href='https://upgini.com' target='_blank' rel='noopener noreferrer'>Upgini</a></td><td class='upgini-text'>AutoFE: features from Training dataset,<a href='https://upgini.com/#data_sources' target='_blank' rel='noopener noreferrer'>Markets data</a></td><td class='upgini-text'>Daily</td></tr><tr><td class='upgini-text'>f_autofe_roll_2d_norm_mean_f727ebb5</td><td class='upgini-number'>0.1196</td><td class='upgini-number'>82.9948</td><td class='upgini-text'>0.1194, -0.7998, 1.4286</td><td class='upgini-text'>Training dataset,<a href='https://upgini.com' target='_blank' rel='noopener noreferrer'>Upgini</a></td><td class='upgini-text'>AutoFE: features from Training dataset,<a href='https://upgini.com/#data_sources' target='_blank' rel='noopener noreferrer'>Markets data</a></td><td class='upgini-text'>Daily</td></tr><tr><td class='upgini-text'>f_autofe_lag_1d_1e473dd0</td><td class='upgini-number'>0.1096</td><td class='upgini-number'>99.9343</td><td class='upgini-text'>-1.52, -0.44, 0.14</td><td class='upgini-text'>Training dataset,<a href='https://upgini.com' target='_blank' rel='noopener noreferrer'>Upgini</a></td><td class='upgini-text'>AutoFE: features from Training dataset,<a href='https://upgini.com/#data_sources' target='_blank' rel='noopener noreferrer'>Markets data</a></td><td class='upgini-text'>Daily</td></tr><tr><td class='upgini-text'>f_autofe_lag_1d_8255eb29</td><td class='upgini-number'>0.0927</td><td class='upgini-number'>99.9343</td><td class='upgini-text'>0.06, -0.22, -0.23</td><td class='upgini-text'>Training dataset,<a href='https://upgini.com' target='_blank' rel='noopener noreferrer'>Upgini</a></td><td class='upgini-text'>AutoFE: features from Training dataset,<a href='https://upgini.com/#data_sources' target='_blank' rel='noopener noreferrer'>Markets data</a></td><td class='upgini-text'>Daily</td></tr><tr><td class='upgini-text'>f_autofe_lag_3d_3c41924a</td><td class='upgini-number'>0.0833</td><td class='upgini-number'>99.7831</td><td class='upgini-text'>0.002, -0.149, 0.077</td><td class='upgini-text'>Training dataset,<a href='https://upgini.com' target='_blank' rel='noopener noreferrer'>Upgini</a></td><td class='upgini-text'>AutoFE: features from Training dataset,<a href='https://upgini.com/#data_sources' target='_blank' rel='noopener noreferrer'>Markets data</a></td><td class='upgini-text'>Daily</td></tr><tr><td class='upgini-text'>f_autofe_roll_2d_min_aa7719e1</td><td class='upgini-number'>0.0818</td><td class='upgini-number'>99.9343</td><td class='upgini-text'>-0.018, -0.115, -0.429</td><td class='upgini-text'>Training dataset,<a href='https://upgini.com' target='_blank' rel='noopener noreferrer'>Upgini</a></td><td class='upgini-text'>AutoFE: features from Training dataset,<a href='https://upgini.com/#data_sources' target='_blank' rel='noopener noreferrer'>Markets data</a></td><td class='upgini-text'>Daily</td></tr></tbody></table>\n",
              "        </div>\n",
              "        "
            ]
          },
          "metadata": {}
        },
        {
          "output_type": "display_data",
          "data": {
            "text/plain": [
              "<IPython.core.display.HTML object>"
            ],
            "text/html": [
              "<style>\n",
              "            .upgini-df thead th {\n",
              "                font-weight:bold;\n",
              "                text-align: center;\n",
              "                padding: 0.5em;\n",
              "                border-bottom: 2px solid black;\n",
              "            }\n",
              "\n",
              "            .upgini-df tbody td {\n",
              "                padding: 0.5em;\n",
              "            }\n",
              "\n",
              "            .upgini-df tbody tr:nth-child(odd) {\n",
              "                background-color: #ffffff;\n",
              "            }\n",
              "\n",
              "            .upgini-df tbody tr:nth-child(even) {\n",
              "                background-color: #f2f2f2;\n",
              "            }\n",
              "\n",
              "            .upgini-text {\n",
              "                text-align: left;\n",
              "            }\n",
              "\n",
              "            .upgini-number {\n",
              "                text-align: center;\n",
              "            }\n",
              "        </style>\n",
              "        <h2>Relevant data sources</h2>\n",
              "        <div style=\"display:flex; flex-direction:column; align-items:flex-end; width: fit-content;\">\n",
              "            \n",
              "            <div style=\"text-align: right\">\n",
              "                <button onclick=navigator.clipboard.writeText(decodeURI('Provider%09Source%09All%20features%20SHAP%09Number%20of%20relevant%20features%0ATraining%20dataset%09AutoFE%3A%20features%20from%20Training%20dataset,%3Ca%20href%3D%27https%3A%2F%2Fupgini.com%2F%23data_sources%27%20target%3D%27_blank%27%20rel%3D%27noopener%20noreferrer%27%3ECalendar%20data%3C%2Fa%3E%096.9361999999999995%0911%0AUpgini%09Calendar%20data%095.475%092%0ATraining%20dataset%09AutoFE%3A%20features%20from%20Training%20dataset,%3Ca%20href%3D%27https%3A%2F%2Fupgini.com%2F%23data_sources%27%20target%3D%27_blank%27%20rel%3D%27noopener%20noreferrer%27%3EMarkets%20data%3C%2Fa%3E%094.9618%0919%0AUpgini%09Markets%20data%091.5773000000000001%093%0A'))>📂 Copy</button>\n",
              "                <a href='mailto:<Share with...>?subject=Relevant external data sources from Upgini.com&body=Provider%09Source%09All%20features%20SHAP%09Number%20of%20relevant%20features%0ATraining%20dataset%09AutoFE%3A%20features%20from%20Training%20dataset,%3Ca%20href%3D%27https%3A%2F%2Fupgini.com%2F%23data_sources%27%20target%3D%27_blank%27%20rel%3D%27noopener%20noreferrer%27%3ECalendar%20data%3C%2Fa%3E%096.9361999999999995%0911%0AUpgini%09Calendar%20data%095.475%092%0ATraining%20dataset%09AutoFE%3A%20features%20from%20Training%20dataset,%3Ca%20href%3D%27https%3A%2F%2Fupgini.com%2F%23data_sources%27%20target%3D%27_blank%27%20rel%3D%27noopener%20noreferrer%27%3EMarkets%20data%3C%2Fa%3E%094.9618%0919%0AUpgini%09Markets%20data%091.5773000000000001%093%0A'>\n",
              "                    <button>📨 Share</button>\n",
              "                </a>\n",
              "            </div>\n",
              "            <table class='upgini-df'><thead><th>Provider</th><th>Source</th><th>All features SHAP</th><th>Number of relevant features</th></thead><tbody><tr><td class='upgini-text'>Training dataset,<a href='https://upgini.com' target='_blank' rel='noopener noreferrer'>Upgini</a></td><td class='upgini-text'>AutoFE: features from Training dataset,<a href='https://upgini.com/#data_sources' target='_blank' rel='noopener noreferrer'>Calendar data</a></td><td class='upgini-number'>6.9362</td><td class='upgini-number'>11</td></tr><tr><td class='upgini-text'><a href='https://upgini.com' target='_blank' rel='noopener noreferrer'>Upgini</a></td><td class='upgini-text'><a href='https://upgini.com/#data_sources' target='_blank' rel='noopener noreferrer'>Calendar data</a></td><td class='upgini-number'>5.4750</td><td class='upgini-number'>2</td></tr><tr><td class='upgini-text'>Training dataset,<a href='https://upgini.com' target='_blank' rel='noopener noreferrer'>Upgini</a></td><td class='upgini-text'>AutoFE: features from Training dataset,<a href='https://upgini.com/#data_sources' target='_blank' rel='noopener noreferrer'>Markets data</a></td><td class='upgini-number'>4.9618</td><td class='upgini-number'>19</td></tr><tr><td class='upgini-text'><a href='https://upgini.com' target='_blank' rel='noopener noreferrer'>Upgini</a></td><td class='upgini-text'><a href='https://upgini.com/#data_sources' target='_blank' rel='noopener noreferrer'>Markets data</a></td><td class='upgini-number'>1.5773</td><td class='upgini-number'>3</td></tr></tbody></table>\n",
              "        </div>\n",
              "        "
            ]
          },
          "metadata": {}
        },
        {
          "output_type": "stream",
          "name": "stdout",
          "text": [
            "|\r"
          ]
        },
        {
          "output_type": "display_data",
          "data": {
            "text/plain": [
              "<IPython.core.display.HTML object>"
            ],
            "text/html": [
              "<style>\n",
              "            .upgini-df thead th {\n",
              "                font-weight:bold;\n",
              "                text-align: center;\n",
              "                padding: 0.5em;\n",
              "                border-bottom: 2px solid black;\n",
              "            }\n",
              "\n",
              "            .upgini-df tbody td {\n",
              "                padding: 0.5em;\n",
              "            }\n",
              "\n",
              "            .upgini-df tbody tr:nth-child(odd) {\n",
              "                background-color: #ffffff;\n",
              "            }\n",
              "\n",
              "            .upgini-df tbody tr:nth-child(even) {\n",
              "                background-color: #f2f2f2;\n",
              "            }\n",
              "\n",
              "            .upgini-text {\n",
              "                text-align: left;\n",
              "            }\n",
              "\n",
              "            .upgini-number {\n",
              "                text-align: center;\n",
              "            }\n",
              "        </style>\n",
              "        <h2>*Description of AutoFE feature names</h2>\n",
              "        <div style=\"display:flex; flex-direction:column; align-items:flex-end; width: fit-content;\">\n",
              "            \n",
              "            <div style=\"text-align: right\">\n",
              "                <button onclick=navigator.clipboard.writeText(decodeURI('Sources%09Feature%20name%09Feature%201%09Function%0ATraining%20dataset,%3Ca%20href%3D%27https%3A%2F%2Fupgini.com%2F%23data_sources%27%20target%3D%27_blank%27%20rel%3D%27noopener%20noreferrer%27%3ECalendar%20data%3C%2Fa%3E%09f_autofe_lag_7d_44ccb1e1%09f_events_date_year_cos1_9014a856%09lag_7d%0ATraining%20dataset,%3Ca%20href%3D%27https%3A%2F%2Fupgini.com%2F%23data_sources%27%20target%3D%27_blank%27%20rel%3D%27noopener%20noreferrer%27%3ECalendar%20data%3C%2Fa%3E%09f_autofe_lag_3d_d168eb3e%09f_events_date_week_sin1_847b5db1%09lag_3d%0ATraining%20dataset,%3Ca%20href%3D%27https%3A%2F%2Fupgini.com%2F%23data_sources%27%20target%3D%27_blank%27%20rel%3D%27noopener%20noreferrer%27%3EMarkets%20data%3C%2Fa%3E%09f_autofe_lag_7d_6354b8dc%09f_financial_date_stoxx_043cbcd4%09lag_7d%0ATraining%20dataset,%3Ca%20href%3D%27https%3A%2F%2Fupgini.com%2F%23data_sources%27%20target%3D%27_blank%27%20rel%3D%27noopener%20noreferrer%27%3EMarkets%20data%3C%2Fa%3E%09f_autofe_lag_3d_5dba02da%09f_financial_date_stoxx_043cbcd4%09lag_3d%0ATraining%20dataset,%3Ca%20href%3D%27https%3A%2F%2Fupgini.com%2F%23data_sources%27%20target%3D%27_blank%27%20rel%3D%27noopener%20noreferrer%27%3ECalendar%20data%3C%2Fa%3E%09f_autofe_roll_7d_norm_mean_f4c75f3e%09f_events_date_year_cos1_9014a856%09roll_7d_norm_mean%0ATraining%20dataset,%3Ca%20href%3D%27https%3A%2F%2Fupgini.com%2F%23data_sources%27%20target%3D%27_blank%27%20rel%3D%27noopener%20noreferrer%27%3ECalendar%20data%3C%2Fa%3E%09f_autofe_lag_2d_1947d061%09f_events_date_week_cos1_f6a8c1fc%09lag_2d%0ATraining%20dataset,%3Ca%20href%3D%27https%3A%2F%2Fupgini.com%2F%23data_sources%27%20target%3D%27_blank%27%20rel%3D%27noopener%20noreferrer%27%3ECalendar%20data%3C%2Fa%3E%09f_autofe_lag_7d_24084e88%09f_events_date_week_sin1_847b5db1%09lag_7d%0ATraining%20dataset,%3Ca%20href%3D%27https%3A%2F%2Fupgini.com%2F%23data_sources%27%20target%3D%27_blank%27%20rel%3D%27noopener%20noreferrer%27%3ECalendar%20data%3C%2Fa%3E%09f_autofe_roll_3d_median_67a4ca4c%09f_events_date_week_cos3_7525fe31%09roll_3d_median%0ATraining%20dataset,%3Ca%20href%3D%27https%3A%2F%2Fupgini.com%2F%23data_sources%27%20target%3D%27_blank%27%20rel%3D%27noopener%20noreferrer%27%3ECalendar%20data%3C%2Fa%3E%09f_autofe_roll_7d_norm_mean_b8cbc4e4%09f_events_date_week_cos2_b0a07cfc%09roll_7d_norm_mean%0ATraining%20dataset,%3Ca%20href%3D%27https%3A%2F%2Fupgini.com%2F%23data_sources%27%20target%3D%27_blank%27%20rel%3D%27noopener%20noreferrer%27%3ECalendar%20data%3C%2Fa%3E%09f_autofe_roll_2d_min_bd3d6759%09f_events_date_week_cos1_f6a8c1fc%09roll_2d_min%0ATraining%20dataset,%3Ca%20href%3D%27https%3A%2F%2Fupgini.com%2F%23data_sources%27%20target%3D%27_blank%27%20rel%3D%27noopener%20noreferrer%27%3EMarkets%20data%3C%2Fa%3E%09f_autofe_lag_7d_298854c4%09f_financial_date_natural_gas_7d_to_1y_7a6f300d%09lag_7d%0ATraining%20dataset,%3Ca%20href%3D%27https%3A%2F%2Fupgini.com%2F%23data_sources%27%20target%3D%27_blank%27%20rel%3D%27noopener%20noreferrer%27%3EMarkets%20data%3C%2Fa%3E%09f_autofe_lag_3d_7d332726%09f_financial_date_gold_bf71e733%09lag_3d%0ATraining%20dataset,%3Ca%20href%3D%27https%3A%2F%2Fupgini.com%2F%23data_sources%27%20target%3D%27_blank%27%20rel%3D%27noopener%20noreferrer%27%3ECalendar%20data%3C%2Fa%3E%09f_autofe_lag_1d_5138dd83%09f_events_date_week_sin2_e28440a5%09lag_1d%0ATraining%20dataset,%3Ca%20href%3D%27https%3A%2F%2Fupgini.com%2F%23data_sources%27%20target%3D%27_blank%27%20rel%3D%27noopener%20noreferrer%27%3EMarkets%20data%3C%2Fa%3E%09f_autofe_roll_7d_median_8e1a5fee%09f_financial_date_vix_7d_to_1y_634c77eb%09roll_7d_median%0ATraining%20dataset,%3Ca%20href%3D%27https%3A%2F%2Fupgini.com%2F%23data_sources%27%20target%3D%27_blank%27%20rel%3D%27noopener%20noreferrer%27%3EMarkets%20data%3C%2Fa%3E%09f_autofe_roll_3d_std_cf25c6ce%09f_financial_date_stoxx_043cbcd4%09roll_3d_std%0ATraining%20dataset,%3Ca%20href%3D%27https%3A%2F%2Fupgini.com%2F%23data_sources%27%20target%3D%27_blank%27%20rel%3D%27noopener%20noreferrer%27%3EMarkets%20data%3C%2Fa%3E%09f_autofe_lag_7d_80f1c53c%09f_financial_date_gold_bf71e733%09lag_7d%0ATraining%20dataset,%3Ca%20href%3D%27https%3A%2F%2Fupgini.com%2F%23data_sources%27%20target%3D%27_blank%27%20rel%3D%27noopener%20noreferrer%27%3EMarkets%20data%3C%2Fa%3E%09f_autofe_roll_2d_std_6466a8eb%09f_financial_date_natural_gas_92dac942%09roll_2d_std%0ATraining%20dataset,%3Ca%20href%3D%27https%3A%2F%2Fupgini.com%2F%23data_sources%27%20target%3D%27_blank%27%20rel%3D%27noopener%20noreferrer%27%3EMarkets%20data%3C%2Fa%3E%09f_autofe_roll_3d_std_8d2902a0%09f_financial_date_usd_eur_5d1b9c8f%09roll_3d_std%0ATraining%20dataset,%3Ca%20href%3D%27https%3A%2F%2Fupgini.com%2F%23data_sources%27%20target%3D%27_blank%27%20rel%3D%27noopener%20noreferrer%27%3ECalendar%20data%3C%2Fa%3E%09f_autofe_roll_2d_norm_mean_fe42d9a4%09f_events_date_year_sin1_3c44bc64%09roll_2d_norm_mean%0ATraining%20dataset,%3Ca%20href%3D%27https%3A%2F%2Fupgini.com%2F%23data_sources%27%20target%3D%27_blank%27%20rel%3D%27noopener%20noreferrer%27%3ECalendar%20data%3C%2Fa%3E%09f_autofe_roll_3d_norm_mean_d3a34f3f%09f_events_date_year_sin1_3c44bc64%09roll_3d_norm_mean%0ATraining%20dataset,%3Ca%20href%3D%27https%3A%2F%2Fupgini.com%2F%23data_sources%27%20target%3D%27_blank%27%20rel%3D%27noopener%20noreferrer%27%3EMarkets%20data%3C%2Fa%3E%09f_autofe_roll_2d_norm_mean_85d150da%09f_financial_date_gold_daydiff_6c8f15fb%09roll_2d_norm_mean%0ATraining%20dataset,%3Ca%20href%3D%27https%3A%2F%2Fupgini.com%2F%23data_sources%27%20target%3D%27_blank%27%20rel%3D%27noopener%20noreferrer%27%3EMarkets%20data%3C%2Fa%3E%09f_autofe_roll_2d_std_b88ae2e3%09f_financial_date_silver_gap_f5b63f5b%09roll_2d_std%0ATraining%20dataset,%3Ca%20href%3D%27https%3A%2F%2Fupgini.com%2F%23data_sources%27%20target%3D%27_blank%27%20rel%3D%27noopener%20noreferrer%27%3EMarkets%20data%3C%2Fa%3E%09f_autofe_roll_3d_std_43db36b9%09f_financial_date_crude_oil_1f195998%09roll_3d_std%0ATraining%20dataset,%3Ca%20href%3D%27https%3A%2F%2Fupgini.com%2F%23data_sources%27%20target%3D%27_blank%27%20rel%3D%27noopener%20noreferrer%27%3EMarkets%20data%3C%2Fa%3E%09f_autofe_roll_3d_std_e0a7813d%09f_financial_date_usd_7419609a%09roll_3d_std%0ATraining%20dataset,%3Ca%20href%3D%27https%3A%2F%2Fupgini.com%2F%23data_sources%27%20target%3D%27_blank%27%20rel%3D%27noopener%20noreferrer%27%3EMarkets%20data%3C%2Fa%3E%09f_autofe_roll_2d_std_5994058b%09f_financial_date_vix_gap_b64bd2b9%09roll_2d_std%0ATraining%20dataset,%3Ca%20href%3D%27https%3A%2F%2Fupgini.com%2F%23data_sources%27%20target%3D%27_blank%27%20rel%3D%27noopener%20noreferrer%27%3EMarkets%20data%3C%2Fa%3E%09f_autofe_roll_2d_norm_mean_f727ebb5%09f_financial_date_usd_daydiff_8bcdeec4%09roll_2d_norm_mean%0ATraining%20dataset,%3Ca%20href%3D%27https%3A%2F%2Fupgini.com%2F%23data_sources%27%20target%3D%27_blank%27%20rel%3D%27noopener%20noreferrer%27%3EMarkets%20data%3C%2Fa%3E%09f_autofe_lag_1d_1e473dd0%09f_financial_date_usd_daydiff_8bcdeec4%09lag_1d%0ATraining%20dataset,%3Ca%20href%3D%27https%3A%2F%2Fupgini.com%2F%23data_sources%27%20target%3D%27_blank%27%20rel%3D%27noopener%20noreferrer%27%3EMarkets%20data%3C%2Fa%3E%09f_autofe_lag_1d_8255eb29%09f_financial_date_usd_gap_615a0ec0%09lag_1d%0ATraining%20dataset,%3Ca%20href%3D%27https%3A%2F%2Fupgini.com%2F%23data_sources%27%20target%3D%27_blank%27%20rel%3D%27noopener%20noreferrer%27%3EMarkets%20data%3C%2Fa%3E%09f_autofe_lag_3d_3c41924a%09f_financial_date_silver_daydiff_25cf4951%09lag_3d%0ATraining%20dataset,%3Ca%20href%3D%27https%3A%2F%2Fupgini.com%2F%23data_sources%27%20target%3D%27_blank%27%20rel%3D%27noopener%20noreferrer%27%3EMarkets%20data%3C%2Fa%3E%09f_autofe_roll_2d_min_aa7719e1%09f_financial_date_silver_daydiff_25cf4951%09roll_2d_min%0A'))>📂 Copy</button>\n",
              "                <a href='mailto:<Share with...>?subject=Relevant external data sources from Upgini.com&body=Sources%09Feature%20name%09Feature%201%09Function%0ATraining%20dataset,%3Ca%20href%3D%27https%3A%2F%2Fupgini.com%2F%23data_sources%27%20target%3D%27_blank%27%20rel%3D%27noopener%20noreferrer%27%3ECalendar%20data%3C%2Fa%3E%09f_autofe_lag_7d_44ccb1e1%09f_events_date_year_cos1_9014a856%09lag_7d%0ATraining%20dataset,%3Ca%20href%3D%27https%3A%2F%2Fupgini.com%2F%23data_sources%27%20target%3D%27_blank%27%20rel%3D%27noopener%20noreferrer%27%3ECalendar%20data%3C%2Fa%3E%09f_autofe_lag_3d_d168eb3e%09f_events_date_week_sin1_847b5db1%09lag_3d%0ATraining%20dataset,%3Ca%20href%3D%27https%3A%2F%2Fupgini.com%2F%23data_sources%27%20target%3D%27_blank%27%20rel%3D%27noopener%20noreferrer%27%3EMarkets%20data%3C%2Fa%3E%09f_autofe_lag_7d_6354b8dc%09f_financial_date_stoxx_043cbcd4%09lag_7d%0ATraining%20dataset,%3Ca%20href%3D%27https%3A%2F%2Fupgini.com%2F%23data_sources%27%20target%3D%27_blank%27%20rel%3D%27noopener%20noreferrer%27%3EMarkets%20data%3C%2Fa%3E%09f_autofe_lag_3d_5dba02da%09f_financial_date_stoxx_043cbcd4%09lag_3d%0ATraining%20dataset,%3Ca%20href%3D%27https%3A%2F%2Fupgini.com%2F%23data_sources%27%20target%3D%27_blank%27%20rel%3D%27noopener%20noreferrer%27%3ECalendar%20data%3C%2Fa%3E%09f_autofe_roll_7d_norm_mean_f4c75f3e%09f_events_date_year_cos1_9014a856%09roll_7d_norm_mean%0ATraining%20dataset,%3Ca%20href%3D%27https%3A%2F%2Fupgini.com%2F%23data_sources%27%20target%3D%27_blank%27%20rel%3D%27noopener%20noreferrer%27%3ECalendar%20data%3C%2Fa%3E%09f_autofe_lag_2d_1947d061%09f_events_date_week_cos1_f6a8c1fc%09lag_2d%0ATraining%20dataset,%3Ca%20href%3D%27https%3A%2F%2Fupgini.com%2F%23data_sources%27%20target%3D%27_blank%27%20rel%3D%27noopener%20noreferrer%27%3ECalendar%20data%3C%2Fa%3E%09f_autofe_lag_7d_24084e88%09f_events_date_week_sin1_847b5db1%09lag_7d%0ATraining%20dataset,%3Ca%20href%3D%27https%3A%2F%2Fupgini.com%2F%23data_sources%27%20target%3D%27_blank%27%20rel%3D%27noopener%20noreferrer%27%3ECalendar%20data%3C%2Fa%3E%09f_autofe_roll_3d_median_67a4ca4c%09f_events_date_week_cos3_7525fe31%09roll_3d_median%0ATraining%20dataset,%3Ca%20href%3D%27https%3A%2F%2Fupgini.com%2F%23data_sources%27%20target%3D%27_blank%27%20rel%3D%27noopener%20noreferrer%27%3ECalendar%20data%3C%2Fa%3E%09f_autofe_roll_7d_norm_mean_b8cbc4e4%09f_events_date_week_cos2_b0a07cfc%09roll_7d_norm_mean%0ATraining%20dataset,%3Ca%20href%3D%27https%3A%2F%2Fupgini.com%2F%23data_sources%27%20target%3D%27_blank%27%20rel%3D%27noopener%20noreferrer%27%3ECalendar%20data%3C%2Fa%3E%09f_autofe_roll_2d_min_bd3d6759%09f_events_date_week_cos1_f6a8c1fc%09roll_2d_min%0ATraining%20dataset,%3Ca%20href%3D%27https%3A%2F%2Fupgini.com%2F%23data_sources%27%20target%3D%27_blank%27%20rel%3D%27noopener%20noreferrer%27%3EMarkets%20data%3C%2Fa%3E%09f_autofe_lag_7d_298854c4%09f_financial_date_natural_gas_7d_to_1y_7a6f300d%09lag_7d%0ATraining%20dataset,%3Ca%20href%3D%27https%3A%2F%2Fupgini.com%2F%23data_sources%27%20target%3D%27_blank%27%20rel%3D%27noopener%20noreferrer%27%3EMarkets%20data%3C%2Fa%3E%09f_autofe_lag_3d_7d332726%09f_financial_date_gold_bf71e733%09lag_3d%0ATraining%20dataset,%3Ca%20href%3D%27https%3A%2F%2Fupgini.com%2F%23data_sources%27%20target%3D%27_blank%27%20rel%3D%27noopener%20noreferrer%27%3ECalendar%20data%3C%2Fa%3E%09f_autofe_lag_1d_5138dd83%09f_events_date_week_sin2_e28440a5%09lag_1d%0ATraining%20dataset,%3Ca%20href%3D%27https%3A%2F%2Fupgini.com%2F%23data_sources%27%20target%3D%27_blank%27%20rel%3D%27noopener%20noreferrer%27%3EMarkets%20data%3C%2Fa%3E%09f_autofe_roll_7d_median_8e1a5fee%09f_financial_date_vix_7d_to_1y_634c77eb%09roll_7d_median%0ATraining%20dataset,%3Ca%20href%3D%27https%3A%2F%2Fupgini.com%2F%23data_sources%27%20target%3D%27_blank%27%20rel%3D%27noopener%20noreferrer%27%3EMarkets%20data%3C%2Fa%3E%09f_autofe_roll_3d_std_cf25c6ce%09f_financial_date_stoxx_043cbcd4%09roll_3d_std%0ATraining%20dataset,%3Ca%20href%3D%27https%3A%2F%2Fupgini.com%2F%23data_sources%27%20target%3D%27_blank%27%20rel%3D%27noopener%20noreferrer%27%3EMarkets%20data%3C%2Fa%3E%09f_autofe_lag_7d_80f1c53c%09f_financial_date_gold_bf71e733%09lag_7d%0ATraining%20dataset,%3Ca%20href%3D%27https%3A%2F%2Fupgini.com%2F%23data_sources%27%20target%3D%27_blank%27%20rel%3D%27noopener%20noreferrer%27%3EMarkets%20data%3C%2Fa%3E%09f_autofe_roll_2d_std_6466a8eb%09f_financial_date_natural_gas_92dac942%09roll_2d_std%0ATraining%20dataset,%3Ca%20href%3D%27https%3A%2F%2Fupgini.com%2F%23data_sources%27%20target%3D%27_blank%27%20rel%3D%27noopener%20noreferrer%27%3EMarkets%20data%3C%2Fa%3E%09f_autofe_roll_3d_std_8d2902a0%09f_financial_date_usd_eur_5d1b9c8f%09roll_3d_std%0ATraining%20dataset,%3Ca%20href%3D%27https%3A%2F%2Fupgini.com%2F%23data_sources%27%20target%3D%27_blank%27%20rel%3D%27noopener%20noreferrer%27%3ECalendar%20data%3C%2Fa%3E%09f_autofe_roll_2d_norm_mean_fe42d9a4%09f_events_date_year_sin1_3c44bc64%09roll_2d_norm_mean%0ATraining%20dataset,%3Ca%20href%3D%27https%3A%2F%2Fupgini.com%2F%23data_sources%27%20target%3D%27_blank%27%20rel%3D%27noopener%20noreferrer%27%3ECalendar%20data%3C%2Fa%3E%09f_autofe_roll_3d_norm_mean_d3a34f3f%09f_events_date_year_sin1_3c44bc64%09roll_3d_norm_mean%0ATraining%20dataset,%3Ca%20href%3D%27https%3A%2F%2Fupgini.com%2F%23data_sources%27%20target%3D%27_blank%27%20rel%3D%27noopener%20noreferrer%27%3EMarkets%20data%3C%2Fa%3E%09f_autofe_roll_2d_norm_mean_85d150da%09f_financial_date_gold_daydiff_6c8f15fb%09roll_2d_norm_mean%0ATraining%20dataset,%3Ca%20href%3D%27https%3A%2F%2Fupgini.com%2F%23data_sources%27%20target%3D%27_blank%27%20rel%3D%27noopener%20noreferrer%27%3EMarkets%20data%3C%2Fa%3E%09f_autofe_roll_2d_std_b88ae2e3%09f_financial_date_silver_gap_f5b63f5b%09roll_2d_std%0ATraining%20dataset,%3Ca%20href%3D%27https%3A%2F%2Fupgini.com%2F%23data_sources%27%20target%3D%27_blank%27%20rel%3D%27noopener%20noreferrer%27%3EMarkets%20data%3C%2Fa%3E%09f_autofe_roll_3d_std_43db36b9%09f_financial_date_crude_oil_1f195998%09roll_3d_std%0ATraining%20dataset,%3Ca%20href%3D%27https%3A%2F%2Fupgini.com%2F%23data_sources%27%20target%3D%27_blank%27%20rel%3D%27noopener%20noreferrer%27%3EMarkets%20data%3C%2Fa%3E%09f_autofe_roll_3d_std_e0a7813d%09f_financial_date_usd_7419609a%09roll_3d_std%0ATraining%20dataset,%3Ca%20href%3D%27https%3A%2F%2Fupgini.com%2F%23data_sources%27%20target%3D%27_blank%27%20rel%3D%27noopener%20noreferrer%27%3EMarkets%20data%3C%2Fa%3E%09f_autofe_roll_2d_std_5994058b%09f_financial_date_vix_gap_b64bd2b9%09roll_2d_std%0ATraining%20dataset,%3Ca%20href%3D%27https%3A%2F%2Fupgini.com%2F%23data_sources%27%20target%3D%27_blank%27%20rel%3D%27noopener%20noreferrer%27%3EMarkets%20data%3C%2Fa%3E%09f_autofe_roll_2d_norm_mean_f727ebb5%09f_financial_date_usd_daydiff_8bcdeec4%09roll_2d_norm_mean%0ATraining%20dataset,%3Ca%20href%3D%27https%3A%2F%2Fupgini.com%2F%23data_sources%27%20target%3D%27_blank%27%20rel%3D%27noopener%20noreferrer%27%3EMarkets%20data%3C%2Fa%3E%09f_autofe_lag_1d_1e473dd0%09f_financial_date_usd_daydiff_8bcdeec4%09lag_1d%0ATraining%20dataset,%3Ca%20href%3D%27https%3A%2F%2Fupgini.com%2F%23data_sources%27%20target%3D%27_blank%27%20rel%3D%27noopener%20noreferrer%27%3EMarkets%20data%3C%2Fa%3E%09f_autofe_lag_1d_8255eb29%09f_financial_date_usd_gap_615a0ec0%09lag_1d%0ATraining%20dataset,%3Ca%20href%3D%27https%3A%2F%2Fupgini.com%2F%23data_sources%27%20target%3D%27_blank%27%20rel%3D%27noopener%20noreferrer%27%3EMarkets%20data%3C%2Fa%3E%09f_autofe_lag_3d_3c41924a%09f_financial_date_silver_daydiff_25cf4951%09lag_3d%0ATraining%20dataset,%3Ca%20href%3D%27https%3A%2F%2Fupgini.com%2F%23data_sources%27%20target%3D%27_blank%27%20rel%3D%27noopener%20noreferrer%27%3EMarkets%20data%3C%2Fa%3E%09f_autofe_roll_2d_min_aa7719e1%09f_financial_date_silver_daydiff_25cf4951%09roll_2d_min%0A'>\n",
              "                    <button>📨 Share</button>\n",
              "                </a>\n",
              "            </div>\n",
              "            <table class='upgini-df'><thead><th>Sources</th><th>Feature name</th><th>Feature 1</th><th>Function</th></thead><tbody><tr><td class='upgini-text'>Training dataset,<a href='https://upgini.com/#data_sources' target='_blank' rel='noopener noreferrer'>Calendar data</a></td><td class='upgini-text'>f_autofe_lag_7d_44ccb1e1</td><td class='upgini-text'>f_events_date_year_cos1_9014a856</td><td class='upgini-text'>lag_7d</td></tr><tr><td class='upgini-text'>Training dataset,<a href='https://upgini.com/#data_sources' target='_blank' rel='noopener noreferrer'>Calendar data</a></td><td class='upgini-text'>f_autofe_lag_3d_d168eb3e</td><td class='upgini-text'>f_events_date_week_sin1_847b5db1</td><td class='upgini-text'>lag_3d</td></tr><tr><td class='upgini-text'>Training dataset,<a href='https://upgini.com/#data_sources' target='_blank' rel='noopener noreferrer'>Markets data</a></td><td class='upgini-text'>f_autofe_lag_7d_6354b8dc</td><td class='upgini-text'>f_financial_date_stoxx_043cbcd4</td><td class='upgini-text'>lag_7d</td></tr><tr><td class='upgini-text'>Training dataset,<a href='https://upgini.com/#data_sources' target='_blank' rel='noopener noreferrer'>Markets data</a></td><td class='upgini-text'>f_autofe_lag_3d_5dba02da</td><td class='upgini-text'>f_financial_date_stoxx_043cbcd4</td><td class='upgini-text'>lag_3d</td></tr><tr><td class='upgini-text'>Training dataset,<a href='https://upgini.com/#data_sources' target='_blank' rel='noopener noreferrer'>Calendar data</a></td><td class='upgini-text'>f_autofe_roll_7d_norm_mean_f4c75f3e</td><td class='upgini-text'>f_events_date_year_cos1_9014a856</td><td class='upgini-text'>roll_7d_norm_mean</td></tr><tr><td class='upgini-text'>Training dataset,<a href='https://upgini.com/#data_sources' target='_blank' rel='noopener noreferrer'>Calendar data</a></td><td class='upgini-text'>f_autofe_lag_2d_1947d061</td><td class='upgini-text'>f_events_date_week_cos1_f6a8c1fc</td><td class='upgini-text'>lag_2d</td></tr><tr><td class='upgini-text'>Training dataset,<a href='https://upgini.com/#data_sources' target='_blank' rel='noopener noreferrer'>Calendar data</a></td><td class='upgini-text'>f_autofe_lag_7d_24084e88</td><td class='upgini-text'>f_events_date_week_sin1_847b5db1</td><td class='upgini-text'>lag_7d</td></tr><tr><td class='upgini-text'>Training dataset,<a href='https://upgini.com/#data_sources' target='_blank' rel='noopener noreferrer'>Calendar data</a></td><td class='upgini-text'>f_autofe_roll_3d_median_67a4ca4c</td><td class='upgini-text'>f_events_date_week_cos3_7525fe31</td><td class='upgini-text'>roll_3d_median</td></tr><tr><td class='upgini-text'>Training dataset,<a href='https://upgini.com/#data_sources' target='_blank' rel='noopener noreferrer'>Calendar data</a></td><td class='upgini-text'>f_autofe_roll_7d_norm_mean_b8cbc4e4</td><td class='upgini-text'>f_events_date_week_cos2_b0a07cfc</td><td class='upgini-text'>roll_7d_norm_mean</td></tr><tr><td class='upgini-text'>Training dataset,<a href='https://upgini.com/#data_sources' target='_blank' rel='noopener noreferrer'>Calendar data</a></td><td class='upgini-text'>f_autofe_roll_2d_min_bd3d6759</td><td class='upgini-text'>f_events_date_week_cos1_f6a8c1fc</td><td class='upgini-text'>roll_2d_min</td></tr><tr><td class='upgini-text'>Training dataset,<a href='https://upgini.com/#data_sources' target='_blank' rel='noopener noreferrer'>Markets data</a></td><td class='upgini-text'>f_autofe_lag_7d_298854c4</td><td class='upgini-text'>f_financial_date_natural_gas_7d_to_1y_7a6f300d</td><td class='upgini-text'>lag_7d</td></tr><tr><td class='upgini-text'>Training dataset,<a href='https://upgini.com/#data_sources' target='_blank' rel='noopener noreferrer'>Markets data</a></td><td class='upgini-text'>f_autofe_lag_3d_7d332726</td><td class='upgini-text'>f_financial_date_gold_bf71e733</td><td class='upgini-text'>lag_3d</td></tr><tr><td class='upgini-text'>Training dataset,<a href='https://upgini.com/#data_sources' target='_blank' rel='noopener noreferrer'>Calendar data</a></td><td class='upgini-text'>f_autofe_lag_1d_5138dd83</td><td class='upgini-text'>f_events_date_week_sin2_e28440a5</td><td class='upgini-text'>lag_1d</td></tr><tr><td class='upgini-text'>Training dataset,<a href='https://upgini.com/#data_sources' target='_blank' rel='noopener noreferrer'>Markets data</a></td><td class='upgini-text'>f_autofe_roll_7d_median_8e1a5fee</td><td class='upgini-text'>f_financial_date_vix_7d_to_1y_634c77eb</td><td class='upgini-text'>roll_7d_median</td></tr><tr><td class='upgini-text'>Training dataset,<a href='https://upgini.com/#data_sources' target='_blank' rel='noopener noreferrer'>Markets data</a></td><td class='upgini-text'>f_autofe_roll_3d_std_cf25c6ce</td><td class='upgini-text'>f_financial_date_stoxx_043cbcd4</td><td class='upgini-text'>roll_3d_std</td></tr><tr><td class='upgini-text'>Training dataset,<a href='https://upgini.com/#data_sources' target='_blank' rel='noopener noreferrer'>Markets data</a></td><td class='upgini-text'>f_autofe_lag_7d_80f1c53c</td><td class='upgini-text'>f_financial_date_gold_bf71e733</td><td class='upgini-text'>lag_7d</td></tr><tr><td class='upgini-text'>Training dataset,<a href='https://upgini.com/#data_sources' target='_blank' rel='noopener noreferrer'>Markets data</a></td><td class='upgini-text'>f_autofe_roll_2d_std_6466a8eb</td><td class='upgini-text'>f_financial_date_natural_gas_92dac942</td><td class='upgini-text'>roll_2d_std</td></tr><tr><td class='upgini-text'>Training dataset,<a href='https://upgini.com/#data_sources' target='_blank' rel='noopener noreferrer'>Markets data</a></td><td class='upgini-text'>f_autofe_roll_3d_std_8d2902a0</td><td class='upgini-text'>f_financial_date_usd_eur_5d1b9c8f</td><td class='upgini-text'>roll_3d_std</td></tr><tr><td class='upgini-text'>Training dataset,<a href='https://upgini.com/#data_sources' target='_blank' rel='noopener noreferrer'>Calendar data</a></td><td class='upgini-text'>f_autofe_roll_2d_norm_mean_fe42d9a4</td><td class='upgini-text'>f_events_date_year_sin1_3c44bc64</td><td class='upgini-text'>roll_2d_norm_mean</td></tr><tr><td class='upgini-text'>Training dataset,<a href='https://upgini.com/#data_sources' target='_blank' rel='noopener noreferrer'>Calendar data</a></td><td class='upgini-text'>f_autofe_roll_3d_norm_mean_d3a34f3f</td><td class='upgini-text'>f_events_date_year_sin1_3c44bc64</td><td class='upgini-text'>roll_3d_norm_mean</td></tr><tr><td class='upgini-text'>Training dataset,<a href='https://upgini.com/#data_sources' target='_blank' rel='noopener noreferrer'>Markets data</a></td><td class='upgini-text'>f_autofe_roll_2d_norm_mean_85d150da</td><td class='upgini-text'>f_financial_date_gold_daydiff_6c8f15fb</td><td class='upgini-text'>roll_2d_norm_mean</td></tr><tr><td class='upgini-text'>Training dataset,<a href='https://upgini.com/#data_sources' target='_blank' rel='noopener noreferrer'>Markets data</a></td><td class='upgini-text'>f_autofe_roll_2d_std_b88ae2e3</td><td class='upgini-text'>f_financial_date_silver_gap_f5b63f5b</td><td class='upgini-text'>roll_2d_std</td></tr><tr><td class='upgini-text'>Training dataset,<a href='https://upgini.com/#data_sources' target='_blank' rel='noopener noreferrer'>Markets data</a></td><td class='upgini-text'>f_autofe_roll_3d_std_43db36b9</td><td class='upgini-text'>f_financial_date_crude_oil_1f195998</td><td class='upgini-text'>roll_3d_std</td></tr><tr><td class='upgini-text'>Training dataset,<a href='https://upgini.com/#data_sources' target='_blank' rel='noopener noreferrer'>Markets data</a></td><td class='upgini-text'>f_autofe_roll_3d_std_e0a7813d</td><td class='upgini-text'>f_financial_date_usd_7419609a</td><td class='upgini-text'>roll_3d_std</td></tr><tr><td class='upgini-text'>Training dataset,<a href='https://upgini.com/#data_sources' target='_blank' rel='noopener noreferrer'>Markets data</a></td><td class='upgini-text'>f_autofe_roll_2d_std_5994058b</td><td class='upgini-text'>f_financial_date_vix_gap_b64bd2b9</td><td class='upgini-text'>roll_2d_std</td></tr><tr><td class='upgini-text'>Training dataset,<a href='https://upgini.com/#data_sources' target='_blank' rel='noopener noreferrer'>Markets data</a></td><td class='upgini-text'>f_autofe_roll_2d_norm_mean_f727ebb5</td><td class='upgini-text'>f_financial_date_usd_daydiff_8bcdeec4</td><td class='upgini-text'>roll_2d_norm_mean</td></tr><tr><td class='upgini-text'>Training dataset,<a href='https://upgini.com/#data_sources' target='_blank' rel='noopener noreferrer'>Markets data</a></td><td class='upgini-text'>f_autofe_lag_1d_1e473dd0</td><td class='upgini-text'>f_financial_date_usd_daydiff_8bcdeec4</td><td class='upgini-text'>lag_1d</td></tr><tr><td class='upgini-text'>Training dataset,<a href='https://upgini.com/#data_sources' target='_blank' rel='noopener noreferrer'>Markets data</a></td><td class='upgini-text'>f_autofe_lag_1d_8255eb29</td><td class='upgini-text'>f_financial_date_usd_gap_615a0ec0</td><td class='upgini-text'>lag_1d</td></tr><tr><td class='upgini-text'>Training dataset,<a href='https://upgini.com/#data_sources' target='_blank' rel='noopener noreferrer'>Markets data</a></td><td class='upgini-text'>f_autofe_lag_3d_3c41924a</td><td class='upgini-text'>f_financial_date_silver_daydiff_25cf4951</td><td class='upgini-text'>lag_3d</td></tr><tr><td class='upgini-text'>Training dataset,<a href='https://upgini.com/#data_sources' target='_blank' rel='noopener noreferrer'>Markets data</a></td><td class='upgini-text'>f_autofe_roll_2d_min_aa7719e1</td><td class='upgini-text'>f_financial_date_silver_daydiff_25cf4951</td><td class='upgini-text'>roll_2d_min</td></tr></tbody></table>\n",
              "        </div>\n",
              "        "
            ]
          },
          "metadata": {}
        },
        {
          "output_type": "stream",
          "name": "stdout",
          "text": []
        },
        {
          "output_type": "display_data",
          "data": {
            "text/plain": [
              "<IPython.core.display.HTML object>"
            ],
            "text/html": [
              "<a download=\"upgini-report-271e0416-6dca-466e-87d0-485cc70c09c0.pdf\" href=\"data:application/pdf;base64,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\" target=\"_blank\">\n",
              "        <button>📊 Download PDF report</button></a>"
            ]
          },
          "metadata": {}
        },
        {
          "output_type": "stream",
          "name": "stdout",
          "text": [
            "|\r"
          ]
        },
        {
          "output_type": "execute_result",
          "data": {
            "text/plain": [
              "  Dataset type   Rows  Mean target Baseline mean_absolute_percentage_error  \\\n",
              "0        Train  15213      50.3977                           0.248 ± 0.029   \n",
              "1       Eval 1   3787      59.2424                           0.251 ± 0.015   \n",
              "\n",
              "  Enriched mean_absolute_percentage_error    Uplift  \n",
              "0                           0.166 ± 0.020  0.081058  \n",
              "1                           0.185 ± 0.032  0.066307  "
            ],
            "text/html": [
              "\n",
              "  <div id=\"df-c4ca2127-94c1-407a-99e7-daf8628628fa\" class=\"colab-df-container\">\n",
              "    <div>\n",
              "<style scoped>\n",
              "    .dataframe tbody tr th:only-of-type {\n",
              "        vertical-align: middle;\n",
              "    }\n",
              "\n",
              "    .dataframe tbody tr th {\n",
              "        vertical-align: top;\n",
              "    }\n",
              "\n",
              "    .dataframe thead th {\n",
              "        text-align: right;\n",
              "    }\n",
              "</style>\n",
              "<table border=\"1\" class=\"dataframe\">\n",
              "  <thead>\n",
              "    <tr style=\"text-align: right;\">\n",
              "      <th></th>\n",
              "      <th>Dataset type</th>\n",
              "      <th>Rows</th>\n",
              "      <th>Mean target</th>\n",
              "      <th>Baseline mean_absolute_percentage_error</th>\n",
              "      <th>Enriched mean_absolute_percentage_error</th>\n",
              "      <th>Uplift</th>\n",
              "    </tr>\n",
              "  </thead>\n",
              "  <tbody>\n",
              "    <tr>\n",
              "      <th>0</th>\n",
              "      <td>Train</td>\n",
              "      <td>15213</td>\n",
              "      <td>50.3977</td>\n",
              "      <td>0.248 ± 0.029</td>\n",
              "      <td>0.166 ± 0.020</td>\n",
              "      <td>0.081058</td>\n",
              "    </tr>\n",
              "    <tr>\n",
              "      <th>1</th>\n",
              "      <td>Eval 1</td>\n",
              "      <td>3787</td>\n",
              "      <td>59.2424</td>\n",
              "      <td>0.251 ± 0.015</td>\n",
              "      <td>0.185 ± 0.032</td>\n",
              "      <td>0.066307</td>\n",
              "    </tr>\n",
              "  </tbody>\n",
              "</table>\n",
              "</div>\n",
              "    <div class=\"colab-df-buttons\">\n",
              "\n",
              "  <div class=\"colab-df-container\">\n",
              "    <button class=\"colab-df-convert\" onclick=\"convertToInteractive('df-c4ca2127-94c1-407a-99e7-daf8628628fa')\"\n",
              "            title=\"Convert this dataframe to an interactive table.\"\n",
              "            style=\"display:none;\">\n",
              "\n",
              "  <svg xmlns=\"http://www.w3.org/2000/svg\" height=\"24px\" viewBox=\"0 -960 960 960\">\n",
              "    <path d=\"M120-120v-720h720v720H120Zm60-500h600v-160H180v160Zm220 220h160v-160H400v160Zm0 220h160v-160H400v160ZM180-400h160v-160H180v160Zm440 0h160v-160H620v160ZM180-180h160v-160H180v160Zm440 0h160v-160H620v160Z\"/>\n",
              "  </svg>\n",
              "    </button>\n",
              "\n",
              "  <style>\n",
              "    .colab-df-container {\n",
              "      display:flex;\n",
              "      gap: 12px;\n",
              "    }\n",
              "\n",
              "    .colab-df-convert {\n",
              "      background-color: #E8F0FE;\n",
              "      border: none;\n",
              "      border-radius: 50%;\n",
              "      cursor: pointer;\n",
              "      display: none;\n",
              "      fill: #1967D2;\n",
              "      height: 32px;\n",
              "      padding: 0 0 0 0;\n",
              "      width: 32px;\n",
              "    }\n",
              "\n",
              "    .colab-df-convert:hover {\n",
              "      background-color: #E2EBFA;\n",
              "      box-shadow: 0px 1px 2px rgba(60, 64, 67, 0.3), 0px 1px 3px 1px rgba(60, 64, 67, 0.15);\n",
              "      fill: #174EA6;\n",
              "    }\n",
              "\n",
              "    .colab-df-buttons div {\n",
              "      margin-bottom: 4px;\n",
              "    }\n",
              "\n",
              "    [theme=dark] .colab-df-convert {\n",
              "      background-color: #3B4455;\n",
              "      fill: #D2E3FC;\n",
              "    }\n",
              "\n",
              "    [theme=dark] .colab-df-convert:hover {\n",
              "      background-color: #434B5C;\n",
              "      box-shadow: 0px 1px 3px 1px rgba(0, 0, 0, 0.15);\n",
              "      filter: drop-shadow(0px 1px 2px rgba(0, 0, 0, 0.3));\n",
              "      fill: #FFFFFF;\n",
              "    }\n",
              "  </style>\n",
              "\n",
              "    <script>\n",
              "      const buttonEl =\n",
              "        document.querySelector('#df-c4ca2127-94c1-407a-99e7-daf8628628fa button.colab-df-convert');\n",
              "      buttonEl.style.display =\n",
              "        google.colab.kernel.accessAllowed ? 'block' : 'none';\n",
              "\n",
              "      async function convertToInteractive(key) {\n",
              "        const element = document.querySelector('#df-c4ca2127-94c1-407a-99e7-daf8628628fa');\n",
              "        const dataTable =\n",
              "          await google.colab.kernel.invokeFunction('convertToInteractive',\n",
              "                                                    [key], {});\n",
              "        if (!dataTable) return;\n",
              "\n",
              "        const docLinkHtml = 'Like what you see? Visit the ' +\n",
              "          '<a target=\"_blank\" href=https://colab.research.google.com/notebooks/data_table.ipynb>data table notebook</a>'\n",
              "          + ' to learn more about interactive tables.';\n",
              "        element.innerHTML = '';\n",
              "        dataTable['output_type'] = 'display_data';\n",
              "        await google.colab.output.renderOutput(dataTable, element);\n",
              "        const docLink = document.createElement('div');\n",
              "        docLink.innerHTML = docLinkHtml;\n",
              "        element.appendChild(docLink);\n",
              "      }\n",
              "    </script>\n",
              "  </div>\n",
              "\n",
              "\n",
              "<div id=\"df-5eb6c9bf-ad03-4977-9d47-61efe0c8de5a\">\n",
              "  <button class=\"colab-df-quickchart\" onclick=\"quickchart('df-5eb6c9bf-ad03-4977-9d47-61efe0c8de5a')\"\n",
              "            title=\"Suggest charts\"\n",
              "            style=\"display:none;\">\n",
              "\n",
              "<svg xmlns=\"http://www.w3.org/2000/svg\" height=\"24px\"viewBox=\"0 0 24 24\"\n",
              "     width=\"24px\">\n",
              "    <g>\n",
              "        <path d=\"M19 3H5c-1.1 0-2 .9-2 2v14c0 1.1.9 2 2 2h14c1.1 0 2-.9 2-2V5c0-1.1-.9-2-2-2zM9 17H7v-7h2v7zm4 0h-2V7h2v10zm4 0h-2v-4h2v4z\"/>\n",
              "    </g>\n",
              "</svg>\n",
              "  </button>\n",
              "\n",
              "<style>\n",
              "  .colab-df-quickchart {\n",
              "      --bg-color: #E8F0FE;\n",
              "      --fill-color: #1967D2;\n",
              "      --hover-bg-color: #E2EBFA;\n",
              "      --hover-fill-color: #174EA6;\n",
              "      --disabled-fill-color: #AAA;\n",
              "      --disabled-bg-color: #DDD;\n",
              "  }\n",
              "\n",
              "  [theme=dark] .colab-df-quickchart {\n",
              "      --bg-color: #3B4455;\n",
              "      --fill-color: #D2E3FC;\n",
              "      --hover-bg-color: #434B5C;\n",
              "      --hover-fill-color: #FFFFFF;\n",
              "      --disabled-bg-color: #3B4455;\n",
              "      --disabled-fill-color: #666;\n",
              "  }\n",
              "\n",
              "  .colab-df-quickchart {\n",
              "    background-color: var(--bg-color);\n",
              "    border: none;\n",
              "    border-radius: 50%;\n",
              "    cursor: pointer;\n",
              "    display: none;\n",
              "    fill: var(--fill-color);\n",
              "    height: 32px;\n",
              "    padding: 0;\n",
              "    width: 32px;\n",
              "  }\n",
              "\n",
              "  .colab-df-quickchart:hover {\n",
              "    background-color: var(--hover-bg-color);\n",
              "    box-shadow: 0 1px 2px rgba(60, 64, 67, 0.3), 0 1px 3px 1px rgba(60, 64, 67, 0.15);\n",
              "    fill: var(--button-hover-fill-color);\n",
              "  }\n",
              "\n",
              "  .colab-df-quickchart-complete:disabled,\n",
              "  .colab-df-quickchart-complete:disabled:hover {\n",
              "    background-color: var(--disabled-bg-color);\n",
              "    fill: var(--disabled-fill-color);\n",
              "    box-shadow: none;\n",
              "  }\n",
              "\n",
              "  .colab-df-spinner {\n",
              "    border: 2px solid var(--fill-color);\n",
              "    border-color: transparent;\n",
              "    border-bottom-color: var(--fill-color);\n",
              "    animation:\n",
              "      spin 1s steps(1) infinite;\n",
              "  }\n",
              "\n",
              "  @keyframes spin {\n",
              "    0% {\n",
              "      border-color: transparent;\n",
              "      border-bottom-color: var(--fill-color);\n",
              "      border-left-color: var(--fill-color);\n",
              "    }\n",
              "    20% {\n",
              "      border-color: transparent;\n",
              "      border-left-color: var(--fill-color);\n",
              "      border-top-color: var(--fill-color);\n",
              "    }\n",
              "    30% {\n",
              "      border-color: transparent;\n",
              "      border-left-color: var(--fill-color);\n",
              "      border-top-color: var(--fill-color);\n",
              "      border-right-color: var(--fill-color);\n",
              "    }\n",
              "    40% {\n",
              "      border-color: transparent;\n",
              "      border-right-color: var(--fill-color);\n",
              "      border-top-color: var(--fill-color);\n",
              "    }\n",
              "    60% {\n",
              "      border-color: transparent;\n",
              "      border-right-color: var(--fill-color);\n",
              "    }\n",
              "    80% {\n",
              "      border-color: transparent;\n",
              "      border-right-color: var(--fill-color);\n",
              "      border-bottom-color: var(--fill-color);\n",
              "    }\n",
              "    90% {\n",
              "      border-color: transparent;\n",
              "      border-bottom-color: var(--fill-color);\n",
              "    }\n",
              "  }\n",
              "</style>\n",
              "\n",
              "  <script>\n",
              "    async function quickchart(key) {\n",
              "      const quickchartButtonEl =\n",
              "        document.querySelector('#' + key + ' button');\n",
              "      quickchartButtonEl.disabled = true;  // To prevent multiple clicks.\n",
              "      quickchartButtonEl.classList.add('colab-df-spinner');\n",
              "      try {\n",
              "        const charts = await google.colab.kernel.invokeFunction(\n",
              "            'suggestCharts', [key], {});\n",
              "      } catch (error) {\n",
              "        console.error('Error during call to suggestCharts:', error);\n",
              "      }\n",
              "      quickchartButtonEl.classList.remove('colab-df-spinner');\n",
              "      quickchartButtonEl.classList.add('colab-df-quickchart-complete');\n",
              "    }\n",
              "    (() => {\n",
              "      let quickchartButtonEl =\n",
              "        document.querySelector('#df-5eb6c9bf-ad03-4977-9d47-61efe0c8de5a button');\n",
              "      quickchartButtonEl.style.display =\n",
              "        google.colab.kernel.accessAllowed ? 'block' : 'none';\n",
              "    })();\n",
              "  </script>\n",
              "</div>\n",
              "    </div>\n",
              "  </div>\n"
            ],
            "application/vnd.google.colaboratory.intrinsic+json": {
              "type": "dataframe",
              "summary": "{\n  \"name\": \")\",\n  \"rows\": 2,\n  \"fields\": [\n    {\n      \"column\": \"Dataset type\",\n      \"properties\": {\n        \"dtype\": \"string\",\n        \"num_unique_values\": 2,\n        \"samples\": [\n          \"Eval 1\",\n          \"Train\"\n        ],\n        \"semantic_type\": \"\",\n        \"description\": \"\"\n      }\n    },\n    {\n      \"column\": \"Rows\",\n      \"properties\": {\n        \"dtype\": \"number\",\n        \"std\": 8079,\n        \"min\": 3787,\n        \"max\": 15213,\n        \"num_unique_values\": 2,\n        \"samples\": [\n          3787,\n          15213\n        ],\n        \"semantic_type\": \"\",\n        \"description\": \"\"\n      }\n    },\n    {\n      \"column\": \"Mean target\",\n      \"properties\": {\n        \"dtype\": \"number\",\n        \"std\": 6.254147347560659,\n        \"min\": 50.3977,\n        \"max\": 59.2424,\n        \"num_unique_values\": 2,\n        \"samples\": [\n          59.2424,\n          50.3977\n        ],\n        \"semantic_type\": \"\",\n        \"description\": \"\"\n      }\n    },\n    {\n      \"column\": \"Baseline mean_absolute_percentage_error\",\n      \"properties\": {\n        \"dtype\": \"string\",\n        \"num_unique_values\": 2,\n        \"samples\": [\n          \"0.251 \\u00b1 0.015\",\n          \"0.248 \\u00b1 0.029\"\n        ],\n        \"semantic_type\": \"\",\n        \"description\": \"\"\n      }\n    },\n    {\n      \"column\": \"Enriched mean_absolute_percentage_error\",\n      \"properties\": {\n        \"dtype\": \"string\",\n        \"num_unique_values\": 2,\n        \"samples\": [\n          \"0.185 \\u00b1 0.032\",\n          \"0.166 \\u00b1 0.020\"\n        ],\n        \"semantic_type\": \"\",\n        \"description\": \"\"\n      }\n    },\n    {\n      \"column\": \"Uplift\",\n      \"properties\": {\n        \"dtype\": \"number\",\n        \"std\": 0.010430289364948908,\n        \"min\": 0.06630696428425148,\n        \"max\": 0.08105762096363808,\n        \"num_unique_values\": 2,\n        \"samples\": [\n          0.06630696428425148,\n          0.08105762096363808\n        ],\n        \"semantic_type\": \"\",\n        \"description\": \"\"\n      }\n    }\n  ]\n}"
            }
          },
          "metadata": {},
          "execution_count": 6
        }
      ],
      "source": [
        "from catboost import CatBoostRegressor\n",
        "from catboost.utils import eval_metric\n",
        "model = CatBoostRegressor(verbose=False, allow_writing_files=False, random_state=0)\n",
        "\n",
        "# Calculate metrics before and after enrichment with a new relevant features\n",
        "enricher.calculate_metrics(\n",
        "    estimator = model,\n",
        "    scoring = \"mean_absolute_percentage_error\"\n",
        ")"
      ]
    },
    {
      "cell_type": "markdown",
      "metadata": {
        "id": "zTax9qDzj2Su"
      },
      "source": [
        "We've got a strong uplift both on the cross-validation (*train*) and on the out-of-time validation dataset (*eval1*) **after enrichment**:   \n",
        "**BEFORE** enrichment 0.251   \n",
        "**AFTER** enrichment 0.185"
      ]
    },
    {
      "cell_type": "markdown",
      "metadata": {
        "id": "G6FcQlAt4SdX"
      },
      "source": [
        "______________________________\n",
        "**That's all for a quick start in 10 minutes!**  \n",
        "If you found this useful or interesting, feel free to share.  \n",
        "______________________________\n",
        "## 🔗 Useful links\n",
        "* Upgini Library [Documentation](https://github.com/upgini/upgini#readme)\n",
        "* More [Notebooks and Guides](https://github.com/upgini/upgini?tab=readme-ov-file#-tutorials)\n",
        "* Kaggle public [Notebooks](https://www.kaggle.com/romaupgini/code)\n",
        "\n",
        "\n",
        "<sup>😔 Found mistype or a bug in code snippet? Our bad! <a href=\"https://github.com/upgini/upgini/issues/new?assignees=&title=readme%2Fbug\">\n",
        "Please report it here.</a></sup>"
      ]
    }
  ],
  "metadata": {
    "colab": {
      "provenance": []
    },
    "kernelspec": {
      "display_name": "Python 3.10.8 64-bit",
      "language": "python",
      "name": "python3"
    },
    "language_info": {
      "codemirror_mode": {
        "name": "ipython",
        "version": 3
      },
      "file_extension": ".py",
      "mimetype": "text/x-python",
      "name": "python",
      "nbconvert_exporter": "python",
      "pygments_lexer": "ipython3",
      "version": "3.10.8"
    },
    "vscode": {
      "interpreter": {
        "hash": "b0fa6594d8f4cbf19f97940f81e996739fb7646882a419484c72d19e05852a7e"
      }
    }
  },
  "nbformat": 4,
  "nbformat_minor": 0
}